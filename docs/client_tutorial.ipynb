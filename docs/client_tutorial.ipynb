{
 "cells": [
  {
   "cell_type": "code",
   "execution_count": null,
   "id": "ee62edf6-8a86-486a-aa81-61a8289146b1",
   "metadata": {},
   "outputs": [],
   "source": [
    "import graphviper\n",
    "\n",
    "from graphviper.dask import menrva\n",
    "from graphviper.dask.client import local_client\n",
    "\n",
    "from xradio.vis.convert_msv2_to_processing_set import convert_msv2_to_processing_set"
   ]
  },
  {
   "cell_type": "code",
   "execution_count": null,
   "id": "ad746bbe-5e1b-442b-bba7-e706b845d95f",
   "metadata": {},
   "outputs": [],
   "source": [
    "!rm -rf Antennae_North.cal.lsrk.split.vis.zarr"
   ]
  },
  {
   "cell_type": "code",
   "execution_count": null,
   "id": "070929df-e262-4d47-a3b1-c915bc0d58ad",
   "metadata": {},
   "outputs": [],
   "source": [
    "graphviper.utils.data.download(file=\"Antennae_North.cal.lsrk.split.ms\")"
   ]
  },
  {
   "cell_type": "code",
   "execution_count": null,
   "id": "5a1ed235-79df-4a7e-9798-7614efcd41de",
   "metadata": {},
   "outputs": [],
   "source": [
    "def main():\n",
    "    chunks_on_disk = {\"frequency\": 3}\n",
    "\n",
    "    input_file = \"Antennae_North.cal.lsrk.split.ms\"\n",
    "    output_file = \"Antennae_North.cal.lsrk.split.vis.zarr\"\n",
    "\n",
    "    convert_msv2_to_processing_set(\n",
    "        in_file=input_file,\n",
    "        out_file=output_file,\n",
    "        parallel=False,\n",
    "        overwrite=True,\n",
    "        main_chunksize=chunks_on_disk,\n",
    "    )"
   ]
  },
  {
   "cell_type": "code",
   "execution_count": null,
   "id": "0ee2e155-b0d8-41c6-a81e-bf59fe581991",
   "metadata": {},
   "outputs": [],
   "source": [
    "log_params = {\n",
    "    \"logger_name\": \"main-logger\",\n",
    "    \"log_level\": \"INFO\",\n",
    "    \"log_to_term\": True,\n",
    "    \"log_to_file\": False,\n",
    "}\n",
    "\n",
    "worker_log_params = {\n",
    "    \"logger_name\": \"worker-logger\",\n",
    "    \"log_level\": \"INFO\",\n",
    "    \"log_to_term\": True,\n",
    "    \"log_to_file\": False,\n",
    "    \"log_file\": None,\n",
    "}"
   ]
  },
  {
   "cell_type": "code",
   "execution_count": null,
   "id": "4441e996-2c8b-43ca-940b-061c018c7cef",
   "metadata": {},
   "outputs": [],
   "source": [
    "with local_client(\n",
    "    cores=2,\n",
    "    memory_limit=\"8GB\",\n",
    "    log_params=log_params,\n",
    "    worker_log_params=worker_log_params,\n",
    "    serial_execution=False,\n",
    ") as client:\n",
    "    main()"
   ]
  }
 ],
 "metadata": {
  "kernelspec": {
   "display_name": "Python 3 (ipykernel)",
   "language": "python",
   "name": "python3"
  },
  "language_info": {
   "codemirror_mode": {
    "name": "ipython",
    "version": 3
   },
   "file_extension": ".py",
   "mimetype": "text/x-python",
   "name": "python",
   "nbconvert_exporter": "python",
   "pygments_lexer": "ipython3",
   "version": "3.9.19"
  }
 },
 "nbformat": 4,
 "nbformat_minor": 5
}
