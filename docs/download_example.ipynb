{
 "cells": [
  {
   "cell_type": "code",
   "execution_count": 1,
   "id": "5d86886d-fa1d-4c53-8c07-cf0ee1378211",
   "metadata": {},
   "outputs": [],
   "source": [
    "import toolviper"
   ]
  },
  {
   "cell_type": "markdown",
   "id": "01bc8397-af47-48df-8391-733bba286588",
   "metadata": {},
   "source": [
    "## Getting download metadata version\n",
    "#### This will retireve the current file download metadata version; if the file is not found it will attempt to update to the most recent version."
   ]
  },
  {
   "cell_type": "code",
   "execution_count": 2,
   "id": "16a174c2-5d8a-4cfc-a423-a1541adcaf21",
   "metadata": {},
   "outputs": [
    {
     "name": "stdout",
     "output_type": "stream",
     "text": [
      "[\u001b[38;2;128;05;128m2025-10-07 10:34:30,387\u001b[0m] \u001b[38;2;50;50;205m    INFO\u001b[0m\u001b[38;2;112;128;144m    viperlog: \u001b[0m None \n"
     ]
    }
   ],
   "source": [
    "toolviper.utils.data.version()"
   ]
  },
  {
   "cell_type": "markdown",
   "id": "fe18a0d9-bd21-4ce5-91fd-6348e5f1369e",
   "metadata": {},
   "source": [
    "### Manually update metdata info."
   ]
  },
  {
   "cell_type": "code",
   "execution_count": 3,
   "id": "deeee662-94d9-44a0-95e7-f062f55223ca",
   "metadata": {},
   "outputs": [
    {
     "name": "stdout",
     "output_type": "stream",
     "text": [
      "[\u001b[38;2;128;05;128m2025-10-07 10:34:30,391\u001b[0m] \u001b[38;2;50;50;205m    INFO\u001b[0m\u001b[38;2;112;128;144m    viperlog: \u001b[0m Updating file metadata information ...  \n"
     ]
    },
    {
     "data": {
      "application/vnd.jupyter.widget-view+json": {
       "model_id": "256faab66daa4b4f9fa84c20f910b0b5",
       "version_major": 2,
       "version_minor": 0
      },
      "text/plain": [
       "Output()"
      ]
     },
     "metadata": {},
     "output_type": "display_data"
    },
    {
     "data": {
      "text/html": [
       "<pre style=\"white-space:pre;overflow-x:auto;line-height:normal;font-family:Menlo,'DejaVu Sans Mono',consolas,'Courier New',monospace\"></pre>\n"
      ],
      "text/plain": []
     },
     "metadata": {},
     "output_type": "display_data"
    }
   ],
   "source": [
    "toolviper.utils.data.update()"
   ]
  },
  {
   "cell_type": "markdown",
   "id": "0351dda7-7559-449d-9ebb-c853beb0861e",
   "metadata": {},
   "source": [
    "## Getting available downloadable file in a python list.\n",
    "#### This will return an unordered list of the available file on the remote dropbox in a python list. This can be used as an input to thie download function as well."
   ]
  },
  {
   "cell_type": "code",
   "execution_count": 4,
   "id": "2912a5ae-7a4b-42f3-a633-cbe5ecaffc74",
   "metadata": {},
   "outputs": [
    {
     "data": {
      "text/plain": [
       "['ea25_cal_small_before_fixed.split.ms',\n",
       " 'ea25_cal_small_after_fixed.split.ms',\n",
       " 'J1924-2914.ms.calibrated.split.SPW3',\n",
       " 'extract_holog_verification.json',\n",
       " 'holog_numerical_verification.json',\n",
       " 'locit-input-pha.cal',\n",
       " 'panel_cutoff_mask',\n",
       " 'heuristic_model',\n",
       " 'panel-input-data',\n",
       " 'AA2-Mid-sim_00000.ms',\n",
       " 'Antennae_M8.img.zarr',\n",
       " 'Antennae_North.cal.lsrk.ms',\n",
       " 'Antennae_North.cal.lsrk.split.ms',\n",
       " 'complex_valued_uv.im',\n",
       " 'demo_simulated.im',\n",
       " 'no_mask.im',\n",
       " 'small_lofar.ms',\n",
       " 'small_meerkat.ms',\n",
       " 'global_vlbi_gg084b_reduced.ms',\n",
       " 'VLBA_TL016B_split_lsrk.ms',\n",
       " 'ngEHT_E17A10.0.bin0000.source0000_split_lsrk.ms',\n",
       " 'venus_ephem_test.ms',\n",
       " 'sdimaging.ms',\n",
       " 'ALMA_uid___A002_X1003af4_X75a3.split.avg.ms',\n",
       " 'VLASS3.2.sb45755730.eb46170641.60480.16266136574.split.v6.ms',\n",
       " 'feather_sim_vla_c1_pI.im',\n",
       " 'feather_sim_sd_c1_pI.im',\n",
       " 'Antennae_fld1_casa_lsrk.ps.zarr',\n",
       " 'Antennae_fld1_topo.ps.zarr',\n",
       " 'Antennae_North.cal.lsrk.split.ps.zarr',\n",
       " 'Antennae_North.cal.lsrk.ps.zarr',\n",
       " 'feather_model_convolved',\n",
       " 'feather.im',\n",
       " 'int.zarr',\n",
       " 'sd.zarr',\n",
       " 'ska_low_sim_18s.ms',\n",
       " 'VLBA_TL016B_split.ms',\n",
       " 'ngEHT_E17A10.0.bin0000.source0000_split.ms',\n",
       " 'uid___A002_X1015532_X1926f.small.ms',\n",
       " 'uid___A002_Xae00c5_X2e6b.small.ms',\n",
       " 'uid___A002_Xced5df_Xf9d9.small.ms',\n",
       " 'uid___A002_Xe3a5fd_Xe38e.small.ms',\n",
       " 'SNR_G55_10s.split.ms',\n",
       " '59749_bp_8beams_pattern.ms',\n",
       " '59750_altaz_2settings.ms',\n",
       " '59754_altaz_2weights_0.ms',\n",
       " '59754_altaz_2weights_15.ms',\n",
       " '59755_eq_interleave_0.ms',\n",
       " '59755_eq_interleave_15.ms',\n",
       " 'gmrt.ms',\n",
       " 'checksum.hash',\n",
       " 'refim_point_im_casa_hogbom_cleaned.residual',\n",
       " '3c286_Band6_5chans_lsrk_compare_weights.ps.zarr',\n",
       " 'twhya_selfcal_5chans_lsrk_compare_weights.ps.zarr',\n",
       " 'twhya_selfcal_5chans_lsrk_xx_compare_weights.ps.zarr',\n",
       " 'twhya_selfcal_11chans_lsrk_robust_0.5_niter_0.psf',\n",
       " 'casa_hogbom_deconv.residual',\n",
       " 'test_hogbom_multisrc.psf',\n",
       " 'test_hogbom_multisrc.residual',\n",
       " 'refim_point_im.psf',\n",
       " 'refim_point_im.residual']"
      ]
     },
     "execution_count": 4,
     "metadata": {},
     "output_type": "execute_result"
    }
   ],
   "source": [
    "files = toolviper.utils.data.get_files()\n",
    "files"
   ]
  },
  {
   "cell_type": "code",
   "execution_count": 5,
   "id": "28c8b343-3a05-4217-a581-e51c7db95d02",
   "metadata": {},
   "outputs": [
    {
     "name": "stdout",
     "output_type": "stream",
     "text": [
      "[\u001b[38;2;128;05;128m2025-10-07 10:34:30,714\u001b[0m] \u001b[38;2;50;50;205m    INFO\u001b[0m\u001b[38;2;112;128;144m    viperlog: \u001b[0m Module path: \u001b[38;2;50;50;205m/Users/jsteeb/Dropbox/toolviper/src/toolviper\u001b[0m \n",
      "[\u001b[38;2;128;05;128m2025-10-07 10:34:30,716\u001b[0m] \u001b[38;2;50;50;205m    INFO\u001b[0m\u001b[38;2;112;128;144m    viperlog: \u001b[0m Downloading from [cloudflare] .... \n"
     ]
    },
    {
     "data": {
      "text/html": [
       "<pre style=\"white-space:pre;overflow-x:auto;line-height:normal;font-family:Menlo,'DejaVu Sans Mono',consolas,'Courier New',monospace\">                                        \n",
       " <span style=\"font-weight: bold\"> Download List                        </span> \n",
       " ────────────────────────────────────── \n",
       "  <span style=\"color: #800080; text-decoration-color: #800080\">ea25_cal_small_before_fixed.split.ms</span>  \n",
       "  <span style=\"color: #800080; text-decoration-color: #800080\">ea25_cal_small_after_fixed.split.ms</span>   \n",
       "                                        \n",
       "</pre>\n"
      ],
      "text/plain": [
       "                                        \n",
       " \u001b[1m \u001b[0m\u001b[1mDownload List                       \u001b[0m\u001b[1m \u001b[0m \n",
       " ────────────────────────────────────── \n",
       "  \u001b[35mea25_cal_small_before_fixed.split.ms\u001b[0m  \n",
       "  \u001b[35mea25_cal_small_after_fixed.split.ms\u001b[0m   \n",
       "                                        \n"
      ]
     },
     "metadata": {},
     "output_type": "display_data"
    },
    {
     "name": "stdout",
     "output_type": "stream",
     "text": [
      "[\u001b[38;2;128;05;128m2025-10-07 10:34:30,718\u001b[0m] \u001b[38;2;50;50;205m    INFO\u001b[0m\u001b[38;2;112;128;144m    viperlog: \u001b[0m File exists: data/ea25_cal_small_before_fixed.split.ms \n",
      "[\u001b[38;2;128;05;128m2025-10-07 10:34:30,719\u001b[0m] \u001b[38;2;50;50;205m    INFO\u001b[0m\u001b[38;2;112;128;144m    viperlog: \u001b[0m File exists: data/ea25_cal_small_after_fixed.split.ms \n"
     ]
    },
    {
     "data": {
      "application/vnd.jupyter.widget-view+json": {
       "model_id": "ae877fb0ac174abe95f3c8003c668269",
       "version_major": 2,
       "version_minor": 0
      },
      "text/plain": [
       "Output()"
      ]
     },
     "metadata": {},
     "output_type": "display_data"
    },
    {
     "data": {
      "text/html": [
       "<pre style=\"white-space:pre;overflow-x:auto;line-height:normal;font-family:Menlo,'DejaVu Sans Mono',consolas,'Courier New',monospace\"></pre>\n"
      ],
      "text/plain": []
     },
     "metadata": {},
     "output_type": "display_data"
    }
   ],
   "source": [
    "toolviper.utils.data.download(file=files[:2], folder=\"data\")"
   ]
  },
  {
   "cell_type": "markdown",
   "id": "fdf5ec65-a98b-412b-b5c6-3b4bb23e8312",
   "metadata": {},
   "source": [
    "## Getting available files and metadata in table form."
   ]
  },
  {
   "cell_type": "code",
   "execution_count": 6,
   "id": "2439445a-d7fe-4bea-bc43-6edb131447cc",
   "metadata": {},
   "outputs": [
    {
     "data": {
      "text/html": [
       "<pre style=\"white-space:pre;overflow-x:auto;line-height:normal;font-family:Menlo,'DejaVu Sans Mono',consolas,'Courier New',monospace\">┏━━━━━━━━━━━━━━━━━━━━━━━━━━━━━━━━━━━━━━━━━┳━━━━━━━━━━━━━━━━┳━━━━━━━━━━━━━┳━━━━━━━━━━━┳━━━━━━━━━━━━━━━━━━━━━━━━━━━━┓\n",
       "┃<span style=\"font-weight: bold\"> file                                    </span>┃<span style=\"font-weight: bold\"> dtype          </span>┃<span style=\"font-weight: bold\"> telescope   </span>┃<span style=\"font-weight: bold\"> size      </span>┃<span style=\"font-weight: bold\"> mode                       </span>┃\n",
       "┡━━━━━━━━━━━━━━━━━━━━━━━━━━━━━━━━━━━━━━━━━╇━━━━━━━━━━━━━━━━╇━━━━━━━━━━━━━╇━━━━━━━━━━━╇━━━━━━━━━━━━━━━━━━━━━━━━━━━━┩\n",
       "│<span style=\"color: #000080; text-decoration-color: #000080\"> ea25_cal_small_before_fixed.split.ms    </span>│<span style=\"color: #008000; text-decoration-color: #008000\"> CASA MS v2     </span>│<span style=\"color: #008000; text-decoration-color: #008000\"> VLA         </span>│<span style=\"color: #008000; text-decoration-color: #008000\"> 150170225 </span>│<span style=\"color: #008000; text-decoration-color: #008000\"> Holography                 </span>│\n",
       "├─────────────────────────────────────────┼────────────────┼─────────────┼───────────┼────────────────────────────┤\n",
       "│<span style=\"color: #000080; text-decoration-color: #000080\"> ea25_cal_small_after_fixed.split.ms     </span>│<span style=\"color: #008000; text-decoration-color: #008000\"> CASA MS v2     </span>│<span style=\"color: #008000; text-decoration-color: #008000\"> VLA         </span>│<span style=\"color: #008000; text-decoration-color: #008000\"> 150031008 </span>│<span style=\"color: #008000; text-decoration-color: #008000\"> Holography                 </span>│\n",
       "├─────────────────────────────────────────┼────────────────┼─────────────┼───────────┼────────────────────────────┤\n",
       "│<span style=\"color: #000080; text-decoration-color: #000080\"> J1924-2914.ms.calibrated.split.SPW3     </span>│<span style=\"color: #008000; text-decoration-color: #008000\"> CASA MS v2     </span>│<span style=\"color: #008000; text-decoration-color: #008000\"> ALMA        </span>│<span style=\"color: #008000; text-decoration-color: #008000\"> 35000000  </span>│<span style=\"color: #008000; text-decoration-color: #008000\"> Holography                 </span>│\n",
       "├─────────────────────────────────────────┼────────────────┼─────────────┼───────────┼────────────────────────────┤\n",
       "│<span style=\"color: #000080; text-decoration-color: #000080\"> extract_holog_verification.json         </span>│<span style=\"color: #008000; text-decoration-color: #008000\"> json           </span>│<span style=\"color: #008000; text-decoration-color: #008000\"> na          </span>│<span style=\"color: #008000; text-decoration-color: #008000\"> 967       </span>│<span style=\"color: #008000; text-decoration-color: #008000\"> na                         </span>│\n",
       "├─────────────────────────────────────────┼────────────────┼─────────────┼───────────┼────────────────────────────┤\n",
       "│<span style=\"color: #000080; text-decoration-color: #000080\"> holog_numerical_verification.json       </span>│<span style=\"color: #008000; text-decoration-color: #008000\"> json           </span>│<span style=\"color: #008000; text-decoration-color: #008000\"> na          </span>│<span style=\"color: #008000; text-decoration-color: #008000\"> 1033      </span>│<span style=\"color: #008000; text-decoration-color: #008000\"> na                         </span>│\n",
       "├─────────────────────────────────────────┼────────────────┼─────────────┼───────────┼────────────────────────────┤\n",
       "│<span style=\"color: #000080; text-decoration-color: #000080\"> locit-input-pha.cal                     </span>│<span style=\"color: #008000; text-decoration-color: #008000\"> CASA Cal Table </span>│<span style=\"color: #008000; text-decoration-color: #008000\"> VLA         </span>│<span style=\"color: #008000; text-decoration-color: #008000\"> 92293     </span>│<span style=\"color: #008000; text-decoration-color: #008000\"> antenna location cal table </span>│\n",
       "├─────────────────────────────────────────┼────────────────┼─────────────┼───────────┼────────────────────────────┤\n",
       "│<span style=\"color: #000080; text-decoration-color: #000080\"> panel_cutoff_mask                       </span>│<span style=\"color: #008000; text-decoration-color: #008000\"> npy            </span>│<span style=\"color: #008000; text-decoration-color: #008000\"> na          </span>│<span style=\"color: #008000; text-decoration-color: #008000\"> 27150     </span>│<span style=\"color: #008000; text-decoration-color: #008000\"> na                         </span>│\n",
       "├─────────────────────────────────────────┼────────────────┼─────────────┼───────────┼────────────────────────────┤\n",
       "│<span style=\"color: #000080; text-decoration-color: #000080\"> heuristic_model                         </span>│<span style=\"color: #008000; text-decoration-color: #008000\"> bin            </span>│<span style=\"color: #008000; text-decoration-color: #008000\"> na          </span>│<span style=\"color: #008000; text-decoration-color: #008000\"> 556       </span>│<span style=\"color: #008000; text-decoration-color: #008000\"> na                         </span>│\n",
       "├─────────────────────────────────────────┼────────────────┼─────────────┼───────────┼────────────────────────────┤\n",
       "│<span style=\"color: #000080; text-decoration-color: #000080\"> panel-input-data                        </span>│<span style=\"color: #008000; text-decoration-color: #008000\"> na             </span>│<span style=\"color: #008000; text-decoration-color: #008000\"> na          </span>│<span style=\"color: #008000; text-decoration-color: #008000\"> 402916    </span>│<span style=\"color: #008000; text-decoration-color: #008000\"> na                         </span>│\n",
       "├─────────────────────────────────────────┼────────────────┼─────────────┼───────────┼────────────────────────────┤\n",
       "│<span style=\"color: #000080; text-decoration-color: #000080\"> AA2-Mid-sim_00000.ms                    </span>│<span style=\"color: #008000; text-decoration-color: #008000\"> CASA MS v2     </span>│<span style=\"color: #008000; text-decoration-color: #008000\"> SKA Mid     </span>│<span style=\"color: #008000; text-decoration-color: #008000\"> 14710912  </span>│<span style=\"color: #008000; text-decoration-color: #008000\"> Simulated Interferometer   </span>│\n",
       "├─────────────────────────────────────────┼────────────────┼─────────────┼───────────┼────────────────────────────┤\n",
       "│<span style=\"color: #000080; text-decoration-color: #000080\"> Antennae_M8.img.zarr                    </span>│<span style=\"color: #008000; text-decoration-color: #008000\"> zarr           </span>│<span style=\"color: #008000; text-decoration-color: #008000\"> ALMA        </span>│<span style=\"color: #008000; text-decoration-color: #008000\"> 12626417  </span>│<span style=\"color: #008000; text-decoration-color: #008000\"> Interferometer Mosaic      </span>│\n",
       "├─────────────────────────────────────────┼────────────────┼─────────────┼───────────┼────────────────────────────┤\n",
       "│<span style=\"color: #000080; text-decoration-color: #000080\"> Antennae_North.cal.lsrk.ms              </span>│<span style=\"color: #008000; text-decoration-color: #008000\"> CASA MS v2     </span>│<span style=\"color: #008000; text-decoration-color: #008000\"> ALMA        </span>│<span style=\"color: #008000; text-decoration-color: #008000\"> 189716793 </span>│<span style=\"color: #008000; text-decoration-color: #008000\"> Interferometer Mosaic      </span>│\n",
       "├─────────────────────────────────────────┼────────────────┼─────────────┼───────────┼────────────────────────────┤\n",
       "│<span style=\"color: #000080; text-decoration-color: #000080\"> Antennae_North.cal.lsrk.split.ms        </span>│<span style=\"color: #008000; text-decoration-color: #008000\"> CASA MS v2     </span>│<span style=\"color: #008000; text-decoration-color: #008000\"> ALMA        </span>│<span style=\"color: #008000; text-decoration-color: #008000\"> 1560578   </span>│<span style=\"color: #008000; text-decoration-color: #008000\"> Interferometer Mosaic      </span>│\n",
       "├─────────────────────────────────────────┼────────────────┼─────────────┼───────────┼────────────────────────────┤\n",
       "│<span style=\"color: #000080; text-decoration-color: #000080\"> complex_valued_uv.im                    </span>│<span style=\"color: #008000; text-decoration-color: #008000\"> image          </span>│<span style=\"color: #008000; text-decoration-color: #008000\"> Simulated   </span>│<span style=\"color: #008000; text-decoration-color: #008000\"> 562110    </span>│<span style=\"color: #008000; text-decoration-color: #008000\"> Simulated                  </span>│\n",
       "├─────────────────────────────────────────┼────────────────┼─────────────┼───────────┼────────────────────────────┤\n",
       "│<span style=\"color: #000080; text-decoration-color: #000080\"> demo_simulated.im                       </span>│<span style=\"color: #008000; text-decoration-color: #008000\"> image          </span>│<span style=\"color: #008000; text-decoration-color: #008000\"> Simulated   </span>│<span style=\"color: #008000; text-decoration-color: #008000\"> 15321745  </span>│<span style=\"color: #008000; text-decoration-color: #008000\"> Simulated                  </span>│\n",
       "├─────────────────────────────────────────┼────────────────┼─────────────┼───────────┼────────────────────────────┤\n",
       "│<span style=\"color: #000080; text-decoration-color: #000080\"> no_mask.im                              </span>│<span style=\"color: #008000; text-decoration-color: #008000\"> image          </span>│<span style=\"color: #008000; text-decoration-color: #008000\"> Simulated   </span>│<span style=\"color: #008000; text-decoration-color: #008000\"> 4252      </span>│<span style=\"color: #008000; text-decoration-color: #008000\"> Simulated                  </span>│\n",
       "├─────────────────────────────────────────┼────────────────┼─────────────┼───────────┼────────────────────────────┤\n",
       "│<span style=\"color: #000080; text-decoration-color: #000080\"> small_lofar.ms                          </span>│<span style=\"color: #008000; text-decoration-color: #008000\"> CASA MS v2     </span>│<span style=\"color: #008000; text-decoration-color: #008000\"> LOFAR       </span>│<span style=\"color: #008000; text-decoration-color: #008000\"> 10091260  </span>│<span style=\"color: #008000; text-decoration-color: #008000\"> Interferometer             </span>│\n",
       "├─────────────────────────────────────────┼────────────────┼─────────────┼───────────┼────────────────────────────┤\n",
       "│<span style=\"color: #000080; text-decoration-color: #000080\"> small_meerkat.ms                        </span>│<span style=\"color: #008000; text-decoration-color: #008000\"> CASA MS v2     </span>│<span style=\"color: #008000; text-decoration-color: #008000\"> MeerKAT     </span>│<span style=\"color: #008000; text-decoration-color: #008000\"> 2392258   </span>│<span style=\"color: #008000; text-decoration-color: #008000\"> Interferometer             </span>│\n",
       "├─────────────────────────────────────────┼────────────────┼─────────────┼───────────┼────────────────────────────┤\n",
       "│<span style=\"color: #000080; text-decoration-color: #000080\"> global_vlbi_gg084b_reduced.ms           </span>│<span style=\"color: #008000; text-decoration-color: #008000\"> CASA MS v2     </span>│<span style=\"color: #008000; text-decoration-color: #008000\"> GLOBAL VLBI </span>│<span style=\"color: #008000; text-decoration-color: #008000\"> 15701018  </span>│<span style=\"color: #008000; text-decoration-color: #008000\"> VLBI                       </span>│\n",
       "├─────────────────────────────────────────┼────────────────┼─────────────┼───────────┼────────────────────────────┤\n",
       "│<span style=\"color: #000080; text-decoration-color: #000080\"> VLBA_TL016B_split_lsrk.ms               </span>│<span style=\"color: #008000; text-decoration-color: #008000\"> CASA MS v2     </span>│<span style=\"color: #008000; text-decoration-color: #008000\"> VLBA        </span>│<span style=\"color: #008000; text-decoration-color: #008000\"> 9399847   </span>│<span style=\"color: #008000; text-decoration-color: #008000\"> VLBI                       </span>│\n",
       "├─────────────────────────────────────────┼────────────────┼─────────────┼───────────┼────────────────────────────┤\n",
       "│<span style=\"color: #000080; text-decoration-color: #000080\"> ngEHT_E17A10.0.bin0000.source0000_spli… </span>│<span style=\"color: #008000; text-decoration-color: #008000\"> CASA MS v2     </span>│<span style=\"color: #008000; text-decoration-color: #008000\"> ngEHT       </span>│<span style=\"color: #008000; text-decoration-color: #008000\"> 11082603  </span>│<span style=\"color: #008000; text-decoration-color: #008000\"> Simulated Interferometer   </span>│\n",
       "├─────────────────────────────────────────┼────────────────┼─────────────┼───────────┼────────────────────────────┤\n",
       "│<span style=\"color: #000080; text-decoration-color: #000080\"> venus_ephem_test.ms                     </span>│<span style=\"color: #008000; text-decoration-color: #008000\"> CASA MS v2     </span>│<span style=\"color: #008000; text-decoration-color: #008000\"> ALMA        </span>│<span style=\"color: #008000; text-decoration-color: #008000\"> 16758430  </span>│<span style=\"color: #008000; text-decoration-color: #008000\"> Interferometer Ephemeris   </span>│\n",
       "├─────────────────────────────────────────┼────────────────┼─────────────┼───────────┼────────────────────────────┤\n",
       "│<span style=\"color: #000080; text-decoration-color: #000080\"> sdimaging.ms                            </span>│<span style=\"color: #008000; text-decoration-color: #008000\"> CASA MS v2     </span>│<span style=\"color: #008000; text-decoration-color: #008000\"> ALMA        </span>│<span style=\"color: #008000; text-decoration-color: #008000\"> 29718841  </span>│<span style=\"color: #008000; text-decoration-color: #008000\"> Single Dish                </span>│\n",
       "├─────────────────────────────────────────┼────────────────┼─────────────┼───────────┼────────────────────────────┤\n",
       "│<span style=\"color: #000080; text-decoration-color: #000080\"> ALMA_uid___A002_X1003af4_X75a3.split.a… </span>│<span style=\"color: #008000; text-decoration-color: #008000\"> CASA MS v2     </span>│<span style=\"color: #008000; text-decoration-color: #008000\"> ALMA        </span>│<span style=\"color: #008000; text-decoration-color: #008000\"> 29593547  </span>│<span style=\"color: #008000; text-decoration-color: #008000\"> Interferometer Ephemeris   </span>│\n",
       "├─────────────────────────────────────────┼────────────────┼─────────────┼───────────┼────────────────────────────┤\n",
       "│<span style=\"color: #000080; text-decoration-color: #000080\"> VLASS3.2.sb45755730.eb46170641.60480.1… </span>│<span style=\"color: #008000; text-decoration-color: #008000\"> CASA MS v2     </span>│<span style=\"color: #008000; text-decoration-color: #008000\"> VLA         </span>│<span style=\"color: #008000; text-decoration-color: #008000\"> 69019704  </span>│<span style=\"color: #008000; text-decoration-color: #008000\"> Interferometer Ephemeris   </span>│\n",
       "├─────────────────────────────────────────┼────────────────┼─────────────┼───────────┼────────────────────────────┤\n",
       "│<span style=\"color: #000080; text-decoration-color: #000080\"> feather_sim_vla_c1_pI.im                </span>│<span style=\"color: #008000; text-decoration-color: #008000\"> image          </span>│<span style=\"color: #008000; text-decoration-color: #008000\"> Simulated   </span>│<span style=\"color: #008000; text-decoration-color: #008000\"> 62246951  </span>│<span style=\"color: #008000; text-decoration-color: #008000\"> Simulated                  </span>│\n",
       "├─────────────────────────────────────────┼────────────────┼─────────────┼───────────┼────────────────────────────┤\n",
       "│<span style=\"color: #000080; text-decoration-color: #000080\"> feather_sim_sd_c1_pI.im                 </span>│<span style=\"color: #008000; text-decoration-color: #008000\"> image          </span>│<span style=\"color: #008000; text-decoration-color: #008000\"> Simulated   </span>│<span style=\"color: #008000; text-decoration-color: #008000\"> 67218042  </span>│<span style=\"color: #008000; text-decoration-color: #008000\"> Simulated                  </span>│\n",
       "├─────────────────────────────────────────┼────────────────┼─────────────┼───────────┼────────────────────────────┤\n",
       "│<span style=\"color: #000080; text-decoration-color: #000080\"> Antennae_fld1_casa_lsrk.ps.zarr         </span>│<span style=\"color: #008000; text-decoration-color: #008000\"> Msv4           </span>│<span style=\"color: #008000; text-decoration-color: #008000\"> ALMA        </span>│<span style=\"color: #008000; text-decoration-color: #008000\"> 9314803   </span>│<span style=\"color: #008000; text-decoration-color: #008000\"> Interferometer             </span>│\n",
       "├─────────────────────────────────────────┼────────────────┼─────────────┼───────────┼────────────────────────────┤\n",
       "│<span style=\"color: #000080; text-decoration-color: #000080\"> Antennae_fld1_topo.ps.zarr              </span>│<span style=\"color: #008000; text-decoration-color: #008000\"> Msv4           </span>│<span style=\"color: #008000; text-decoration-color: #008000\"> ALMA        </span>│<span style=\"color: #008000; text-decoration-color: #008000\"> 9867649   </span>│<span style=\"color: #008000; text-decoration-color: #008000\"> Interferometer             </span>│\n",
       "├─────────────────────────────────────────┼────────────────┼─────────────┼───────────┼────────────────────────────┤\n",
       "│<span style=\"color: #000080; text-decoration-color: #000080\"> Antennae_North.cal.lsrk.split.ps.zarr   </span>│<span style=\"color: #008000; text-decoration-color: #008000\"> Msv4           </span>│<span style=\"color: #008000; text-decoration-color: #008000\"> ALMA        </span>│<span style=\"color: #008000; text-decoration-color: #008000\"> 3430000   </span>│<span style=\"color: #008000; text-decoration-color: #008000\"> Interferometer             </span>│\n",
       "├─────────────────────────────────────────┼────────────────┼─────────────┼───────────┼────────────────────────────┤\n",
       "│<span style=\"color: #000080; text-decoration-color: #000080\"> Antennae_North.cal.lsrk.ps.zarr         </span>│<span style=\"color: #008000; text-decoration-color: #008000\"> Msv4           </span>│<span style=\"color: #008000; text-decoration-color: #008000\"> ALMA        </span>│<span style=\"color: #008000; text-decoration-color: #008000\"> 2040000   </span>│<span style=\"color: #008000; text-decoration-color: #008000\"> Interferometer             </span>│\n",
       "├─────────────────────────────────────────┼────────────────┼─────────────┼───────────┼────────────────────────────┤\n",
       "│<span style=\"color: #000080; text-decoration-color: #000080\"> feather_model_convolved                 </span>│<span style=\"color: #008000; text-decoration-color: #008000\"> Model          </span>│<span style=\"color: #008000; text-decoration-color: #008000\">             </span>│<span style=\"color: #008000; text-decoration-color: #008000\"> 61364929  </span>│<span style=\"color: #008000; text-decoration-color: #008000\"> Simulated                  </span>│\n",
       "├─────────────────────────────────────────┼────────────────┼─────────────┼───────────┼────────────────────────────┤\n",
       "│<span style=\"color: #000080; text-decoration-color: #000080\"> feather.im                              </span>│<span style=\"color: #008000; text-decoration-color: #008000\"> CASA Image     </span>│<span style=\"color: #008000; text-decoration-color: #008000\">             </span>│<span style=\"color: #008000; text-decoration-color: #008000\"> 67150892  </span>│<span style=\"color: #008000; text-decoration-color: #008000\"> Simulated                  </span>│\n",
       "├─────────────────────────────────────────┼────────────────┼─────────────┼───────────┼────────────────────────────┤\n",
       "│<span style=\"color: #000080; text-decoration-color: #000080\"> int.zarr                                </span>│<span style=\"color: #008000; text-decoration-color: #008000\"> Zarr Image     </span>│<span style=\"color: #008000; text-decoration-color: #008000\">             </span>│<span style=\"color: #008000; text-decoration-color: #008000\"> 65512355  </span>│<span style=\"color: #008000; text-decoration-color: #008000\"> Simulated                  </span>│\n",
       "├─────────────────────────────────────────┼────────────────┼─────────────┼───────────┼────────────────────────────┤\n",
       "│<span style=\"color: #000080; text-decoration-color: #000080\"> sd.zarr                                 </span>│<span style=\"color: #008000; text-decoration-color: #008000\"> Zarr Image     </span>│<span style=\"color: #008000; text-decoration-color: #008000\">             </span>│<span style=\"color: #008000; text-decoration-color: #008000\"> 67150892  </span>│<span style=\"color: #008000; text-decoration-color: #008000\"> Simulated                  </span>│\n",
       "├─────────────────────────────────────────┼────────────────┼─────────────┼───────────┼────────────────────────────┤\n",
       "│<span style=\"color: #000080; text-decoration-color: #000080\"> ska_low_sim_18s.ms                      </span>│<span style=\"color: #008000; text-decoration-color: #008000\"> CASA MS v2     </span>│<span style=\"color: #008000; text-decoration-color: #008000\"> SKA Low     </span>│<span style=\"color: #008000; text-decoration-color: #008000\"> 8866100   </span>│<span style=\"color: #008000; text-decoration-color: #008000\"> Simulated                  </span>│\n",
       "├─────────────────────────────────────────┼────────────────┼─────────────┼───────────┼────────────────────────────┤\n",
       "│<span style=\"color: #000080; text-decoration-color: #000080\"> VLBA_TL016B_split.ms                    </span>│<span style=\"color: #008000; text-decoration-color: #008000\"> CASA MS v2     </span>│<span style=\"color: #008000; text-decoration-color: #008000\"> VLBA        </span>│<span style=\"color: #008000; text-decoration-color: #008000\"> 9402465   </span>│<span style=\"color: #008000; text-decoration-color: #008000\"> Interferometer             </span>│\n",
       "├─────────────────────────────────────────┼────────────────┼─────────────┼───────────┼────────────────────────────┤\n",
       "│<span style=\"color: #000080; text-decoration-color: #000080\"> ngEHT_E17A10.0.bin0000.source0000_spli… </span>│<span style=\"color: #008000; text-decoration-color: #008000\"> CASA MS v2     </span>│<span style=\"color: #008000; text-decoration-color: #008000\"> ngEHT       </span>│<span style=\"color: #008000; text-decoration-color: #008000\"> 11099488  </span>│<span style=\"color: #008000; text-decoration-color: #008000\"> Interferometer             </span>│\n",
       "├─────────────────────────────────────────┼────────────────┼─────────────┼───────────┼────────────────────────────┤\n",
       "│<span style=\"color: #000080; text-decoration-color: #000080\"> uid___A002_X1015532_X1926f.small.ms     </span>│<span style=\"color: #008000; text-decoration-color: #008000\"> CASA MS v2     </span>│<span style=\"color: #008000; text-decoration-color: #008000\"> ALMA        </span>│<span style=\"color: #008000; text-decoration-color: #008000\"> 6299859   </span>│<span style=\"color: #008000; text-decoration-color: #008000\"> Single Dish                </span>│\n",
       "├─────────────────────────────────────────┼────────────────┼─────────────┼───────────┼────────────────────────────┤\n",
       "│<span style=\"color: #000080; text-decoration-color: #000080\"> uid___A002_Xae00c5_X2e6b.small.ms       </span>│<span style=\"color: #008000; text-decoration-color: #008000\"> CASA MS v2     </span>│<span style=\"color: #008000; text-decoration-color: #008000\"> ALMA        </span>│<span style=\"color: #008000; text-decoration-color: #008000\"> 7351298   </span>│<span style=\"color: #008000; text-decoration-color: #008000\"> Single Dish                </span>│\n",
       "├─────────────────────────────────────────┼────────────────┼─────────────┼───────────┼────────────────────────────┤\n",
       "│<span style=\"color: #000080; text-decoration-color: #000080\"> uid___A002_Xced5df_Xf9d9.small.ms       </span>│<span style=\"color: #008000; text-decoration-color: #008000\"> CASA MS v2     </span>│<span style=\"color: #008000; text-decoration-color: #008000\"> ALMA        </span>│<span style=\"color: #008000; text-decoration-color: #008000\"> 7351298   </span>│<span style=\"color: #008000; text-decoration-color: #008000\"> Single Dish                </span>│\n",
       "├─────────────────────────────────────────┼────────────────┼─────────────┼───────────┼────────────────────────────┤\n",
       "│<span style=\"color: #000080; text-decoration-color: #000080\"> uid___A002_Xe3a5fd_Xe38e.small.ms       </span>│<span style=\"color: #008000; text-decoration-color: #008000\"> CASA MS v2     </span>│<span style=\"color: #008000; text-decoration-color: #008000\"> ALMA        </span>│<span style=\"color: #008000; text-decoration-color: #008000\"> 16122776  </span>│<span style=\"color: #008000; text-decoration-color: #008000\"> Single Dish                </span>│\n",
       "├─────────────────────────────────────────┼────────────────┼─────────────┼───────────┼────────────────────────────┤\n",
       "│<span style=\"color: #000080; text-decoration-color: #000080\"> SNR_G55_10s.split.ms                    </span>│<span style=\"color: #008000; text-decoration-color: #008000\"> CASA MS v2     </span>│<span style=\"color: #008000; text-decoration-color: #008000\"> VLA         </span>│<span style=\"color: #008000; text-decoration-color: #008000\"> 8648349   </span>│<span style=\"color: #008000; text-decoration-color: #008000\"> Interferometer             </span>│\n",
       "├─────────────────────────────────────────┼────────────────┼─────────────┼───────────┼────────────────────────────┤\n",
       "│<span style=\"color: #000080; text-decoration-color: #000080\"> 59749_bp_8beams_pattern.ms              </span>│<span style=\"color: #008000; text-decoration-color: #008000\"> CASA MS v2     </span>│<span style=\"color: #008000; text-decoration-color: #008000\"> ASKAP       </span>│<span style=\"color: #008000; text-decoration-color: #008000\"> 8137335   </span>│<span style=\"color: #008000; text-decoration-color: #008000\"> Interferometer             </span>│\n",
       "├─────────────────────────────────────────┼────────────────┼─────────────┼───────────┼────────────────────────────┤\n",
       "│<span style=\"color: #000080; text-decoration-color: #000080\"> 59750_altaz_2settings.ms                </span>│<span style=\"color: #008000; text-decoration-color: #008000\"> CASA MS v2     </span>│<span style=\"color: #008000; text-decoration-color: #008000\"> ASKAP       </span>│<span style=\"color: #008000; text-decoration-color: #008000\"> 3669608   </span>│<span style=\"color: #008000; text-decoration-color: #008000\"> Interferometer             </span>│\n",
       "├─────────────────────────────────────────┼────────────────┼─────────────┼───────────┼────────────────────────────┤\n",
       "│<span style=\"color: #000080; text-decoration-color: #000080\"> 59754_altaz_2weights_0.ms               </span>│<span style=\"color: #008000; text-decoration-color: #008000\"> CASA MS v2     </span>│<span style=\"color: #008000; text-decoration-color: #008000\"> ASKAP       </span>│<span style=\"color: #008000; text-decoration-color: #008000\"> 3521937   </span>│<span style=\"color: #008000; text-decoration-color: #008000\"> Interferometer             </span>│\n",
       "├─────────────────────────────────────────┼────────────────┼─────────────┼───────────┼────────────────────────────┤\n",
       "│<span style=\"color: #000080; text-decoration-color: #000080\"> 59754_altaz_2weights_15.ms              </span>│<span style=\"color: #008000; text-decoration-color: #008000\"> CASA MS v2     </span>│<span style=\"color: #008000; text-decoration-color: #008000\"> ASKAP       </span>│<span style=\"color: #008000; text-decoration-color: #008000\"> 3538081   </span>│<span style=\"color: #008000; text-decoration-color: #008000\"> Interferometer             </span>│\n",
       "├─────────────────────────────────────────┼────────────────┼─────────────┼───────────┼────────────────────────────┤\n",
       "│<span style=\"color: #000080; text-decoration-color: #000080\"> 59755_eq_interleave_0.ms                </span>│<span style=\"color: #008000; text-decoration-color: #008000\"> CASA MS v2     </span>│<span style=\"color: #008000; text-decoration-color: #008000\"> ASKAP       </span>│<span style=\"color: #008000; text-decoration-color: #008000\"> 7525050   </span>│<span style=\"color: #008000; text-decoration-color: #008000\"> Interferometer             </span>│\n",
       "├─────────────────────────────────────────┼────────────────┼─────────────┼───────────┼────────────────────────────┤\n",
       "│<span style=\"color: #000080; text-decoration-color: #000080\"> 59755_eq_interleave_15.ms               </span>│<span style=\"color: #008000; text-decoration-color: #008000\"> CASA MS v2     </span>│<span style=\"color: #008000; text-decoration-color: #008000\"> ASKAP       </span>│<span style=\"color: #008000; text-decoration-color: #008000\"> 7493404   </span>│<span style=\"color: #008000; text-decoration-color: #008000\"> Interferometer             </span>│\n",
       "├─────────────────────────────────────────┼────────────────┼─────────────┼───────────┼────────────────────────────┤\n",
       "│<span style=\"color: #000080; text-decoration-color: #000080\"> gmrt.ms                                 </span>│<span style=\"color: #008000; text-decoration-color: #008000\"> CASA MS v2     </span>│<span style=\"color: #008000; text-decoration-color: #008000\"> GMRT        </span>│<span style=\"color: #008000; text-decoration-color: #008000\"> 2125130   </span>│<span style=\"color: #008000; text-decoration-color: #008000\"> Interferometer             </span>│\n",
       "├─────────────────────────────────────────┼────────────────┼─────────────┼───────────┼────────────────────────────┤\n",
       "│<span style=\"color: #000080; text-decoration-color: #000080\"> checksum.hash                           </span>│<span style=\"color: #008000; text-decoration-color: #008000\"> hash           </span>│<span style=\"color: #008000; text-decoration-color: #008000\"> NA          </span>│<span style=\"color: #008000; text-decoration-color: #008000\"> 20        </span>│<span style=\"color: #008000; text-decoration-color: #008000\"> NA                         </span>│\n",
       "├─────────────────────────────────────────┼────────────────┼─────────────┼───────────┼────────────────────────────┤\n",
       "│<span style=\"color: #000080; text-decoration-color: #000080\"> refim_point_im_casa_hogbom_cleaned.res… </span>│<span style=\"color: #008000; text-decoration-color: #008000\"> NA             </span>│<span style=\"color: #008000; text-decoration-color: #008000\"> NA          </span>│<span style=\"color: #008000; text-decoration-color: #008000\"> 257051    </span>│<span style=\"color: #008000; text-decoration-color: #008000\"> NA                         </span>│\n",
       "├─────────────────────────────────────────┼────────────────┼─────────────┼───────────┼────────────────────────────┤\n",
       "│<span style=\"color: #000080; text-decoration-color: #000080\"> 3c286_Band6_5chans_lsrk_compare_weight… </span>│<span style=\"color: #008000; text-decoration-color: #008000\"> NA             </span>│<span style=\"color: #008000; text-decoration-color: #008000\"> NA          </span>│<span style=\"color: #008000; text-decoration-color: #008000\"> 22762594  </span>│<span style=\"color: #008000; text-decoration-color: #008000\"> NA                         </span>│\n",
       "├─────────────────────────────────────────┼────────────────┼─────────────┼───────────┼────────────────────────────┤\n",
       "│<span style=\"color: #000080; text-decoration-color: #000080\"> twhya_selfcal_5chans_lsrk_compare_weig… </span>│<span style=\"color: #008000; text-decoration-color: #008000\"> NA             </span>│<span style=\"color: #008000; text-decoration-color: #008000\"> NA          </span>│<span style=\"color: #008000; text-decoration-color: #008000\"> 7027733   </span>│<span style=\"color: #008000; text-decoration-color: #008000\"> NA                         </span>│\n",
       "├─────────────────────────────────────────┼────────────────┼─────────────┼───────────┼────────────────────────────┤\n",
       "│<span style=\"color: #000080; text-decoration-color: #000080\"> twhya_selfcal_5chans_lsrk_xx_compare_w… </span>│<span style=\"color: #008000; text-decoration-color: #008000\"> NA             </span>│<span style=\"color: #008000; text-decoration-color: #008000\"> NA          </span>│<span style=\"color: #008000; text-decoration-color: #008000\"> 5271957   </span>│<span style=\"color: #008000; text-decoration-color: #008000\"> NA                         </span>│\n",
       "├─────────────────────────────────────────┼────────────────┼─────────────┼───────────┼────────────────────────────┤\n",
       "│<span style=\"color: #000080; text-decoration-color: #000080\"> twhya_selfcal_11chans_lsrk_robust_0.5_… </span>│<span style=\"color: #008000; text-decoration-color: #008000\"> CASA MS v2     </span>│<span style=\"color: #008000; text-decoration-color: #008000\"> ALMA        </span>│<span style=\"color: #008000; text-decoration-color: #008000\"> 2555984   </span>│<span style=\"color: #008000; text-decoration-color: #008000\"> Interferometer             </span>│\n",
       "├─────────────────────────────────────────┼────────────────┼─────────────┼───────────┼────────────────────────────┤\n",
       "│<span style=\"color: #000080; text-decoration-color: #000080\"> casa_hogbom_deconv.residual             </span>│<span style=\"color: #008000; text-decoration-color: #008000\"> CASA MS v2     </span>│<span style=\"color: #008000; text-decoration-color: #008000\"> NA          </span>│<span style=\"color: #008000; text-decoration-color: #008000\"> 968492    </span>│<span style=\"color: #008000; text-decoration-color: #008000\"> NA                         </span>│\n",
       "├─────────────────────────────────────────┼────────────────┼─────────────┼───────────┼────────────────────────────┤\n",
       "│<span style=\"color: #000080; text-decoration-color: #000080\"> test_hogbom_multisrc.psf                </span>│<span style=\"color: #008000; text-decoration-color: #008000\"> CASA MS v2     </span>│<span style=\"color: #008000; text-decoration-color: #008000\"> NA          </span>│<span style=\"color: #008000; text-decoration-color: #008000\"> 972188    </span>│<span style=\"color: #008000; text-decoration-color: #008000\"> NA                         </span>│\n",
       "├─────────────────────────────────────────┼────────────────┼─────────────┼───────────┼────────────────────────────┤\n",
       "│<span style=\"color: #000080; text-decoration-color: #000080\"> test_hogbom_multisrc.residual           </span>│<span style=\"color: #008000; text-decoration-color: #008000\"> CASA MS v2     </span>│<span style=\"color: #008000; text-decoration-color: #008000\"> NA          </span>│<span style=\"color: #008000; text-decoration-color: #008000\"> 959913    </span>│<span style=\"color: #008000; text-decoration-color: #008000\"> NA                         </span>│\n",
       "├─────────────────────────────────────────┼────────────────┼─────────────┼───────────┼────────────────────────────┤\n",
       "│<span style=\"color: #000080; text-decoration-color: #000080\"> refim_point_im.psf                      </span>│<span style=\"color: #008000; text-decoration-color: #008000\"> CASA MS v2     </span>│<span style=\"color: #008000; text-decoration-color: #008000\"> NA          </span>│<span style=\"color: #008000; text-decoration-color: #008000\"> 238662    </span>│<span style=\"color: #008000; text-decoration-color: #008000\"> NA                         </span>│\n",
       "├─────────────────────────────────────────┼────────────────┼─────────────┼───────────┼────────────────────────────┤\n",
       "│<span style=\"color: #000080; text-decoration-color: #000080\"> refim_point_im.residual                 </span>│<span style=\"color: #008000; text-decoration-color: #008000\"> CASA MS v2     </span>│<span style=\"color: #008000; text-decoration-color: #008000\"> NA          </span>│<span style=\"color: #008000; text-decoration-color: #008000\"> 242965    </span>│<span style=\"color: #008000; text-decoration-color: #008000\"> NA                         </span>│\n",
       "└─────────────────────────────────────────┴────────────────┴─────────────┴───────────┴────────────────────────────┘\n",
       "</pre>\n"
      ],
      "text/plain": [
       "┏━━━━━━━━━━━━━━━━━━━━━━━━━━━━━━━━━━━━━━━━━┳━━━━━━━━━━━━━━━━┳━━━━━━━━━━━━━┳━━━━━━━━━━━┳━━━━━━━━━━━━━━━━━━━━━━━━━━━━┓\n",
       "┃\u001b[1m \u001b[0m\u001b[1mfile                                   \u001b[0m\u001b[1m \u001b[0m┃\u001b[1m \u001b[0m\u001b[1mdtype         \u001b[0m\u001b[1m \u001b[0m┃\u001b[1m \u001b[0m\u001b[1mtelescope  \u001b[0m\u001b[1m \u001b[0m┃\u001b[1m \u001b[0m\u001b[1msize     \u001b[0m\u001b[1m \u001b[0m┃\u001b[1m \u001b[0m\u001b[1mmode                      \u001b[0m\u001b[1m \u001b[0m┃\n",
       "┡━━━━━━━━━━━━━━━━━━━━━━━━━━━━━━━━━━━━━━━━━╇━━━━━━━━━━━━━━━━╇━━━━━━━━━━━━━╇━━━━━━━━━━━╇━━━━━━━━━━━━━━━━━━━━━━━━━━━━┩\n",
       "│\u001b[34m \u001b[0m\u001b[34mea25_cal_small_before_fixed.split.ms   \u001b[0m\u001b[34m \u001b[0m│\u001b[32m \u001b[0m\u001b[32mCASA MS v2    \u001b[0m\u001b[32m \u001b[0m│\u001b[32m \u001b[0m\u001b[32mVLA        \u001b[0m\u001b[32m \u001b[0m│\u001b[32m \u001b[0m\u001b[32m150170225\u001b[0m\u001b[32m \u001b[0m│\u001b[32m \u001b[0m\u001b[32mHolography                \u001b[0m\u001b[32m \u001b[0m│\n",
       "├─────────────────────────────────────────┼────────────────┼─────────────┼───────────┼────────────────────────────┤\n",
       "│\u001b[34m \u001b[0m\u001b[34mea25_cal_small_after_fixed.split.ms    \u001b[0m\u001b[34m \u001b[0m│\u001b[32m \u001b[0m\u001b[32mCASA MS v2    \u001b[0m\u001b[32m \u001b[0m│\u001b[32m \u001b[0m\u001b[32mVLA        \u001b[0m\u001b[32m \u001b[0m│\u001b[32m \u001b[0m\u001b[32m150031008\u001b[0m\u001b[32m \u001b[0m│\u001b[32m \u001b[0m\u001b[32mHolography                \u001b[0m\u001b[32m \u001b[0m│\n",
       "├─────────────────────────────────────────┼────────────────┼─────────────┼───────────┼────────────────────────────┤\n",
       "│\u001b[34m \u001b[0m\u001b[34mJ1924-2914.ms.calibrated.split.SPW3    \u001b[0m\u001b[34m \u001b[0m│\u001b[32m \u001b[0m\u001b[32mCASA MS v2    \u001b[0m\u001b[32m \u001b[0m│\u001b[32m \u001b[0m\u001b[32mALMA       \u001b[0m\u001b[32m \u001b[0m│\u001b[32m \u001b[0m\u001b[32m35000000 \u001b[0m\u001b[32m \u001b[0m│\u001b[32m \u001b[0m\u001b[32mHolography                \u001b[0m\u001b[32m \u001b[0m│\n",
       "├─────────────────────────────────────────┼────────────────┼─────────────┼───────────┼────────────────────────────┤\n",
       "│\u001b[34m \u001b[0m\u001b[34mextract_holog_verification.json        \u001b[0m\u001b[34m \u001b[0m│\u001b[32m \u001b[0m\u001b[32mjson          \u001b[0m\u001b[32m \u001b[0m│\u001b[32m \u001b[0m\u001b[32mna         \u001b[0m\u001b[32m \u001b[0m│\u001b[32m \u001b[0m\u001b[32m967      \u001b[0m\u001b[32m \u001b[0m│\u001b[32m \u001b[0m\u001b[32mna                        \u001b[0m\u001b[32m \u001b[0m│\n",
       "├─────────────────────────────────────────┼────────────────┼─────────────┼───────────┼────────────────────────────┤\n",
       "│\u001b[34m \u001b[0m\u001b[34mholog_numerical_verification.json      \u001b[0m\u001b[34m \u001b[0m│\u001b[32m \u001b[0m\u001b[32mjson          \u001b[0m\u001b[32m \u001b[0m│\u001b[32m \u001b[0m\u001b[32mna         \u001b[0m\u001b[32m \u001b[0m│\u001b[32m \u001b[0m\u001b[32m1033     \u001b[0m\u001b[32m \u001b[0m│\u001b[32m \u001b[0m\u001b[32mna                        \u001b[0m\u001b[32m \u001b[0m│\n",
       "├─────────────────────────────────────────┼────────────────┼─────────────┼───────────┼────────────────────────────┤\n",
       "│\u001b[34m \u001b[0m\u001b[34mlocit-input-pha.cal                    \u001b[0m\u001b[34m \u001b[0m│\u001b[32m \u001b[0m\u001b[32mCASA Cal Table\u001b[0m\u001b[32m \u001b[0m│\u001b[32m \u001b[0m\u001b[32mVLA        \u001b[0m\u001b[32m \u001b[0m│\u001b[32m \u001b[0m\u001b[32m92293    \u001b[0m\u001b[32m \u001b[0m│\u001b[32m \u001b[0m\u001b[32mantenna location cal table\u001b[0m\u001b[32m \u001b[0m│\n",
       "├─────────────────────────────────────────┼────────────────┼─────────────┼───────────┼────────────────────────────┤\n",
       "│\u001b[34m \u001b[0m\u001b[34mpanel_cutoff_mask                      \u001b[0m\u001b[34m \u001b[0m│\u001b[32m \u001b[0m\u001b[32mnpy           \u001b[0m\u001b[32m \u001b[0m│\u001b[32m \u001b[0m\u001b[32mna         \u001b[0m\u001b[32m \u001b[0m│\u001b[32m \u001b[0m\u001b[32m27150    \u001b[0m\u001b[32m \u001b[0m│\u001b[32m \u001b[0m\u001b[32mna                        \u001b[0m\u001b[32m \u001b[0m│\n",
       "├─────────────────────────────────────────┼────────────────┼─────────────┼───────────┼────────────────────────────┤\n",
       "│\u001b[34m \u001b[0m\u001b[34mheuristic_model                        \u001b[0m\u001b[34m \u001b[0m│\u001b[32m \u001b[0m\u001b[32mbin           \u001b[0m\u001b[32m \u001b[0m│\u001b[32m \u001b[0m\u001b[32mna         \u001b[0m\u001b[32m \u001b[0m│\u001b[32m \u001b[0m\u001b[32m556      \u001b[0m\u001b[32m \u001b[0m│\u001b[32m \u001b[0m\u001b[32mna                        \u001b[0m\u001b[32m \u001b[0m│\n",
       "├─────────────────────────────────────────┼────────────────┼─────────────┼───────────┼────────────────────────────┤\n",
       "│\u001b[34m \u001b[0m\u001b[34mpanel-input-data                       \u001b[0m\u001b[34m \u001b[0m│\u001b[32m \u001b[0m\u001b[32mna            \u001b[0m\u001b[32m \u001b[0m│\u001b[32m \u001b[0m\u001b[32mna         \u001b[0m\u001b[32m \u001b[0m│\u001b[32m \u001b[0m\u001b[32m402916   \u001b[0m\u001b[32m \u001b[0m│\u001b[32m \u001b[0m\u001b[32mna                        \u001b[0m\u001b[32m \u001b[0m│\n",
       "├─────────────────────────────────────────┼────────────────┼─────────────┼───────────┼────────────────────────────┤\n",
       "│\u001b[34m \u001b[0m\u001b[34mAA2-Mid-sim_00000.ms                   \u001b[0m\u001b[34m \u001b[0m│\u001b[32m \u001b[0m\u001b[32mCASA MS v2    \u001b[0m\u001b[32m \u001b[0m│\u001b[32m \u001b[0m\u001b[32mSKA Mid    \u001b[0m\u001b[32m \u001b[0m│\u001b[32m \u001b[0m\u001b[32m14710912 \u001b[0m\u001b[32m \u001b[0m│\u001b[32m \u001b[0m\u001b[32mSimulated Interferometer  \u001b[0m\u001b[32m \u001b[0m│\n",
       "├─────────────────────────────────────────┼────────────────┼─────────────┼───────────┼────────────────────────────┤\n",
       "│\u001b[34m \u001b[0m\u001b[34mAntennae_M8.img.zarr                   \u001b[0m\u001b[34m \u001b[0m│\u001b[32m \u001b[0m\u001b[32mzarr          \u001b[0m\u001b[32m \u001b[0m│\u001b[32m \u001b[0m\u001b[32mALMA       \u001b[0m\u001b[32m \u001b[0m│\u001b[32m \u001b[0m\u001b[32m12626417 \u001b[0m\u001b[32m \u001b[0m│\u001b[32m \u001b[0m\u001b[32mInterferometer Mosaic     \u001b[0m\u001b[32m \u001b[0m│\n",
       "├─────────────────────────────────────────┼────────────────┼─────────────┼───────────┼────────────────────────────┤\n",
       "│\u001b[34m \u001b[0m\u001b[34mAntennae_North.cal.lsrk.ms             \u001b[0m\u001b[34m \u001b[0m│\u001b[32m \u001b[0m\u001b[32mCASA MS v2    \u001b[0m\u001b[32m \u001b[0m│\u001b[32m \u001b[0m\u001b[32mALMA       \u001b[0m\u001b[32m \u001b[0m│\u001b[32m \u001b[0m\u001b[32m189716793\u001b[0m\u001b[32m \u001b[0m│\u001b[32m \u001b[0m\u001b[32mInterferometer Mosaic     \u001b[0m\u001b[32m \u001b[0m│\n",
       "├─────────────────────────────────────────┼────────────────┼─────────────┼───────────┼────────────────────────────┤\n",
       "│\u001b[34m \u001b[0m\u001b[34mAntennae_North.cal.lsrk.split.ms       \u001b[0m\u001b[34m \u001b[0m│\u001b[32m \u001b[0m\u001b[32mCASA MS v2    \u001b[0m\u001b[32m \u001b[0m│\u001b[32m \u001b[0m\u001b[32mALMA       \u001b[0m\u001b[32m \u001b[0m│\u001b[32m \u001b[0m\u001b[32m1560578  \u001b[0m\u001b[32m \u001b[0m│\u001b[32m \u001b[0m\u001b[32mInterferometer Mosaic     \u001b[0m\u001b[32m \u001b[0m│\n",
       "├─────────────────────────────────────────┼────────────────┼─────────────┼───────────┼────────────────────────────┤\n",
       "│\u001b[34m \u001b[0m\u001b[34mcomplex_valued_uv.im                   \u001b[0m\u001b[34m \u001b[0m│\u001b[32m \u001b[0m\u001b[32mimage         \u001b[0m\u001b[32m \u001b[0m│\u001b[32m \u001b[0m\u001b[32mSimulated  \u001b[0m\u001b[32m \u001b[0m│\u001b[32m \u001b[0m\u001b[32m562110   \u001b[0m\u001b[32m \u001b[0m│\u001b[32m \u001b[0m\u001b[32mSimulated                 \u001b[0m\u001b[32m \u001b[0m│\n",
       "├─────────────────────────────────────────┼────────────────┼─────────────┼───────────┼────────────────────────────┤\n",
       "│\u001b[34m \u001b[0m\u001b[34mdemo_simulated.im                      \u001b[0m\u001b[34m \u001b[0m│\u001b[32m \u001b[0m\u001b[32mimage         \u001b[0m\u001b[32m \u001b[0m│\u001b[32m \u001b[0m\u001b[32mSimulated  \u001b[0m\u001b[32m \u001b[0m│\u001b[32m \u001b[0m\u001b[32m15321745 \u001b[0m\u001b[32m \u001b[0m│\u001b[32m \u001b[0m\u001b[32mSimulated                 \u001b[0m\u001b[32m \u001b[0m│\n",
       "├─────────────────────────────────────────┼────────────────┼─────────────┼───────────┼────────────────────────────┤\n",
       "│\u001b[34m \u001b[0m\u001b[34mno_mask.im                             \u001b[0m\u001b[34m \u001b[0m│\u001b[32m \u001b[0m\u001b[32mimage         \u001b[0m\u001b[32m \u001b[0m│\u001b[32m \u001b[0m\u001b[32mSimulated  \u001b[0m\u001b[32m \u001b[0m│\u001b[32m \u001b[0m\u001b[32m4252     \u001b[0m\u001b[32m \u001b[0m│\u001b[32m \u001b[0m\u001b[32mSimulated                 \u001b[0m\u001b[32m \u001b[0m│\n",
       "├─────────────────────────────────────────┼────────────────┼─────────────┼───────────┼────────────────────────────┤\n",
       "│\u001b[34m \u001b[0m\u001b[34msmall_lofar.ms                         \u001b[0m\u001b[34m \u001b[0m│\u001b[32m \u001b[0m\u001b[32mCASA MS v2    \u001b[0m\u001b[32m \u001b[0m│\u001b[32m \u001b[0m\u001b[32mLOFAR      \u001b[0m\u001b[32m \u001b[0m│\u001b[32m \u001b[0m\u001b[32m10091260 \u001b[0m\u001b[32m \u001b[0m│\u001b[32m \u001b[0m\u001b[32mInterferometer            \u001b[0m\u001b[32m \u001b[0m│\n",
       "├─────────────────────────────────────────┼────────────────┼─────────────┼───────────┼────────────────────────────┤\n",
       "│\u001b[34m \u001b[0m\u001b[34msmall_meerkat.ms                       \u001b[0m\u001b[34m \u001b[0m│\u001b[32m \u001b[0m\u001b[32mCASA MS v2    \u001b[0m\u001b[32m \u001b[0m│\u001b[32m \u001b[0m\u001b[32mMeerKAT    \u001b[0m\u001b[32m \u001b[0m│\u001b[32m \u001b[0m\u001b[32m2392258  \u001b[0m\u001b[32m \u001b[0m│\u001b[32m \u001b[0m\u001b[32mInterferometer            \u001b[0m\u001b[32m \u001b[0m│\n",
       "├─────────────────────────────────────────┼────────────────┼─────────────┼───────────┼────────────────────────────┤\n",
       "│\u001b[34m \u001b[0m\u001b[34mglobal_vlbi_gg084b_reduced.ms          \u001b[0m\u001b[34m \u001b[0m│\u001b[32m \u001b[0m\u001b[32mCASA MS v2    \u001b[0m\u001b[32m \u001b[0m│\u001b[32m \u001b[0m\u001b[32mGLOBAL VLBI\u001b[0m\u001b[32m \u001b[0m│\u001b[32m \u001b[0m\u001b[32m15701018 \u001b[0m\u001b[32m \u001b[0m│\u001b[32m \u001b[0m\u001b[32mVLBI                      \u001b[0m\u001b[32m \u001b[0m│\n",
       "├─────────────────────────────────────────┼────────────────┼─────────────┼───────────┼────────────────────────────┤\n",
       "│\u001b[34m \u001b[0m\u001b[34mVLBA_TL016B_split_lsrk.ms              \u001b[0m\u001b[34m \u001b[0m│\u001b[32m \u001b[0m\u001b[32mCASA MS v2    \u001b[0m\u001b[32m \u001b[0m│\u001b[32m \u001b[0m\u001b[32mVLBA       \u001b[0m\u001b[32m \u001b[0m│\u001b[32m \u001b[0m\u001b[32m9399847  \u001b[0m\u001b[32m \u001b[0m│\u001b[32m \u001b[0m\u001b[32mVLBI                      \u001b[0m\u001b[32m \u001b[0m│\n",
       "├─────────────────────────────────────────┼────────────────┼─────────────┼───────────┼────────────────────────────┤\n",
       "│\u001b[34m \u001b[0m\u001b[34mngEHT_E17A10.0.bin0000.source0000_spli…\u001b[0m\u001b[34m \u001b[0m│\u001b[32m \u001b[0m\u001b[32mCASA MS v2    \u001b[0m\u001b[32m \u001b[0m│\u001b[32m \u001b[0m\u001b[32mngEHT      \u001b[0m\u001b[32m \u001b[0m│\u001b[32m \u001b[0m\u001b[32m11082603 \u001b[0m\u001b[32m \u001b[0m│\u001b[32m \u001b[0m\u001b[32mSimulated Interferometer  \u001b[0m\u001b[32m \u001b[0m│\n",
       "├─────────────────────────────────────────┼────────────────┼─────────────┼───────────┼────────────────────────────┤\n",
       "│\u001b[34m \u001b[0m\u001b[34mvenus_ephem_test.ms                    \u001b[0m\u001b[34m \u001b[0m│\u001b[32m \u001b[0m\u001b[32mCASA MS v2    \u001b[0m\u001b[32m \u001b[0m│\u001b[32m \u001b[0m\u001b[32mALMA       \u001b[0m\u001b[32m \u001b[0m│\u001b[32m \u001b[0m\u001b[32m16758430 \u001b[0m\u001b[32m \u001b[0m│\u001b[32m \u001b[0m\u001b[32mInterferometer Ephemeris  \u001b[0m\u001b[32m \u001b[0m│\n",
       "├─────────────────────────────────────────┼────────────────┼─────────────┼───────────┼────────────────────────────┤\n",
       "│\u001b[34m \u001b[0m\u001b[34msdimaging.ms                           \u001b[0m\u001b[34m \u001b[0m│\u001b[32m \u001b[0m\u001b[32mCASA MS v2    \u001b[0m\u001b[32m \u001b[0m│\u001b[32m \u001b[0m\u001b[32mALMA       \u001b[0m\u001b[32m \u001b[0m│\u001b[32m \u001b[0m\u001b[32m29718841 \u001b[0m\u001b[32m \u001b[0m│\u001b[32m \u001b[0m\u001b[32mSingle Dish               \u001b[0m\u001b[32m \u001b[0m│\n",
       "├─────────────────────────────────────────┼────────────────┼─────────────┼───────────┼────────────────────────────┤\n",
       "│\u001b[34m \u001b[0m\u001b[34mALMA_uid___A002_X1003af4_X75a3.split.a…\u001b[0m\u001b[34m \u001b[0m│\u001b[32m \u001b[0m\u001b[32mCASA MS v2    \u001b[0m\u001b[32m \u001b[0m│\u001b[32m \u001b[0m\u001b[32mALMA       \u001b[0m\u001b[32m \u001b[0m│\u001b[32m \u001b[0m\u001b[32m29593547 \u001b[0m\u001b[32m \u001b[0m│\u001b[32m \u001b[0m\u001b[32mInterferometer Ephemeris  \u001b[0m\u001b[32m \u001b[0m│\n",
       "├─────────────────────────────────────────┼────────────────┼─────────────┼───────────┼────────────────────────────┤\n",
       "│\u001b[34m \u001b[0m\u001b[34mVLASS3.2.sb45755730.eb46170641.60480.1…\u001b[0m\u001b[34m \u001b[0m│\u001b[32m \u001b[0m\u001b[32mCASA MS v2    \u001b[0m\u001b[32m \u001b[0m│\u001b[32m \u001b[0m\u001b[32mVLA        \u001b[0m\u001b[32m \u001b[0m│\u001b[32m \u001b[0m\u001b[32m69019704 \u001b[0m\u001b[32m \u001b[0m│\u001b[32m \u001b[0m\u001b[32mInterferometer Ephemeris  \u001b[0m\u001b[32m \u001b[0m│\n",
       "├─────────────────────────────────────────┼────────────────┼─────────────┼───────────┼────────────────────────────┤\n",
       "│\u001b[34m \u001b[0m\u001b[34mfeather_sim_vla_c1_pI.im               \u001b[0m\u001b[34m \u001b[0m│\u001b[32m \u001b[0m\u001b[32mimage         \u001b[0m\u001b[32m \u001b[0m│\u001b[32m \u001b[0m\u001b[32mSimulated  \u001b[0m\u001b[32m \u001b[0m│\u001b[32m \u001b[0m\u001b[32m62246951 \u001b[0m\u001b[32m \u001b[0m│\u001b[32m \u001b[0m\u001b[32mSimulated                 \u001b[0m\u001b[32m \u001b[0m│\n",
       "├─────────────────────────────────────────┼────────────────┼─────────────┼───────────┼────────────────────────────┤\n",
       "│\u001b[34m \u001b[0m\u001b[34mfeather_sim_sd_c1_pI.im                \u001b[0m\u001b[34m \u001b[0m│\u001b[32m \u001b[0m\u001b[32mimage         \u001b[0m\u001b[32m \u001b[0m│\u001b[32m \u001b[0m\u001b[32mSimulated  \u001b[0m\u001b[32m \u001b[0m│\u001b[32m \u001b[0m\u001b[32m67218042 \u001b[0m\u001b[32m \u001b[0m│\u001b[32m \u001b[0m\u001b[32mSimulated                 \u001b[0m\u001b[32m \u001b[0m│\n",
       "├─────────────────────────────────────────┼────────────────┼─────────────┼───────────┼────────────────────────────┤\n",
       "│\u001b[34m \u001b[0m\u001b[34mAntennae_fld1_casa_lsrk.ps.zarr        \u001b[0m\u001b[34m \u001b[0m│\u001b[32m \u001b[0m\u001b[32mMsv4          \u001b[0m\u001b[32m \u001b[0m│\u001b[32m \u001b[0m\u001b[32mALMA       \u001b[0m\u001b[32m \u001b[0m│\u001b[32m \u001b[0m\u001b[32m9314803  \u001b[0m\u001b[32m \u001b[0m│\u001b[32m \u001b[0m\u001b[32mInterferometer            \u001b[0m\u001b[32m \u001b[0m│\n",
       "├─────────────────────────────────────────┼────────────────┼─────────────┼───────────┼────────────────────────────┤\n",
       "│\u001b[34m \u001b[0m\u001b[34mAntennae_fld1_topo.ps.zarr             \u001b[0m\u001b[34m \u001b[0m│\u001b[32m \u001b[0m\u001b[32mMsv4          \u001b[0m\u001b[32m \u001b[0m│\u001b[32m \u001b[0m\u001b[32mALMA       \u001b[0m\u001b[32m \u001b[0m│\u001b[32m \u001b[0m\u001b[32m9867649  \u001b[0m\u001b[32m \u001b[0m│\u001b[32m \u001b[0m\u001b[32mInterferometer            \u001b[0m\u001b[32m \u001b[0m│\n",
       "├─────────────────────────────────────────┼────────────────┼─────────────┼───────────┼────────────────────────────┤\n",
       "│\u001b[34m \u001b[0m\u001b[34mAntennae_North.cal.lsrk.split.ps.zarr  \u001b[0m\u001b[34m \u001b[0m│\u001b[32m \u001b[0m\u001b[32mMsv4          \u001b[0m\u001b[32m \u001b[0m│\u001b[32m \u001b[0m\u001b[32mALMA       \u001b[0m\u001b[32m \u001b[0m│\u001b[32m \u001b[0m\u001b[32m3430000  \u001b[0m\u001b[32m \u001b[0m│\u001b[32m \u001b[0m\u001b[32mInterferometer            \u001b[0m\u001b[32m \u001b[0m│\n",
       "├─────────────────────────────────────────┼────────────────┼─────────────┼───────────┼────────────────────────────┤\n",
       "│\u001b[34m \u001b[0m\u001b[34mAntennae_North.cal.lsrk.ps.zarr        \u001b[0m\u001b[34m \u001b[0m│\u001b[32m \u001b[0m\u001b[32mMsv4          \u001b[0m\u001b[32m \u001b[0m│\u001b[32m \u001b[0m\u001b[32mALMA       \u001b[0m\u001b[32m \u001b[0m│\u001b[32m \u001b[0m\u001b[32m2040000  \u001b[0m\u001b[32m \u001b[0m│\u001b[32m \u001b[0m\u001b[32mInterferometer            \u001b[0m\u001b[32m \u001b[0m│\n",
       "├─────────────────────────────────────────┼────────────────┼─────────────┼───────────┼────────────────────────────┤\n",
       "│\u001b[34m \u001b[0m\u001b[34mfeather_model_convolved                \u001b[0m\u001b[34m \u001b[0m│\u001b[32m \u001b[0m\u001b[32mModel         \u001b[0m\u001b[32m \u001b[0m│\u001b[32m \u001b[0m\u001b[32m           \u001b[0m\u001b[32m \u001b[0m│\u001b[32m \u001b[0m\u001b[32m61364929 \u001b[0m\u001b[32m \u001b[0m│\u001b[32m \u001b[0m\u001b[32mSimulated                 \u001b[0m\u001b[32m \u001b[0m│\n",
       "├─────────────────────────────────────────┼────────────────┼─────────────┼───────────┼────────────────────────────┤\n",
       "│\u001b[34m \u001b[0m\u001b[34mfeather.im                             \u001b[0m\u001b[34m \u001b[0m│\u001b[32m \u001b[0m\u001b[32mCASA Image    \u001b[0m\u001b[32m \u001b[0m│\u001b[32m \u001b[0m\u001b[32m           \u001b[0m\u001b[32m \u001b[0m│\u001b[32m \u001b[0m\u001b[32m67150892 \u001b[0m\u001b[32m \u001b[0m│\u001b[32m \u001b[0m\u001b[32mSimulated                 \u001b[0m\u001b[32m \u001b[0m│\n",
       "├─────────────────────────────────────────┼────────────────┼─────────────┼───────────┼────────────────────────────┤\n",
       "│\u001b[34m \u001b[0m\u001b[34mint.zarr                               \u001b[0m\u001b[34m \u001b[0m│\u001b[32m \u001b[0m\u001b[32mZarr Image    \u001b[0m\u001b[32m \u001b[0m│\u001b[32m \u001b[0m\u001b[32m           \u001b[0m\u001b[32m \u001b[0m│\u001b[32m \u001b[0m\u001b[32m65512355 \u001b[0m\u001b[32m \u001b[0m│\u001b[32m \u001b[0m\u001b[32mSimulated                 \u001b[0m\u001b[32m \u001b[0m│\n",
       "├─────────────────────────────────────────┼────────────────┼─────────────┼───────────┼────────────────────────────┤\n",
       "│\u001b[34m \u001b[0m\u001b[34msd.zarr                                \u001b[0m\u001b[34m \u001b[0m│\u001b[32m \u001b[0m\u001b[32mZarr Image    \u001b[0m\u001b[32m \u001b[0m│\u001b[32m \u001b[0m\u001b[32m           \u001b[0m\u001b[32m \u001b[0m│\u001b[32m \u001b[0m\u001b[32m67150892 \u001b[0m\u001b[32m \u001b[0m│\u001b[32m \u001b[0m\u001b[32mSimulated                 \u001b[0m\u001b[32m \u001b[0m│\n",
       "├─────────────────────────────────────────┼────────────────┼─────────────┼───────────┼────────────────────────────┤\n",
       "│\u001b[34m \u001b[0m\u001b[34mska_low_sim_18s.ms                     \u001b[0m\u001b[34m \u001b[0m│\u001b[32m \u001b[0m\u001b[32mCASA MS v2    \u001b[0m\u001b[32m \u001b[0m│\u001b[32m \u001b[0m\u001b[32mSKA Low    \u001b[0m\u001b[32m \u001b[0m│\u001b[32m \u001b[0m\u001b[32m8866100  \u001b[0m\u001b[32m \u001b[0m│\u001b[32m \u001b[0m\u001b[32mSimulated                 \u001b[0m\u001b[32m \u001b[0m│\n",
       "├─────────────────────────────────────────┼────────────────┼─────────────┼───────────┼────────────────────────────┤\n",
       "│\u001b[34m \u001b[0m\u001b[34mVLBA_TL016B_split.ms                   \u001b[0m\u001b[34m \u001b[0m│\u001b[32m \u001b[0m\u001b[32mCASA MS v2    \u001b[0m\u001b[32m \u001b[0m│\u001b[32m \u001b[0m\u001b[32mVLBA       \u001b[0m\u001b[32m \u001b[0m│\u001b[32m \u001b[0m\u001b[32m9402465  \u001b[0m\u001b[32m \u001b[0m│\u001b[32m \u001b[0m\u001b[32mInterferometer            \u001b[0m\u001b[32m \u001b[0m│\n",
       "├─────────────────────────────────────────┼────────────────┼─────────────┼───────────┼────────────────────────────┤\n",
       "│\u001b[34m \u001b[0m\u001b[34mngEHT_E17A10.0.bin0000.source0000_spli…\u001b[0m\u001b[34m \u001b[0m│\u001b[32m \u001b[0m\u001b[32mCASA MS v2    \u001b[0m\u001b[32m \u001b[0m│\u001b[32m \u001b[0m\u001b[32mngEHT      \u001b[0m\u001b[32m \u001b[0m│\u001b[32m \u001b[0m\u001b[32m11099488 \u001b[0m\u001b[32m \u001b[0m│\u001b[32m \u001b[0m\u001b[32mInterferometer            \u001b[0m\u001b[32m \u001b[0m│\n",
       "├─────────────────────────────────────────┼────────────────┼─────────────┼───────────┼────────────────────────────┤\n",
       "│\u001b[34m \u001b[0m\u001b[34muid___A002_X1015532_X1926f.small.ms    \u001b[0m\u001b[34m \u001b[0m│\u001b[32m \u001b[0m\u001b[32mCASA MS v2    \u001b[0m\u001b[32m \u001b[0m│\u001b[32m \u001b[0m\u001b[32mALMA       \u001b[0m\u001b[32m \u001b[0m│\u001b[32m \u001b[0m\u001b[32m6299859  \u001b[0m\u001b[32m \u001b[0m│\u001b[32m \u001b[0m\u001b[32mSingle Dish               \u001b[0m\u001b[32m \u001b[0m│\n",
       "├─────────────────────────────────────────┼────────────────┼─────────────┼───────────┼────────────────────────────┤\n",
       "│\u001b[34m \u001b[0m\u001b[34muid___A002_Xae00c5_X2e6b.small.ms      \u001b[0m\u001b[34m \u001b[0m│\u001b[32m \u001b[0m\u001b[32mCASA MS v2    \u001b[0m\u001b[32m \u001b[0m│\u001b[32m \u001b[0m\u001b[32mALMA       \u001b[0m\u001b[32m \u001b[0m│\u001b[32m \u001b[0m\u001b[32m7351298  \u001b[0m\u001b[32m \u001b[0m│\u001b[32m \u001b[0m\u001b[32mSingle Dish               \u001b[0m\u001b[32m \u001b[0m│\n",
       "├─────────────────────────────────────────┼────────────────┼─────────────┼───────────┼────────────────────────────┤\n",
       "│\u001b[34m \u001b[0m\u001b[34muid___A002_Xced5df_Xf9d9.small.ms      \u001b[0m\u001b[34m \u001b[0m│\u001b[32m \u001b[0m\u001b[32mCASA MS v2    \u001b[0m\u001b[32m \u001b[0m│\u001b[32m \u001b[0m\u001b[32mALMA       \u001b[0m\u001b[32m \u001b[0m│\u001b[32m \u001b[0m\u001b[32m7351298  \u001b[0m\u001b[32m \u001b[0m│\u001b[32m \u001b[0m\u001b[32mSingle Dish               \u001b[0m\u001b[32m \u001b[0m│\n",
       "├─────────────────────────────────────────┼────────────────┼─────────────┼───────────┼────────────────────────────┤\n",
       "│\u001b[34m \u001b[0m\u001b[34muid___A002_Xe3a5fd_Xe38e.small.ms      \u001b[0m\u001b[34m \u001b[0m│\u001b[32m \u001b[0m\u001b[32mCASA MS v2    \u001b[0m\u001b[32m \u001b[0m│\u001b[32m \u001b[0m\u001b[32mALMA       \u001b[0m\u001b[32m \u001b[0m│\u001b[32m \u001b[0m\u001b[32m16122776 \u001b[0m\u001b[32m \u001b[0m│\u001b[32m \u001b[0m\u001b[32mSingle Dish               \u001b[0m\u001b[32m \u001b[0m│\n",
       "├─────────────────────────────────────────┼────────────────┼─────────────┼───────────┼────────────────────────────┤\n",
       "│\u001b[34m \u001b[0m\u001b[34mSNR_G55_10s.split.ms                   \u001b[0m\u001b[34m \u001b[0m│\u001b[32m \u001b[0m\u001b[32mCASA MS v2    \u001b[0m\u001b[32m \u001b[0m│\u001b[32m \u001b[0m\u001b[32mVLA        \u001b[0m\u001b[32m \u001b[0m│\u001b[32m \u001b[0m\u001b[32m8648349  \u001b[0m\u001b[32m \u001b[0m│\u001b[32m \u001b[0m\u001b[32mInterferometer            \u001b[0m\u001b[32m \u001b[0m│\n",
       "├─────────────────────────────────────────┼────────────────┼─────────────┼───────────┼────────────────────────────┤\n",
       "│\u001b[34m \u001b[0m\u001b[34m59749_bp_8beams_pattern.ms             \u001b[0m\u001b[34m \u001b[0m│\u001b[32m \u001b[0m\u001b[32mCASA MS v2    \u001b[0m\u001b[32m \u001b[0m│\u001b[32m \u001b[0m\u001b[32mASKAP      \u001b[0m\u001b[32m \u001b[0m│\u001b[32m \u001b[0m\u001b[32m8137335  \u001b[0m\u001b[32m \u001b[0m│\u001b[32m \u001b[0m\u001b[32mInterferometer            \u001b[0m\u001b[32m \u001b[0m│\n",
       "├─────────────────────────────────────────┼────────────────┼─────────────┼───────────┼────────────────────────────┤\n",
       "│\u001b[34m \u001b[0m\u001b[34m59750_altaz_2settings.ms               \u001b[0m\u001b[34m \u001b[0m│\u001b[32m \u001b[0m\u001b[32mCASA MS v2    \u001b[0m\u001b[32m \u001b[0m│\u001b[32m \u001b[0m\u001b[32mASKAP      \u001b[0m\u001b[32m \u001b[0m│\u001b[32m \u001b[0m\u001b[32m3669608  \u001b[0m\u001b[32m \u001b[0m│\u001b[32m \u001b[0m\u001b[32mInterferometer            \u001b[0m\u001b[32m \u001b[0m│\n",
       "├─────────────────────────────────────────┼────────────────┼─────────────┼───────────┼────────────────────────────┤\n",
       "│\u001b[34m \u001b[0m\u001b[34m59754_altaz_2weights_0.ms              \u001b[0m\u001b[34m \u001b[0m│\u001b[32m \u001b[0m\u001b[32mCASA MS v2    \u001b[0m\u001b[32m \u001b[0m│\u001b[32m \u001b[0m\u001b[32mASKAP      \u001b[0m\u001b[32m \u001b[0m│\u001b[32m \u001b[0m\u001b[32m3521937  \u001b[0m\u001b[32m \u001b[0m│\u001b[32m \u001b[0m\u001b[32mInterferometer            \u001b[0m\u001b[32m \u001b[0m│\n",
       "├─────────────────────────────────────────┼────────────────┼─────────────┼───────────┼────────────────────────────┤\n",
       "│\u001b[34m \u001b[0m\u001b[34m59754_altaz_2weights_15.ms             \u001b[0m\u001b[34m \u001b[0m│\u001b[32m \u001b[0m\u001b[32mCASA MS v2    \u001b[0m\u001b[32m \u001b[0m│\u001b[32m \u001b[0m\u001b[32mASKAP      \u001b[0m\u001b[32m \u001b[0m│\u001b[32m \u001b[0m\u001b[32m3538081  \u001b[0m\u001b[32m \u001b[0m│\u001b[32m \u001b[0m\u001b[32mInterferometer            \u001b[0m\u001b[32m \u001b[0m│\n",
       "├─────────────────────────────────────────┼────────────────┼─────────────┼───────────┼────────────────────────────┤\n",
       "│\u001b[34m \u001b[0m\u001b[34m59755_eq_interleave_0.ms               \u001b[0m\u001b[34m \u001b[0m│\u001b[32m \u001b[0m\u001b[32mCASA MS v2    \u001b[0m\u001b[32m \u001b[0m│\u001b[32m \u001b[0m\u001b[32mASKAP      \u001b[0m\u001b[32m \u001b[0m│\u001b[32m \u001b[0m\u001b[32m7525050  \u001b[0m\u001b[32m \u001b[0m│\u001b[32m \u001b[0m\u001b[32mInterferometer            \u001b[0m\u001b[32m \u001b[0m│\n",
       "├─────────────────────────────────────────┼────────────────┼─────────────┼───────────┼────────────────────────────┤\n",
       "│\u001b[34m \u001b[0m\u001b[34m59755_eq_interleave_15.ms              \u001b[0m\u001b[34m \u001b[0m│\u001b[32m \u001b[0m\u001b[32mCASA MS v2    \u001b[0m\u001b[32m \u001b[0m│\u001b[32m \u001b[0m\u001b[32mASKAP      \u001b[0m\u001b[32m \u001b[0m│\u001b[32m \u001b[0m\u001b[32m7493404  \u001b[0m\u001b[32m \u001b[0m│\u001b[32m \u001b[0m\u001b[32mInterferometer            \u001b[0m\u001b[32m \u001b[0m│\n",
       "├─────────────────────────────────────────┼────────────────┼─────────────┼───────────┼────────────────────────────┤\n",
       "│\u001b[34m \u001b[0m\u001b[34mgmrt.ms                                \u001b[0m\u001b[34m \u001b[0m│\u001b[32m \u001b[0m\u001b[32mCASA MS v2    \u001b[0m\u001b[32m \u001b[0m│\u001b[32m \u001b[0m\u001b[32mGMRT       \u001b[0m\u001b[32m \u001b[0m│\u001b[32m \u001b[0m\u001b[32m2125130  \u001b[0m\u001b[32m \u001b[0m│\u001b[32m \u001b[0m\u001b[32mInterferometer            \u001b[0m\u001b[32m \u001b[0m│\n",
       "├─────────────────────────────────────────┼────────────────┼─────────────┼───────────┼────────────────────────────┤\n",
       "│\u001b[34m \u001b[0m\u001b[34mchecksum.hash                          \u001b[0m\u001b[34m \u001b[0m│\u001b[32m \u001b[0m\u001b[32mhash          \u001b[0m\u001b[32m \u001b[0m│\u001b[32m \u001b[0m\u001b[32mNA         \u001b[0m\u001b[32m \u001b[0m│\u001b[32m \u001b[0m\u001b[32m20       \u001b[0m\u001b[32m \u001b[0m│\u001b[32m \u001b[0m\u001b[32mNA                        \u001b[0m\u001b[32m \u001b[0m│\n",
       "├─────────────────────────────────────────┼────────────────┼─────────────┼───────────┼────────────────────────────┤\n",
       "│\u001b[34m \u001b[0m\u001b[34mrefim_point_im_casa_hogbom_cleaned.res…\u001b[0m\u001b[34m \u001b[0m│\u001b[32m \u001b[0m\u001b[32mNA            \u001b[0m\u001b[32m \u001b[0m│\u001b[32m \u001b[0m\u001b[32mNA         \u001b[0m\u001b[32m \u001b[0m│\u001b[32m \u001b[0m\u001b[32m257051   \u001b[0m\u001b[32m \u001b[0m│\u001b[32m \u001b[0m\u001b[32mNA                        \u001b[0m\u001b[32m \u001b[0m│\n",
       "├─────────────────────────────────────────┼────────────────┼─────────────┼───────────┼────────────────────────────┤\n",
       "│\u001b[34m \u001b[0m\u001b[34m3c286_Band6_5chans_lsrk_compare_weight…\u001b[0m\u001b[34m \u001b[0m│\u001b[32m \u001b[0m\u001b[32mNA            \u001b[0m\u001b[32m \u001b[0m│\u001b[32m \u001b[0m\u001b[32mNA         \u001b[0m\u001b[32m \u001b[0m│\u001b[32m \u001b[0m\u001b[32m22762594 \u001b[0m\u001b[32m \u001b[0m│\u001b[32m \u001b[0m\u001b[32mNA                        \u001b[0m\u001b[32m \u001b[0m│\n",
       "├─────────────────────────────────────────┼────────────────┼─────────────┼───────────┼────────────────────────────┤\n",
       "│\u001b[34m \u001b[0m\u001b[34mtwhya_selfcal_5chans_lsrk_compare_weig…\u001b[0m\u001b[34m \u001b[0m│\u001b[32m \u001b[0m\u001b[32mNA            \u001b[0m\u001b[32m \u001b[0m│\u001b[32m \u001b[0m\u001b[32mNA         \u001b[0m\u001b[32m \u001b[0m│\u001b[32m \u001b[0m\u001b[32m7027733  \u001b[0m\u001b[32m \u001b[0m│\u001b[32m \u001b[0m\u001b[32mNA                        \u001b[0m\u001b[32m \u001b[0m│\n",
       "├─────────────────────────────────────────┼────────────────┼─────────────┼───────────┼────────────────────────────┤\n",
       "│\u001b[34m \u001b[0m\u001b[34mtwhya_selfcal_5chans_lsrk_xx_compare_w…\u001b[0m\u001b[34m \u001b[0m│\u001b[32m \u001b[0m\u001b[32mNA            \u001b[0m\u001b[32m \u001b[0m│\u001b[32m \u001b[0m\u001b[32mNA         \u001b[0m\u001b[32m \u001b[0m│\u001b[32m \u001b[0m\u001b[32m5271957  \u001b[0m\u001b[32m \u001b[0m│\u001b[32m \u001b[0m\u001b[32mNA                        \u001b[0m\u001b[32m \u001b[0m│\n",
       "├─────────────────────────────────────────┼────────────────┼─────────────┼───────────┼────────────────────────────┤\n",
       "│\u001b[34m \u001b[0m\u001b[34mtwhya_selfcal_11chans_lsrk_robust_0.5_…\u001b[0m\u001b[34m \u001b[0m│\u001b[32m \u001b[0m\u001b[32mCASA MS v2    \u001b[0m\u001b[32m \u001b[0m│\u001b[32m \u001b[0m\u001b[32mALMA       \u001b[0m\u001b[32m \u001b[0m│\u001b[32m \u001b[0m\u001b[32m2555984  \u001b[0m\u001b[32m \u001b[0m│\u001b[32m \u001b[0m\u001b[32mInterferometer            \u001b[0m\u001b[32m \u001b[0m│\n",
       "├─────────────────────────────────────────┼────────────────┼─────────────┼───────────┼────────────────────────────┤\n",
       "│\u001b[34m \u001b[0m\u001b[34mcasa_hogbom_deconv.residual            \u001b[0m\u001b[34m \u001b[0m│\u001b[32m \u001b[0m\u001b[32mCASA MS v2    \u001b[0m\u001b[32m \u001b[0m│\u001b[32m \u001b[0m\u001b[32mNA         \u001b[0m\u001b[32m \u001b[0m│\u001b[32m \u001b[0m\u001b[32m968492   \u001b[0m\u001b[32m \u001b[0m│\u001b[32m \u001b[0m\u001b[32mNA                        \u001b[0m\u001b[32m \u001b[0m│\n",
       "├─────────────────────────────────────────┼────────────────┼─────────────┼───────────┼────────────────────────────┤\n",
       "│\u001b[34m \u001b[0m\u001b[34mtest_hogbom_multisrc.psf               \u001b[0m\u001b[34m \u001b[0m│\u001b[32m \u001b[0m\u001b[32mCASA MS v2    \u001b[0m\u001b[32m \u001b[0m│\u001b[32m \u001b[0m\u001b[32mNA         \u001b[0m\u001b[32m \u001b[0m│\u001b[32m \u001b[0m\u001b[32m972188   \u001b[0m\u001b[32m \u001b[0m│\u001b[32m \u001b[0m\u001b[32mNA                        \u001b[0m\u001b[32m \u001b[0m│\n",
       "├─────────────────────────────────────────┼────────────────┼─────────────┼───────────┼────────────────────────────┤\n",
       "│\u001b[34m \u001b[0m\u001b[34mtest_hogbom_multisrc.residual          \u001b[0m\u001b[34m \u001b[0m│\u001b[32m \u001b[0m\u001b[32mCASA MS v2    \u001b[0m\u001b[32m \u001b[0m│\u001b[32m \u001b[0m\u001b[32mNA         \u001b[0m\u001b[32m \u001b[0m│\u001b[32m \u001b[0m\u001b[32m959913   \u001b[0m\u001b[32m \u001b[0m│\u001b[32m \u001b[0m\u001b[32mNA                        \u001b[0m\u001b[32m \u001b[0m│\n",
       "├─────────────────────────────────────────┼────────────────┼─────────────┼───────────┼────────────────────────────┤\n",
       "│\u001b[34m \u001b[0m\u001b[34mrefim_point_im.psf                     \u001b[0m\u001b[34m \u001b[0m│\u001b[32m \u001b[0m\u001b[32mCASA MS v2    \u001b[0m\u001b[32m \u001b[0m│\u001b[32m \u001b[0m\u001b[32mNA         \u001b[0m\u001b[32m \u001b[0m│\u001b[32m \u001b[0m\u001b[32m238662   \u001b[0m\u001b[32m \u001b[0m│\u001b[32m \u001b[0m\u001b[32mNA                        \u001b[0m\u001b[32m \u001b[0m│\n",
       "├─────────────────────────────────────────┼────────────────┼─────────────┼───────────┼────────────────────────────┤\n",
       "│\u001b[34m \u001b[0m\u001b[34mrefim_point_im.residual                \u001b[0m\u001b[34m \u001b[0m│\u001b[32m \u001b[0m\u001b[32mCASA MS v2    \u001b[0m\u001b[32m \u001b[0m│\u001b[32m \u001b[0m\u001b[32mNA         \u001b[0m\u001b[32m \u001b[0m│\u001b[32m \u001b[0m\u001b[32m242965   \u001b[0m\u001b[32m \u001b[0m│\u001b[32m \u001b[0m\u001b[32mNA                        \u001b[0m\u001b[32m \u001b[0m│\n",
       "└─────────────────────────────────────────┴────────────────┴─────────────┴───────────┴────────────────────────────┘\n"
      ]
     },
     "metadata": {},
     "output_type": "display_data"
    }
   ],
   "source": [
    "toolviper.utils.data.list_files()"
   ]
  }
 ],
 "metadata": {
  "kernelspec": {
   "display_name": "zinc",
   "language": "python",
   "name": "python3"
  },
  "language_info": {
   "codemirror_mode": {
    "name": "ipython",
    "version": 3
   },
   "file_extension": ".py",
   "mimetype": "text/x-python",
   "name": "python",
   "nbconvert_exporter": "python",
   "pygments_lexer": "ipython3",
   "version": "3.13.5"
  }
 },
 "nbformat": 4,
 "nbformat_minor": 5
}
