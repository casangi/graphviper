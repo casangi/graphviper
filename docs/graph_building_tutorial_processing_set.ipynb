{
 "cells": [
  {
   "cell_type": "markdown",
   "metadata": {},
   "source": [
    "[![Open In Colab](https://colab.research.google.com/assets/colab-badge.svg)](https://colab.research.google.com/github/casangi/graphviper/blob/main/docs/graph_building_tutorial_processing_set.ipynb)"
   ]
  },
  {
   "cell_type": "markdown",
   "id": "ed122f09-ead5-4a22-a70b-7702d556e7fe",
   "metadata": {},
   "source": [
    "# GraphVIPER Tutorial: Processing Set\n",
    "\n",
    "In this tutorial examples will be given of how GraphVIPER builds Dask graphs and maps data from a processing set (a collection of measurement set v4) to the nodes of the graph."
   ]
  },
  {
   "cell_type": "markdown",
   "id": "ffbf2b16",
   "metadata": {},
   "source": [
    "## Install GraphVIPER"
   ]
  },
  {
   "cell_type": "code",
   "execution_count": null,
   "id": "e7850f0a-f46a-48cc-98b1-fde794af919a",
   "metadata": {},
   "outputs": [],
   "source": [
    "import os\n",
    "\n",
    "from importlib.metadata import version\n",
    "\n",
    "try:\n",
    "    import graphviper\n",
    "\n",
    "    print(\"GraphVIPER version\", version(\"graphviper\"), \"already installed.\")\n",
    "except ImportError as e:\n",
    "    print(e)\n",
    "    print(\"Installing GraphVIPER\")\n",
    "\n",
    "    os.system(\"pip install graphviper\")\n",
    "\n",
    "    import xradio\n",
    "\n",
    "    print(\"GraphVIPER version\", version(\"graphviper\"), \" installed.\")"
   ]
  },
  {
   "cell_type": "markdown",
   "id": "e0aa8d3c-6fd9-474f-9223-6da8856ab948",
   "metadata": {},
   "source": [
    "## Download and Convert Dataset"
   ]
  },
  {
   "cell_type": "code",
   "execution_count": 2,
   "id": "d4f2b674-78e3-4dbb-9079-2b46825e1f3a",
   "metadata": {},
   "outputs": [],
   "source": [
    "from xradio.data.datasets import download\n",
    "\n",
    "download(file=\"Antennae_North.cal.lsrk.split.ms\", source=\"dropbox\")\n",
    "\n",
    "from xradio.vis.convert_msv2_to_processing_set import convert_msv2_to_processing_set\n",
    "\n",
    "partition_scheme = \"ddi_intent_field\"\n",
    "chunks_on_disk = {\"frequency\": 3}\n",
    "infile = \"Antennae_North.cal.lsrk.split.ms\"\n",
    "outfile = \"Antennae_North.cal.lsrk.split.vis.zarr\"\n",
    "convert_msv2_to_processing_set(\n",
    "    in_file=infile,\n",
    "    out_file=outfile,\n",
    "    partition_scheme=partition_scheme,\n",
    "    parallel=False,\n",
    "    overwrite=True,\n",
    "    main_chunksize=chunks_on_disk,\n",
    ")"
   ]
  },
  {
   "cell_type": "markdown",
   "id": "2682bb1c-c377-47f2-9faa-271108954d8f",
   "metadata": {},
   "source": [
    "## Setup Dask Cluster\n",
    "To simplify things we are going to start of by just using a single thread (everything will run in serial)."
   ]
  },
  {
   "cell_type": "code",
   "execution_count": null,
   "id": "f4e50179-3486-4454-9036-ff55d24346fc",
   "metadata": {},
   "outputs": [],
   "source": [
    "# from graphviper.dask.client import local_client\n",
    "# viper_client = local_client(cores=2, memory_limit=\"4GB\")\n",
    "# viper_client\n",
    "\n",
    "import dask\n",
    "dask.config.set(scheduler=\"synchronous\")"
   ]
  },
  {
   "cell_type": "markdown",
   "id": "33a13d40-5654-4011-9467-d269fe601826",
   "metadata": {},
   "source": [
    "## Inspect Processing Set\n",
    "\n",
    "The read_processing_set is a lazy function, so no data is loaded into memory, only metadata."
   ]
  },
  {
   "cell_type": "code",
   "execution_count": null,
   "id": "774b2011-8921-48fb-90dc-f56689862110",
   "metadata": {},
   "outputs": [],
   "source": [
    "import pandas as pd\n",
    "\n",
    "pd.options.display.max_colwidth = 100\n",
    "ps_name = \"Antennae_North.cal.lsrk.split.vis.zarr\"\n",
    "\n",
    "from xradio.vis.read_processing_set import read_processing_set\n",
    "\n",
    "intents = [\"OBSERVE_TARGET#ON_SOURCE\"] \n",
    "fields = None\n",
    "ps = read_processing_set(\n",
    "    ps_name=\"Antennae_North.cal.lsrk.split.vis.zarr\",\n",
    "    intents=intents,\n",
    "    fields=fields,\n",
    ")\n",
    "display(ps.summary())"
   ]
  },
  {
   "cell_type": "markdown",
   "id": "20b44df1-613b-4eaf-9c04-55bad4c5ced3",
   "metadata": {},
   "source": [
    "## Inspect a single ms_v4"
   ]
  },
  {
   "cell_type": "code",
   "execution_count": null,
   "id": "14c1b6da-4c81-4f97-9000-0f5784dfbc66",
   "metadata": {},
   "outputs": [],
   "source": [
    "ms_xds = ps['Antennae_North.cal.lsrk.split_ddi_0_intent_OBSERVE_TARGET#ON_SOURCE_field_id_0']\n",
    "ms_xds"
   ]
  },
  {
   "cell_type": "markdown",
   "id": "aa7e11c7-18f8-4174-a713-a020a8f91273",
   "metadata": {},
   "source": [
    "## Frequency Map Reduce\n",
    "The parallel coordinates determine the parallelism of the map graph. Each chunk in the parallel coordinates represents a selection criterion used for the subselected processing set that is sent to a node. \n",
    "\n",
    "The parallel_coords is a dictionary where each key represents a dimension coordinate that appears in your data. For ms_v4, the options would be time, baseline/antenna, frequency, and polarization. The make_parallel_coord function will convert any XRADIO measures into a parallel coordinate. In addition, convenient functions have been created: make_time_coord and make_frequency_coord that will create numpy arrays."
   ]
  },
  {
   "cell_type": "markdown",
   "id": "33094606-edf4-414b-800c-589146c4a55a",
   "metadata": {},
   "source": [
    "### Create Parallel Coordinates"
   ]
  },
  {
   "cell_type": "code",
   "execution_count": null,
   "id": "a33a781e-9b81-46c6-9c16-7510d0f4eae3",
   "metadata": {
    "scrolled": true
   },
   "outputs": [],
   "source": [
    "from graphviper.graph_tools.coordinate_utils import make_parallel_coord\n",
    "from graphviper.utils.display import dict_to_html\n",
    "from IPython.display import HTML, display\n",
    "\n",
    "parallel_coords = {}\n",
    "n_chunks = 3\n",
    "parallel_coords[\"frequency\"] = make_parallel_coord(\n",
    "    coord=ms_xds.frequency, n_chunks=n_chunks\n",
    ")\n",
    "display(HTML(dict_to_html(parallel_coords[\"frequency\"])))"
   ]
  },
  {
   "cell_type": "code",
   "execution_count": null,
   "id": "078f9152-a57d-4c26-bd32-7736dffa850a",
   "metadata": {
    "scrolled": true
   },
   "outputs": [],
   "source": [
    "from graphviper.graph_tools.coordinate_utils import make_frequency_coord\n",
    "\n",
    "n_chunks = 3\n",
    "\n",
    "coord = make_frequency_coord(\n",
    "    freq_start=343928096685.9587,\n",
    "    freq_delta=11231488.981445312,\n",
    "    n_channels=8,\n",
    "    velocity_frame=\"lsrk\",\n",
    ")\n",
    "parallel_coords[\"frequency\"] = make_parallel_coord(\n",
    "    coord=ms_xds.frequency, n_chunks=n_chunks\n",
    ")\n",
    "display(HTML(dict_to_html(parallel_coords[\"frequency\"])))"
   ]
  },
  {
   "cell_type": "markdown",
   "metadata": {},
   "source": [
    "### Create Node Task Data Mapping"
   ]
  },
  {
   "cell_type": "code",
   "execution_count": null,
   "metadata": {},
   "outputs": [],
   "source": [
    "from graphviper.graph_tools.coordinate_utils import interpolate_data_coords_onto_parallel_coords\n",
    "node_task_data_mapping = interpolate_data_coords_onto_parallel_coords(parallel_coords, ps)\n",
    "display(HTML(dict_to_html(node_task_data_mapping)))"
   ]
  },
  {
   "cell_type": "markdown",
   "id": "bbbea156-e5e0-45eb-8a40-ca1f11c97e1b",
   "metadata": {},
   "source": [
    "### Create a chunk function and map graph"
   ]
  },
  {
   "cell_type": "code",
   "execution_count": null,
   "id": "93a5da8a-6b40-4912-903b-e9c9ee196fbd",
   "metadata": {},
   "outputs": [],
   "source": [
    "from graphviper.graph_tools.map import map\n",
    "import dask\n",
    "from graphviper.utils.display import dict_to_html\n",
    "from IPython.display import display, HTML\n",
    "\n",
    "\n",
    "def my_func(input_parms):\n",
    "    display(HTML(dict_to_html(input_parms)))\n",
    "\n",
    "    print(\"*\" * 30)\n",
    "    return input_parms[\"test_input\"]\n",
    "\n",
    "\n",
    "# ['test_input', 'input_data_name', 'viper_local_dir', 'date_time', 'data_sel', 'chunk_coords', 'chunk_indx', 'chunk_id', 'parallel_dims']\n",
    "input_parms = {}\n",
    "input_parms[\"test_input\"] = 42\n",
    "\n",
    "graph = map(\n",
    "    input_data=ps,\n",
    "    node_task_data_mapping=node_task_data_mapping,\n",
    "    node_task=my_func,\n",
    "    input_parms=input_parms,\n",
    ")\n",
    "\n",
    "dask.visualize(graph, filename=\"map_graph\")"
   ]
  },
  {
   "cell_type": "code",
   "execution_count": null,
   "id": "eadd60c8-e248-4356-9183-35fabdf27e7f",
   "metadata": {},
   "outputs": [],
   "source": [
    "graph"
   ]
  },
  {
   "cell_type": "markdown",
   "id": "5f509ded-23dd-4c08-aabc-d19678a7bbb8",
   "metadata": {},
   "source": [
    "### Run Map Graph"
   ]
  },
  {
   "cell_type": "code",
   "execution_count": null,
   "id": "252e010a-b04f-43dd-8e4f-798d31267b71",
   "metadata": {},
   "outputs": [],
   "source": [
    "dask.compute(graph)"
   ]
  },
  {
   "cell_type": "markdown",
   "id": "291e9e20-8b36-4cb2-82b2-90fdfaf37a01",
   "metadata": {},
   "source": [
    "### Reduce Graph"
   ]
  },
  {
   "cell_type": "code",
   "execution_count": null,
   "id": "3286a1c5-cd4c-45e1-9ada-c14802538b82",
   "metadata": {},
   "outputs": [],
   "source": [
    "from graphviper.graph_tools import reduce\n",
    "import numpy as np\n",
    "\n",
    "\n",
    "def my_sum(graph_inputs, input_parms):\n",
    "    print(graph_inputs)\n",
    "    return np.sum(graph_inputs) + input_parms[\"test_input\"]\n",
    "\n",
    "\n",
    "input_parms = {}\n",
    "input_parms[\"test_input\"] = 5\n",
    "graph_reduce = reduce(\n",
    "    graph, my_sum, input_parms, mode=\"single_node\"\n",
    ")  # mode \"tree\",\"single_node\"\n",
    "dask.visualize(graph_reduce)"
   ]
  },
  {
   "cell_type": "markdown",
   "id": "717022f0-fed9-461a-9943-ea6f31714249",
   "metadata": {},
   "source": [
    "### Run Map Reduce Graph"
   ]
  },
  {
   "cell_type": "code",
   "execution_count": null,
   "id": "199eb981-3852-40d6-915c-70cc63818677",
   "metadata": {},
   "outputs": [],
   "source": [
    "dask.compute(graph_reduce)"
   ]
  },
  {
   "cell_type": "markdown",
   "id": "57673d4b-5e5e-4e1c-bf54-275ea526178e",
   "metadata": {},
   "source": [
    "## Overlapping Frequency Map Reduce"
   ]
  },
  {
   "cell_type": "markdown",
   "id": "33871abd-78f6-48c1-9c7c-58388435d270",
   "metadata": {},
   "source": [
    "### Create Parallel Coordinates"
   ]
  },
  {
   "cell_type": "code",
   "execution_count": null,
   "id": "1278ba9b-9dcf-4a15-8265-b5e33c998d8c",
   "metadata": {},
   "outputs": [],
   "source": [
    "from graphviper.utils.display import dict_to_html\n",
    "import dask\n",
    "dask.config.set(scheduler=\"synchronous\")\n",
    "from xradio.vis.read_processing_set import read_processing_set\n",
    "from IPython.display import HTML, display\n",
    "\n",
    "\n",
    "ps = read_processing_set(\n",
    "    ps_name=\"Antennae_North.cal.lsrk.split.vis.zarr\",\n",
    "    intents=[\"OBSERVE_TARGET#ON_SOURCE\"],\n",
    ")\n",
    "ms_xds = ps.get(1)\n",
    "n_chunks = 3\n",
    "\n",
    "parallel_coords = {}\n",
    "freq_coord = ms_xds.frequency.to_dict()\n",
    "freq_coord[\"data_chunks\"] = {\n",
    "    0: freq_coord[\"data\"][0:4],\n",
    "    1: freq_coord[\"data\"][3:7],\n",
    "    2: freq_coord[\"data\"][4:8],\n",
    "}\n",
    "parallel_coords[\"frequency\"] = freq_coord\n",
    "\n",
    "display(HTML(dict_to_html(parallel_coords[\"frequency\"])))"
   ]
  },
  {
   "cell_type": "markdown",
   "metadata": {},
   "source": [
    "### Create Node Task Data Mapping"
   ]
  },
  {
   "cell_type": "code",
   "execution_count": null,
   "metadata": {},
   "outputs": [],
   "source": [
    "from graphviper.graph_tools.coordinate_utils import interpolate_data_coords_onto_parallel_coords\n",
    "node_task_data_mapping = interpolate_data_coords_onto_parallel_coords(parallel_coords, ps)\n",
    "display(HTML(dict_to_html(node_task_data_mapping)))"
   ]
  },
  {
   "cell_type": "markdown",
   "id": "4660e626-9561-4817-9bd5-cce3b371853e",
   "metadata": {},
   "source": [
    "### Map Graph"
   ]
  },
  {
   "cell_type": "code",
   "execution_count": null,
   "id": "59d7fd02-63e0-438f-b9a5-dde9789a8ac2",
   "metadata": {},
   "outputs": [],
   "source": [
    "from graphviper.graph_tools.map import map\n",
    "import dask\n",
    "from IPython.display import display, HTML\n",
    "from xradio.vis.read_processing_set import read_processing_set\n",
    "\n",
    "\n",
    "def my_func(input_parms):\n",
    "    display(HTML(dict_to_html(input_parms)))\n",
    "\n",
    "    print(\"*\" * 30)\n",
    "    return input_parms[\"test_input\"]\n",
    "\n",
    "\n",
    "# ['test_input', 'input_data_name', 'viper_local_dir', 'date_time', 'data_sel', 'chunk_coords', 'chunk_indx', 'chunk_id', 'parallel_dims']\n",
    "input_parms = {}\n",
    "input_parms[\"test_input\"] = 42\n",
    "\n",
    "ps = read_processing_set(\n",
    "    ps_name=\"Antennae_North.cal.lsrk.split.vis.zarr\",\n",
    "    intents=[\"OBSERVE_TARGET#ON_SOURCE\"],\n",
    ")\n",
    "\n",
    "graph = map(\n",
    "    input_data=ps,\n",
    "    node_task_data_mapping=node_task_data_mapping,\n",
    "    node_task=my_func,\n",
    "    input_parms=input_parms,\n",
    ")\n",
    "\n",
    "dask.visualize(graph, filename=\"map_graph\")"
   ]
  },
  {
   "cell_type": "markdown",
   "id": "1bbbc632-2744-4364-bac0-0c07670ff5d6",
   "metadata": {},
   "source": [
    "### Run Map Graph"
   ]
  },
  {
   "cell_type": "code",
   "execution_count": null,
   "id": "c08fd267-270e-410b-9a8e-122c351a70c9",
   "metadata": {
    "scrolled": true
   },
   "outputs": [],
   "source": [
    "dask.compute(graph)"
   ]
  },
  {
   "cell_type": "markdown",
   "id": "16514b4c-f138-48db-88e3-7d204747bff7",
   "metadata": {},
   "source": [
    "## Baseline and Frequency Map Reduce"
   ]
  },
  {
   "cell_type": "markdown",
   "id": "e9f98381-34c8-400f-a7c0-b4fba291b330",
   "metadata": {},
   "source": [
    "### Create Parallel Coordinates"
   ]
  },
  {
   "cell_type": "code",
   "execution_count": null,
   "id": "54625049-166f-4748-ade2-2e0164d253b2",
   "metadata": {},
   "outputs": [],
   "source": [
    "from graphviper.utils.display import dict_to_html\n",
    "from graphviper.graph_tools.coordinate_utils import make_parallel_coord\n",
    "import dask\n",
    "\n",
    "dask.config.set(scheduler=\"synchronous\")\n",
    "\n",
    "from xradio.vis.read_processing_set import read_processing_set\n",
    "\n",
    "from IPython.display import HTML, display\n",
    "\n",
    "intents = [\"OBSERVE_TARGET#ON_SOURCE\"]\n",
    "ps = read_processing_set(\n",
    "    ps_name=\"Antennae_North.cal.lsrk.split.vis.zarr\",\n",
    "    intents=[\"OBSERVE_TARGET#ON_SOURCE\"],\n",
    ")\n",
    "ms_xds = ps.get(1)\n",
    "\n",
    "parallel_coords = {}\n",
    "\n",
    "import xarray as xr\n",
    "import numpy as np\n",
    "\n",
    "n_chunks = 4\n",
    "parallel_coords[\"baseline_id\"] = make_parallel_coord(\n",
    "    coord=ms_xds.baseline_id, n_chunks=n_chunks\n",
    ")\n",
    "\n",
    "n_chunks = 3\n",
    "parallel_coords[\"frequency\"] = make_parallel_coord(\n",
    "    coord=ms_xds.frequency, n_chunks=n_chunks\n",
    ")\n",
    "\n",
    "display(HTML(dict_to_html(parallel_coords)))"
   ]
  },
  {
   "cell_type": "markdown",
   "metadata": {},
   "source": [
    "### Create Node Task Data Mapping"
   ]
  },
  {
   "cell_type": "code",
   "execution_count": null,
   "metadata": {},
   "outputs": [],
   "source": [
    "from graphviper.graph_tools.coordinate_utils import interpolate_data_coords_onto_parallel_coords\n",
    "node_task_data_mapping = interpolate_data_coords_onto_parallel_coords(parallel_coords, ps)\n",
    "display(HTML(dict_to_html(node_task_data_mapping)))"
   ]
  },
  {
   "cell_type": "markdown",
   "id": "b9a0e981-da9b-41f0-9b50-59d2731a57ce",
   "metadata": {},
   "source": [
    "### Map Graph"
   ]
  },
  {
   "cell_type": "code",
   "execution_count": null,
   "id": "4d3e3ec2-fc3b-43c2-a6d3-1d32a966a8e8",
   "metadata": {},
   "outputs": [],
   "source": [
    "from graphviper.graph_tools.map import map\n",
    "import dask\n",
    "from IPython.display import display, HTML\n",
    "\n",
    "\n",
    "def my_func(input_parms):\n",
    "    display(HTML(dict_to_html(input_parms)))\n",
    "\n",
    "    print(\"*\" * 30)\n",
    "    return input_parms[\"test_input\"]\n",
    "\n",
    "\n",
    "# ['test_input', 'input_data_name', 'viper_local_dir', 'date_time', 'data_sel', 'chunk_coords', 'chunk_indx', 'chunk_id', 'parallel_dims']\n",
    "input_parms = {}\n",
    "input_parms[\"test_input\"] = 42\n",
    "\n",
    "graph = map(\n",
    "    input_data=ps,\n",
    "    node_task_data_mapping=node_task_data_mapping,\n",
    "    node_task=my_func,\n",
    "    input_parms=input_parms,\n",
    ")\n",
    "\n",
    "dask.visualize(graph, filename=\"map_graph\")"
   ]
  },
  {
   "cell_type": "markdown",
   "id": "5bbe9975-65cb-43ad-859c-72cc35ad0557",
   "metadata": {},
   "source": [
    "### Run Map Graph"
   ]
  },
  {
   "cell_type": "code",
   "execution_count": null,
   "id": "b1dfee4c-4dcb-4bb9-ba12-2eca07dcea9c",
   "metadata": {
    "scrolled": true
   },
   "outputs": [],
   "source": [
    "dask.compute(graph)"
   ]
  },
  {
   "cell_type": "markdown",
   "id": "f5b7f016-b05e-4773-aa2e-de8b397a0c59",
   "metadata": {},
   "source": [
    "## Time Map Reduce"
   ]
  },
  {
   "cell_type": "markdown",
   "id": "b3a8a9fe-9376-461b-b472-83107d1c1c02",
   "metadata": {},
   "source": [
    "### Create Parallel Coordinates"
   ]
  },
  {
   "cell_type": "code",
   "execution_count": null,
   "id": "4e4acb1e-4a63-4e73-a342-30eb1013347e",
   "metadata": {},
   "outputs": [],
   "source": [
    "from graphviper.graph_tools.coordinate_utils import make_parallel_coord\n",
    "from graphviper.utils.display import dict_to_html\n",
    "import dask\n",
    "\n",
    "dask.config.set(scheduler=\"synchronous\")\n",
    "\n",
    "from xradio.vis.read_processing_set import read_processing_set\n",
    "from IPython.display import HTML, display\n",
    "\n",
    "intents = [\"OBSERVE_TARGET#ON_SOURCE\"]\n",
    "ps = read_processing_set(\n",
    "    ps_name=\"Antennae_North.cal.lsrk.split.vis.zarr\",\n",
    "    intents=[\"OBSERVE_TARGET#ON_SOURCE\"],\n",
    ")\n",
    "ms_xds = ps.get(1)\n",
    "\n",
    "parallel_coords = {}\n",
    "\n",
    "import xarray as xr\n",
    "import numpy as np\n",
    "\n",
    "t0, t1, t2 = (ps.get(1).time, ps.get(0).time, ps.get(2).time)\n",
    "time_coord = xr.concat([t0, t1, t2], dim=\"time\").sortby(\"time\").to_dict()\n",
    "n_chunks = 4\n",
    "parallel_coords[\"time\"] = make_parallel_coord(coord=time_coord, n_chunks=n_chunks)\n",
    "display(HTML(dict_to_html(parallel_coords[\"time\"])))"
   ]
  },
  {
   "cell_type": "markdown",
   "metadata": {},
   "source": [
    "### Create Node Task Data Mapping"
   ]
  },
  {
   "cell_type": "code",
   "execution_count": null,
   "metadata": {},
   "outputs": [],
   "source": [
    "from graphviper.graph_tools.coordinate_utils import interpolate_data_coords_onto_parallel_coords\n",
    "node_task_data_mapping = interpolate_data_coords_onto_parallel_coords(parallel_coords, ps)\n",
    "display(HTML(dict_to_html(node_task_data_mapping)))"
   ]
  },
  {
   "cell_type": "markdown",
   "id": "1123fc67-58c1-4786-8546-a0fc47150dc6",
   "metadata": {},
   "source": [
    "### Map Graph"
   ]
  },
  {
   "cell_type": "code",
   "execution_count": null,
   "id": "d56f58e2-d02c-4950-9eab-9e9190660b0a",
   "metadata": {},
   "outputs": [],
   "source": [
    "from graphviper.graph_tools.map import map\n",
    "import dask\n",
    "from IPython.display import display, HTML\n",
    "\n",
    "\n",
    "def my_func(input_parms):\n",
    "    display(HTML(dict_to_html(input_parms)))\n",
    "\n",
    "    print(\"*\" * 30)\n",
    "    return input_parms[\"test_input\"]\n",
    "\n",
    "\n",
    "# ['test_input', 'input_data_name', 'viper_local_dir', 'date_time', 'data_sel', 'chunk_coords', 'chunk_indx', 'chunk_id', 'parallel_dims']\n",
    "input_parms = {}\n",
    "input_parms[\"test_input\"] = 42\n",
    "\n",
    "graph = map(\n",
    "    input_data=ps,\n",
    "    node_task_data_mapping=node_task_data_mapping,\n",
    "    node_task=my_func,\n",
    "    input_parms=input_parms,\n",
    ")\n",
    "\n",
    "dask.visualize(graph, filename=\"map_graph\")"
   ]
  },
  {
   "cell_type": "markdown",
   "id": "c030e0b0-f289-4c16-9c74-35aab1f7b011",
   "metadata": {},
   "source": [
    "### Run Map Graph"
   ]
  },
  {
   "cell_type": "code",
   "execution_count": null,
   "id": "a02e3704-6a3b-430a-a40a-457d6d751531",
   "metadata": {},
   "outputs": [],
   "source": [
    "dask.compute(graph)"
   ]
  }
 ],
 "metadata": {
  "kernelspec": {
   "display_name": "Python 3 (ipykernel)",
   "language": "python",
   "name": "python3"
  },
  "language_info": {
   "codemirror_mode": {
    "name": "ipython",
    "version": 3
   },
   "file_extension": ".py",
   "mimetype": "text/x-python",
   "name": "python",
   "nbconvert_exporter": "python",
   "pygments_lexer": "ipython3",
   "version": "3.11.6"
  }
 },
 "nbformat": 4,
 "nbformat_minor": 5
}
