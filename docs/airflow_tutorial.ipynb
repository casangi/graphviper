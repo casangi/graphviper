{
 "cells": [
  {
   "cell_type": "markdown",
   "metadata": {},
   "source": [
    "# Setup Airflow\n",
    "\n",
    "Install airflow\n",
    "```bash\n",
    "pip install \"apache-airflow==2.8.2\"\n",
    "```\n",
    "\n",
    "The default airflow config is `~/airflow/airflow.cfg` and change the following :\n",
    "- dags_folder to a directory where you want to save the DAGs. Also update the dags_folder variable in the cell below.\n",
    "- load_examples = False\n",
    "\n",
    "In a terminal run, (**remember to change the parameters for airflow users create**)\n",
    "```bash\n",
    "airflow db migrate\n",
    "airflow users create --username jan --password admin123 --firstname jan --lastname steeb --role Admin --email jwsteeb@gmail.com\n",
    "```\n",
    "\n",
    "To run the DAGs use two seperate terminals and run:\n",
    "```bash\n",
    "airflow webserver -p 8080\n",
    "airflow scheduler\n",
    "```\n",
    "The ui can now be accessed using `http://localhost:8080/`\n",
    "\n",
    "The command `airflow dags list` will list all the availble DAGs."
   ]
  },
  {
   "cell_type": "code",
   "execution_count": 1,
   "metadata": {},
   "outputs": [
    {
     "name": "stdout",
     "output_type": "stream",
     "text": [
      "/Users/jsteeb\n"
     ]
    }
   ],
   "source": [
    "import os\n",
    "#dags_folder = \"/Users/jsteeb/Dropbox/graphviper/docs/airflow_dags\"\n",
    "dags_folder = \"~\"\n",
    "dags_folder = os.path.expanduser(dags_folder)\n",
    "print(dags_folder)"
   ]
  },
  {
   "cell_type": "code",
   "execution_count": 2,
   "metadata": {},
   "outputs": [
    {
     "name": "stdout",
     "output_type": "stream",
     "text": [
      "[\u001b[38;2;128;05;128m2025-10-07 10:34:17,181\u001b[0m] \u001b[38;2;50;50;205m    INFO\u001b[0m\u001b[38;2;112;128;144m    viperlog: \u001b[0m Module path: \u001b[38;2;50;50;205m/Users/jsteeb/Dropbox/toolviper/src/toolviper\u001b[0m \n",
      "[\u001b[38;2;128;05;128m2025-10-07 10:34:17,184\u001b[0m] \u001b[38;2;50;50;205m    INFO\u001b[0m\u001b[38;2;112;128;144m    viperlog: \u001b[0m Downloading from [cloudflare] .... \n"
     ]
    },
    {
     "data": {
      "text/html": [
       "<pre style=\"white-space:pre;overflow-x:auto;line-height:normal;font-family:Menlo,'DejaVu Sans Mono',consolas,'Courier New',monospace\">                                    \n",
       " <span style=\"font-weight: bold\"> Download List                    </span> \n",
       " ────────────────────────────────── \n",
       "  <span style=\"color: #800080; text-decoration-color: #800080\">Antennae_North.cal.lsrk.split.ms</span>  \n",
       "                                    \n",
       "</pre>\n"
      ],
      "text/plain": [
       "                                    \n",
       " \u001b[1m \u001b[0m\u001b[1mDownload List                   \u001b[0m\u001b[1m \u001b[0m \n",
       " ────────────────────────────────── \n",
       "  \u001b[35mAntennae_North.cal.lsrk.split.ms\u001b[0m  \n",
       "                                    \n"
      ]
     },
     "metadata": {},
     "output_type": "display_data"
    },
    {
     "name": "stdout",
     "output_type": "stream",
     "text": [
      "[\u001b[38;2;128;05;128m2025-10-07 10:34:17,186\u001b[0m] \u001b[38;2;50;50;205m    INFO\u001b[0m\u001b[38;2;112;128;144m    viperlog: \u001b[0m File exists: Antennae_North.cal.lsrk.split.ms \n"
     ]
    },
    {
     "data": {
      "application/vnd.jupyter.widget-view+json": {
       "model_id": "ea67588db8904ffdbc3ecbb2843dd915",
       "version_major": 2,
       "version_minor": 0
      },
      "text/plain": [
       "Output()"
      ]
     },
     "metadata": {},
     "output_type": "display_data"
    },
    {
     "data": {
      "text/html": [
       "<pre style=\"white-space:pre;overflow-x:auto;line-height:normal;font-family:Menlo,'DejaVu Sans Mono',consolas,'Courier New',monospace\"></pre>\n"
      ],
      "text/plain": []
     },
     "metadata": {},
     "output_type": "display_data"
    },
    {
     "name": "stdout",
     "output_type": "stream",
     "text": [
      "[\u001b[38;2;128;05;128m2025-10-07 10:34:18,441\u001b[0m] \u001b[38;2;50;50;205m    INFO\u001b[0m\u001b[38;2;112;128;144m    viperlog: \u001b[0m Updated partition scheme used: ['DATA_DESC_ID', 'OBS_MODE', 'OBSERVATION_ID'] \n",
      "[\u001b[38;2;128;05;128m2025-10-07 10:34:18,444\u001b[0m] \u001b[38;2;50;50;205m    INFO\u001b[0m\u001b[38;2;112;128;144m    viperlog: \u001b[0m Number of partitions: 4 \n",
      "[\u001b[38;2;128;05;128m2025-10-07 10:34:18,445\u001b[0m] \u001b[38;2;50;50;205m    INFO\u001b[0m\u001b[38;2;112;128;144m    viperlog: \u001b[0m OBSERVATION_ID [0], DDI [0], STATE [23, 24, 25, 30, 31, 32, 33, 34, 37], FIELD [0, 1, 2], SCAN [9, 17, 21, 25], EPHEMERIS [None] \n",
      "[\u001b[38;2;128;05;128m2025-10-07 10:34:18,721\u001b[0m] \u001b[38;2;50;50;205m    INFO\u001b[0m\u001b[38;2;112;128;144m    viperlog: \u001b[0m OBSERVATION_ID [1], DDI [0], STATE [23, 24, 25, 30, 31, 32, 33, 34, 37], FIELD [0, 1, 2], SCAN [26, 34, 38, 42], EPHEMERIS [None] \n",
      "[\u001b[38;2;128;05;128m2025-10-07 10:34:18,913\u001b[0m] \u001b[38;2;50;50;205m    INFO\u001b[0m\u001b[38;2;112;128;144m    viperlog: \u001b[0m OBSERVATION_ID [2], DDI [0], STATE [32, 33, 34], FIELD [0, 1, 2], SCAN [43], EPHEMERIS [None] \n",
      "[\u001b[38;2;128;05;128m2025-10-07 10:34:19,085\u001b[0m] \u001b[38;2;50;50;205m    INFO\u001b[0m\u001b[38;2;112;128;144m    viperlog: \u001b[0m OBSERVATION_ID [3], DDI [0], STATE [39, 40, 41, 46, 47, 48, 49, 50, 53], FIELD [0, 1, 2], SCAN [48, 56, 60, 64], EPHEMERIS [None] \n"
     ]
    }
   ],
   "source": [
    "from toolviper.utils.data import download\n",
    "\n",
    "download(file=\"Antennae_North.cal.lsrk.split.ms\")\n",
    "\n",
    "from xradio.measurement_set.convert_msv2_to_processing_set import convert_msv2_to_processing_set\n",
    "\n",
    "# The chunksize on disk. Chunksize can be specified for any of the following dimensions :\n",
    "# time, baseline_id (interferometer) / antenna_id (single dish), frequency, and polarization.\n",
    "chunks_on_disk = {\"frequency\": 3}\n",
    "infile = \"Antennae_North.cal.lsrk.split.ms\"\n",
    "outfile = \"Antennae_North.cal.lsrk.split.ps.zarr\"\n",
    "convert_msv2_to_processing_set(\n",
    "    in_file=infile,\n",
    "    out_file=outfile,\n",
    "    parallel_mode=\"none\",\n",
    "    overwrite=True,\n",
    "    main_chunksize=chunks_on_disk,\n",
    ")"
   ]
  },
  {
   "cell_type": "code",
   "execution_count": 3,
   "metadata": {},
   "outputs": [
    {
     "ename": "TypeError",
     "evalue": "open_processing_set() got an unexpected keyword argument 'intents'",
     "output_type": "error",
     "traceback": [
      "\u001b[0;31m---------------------------------------------------------------------------\u001b[0m",
      "\u001b[0;31mTypeError\u001b[0m                                 Traceback (most recent call last)",
      "Cell \u001b[0;32mIn[3], line 12\u001b[0m\n\u001b[1;32m      8\u001b[0m \u001b[38;5;28;01mfrom\u001b[39;00m\u001b[38;5;250m \u001b[39m\u001b[38;5;21;01mxradio\u001b[39;00m\u001b[38;5;21;01m.\u001b[39;00m\u001b[38;5;21;01mmeasurement_set\u001b[39;00m\u001b[38;5;250m \u001b[39m\u001b[38;5;28;01mimport\u001b[39;00m open_processing_set\n\u001b[1;32m     10\u001b[0m intents \u001b[38;5;241m=\u001b[39m [\u001b[38;5;124m\"\u001b[39m\u001b[38;5;124mOBSERVE_TARGET#ON_SOURCE\u001b[39m\u001b[38;5;124m\"\u001b[39m]\n\u001b[0;32m---> 12\u001b[0m ps \u001b[38;5;241m=\u001b[39m \u001b[43mopen_processing_set\u001b[49m\u001b[43m(\u001b[49m\n\u001b[1;32m     13\u001b[0m \u001b[43m    \u001b[49m\u001b[43mps_store\u001b[49m\u001b[38;5;241;43m=\u001b[39;49m\u001b[43mps_name\u001b[49m\u001b[43m,\u001b[49m\n\u001b[1;32m     14\u001b[0m \u001b[43m    \u001b[49m\u001b[43mintents\u001b[49m\u001b[38;5;241;43m=\u001b[39;49m\u001b[43mintents\u001b[49m\u001b[43m,\u001b[49m\n\u001b[1;32m     15\u001b[0m \u001b[43m)\u001b[49m\n\u001b[1;32m     16\u001b[0m display(ps\u001b[38;5;241m.\u001b[39mxr_ps\u001b[38;5;241m.\u001b[39msummary())\n",
      "\u001b[0;31mTypeError\u001b[0m: open_processing_set() got an unexpected keyword argument 'intents'"
     ]
    }
   ],
   "source": [
    "from toolviper.utils.data import download\n",
    "\n",
    "import pandas as pd\n",
    "\n",
    "pd.options.display.max_colwidth = 100\n",
    "ps_name = \"Antennae_North.cal.lsrk.split.ps.zarr\"\n",
    "\n",
    "from xradio.measurement_set import open_processing_set\n",
    "\n",
    "intents = [\"OBSERVE_TARGET#ON_SOURCE\"]\n",
    "\n",
    "ps = open_processing_set(\n",
    "    ps_store=ps_name,\n",
    "    intents=intents,\n",
    ")\n",
    "display(ps.xr_ps.summary())"
   ]
  },
  {
   "cell_type": "code",
   "execution_count": null,
   "metadata": {},
   "outputs": [
    {
     "name": "stdout",
     "output_type": "stream",
     "text": [
      "{'map': {'node_task': <function my_func at 0x146408d60>, 'input_params': [{'test_input': 42, 'chunk_indices': (np.int64(0),), 'parallel_dims': ['frequency'], 'data_selection': {'Antennae_North.cal.lsrk.split_00': {'frequency': slice(np.int64(0), np.int64(3), None)}, 'Antennae_North.cal.lsrk.split_01': {'frequency': slice(np.int64(0), np.int64(3), None)}, 'Antennae_North.cal.lsrk.split_02': {'frequency': slice(np.int64(0), np.int64(3), None)}, 'Antennae_North.cal.lsrk.split_03': {'frequency': slice(np.int64(0), np.int64(3), None)}, 'Antennae_North.cal.lsrk.split_04': {'frequency': slice(np.int64(0), np.int64(3), None)}, 'Antennae_North.cal.lsrk.split_05': {'frequency': slice(np.int64(0), np.int64(3), None)}, 'Antennae_North.cal.lsrk.split_06': {'frequency': slice(np.int64(0), np.int64(3), None)}, 'Antennae_North.cal.lsrk.split_07': {'frequency': slice(np.int64(0), np.int64(3), None)}, 'Antennae_North.cal.lsrk.split_08': {'frequency': slice(np.int64(0), np.int64(3), None)}, 'Antennae_North.cal.lsrk.split_09': {'frequency': slice(np.int64(0), np.int64(3), None)}, 'Antennae_North.cal.lsrk.split_10': {'frequency': slice(np.int64(0), np.int64(3), None)}, 'Antennae_North.cal.lsrk.split_11': {'frequency': slice(np.int64(0), np.int64(3), None)}}, 'task_coords': {'frequency': {'data': array([3.43928097e+11, 3.43939328e+11, 3.43950560e+11]), 'dims': 'frequency', 'attrs': {'units': 'Hz', 'type': 'spectral_coord', 'velocity_frame': 'lsrk'}}}, 'task_id': 0, 'input_data': None, 'date_time': None}, {'test_input': 42, 'chunk_indices': (np.int64(1),), 'parallel_dims': ['frequency'], 'data_selection': {'Antennae_North.cal.lsrk.split_00': {'frequency': slice(np.int64(3), np.int64(6), None)}, 'Antennae_North.cal.lsrk.split_01': {'frequency': slice(np.int64(3), np.int64(6), None)}, 'Antennae_North.cal.lsrk.split_02': {'frequency': slice(np.int64(3), np.int64(6), None)}, 'Antennae_North.cal.lsrk.split_03': {'frequency': slice(np.int64(3), np.int64(6), None)}, 'Antennae_North.cal.lsrk.split_04': {'frequency': slice(np.int64(3), np.int64(6), None)}, 'Antennae_North.cal.lsrk.split_05': {'frequency': slice(np.int64(3), np.int64(6), None)}, 'Antennae_North.cal.lsrk.split_06': {'frequency': slice(np.int64(3), np.int64(6), None)}, 'Antennae_North.cal.lsrk.split_07': {'frequency': slice(np.int64(3), np.int64(6), None)}, 'Antennae_North.cal.lsrk.split_08': {'frequency': slice(np.int64(3), np.int64(6), None)}, 'Antennae_North.cal.lsrk.split_09': {'frequency': slice(np.int64(3), np.int64(6), None)}, 'Antennae_North.cal.lsrk.split_10': {'frequency': slice(np.int64(3), np.int64(6), None)}, 'Antennae_North.cal.lsrk.split_11': {'frequency': slice(np.int64(3), np.int64(6), None)}}, 'task_coords': {'frequency': {'data': array([3.43961791e+11, 3.43973023e+11, 3.43984254e+11]), 'dims': 'frequency', 'attrs': {'units': 'Hz', 'type': 'spectral_coord', 'velocity_frame': 'lsrk'}}}, 'task_id': 1, 'input_data': None, 'date_time': None}, {'test_input': 42, 'chunk_indices': (np.int64(2),), 'parallel_dims': ['frequency'], 'data_selection': {'Antennae_North.cal.lsrk.split_00': {'frequency': slice(np.int64(6), np.int64(8), None)}, 'Antennae_North.cal.lsrk.split_01': {'frequency': slice(np.int64(6), np.int64(8), None)}, 'Antennae_North.cal.lsrk.split_02': {'frequency': slice(np.int64(6), np.int64(8), None)}, 'Antennae_North.cal.lsrk.split_03': {'frequency': slice(np.int64(6), np.int64(8), None)}, 'Antennae_North.cal.lsrk.split_04': {'frequency': slice(np.int64(6), np.int64(8), None)}, 'Antennae_North.cal.lsrk.split_05': {'frequency': slice(np.int64(6), np.int64(8), None)}, 'Antennae_North.cal.lsrk.split_06': {'frequency': slice(np.int64(6), np.int64(8), None)}, 'Antennae_North.cal.lsrk.split_07': {'frequency': slice(np.int64(6), np.int64(8), None)}, 'Antennae_North.cal.lsrk.split_08': {'frequency': slice(np.int64(6), np.int64(8), None)}, 'Antennae_North.cal.lsrk.split_09': {'frequency': slice(np.int64(6), np.int64(8), None)}, 'Antennae_North.cal.lsrk.split_10': {'frequency': slice(np.int64(6), np.int64(8), None)}, 'Antennae_North.cal.lsrk.split_11': {'frequency': slice(np.int64(6), np.int64(8), None)}}, 'task_coords': {'frequency': {'data': array([3.43995486e+11, 3.44006717e+11]), 'dims': 'frequency', 'attrs': {'units': 'Hz', 'type': 'spectral_coord', 'velocity_frame': 'lsrk'}}}, 'task_id': 2, 'input_data': None, 'date_time': None}]}, 'reduce': {'mode': 'single_node', 'node_task': <function my_sum at 0x306705c60>, 'input_params': {'test_input': 5}}}\n"
     ]
    }
   ],
   "source": [
    "%load_ext autoreload\n",
    "%autoreload 2\n",
    "\n",
    "from graphviper.graph_tools.coordinate_utils import make_parallel_coord\n",
    "from toolviper.utils.display import dict_to_html\n",
    "from IPython.display import HTML, display\n",
    "import os\n",
    "\n",
    "ms_xds = ps['Antennae_North.cal.lsrk.split_00']\n",
    "\n",
    "parallel_coords = {}\n",
    "n_chunks = 3\n",
    "parallel_coords[\"frequency\"] = make_parallel_coord(\n",
    "    coord=ms_xds.frequency, n_chunks=n_chunks\n",
    ")\n",
    "#display(HTML(dict_to_html(parallel_coords[\"frequency\"])))\n",
    "\n",
    "from graphviper.graph_tools.coordinate_utils import make_frequency_coord\n",
    "\n",
    "n_chunks = 3\n",
    "\n",
    "coord = make_frequency_coord(\n",
    "    freq_start=343928096685.9587,\n",
    "    freq_delta=11231488.981445312,\n",
    "    n_channels=8,\n",
    "    velocity_frame=\"lsrk\",\n",
    ")\n",
    "parallel_coords[\"frequency\"] = make_parallel_coord(\n",
    "    coord=coord, n_chunks=n_chunks\n",
    ")\n",
    "#display(HTML(dict_to_html(parallel_coords[\"frequency\"])))\n",
    "\n",
    "from graphviper.graph_tools.coordinate_utils import (\n",
    "    interpolate_data_coords_onto_parallel_coords,\n",
    ")\n",
    "\n",
    "node_task_data_mapping = interpolate_data_coords_onto_parallel_coords(\n",
    "    parallel_coords, ps\n",
    ")\n",
    "\n",
    "from graphviper.graph_tools import map, reduce\n",
    "from graphviper.graph_tools.generate_dask_workflow import generate_dask_workflow\n",
    "import dask\n",
    "from toolviper.utils.display import dict_to_html\n",
    "from IPython.display import display, HTML\n",
    "\n",
    "\n",
    "def my_func(input_params):\n",
    "    #display(HTML(dict_to_html(input_params)))\n",
    "\n",
    "    import logging  \n",
    "    logging.info(\"*\" * 30)\n",
    "    return input_params[\"test_input\"]\n",
    "\n",
    "\n",
    "input_params = {}\n",
    "input_params[\"test_input\"] = 42\n",
    "\n",
    "viper_graph = map(\n",
    "    input_data=ps,\n",
    "    node_task_data_mapping=node_task_data_mapping,\n",
    "    node_task=my_func,\n",
    "    input_params=input_params,\n",
    ")\n",
    "\n",
    "def my_sum(graph_inputs, input_params):\n",
    "    import numpy as np\n",
    "    import graphviper.utils.logger as logger\n",
    "    result = np.sum(np.array(graph_inputs) / input_params[\"test_input\"])\n",
    "    logger.info('The result is: '+str(result))\n",
    "    return result\n",
    "\n",
    "\n",
    "input_params = {}\n",
    "input_params[\"test_input\"] = 5\n",
    "viper_graph_reduce = reduce(\n",
    "    viper_graph, my_sum, input_params, mode=\"single_node\"\n",
    ")  # mode \"tree\",\"single_node\"\n",
    "\n",
    "print(viper_graph_reduce)\n",
    "\n",
    "from graphviper.graph_tools import generate_airflow_workflow\n",
    "\n",
    "generate_airflow_workflow(viper_graph,filename=os.path.join(dags_folder,'map_reduce_4.py'),dag_name='map_reduce_4')\n",
    "\n"
   ]
  },
  {
   "cell_type": "code",
   "execution_count": null,
   "metadata": {},
   "outputs": [],
   "source": []
  }
 ],
 "metadata": {
  "kernelspec": {
   "display_name": "zinc",
   "language": "python",
   "name": "python3"
  },
  "language_info": {
   "codemirror_mode": {
    "name": "ipython",
    "version": 3
   },
   "file_extension": ".py",
   "mimetype": "text/x-python",
   "name": "python",
   "nbconvert_exporter": "python",
   "pygments_lexer": "ipython3",
   "version": "3.13.5"
  }
 },
 "nbformat": 4,
 "nbformat_minor": 2
}
