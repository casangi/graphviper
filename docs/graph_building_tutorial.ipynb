{
 "cells": [
  {
   "cell_type": "markdown",
   "metadata": {},
   "source": [
    "[![Open In Colab](https://colab.research.google.com/assets/colab-badge.svg)](https://colab.research.google.com/github/casangi/graphviper/blob/main/docs/graph_building_tutorial.ipynb)"
   ]
  },
  {
   "cell_type": "markdown",
   "id": "ed122f09-ead5-4a22-a70b-7702d556e7fe",
   "metadata": {},
   "source": [
    "# GraphVIPER Tutorial\n",
    "\n",
    "This tutorial provides examples of how `GraphVIPER` can be used to build [Dask](https://www.dask.org/) graphs by mapping a dictionary-based container of [xarray.Datasets](https://docs.xarray.dev/en/stable/generated/xarray.Dataset.html) to [Dask](https://www.dask.org/) graph nodes, followed by a reduction step. The dictionary of [xarray.Datasets](https://docs.xarray.dev/en/stable/generated/xarray.Dataset.html) used in this tutorial is referred to as a [Processing Set](https://github.com/casangi/xradio/blob/main/src/xradio/vis/_processing_set.py), although any dictionary containing [xarray.Datasets](https://docs.xarray.dev/en/stable/generated/xarray.Dataset.html) can be used. Using the `GraphVIPER` [map](https://graphviper.readthedocs.io/en/latest/_api/autoapi/graphviper/graph_tools/map/index.html#module-contents) and [reduce](https://graphviper.readthedocs.io/en/latest/_api/autoapi/graphviper/graph_tools/reduce/index.html#module-contents) functions can be thought of as a generalization of [xarray.map_blocks](https://docs.xarray.dev/en/stable/generated/xarray.map_blocks.html) that can be applied to more than one [xarray.Dataset](https://docs.xarray.dev/en/stable/generated/xarray.Dataset.html). Both [map](https://graphviper.readthedocs.io/en/latest/_api/autoapi/graphviper/graph_tools/map/index.html#module-contents) and [reduce](https://graphviper.readthedocs.io/en/latest/_api/autoapi/graphviper/graph_tools/reduce/index.html#module-contents) build [Dask](https://www.dask.org/) graphs using [dask.delayed](https://docs.dask.org/en/stable/delayed.html).\n",
    "\n",
    "The following types of mapping are supported:\n",
    "\n",
    "- Partitions defined by any combination of the coordinates in the [Processing Set](https://github.com/casangi/xradio/blob/main/src/xradio/vis/_processing_set.py).\n",
    "- More than one [xarray.Dataset](https://docs.xarray.dev/en/stable/generated/xarray.Dataset.html) can be assigned to a single mapping node.\n",
    "- [xarray.Dataset](https://docs.xarray.dev/en/stable/generated/xarray.Dataset.html) partitions assigned to different nodes can have coordinates that overlap.\n",
    "\n",
    "The tutorial will cover the following examples:\n",
    "\n",
    "- Frequency Map Reduce: This example explains the concepts of `parallel_coords` and `node_task_data_mapping` that define parallelism.\n",
    "- Overlapping Frequency Map Reduce.\n",
    "- Baseline and Frequency Map Reduce.\n",
    "- Time Map Reduce.\n",
    "\n",
    "`GraphVIPER` provides improvements over the [CNGI prototype](https://cngi-prototype.readthedocs.io/en/stable/development.html):\n",
    "\n",
    "- There is a clear separation between the concurrency layer ([GraphVIPER](https://graphviper.readthedocs.io/en/latest/)) and the domain layer (science code, [AstroVIPER](https://github.com/casangi/astroviper)).\n",
    "- The memory backpressure issue was solved by incorporating the loading of data into the compute nodes. An example of the memory backpressure issue is cube imaging where large in-memory image cubes have to be created, which [Dask](https://www.dask.org/) is not aware of, causing [Dask](https://www.dask.org/) to be overeager in loading data from disk into memory. In the future, [Dask](https://www.dask.org/) might provide an alternative solution where graph nodes can be annotated with expected memory usage.\n",
    "- The number of graph nodes has been minimized; this was also solved by incorporating the loading of data into the compute nodes. When [Xarray](https://docs.xarray.dev/) backed [Dask](https://www.dask.org/) datasets are used, a node is created for each data variable, and since Radio Astronomy datasets have numerous data variables, it led to a bloated graph that impacted scaling performance.\n",
    "- Multiple [xarray.Datasets](https://docs.xarray.dev/en/stable/generated/xarray.Dataset.html) can be processed together with overlap. This cannot be done with the current [Xarray](https://docs.xarray.dev/) functionality, such as [xarray.map_blocks](https://docs.xarray.dev/en/stable/generated/xarray.map_blocks.html).\n",
    "- Using a [Dask plugin](https://distributed.dask.org/en/latest/plugins.html), the [Dask Scheduler](https://docs.dask.org/en/stable/scheduler-overview.html) has been modified so that data can be cached to a local disk when multiple passes over larger-than-memory data have to be done. This reduces clustered file system or binary object store access (see [GraphVIPER Client](https://graphviper.readthedocs.io/en/latest/_api/autoapi/graphviper/dask/client/index.html)).\n"
   ]
  },
  {
   "cell_type": "markdown",
   "id": "ffbf2b16",
   "metadata": {},
   "source": [
    "## Install GraphVIPER"
   ]
  },
  {
   "cell_type": "code",
   "execution_count": 1,
   "id": "e7850f0a-f46a-48cc-98b1-fde794af919a",
   "metadata": {},
   "outputs": [
    {
     "name": "stdout",
     "output_type": "stream",
     "text": [
      "GraphVIPER version 0.0.4 already installed.\n"
     ]
    }
   ],
   "source": [
    "import os\n",
    "\n",
    "from importlib.metadata import version\n",
    "\n",
    "try:\n",
    "    import graphviper\n",
    "\n",
    "    print(\"GraphVIPER version\", version(\"graphviper\"), \"already installed.\")\n",
    "except ImportError as e:\n",
    "    print(e)\n",
    "    print(\"Installing GraphVIPER\")\n",
    "\n",
    "    os.system(\"pip install graphviper\")\n",
    "\n",
    "    import graphviper\n",
    "\n",
    "    print(\"GraphVIPER version\", version(\"graphviper\"), \" installed.\")"
   ]
  },
  {
   "cell_type": "markdown",
   "id": "e0aa8d3c-6fd9-474f-9223-6da8856ab948",
   "metadata": {},
   "source": [
    "## Download and Convert Dataset"
   ]
  },
  {
   "cell_type": "code",
   "execution_count": 2,
   "id": "d4f2b674-78e3-4dbb-9079-2b46825e1f3a",
   "metadata": {},
   "outputs": [
    {
     "name": "stdout",
     "output_type": "stream",
     "text": [
      "[\u001b[38;2;128;05;128m2024-02-08 15:26:00,109\u001b[0m] \u001b[38;2;50;50;205m    INFO\u001b[0m\u001b[38;2;112;128;144m  graphviper: \u001b[0m File exists: Antennae_North.cal.lsrk.split.ms \n"
     ]
    }
   ],
   "source": [
    "from graphviper.utils.data import download\n",
    "\n",
    "download(file=\"Antennae_North.cal.lsrk.split.ms\")\n",
    "\n",
    "from xradio.vis.convert_msv2_to_processing_set import convert_msv2_to_processing_set\n",
    "\n",
    "# The chunksize on disk. Chunksize can be specified for any of the following dimensions :\n",
    "# time, baseline_id (interferometer) / antenna_id (single dish), frequency, and polarization.\n",
    "chunks_on_disk = {\"frequency\": 3}\n",
    "infile = \"Antennae_North.cal.lsrk.split.ms\"\n",
    "outfile = \"Antennae_North.cal.lsrk.split.vis.zarr\"\n",
    "convert_msv2_to_processing_set(\n",
    "    in_file=infile,\n",
    "    out_file=outfile,\n",
    "    parallel=False,\n",
    "    overwrite=True,\n",
    "    main_chunksize=chunks_on_disk,\n",
    ")"
   ]
  },
  {
   "cell_type": "markdown",
   "id": "2682bb1c-c377-47f2-9faa-271108954d8f",
   "metadata": {},
   "source": [
    "## Setup Dask Cluster\n",
    "To simplify things we are going to start of by just using a single process (everything will run in serial)."
   ]
  },
  {
   "cell_type": "code",
   "execution_count": 3,
   "id": "f4e50179-3486-4454-9036-ff55d24346fc",
   "metadata": {},
   "outputs": [
    {
     "data": {
      "text/plain": [
       "<dask.config.set at 0x11cc7c050>"
      ]
     },
     "execution_count": 3,
     "metadata": {},
     "output_type": "execute_result"
    }
   ],
   "source": [
    "# Code to start a Dask cluster with two workers and 1 thread each.\n",
    "# from graphviper.dask.client import local_client\n",
    "# viper_client = local_client(cores=2, memory_limit=\"4GB\",autorestrictor=True)\n",
    "# viper_client\n",
    "\n",
    "import dask\n",
    "\n",
    "dask.config.set(scheduler=\"synchronous\")"
   ]
  },
  {
   "cell_type": "markdown",
   "id": "33a13d40-5654-4011-9467-d269fe601826",
   "metadata": {},
   "source": [
    "## Inspect the Processing Set\n",
    "\n",
    "The [read_processing_set](https://github.com/casangi/xradio/blob/main/src/xradio/vis/read_processing_set.py) is a lazy function, so no data is loaded into memory; only metadata is loaded (the [load_processing_set](https://github.com/casangi/xradio/blob/main/src/xradio/vis/load_processing_set.py) will load everything into memory). Metadata is defined as everything that is not an [xarray.DataArray](https://docs.xarray.dev/en/stable/generated/xarray.DataArray.html). Note that a [Processing Set](https://github.com/casangi/xradio/blob/main/src/xradio/vis/_processing_set.py) does not have to be used with `GraphVIPER`, and any dictionary of [xarray.Datasets](https://docs.xarray.dev/en/stable/generated/xarray.Dataset.html) can be used."
   ]
  },
  {
   "cell_type": "code",
   "execution_count": 4,
   "id": "774b2011-8921-48fb-90dc-f56689862110",
   "metadata": {},
   "outputs": [
    {
     "data": {
      "text/html": [
       "<div>\n",
       "<style scoped>\n",
       "    .dataframe tbody tr th:only-of-type {\n",
       "        vertical-align: middle;\n",
       "    }\n",
       "\n",
       "    .dataframe tbody tr th {\n",
       "        vertical-align: top;\n",
       "    }\n",
       "\n",
       "    .dataframe thead th {\n",
       "        text-align: right;\n",
       "    }\n",
       "</style>\n",
       "<table border=\"1\" class=\"dataframe\">\n",
       "  <thead>\n",
       "    <tr style=\"text-align: right;\">\n",
       "      <th></th>\n",
       "      <th>name</th>\n",
       "      <th>ddi</th>\n",
       "      <th>intent</th>\n",
       "      <th>field_id</th>\n",
       "      <th>field_name</th>\n",
       "      <th>start_frequency</th>\n",
       "      <th>end_frequency</th>\n",
       "    </tr>\n",
       "  </thead>\n",
       "  <tbody>\n",
       "    <tr>\n",
       "      <th>0</th>\n",
       "      <td>Antennae_North.cal.lsrk.split_ddi_0_intent_OBSERVE_TARGET#ON_SOURCE_field_id_1</td>\n",
       "      <td>0</td>\n",
       "      <td>OBSERVE_TARGET#ON_SOURCE</td>\n",
       "      <td>1</td>\n",
       "      <td>NGC4038 - Antennae North</td>\n",
       "      <td>3.439281e+11</td>\n",
       "      <td>3.440067e+11</td>\n",
       "    </tr>\n",
       "    <tr>\n",
       "      <th>1</th>\n",
       "      <td>Antennae_North.cal.lsrk.split_ddi_0_intent_OBSERVE_TARGET#ON_SOURCE_field_id_0</td>\n",
       "      <td>0</td>\n",
       "      <td>OBSERVE_TARGET#ON_SOURCE</td>\n",
       "      <td>0</td>\n",
       "      <td>NGC4038 - Antennae North</td>\n",
       "      <td>3.439281e+11</td>\n",
       "      <td>3.440067e+11</td>\n",
       "    </tr>\n",
       "    <tr>\n",
       "      <th>2</th>\n",
       "      <td>Antennae_North.cal.lsrk.split_ddi_0_intent_OBSERVE_TARGET#ON_SOURCE_field_id_2</td>\n",
       "      <td>0</td>\n",
       "      <td>OBSERVE_TARGET#ON_SOURCE</td>\n",
       "      <td>2</td>\n",
       "      <td>NGC4038 - Antennae North</td>\n",
       "      <td>3.439281e+11</td>\n",
       "      <td>3.440067e+11</td>\n",
       "    </tr>\n",
       "  </tbody>\n",
       "</table>\n",
       "</div>"
      ],
      "text/plain": [
       "                                                                             name  \\\n",
       "0  Antennae_North.cal.lsrk.split_ddi_0_intent_OBSERVE_TARGET#ON_SOURCE_field_id_1   \n",
       "1  Antennae_North.cal.lsrk.split_ddi_0_intent_OBSERVE_TARGET#ON_SOURCE_field_id_0   \n",
       "2  Antennae_North.cal.lsrk.split_ddi_0_intent_OBSERVE_TARGET#ON_SOURCE_field_id_2   \n",
       "\n",
       "   ddi                    intent  field_id                field_name  \\\n",
       "0    0  OBSERVE_TARGET#ON_SOURCE         1  NGC4038 - Antennae North   \n",
       "1    0  OBSERVE_TARGET#ON_SOURCE         0  NGC4038 - Antennae North   \n",
       "2    0  OBSERVE_TARGET#ON_SOURCE         2  NGC4038 - Antennae North   \n",
       "\n",
       "   start_frequency  end_frequency  \n",
       "0     3.439281e+11   3.440067e+11  \n",
       "1     3.439281e+11   3.440067e+11  \n",
       "2     3.439281e+11   3.440067e+11  "
      ]
     },
     "metadata": {},
     "output_type": "display_data"
    }
   ],
   "source": [
    "import pandas as pd\n",
    "\n",
    "pd.options.display.max_colwidth = 100\n",
    "ps_name = \"Antennae_North.cal.lsrk.split.vis.zarr\"\n",
    "\n",
    "from xradio.vis.read_processing_set import read_processing_set\n",
    "\n",
    "intents = [\"OBSERVE_TARGET#ON_SOURCE\"]\n",
    "fields = None\n",
    "ps = read_processing_set(\n",
    "    ps_name=\"Antennae_North.cal.lsrk.split.vis.zarr\",\n",
    "    intents=intents,\n",
    "    fields=fields,\n",
    ")\n",
    "display(ps.summary())"
   ]
  },
  {
   "cell_type": "markdown",
   "id": "20b44df1-613b-4eaf-9c04-55bad4c5ced3",
   "metadata": {},
   "source": [
    "## Inspect a single MS v4\n",
    "\n",
    "The [xarray.Datasets](https://docs.xarray.dev/en/stable/generated/xarray.Dataset.html) within a Processing Set are called [Measurement Set v4](https://docs.google.com/spreadsheets/d/14a6qMap9M5r_vjpLnaBKxsR9TF4azN5LVdOxLacOX-s/edit?usp=sharing) (MS v4)."
   ]
  },
  {
   "cell_type": "code",
   "execution_count": 5,
   "id": "14c1b6da-4c81-4f97-9000-0f5784dfbc66",
   "metadata": {},
   "outputs": [
    {
     "data": {
      "text/html": [
       "<div><svg style=\"position: absolute; width: 0; height: 0; overflow: hidden\">\n",
       "<defs>\n",
       "<symbol id=\"icon-database\" viewBox=\"0 0 32 32\">\n",
       "<path d=\"M16 0c-8.837 0-16 2.239-16 5v4c0 2.761 7.163 5 16 5s16-2.239 16-5v-4c0-2.761-7.163-5-16-5z\"></path>\n",
       "<path d=\"M16 17c-8.837 0-16-2.239-16-5v6c0 2.761 7.163 5 16 5s16-2.239 16-5v-6c0 2.761-7.163 5-16 5z\"></path>\n",
       "<path d=\"M16 26c-8.837 0-16-2.239-16-5v6c0 2.761 7.163 5 16 5s16-2.239 16-5v-6c0 2.761-7.163 5-16 5z\"></path>\n",
       "</symbol>\n",
       "<symbol id=\"icon-file-text2\" viewBox=\"0 0 32 32\">\n",
       "<path d=\"M28.681 7.159c-0.694-0.947-1.662-2.053-2.724-3.116s-2.169-2.030-3.116-2.724c-1.612-1.182-2.393-1.319-2.841-1.319h-15.5c-1.378 0-2.5 1.121-2.5 2.5v27c0 1.378 1.122 2.5 2.5 2.5h23c1.378 0 2.5-1.122 2.5-2.5v-19.5c0-0.448-0.137-1.23-1.319-2.841zM24.543 5.457c0.959 0.959 1.712 1.825 2.268 2.543h-4.811v-4.811c0.718 0.556 1.584 1.309 2.543 2.268zM28 29.5c0 0.271-0.229 0.5-0.5 0.5h-23c-0.271 0-0.5-0.229-0.5-0.5v-27c0-0.271 0.229-0.5 0.5-0.5 0 0 15.499-0 15.5 0v7c0 0.552 0.448 1 1 1h7v19.5z\"></path>\n",
       "<path d=\"M23 26h-14c-0.552 0-1-0.448-1-1s0.448-1 1-1h14c0.552 0 1 0.448 1 1s-0.448 1-1 1z\"></path>\n",
       "<path d=\"M23 22h-14c-0.552 0-1-0.448-1-1s0.448-1 1-1h14c0.552 0 1 0.448 1 1s-0.448 1-1 1z\"></path>\n",
       "<path d=\"M23 18h-14c-0.552 0-1-0.448-1-1s0.448-1 1-1h14c0.552 0 1 0.448 1 1s-0.448 1-1 1z\"></path>\n",
       "</symbol>\n",
       "</defs>\n",
       "</svg>\n",
       "<style>/* CSS stylesheet for displaying xarray objects in jupyterlab.\n",
       " *\n",
       " */\n",
       "\n",
       ":root {\n",
       "  --xr-font-color0: var(--jp-content-font-color0, rgba(0, 0, 0, 1));\n",
       "  --xr-font-color2: var(--jp-content-font-color2, rgba(0, 0, 0, 0.54));\n",
       "  --xr-font-color3: var(--jp-content-font-color3, rgba(0, 0, 0, 0.38));\n",
       "  --xr-border-color: var(--jp-border-color2, #e0e0e0);\n",
       "  --xr-disabled-color: var(--jp-layout-color3, #bdbdbd);\n",
       "  --xr-background-color: var(--jp-layout-color0, white);\n",
       "  --xr-background-color-row-even: var(--jp-layout-color1, white);\n",
       "  --xr-background-color-row-odd: var(--jp-layout-color2, #eeeeee);\n",
       "}\n",
       "\n",
       "html[theme=dark],\n",
       "body[data-theme=dark],\n",
       "body.vscode-dark {\n",
       "  --xr-font-color0: rgba(255, 255, 255, 1);\n",
       "  --xr-font-color2: rgba(255, 255, 255, 0.54);\n",
       "  --xr-font-color3: rgba(255, 255, 255, 0.38);\n",
       "  --xr-border-color: #1F1F1F;\n",
       "  --xr-disabled-color: #515151;\n",
       "  --xr-background-color: #111111;\n",
       "  --xr-background-color-row-even: #111111;\n",
       "  --xr-background-color-row-odd: #313131;\n",
       "}\n",
       "\n",
       ".xr-wrap {\n",
       "  display: block !important;\n",
       "  min-width: 300px;\n",
       "  max-width: 700px;\n",
       "}\n",
       "\n",
       ".xr-text-repr-fallback {\n",
       "  /* fallback to plain text repr when CSS is not injected (untrusted notebook) */\n",
       "  display: none;\n",
       "}\n",
       "\n",
       ".xr-header {\n",
       "  padding-top: 6px;\n",
       "  padding-bottom: 6px;\n",
       "  margin-bottom: 4px;\n",
       "  border-bottom: solid 1px var(--xr-border-color);\n",
       "}\n",
       "\n",
       ".xr-header > div,\n",
       ".xr-header > ul {\n",
       "  display: inline;\n",
       "  margin-top: 0;\n",
       "  margin-bottom: 0;\n",
       "}\n",
       "\n",
       ".xr-obj-type,\n",
       ".xr-array-name {\n",
       "  margin-left: 2px;\n",
       "  margin-right: 10px;\n",
       "}\n",
       "\n",
       ".xr-obj-type {\n",
       "  color: var(--xr-font-color2);\n",
       "}\n",
       "\n",
       ".xr-sections {\n",
       "  padding-left: 0 !important;\n",
       "  display: grid;\n",
       "  grid-template-columns: 150px auto auto 1fr 20px 20px;\n",
       "}\n",
       "\n",
       ".xr-section-item {\n",
       "  display: contents;\n",
       "}\n",
       "\n",
       ".xr-section-item input {\n",
       "  display: none;\n",
       "}\n",
       "\n",
       ".xr-section-item input + label {\n",
       "  color: var(--xr-disabled-color);\n",
       "}\n",
       "\n",
       ".xr-section-item input:enabled + label {\n",
       "  cursor: pointer;\n",
       "  color: var(--xr-font-color2);\n",
       "}\n",
       "\n",
       ".xr-section-item input:enabled + label:hover {\n",
       "  color: var(--xr-font-color0);\n",
       "}\n",
       "\n",
       ".xr-section-summary {\n",
       "  grid-column: 1;\n",
       "  color: var(--xr-font-color2);\n",
       "  font-weight: 500;\n",
       "}\n",
       "\n",
       ".xr-section-summary > span {\n",
       "  display: inline-block;\n",
       "  padding-left: 0.5em;\n",
       "}\n",
       "\n",
       ".xr-section-summary-in:disabled + label {\n",
       "  color: var(--xr-font-color2);\n",
       "}\n",
       "\n",
       ".xr-section-summary-in + label:before {\n",
       "  display: inline-block;\n",
       "  content: '►';\n",
       "  font-size: 11px;\n",
       "  width: 15px;\n",
       "  text-align: center;\n",
       "}\n",
       "\n",
       ".xr-section-summary-in:disabled + label:before {\n",
       "  color: var(--xr-disabled-color);\n",
       "}\n",
       "\n",
       ".xr-section-summary-in:checked + label:before {\n",
       "  content: '▼';\n",
       "}\n",
       "\n",
       ".xr-section-summary-in:checked + label > span {\n",
       "  display: none;\n",
       "}\n",
       "\n",
       ".xr-section-summary,\n",
       ".xr-section-inline-details {\n",
       "  padding-top: 4px;\n",
       "  padding-bottom: 4px;\n",
       "}\n",
       "\n",
       ".xr-section-inline-details {\n",
       "  grid-column: 2 / -1;\n",
       "}\n",
       "\n",
       ".xr-section-details {\n",
       "  display: none;\n",
       "  grid-column: 1 / -1;\n",
       "  margin-bottom: 5px;\n",
       "}\n",
       "\n",
       ".xr-section-summary-in:checked ~ .xr-section-details {\n",
       "  display: contents;\n",
       "}\n",
       "\n",
       ".xr-array-wrap {\n",
       "  grid-column: 1 / -1;\n",
       "  display: grid;\n",
       "  grid-template-columns: 20px auto;\n",
       "}\n",
       "\n",
       ".xr-array-wrap > label {\n",
       "  grid-column: 1;\n",
       "  vertical-align: top;\n",
       "}\n",
       "\n",
       ".xr-preview {\n",
       "  color: var(--xr-font-color3);\n",
       "}\n",
       "\n",
       ".xr-array-preview,\n",
       ".xr-array-data {\n",
       "  padding: 0 5px !important;\n",
       "  grid-column: 2;\n",
       "}\n",
       "\n",
       ".xr-array-data,\n",
       ".xr-array-in:checked ~ .xr-array-preview {\n",
       "  display: none;\n",
       "}\n",
       "\n",
       ".xr-array-in:checked ~ .xr-array-data,\n",
       ".xr-array-preview {\n",
       "  display: inline-block;\n",
       "}\n",
       "\n",
       ".xr-dim-list {\n",
       "  display: inline-block !important;\n",
       "  list-style: none;\n",
       "  padding: 0 !important;\n",
       "  margin: 0;\n",
       "}\n",
       "\n",
       ".xr-dim-list li {\n",
       "  display: inline-block;\n",
       "  padding: 0;\n",
       "  margin: 0;\n",
       "}\n",
       "\n",
       ".xr-dim-list:before {\n",
       "  content: '(';\n",
       "}\n",
       "\n",
       ".xr-dim-list:after {\n",
       "  content: ')';\n",
       "}\n",
       "\n",
       ".xr-dim-list li:not(:last-child):after {\n",
       "  content: ',';\n",
       "  padding-right: 5px;\n",
       "}\n",
       "\n",
       ".xr-has-index {\n",
       "  font-weight: bold;\n",
       "}\n",
       "\n",
       ".xr-var-list,\n",
       ".xr-var-item {\n",
       "  display: contents;\n",
       "}\n",
       "\n",
       ".xr-var-item > div,\n",
       ".xr-var-item label,\n",
       ".xr-var-item > .xr-var-name span {\n",
       "  background-color: var(--xr-background-color-row-even);\n",
       "  margin-bottom: 0;\n",
       "}\n",
       "\n",
       ".xr-var-item > .xr-var-name:hover span {\n",
       "  padding-right: 5px;\n",
       "}\n",
       "\n",
       ".xr-var-list > li:nth-child(odd) > div,\n",
       ".xr-var-list > li:nth-child(odd) > label,\n",
       ".xr-var-list > li:nth-child(odd) > .xr-var-name span {\n",
       "  background-color: var(--xr-background-color-row-odd);\n",
       "}\n",
       "\n",
       ".xr-var-name {\n",
       "  grid-column: 1;\n",
       "}\n",
       "\n",
       ".xr-var-dims {\n",
       "  grid-column: 2;\n",
       "}\n",
       "\n",
       ".xr-var-dtype {\n",
       "  grid-column: 3;\n",
       "  text-align: right;\n",
       "  color: var(--xr-font-color2);\n",
       "}\n",
       "\n",
       ".xr-var-preview {\n",
       "  grid-column: 4;\n",
       "}\n",
       "\n",
       ".xr-index-preview {\n",
       "  grid-column: 2 / 5;\n",
       "  color: var(--xr-font-color2);\n",
       "}\n",
       "\n",
       ".xr-var-name,\n",
       ".xr-var-dims,\n",
       ".xr-var-dtype,\n",
       ".xr-preview,\n",
       ".xr-attrs dt {\n",
       "  white-space: nowrap;\n",
       "  overflow: hidden;\n",
       "  text-overflow: ellipsis;\n",
       "  padding-right: 10px;\n",
       "}\n",
       "\n",
       ".xr-var-name:hover,\n",
       ".xr-var-dims:hover,\n",
       ".xr-var-dtype:hover,\n",
       ".xr-attrs dt:hover {\n",
       "  overflow: visible;\n",
       "  width: auto;\n",
       "  z-index: 1;\n",
       "}\n",
       "\n",
       ".xr-var-attrs,\n",
       ".xr-var-data,\n",
       ".xr-index-data {\n",
       "  display: none;\n",
       "  background-color: var(--xr-background-color) !important;\n",
       "  padding-bottom: 5px !important;\n",
       "}\n",
       "\n",
       ".xr-var-attrs-in:checked ~ .xr-var-attrs,\n",
       ".xr-var-data-in:checked ~ .xr-var-data,\n",
       ".xr-index-data-in:checked ~ .xr-index-data {\n",
       "  display: block;\n",
       "}\n",
       "\n",
       ".xr-var-data > table {\n",
       "  float: right;\n",
       "}\n",
       "\n",
       ".xr-var-name span,\n",
       ".xr-var-data,\n",
       ".xr-index-name div,\n",
       ".xr-index-data,\n",
       ".xr-attrs {\n",
       "  padding-left: 25px !important;\n",
       "}\n",
       "\n",
       ".xr-attrs,\n",
       ".xr-var-attrs,\n",
       ".xr-var-data,\n",
       ".xr-index-data {\n",
       "  grid-column: 1 / -1;\n",
       "}\n",
       "\n",
       "dl.xr-attrs {\n",
       "  padding: 0;\n",
       "  margin: 0;\n",
       "  display: grid;\n",
       "  grid-template-columns: 125px auto;\n",
       "}\n",
       "\n",
       ".xr-attrs dt,\n",
       ".xr-attrs dd {\n",
       "  padding: 0;\n",
       "  margin: 0;\n",
       "  float: left;\n",
       "  padding-right: 10px;\n",
       "  width: auto;\n",
       "}\n",
       "\n",
       ".xr-attrs dt {\n",
       "  font-weight: normal;\n",
       "  grid-column: 1;\n",
       "}\n",
       "\n",
       ".xr-attrs dt:hover span {\n",
       "  display: inline-block;\n",
       "  background: var(--xr-background-color);\n",
       "  padding-right: 10px;\n",
       "}\n",
       "\n",
       ".xr-attrs dd {\n",
       "  grid-column: 2;\n",
       "  white-space: pre-wrap;\n",
       "  word-break: break-all;\n",
       "}\n",
       "\n",
       ".xr-icon-database,\n",
       ".xr-icon-file-text2,\n",
       ".xr-no-icon {\n",
       "  display: inline-block;\n",
       "  vertical-align: middle;\n",
       "  width: 1em;\n",
       "  height: 1.5em !important;\n",
       "  stroke-width: 0;\n",
       "  stroke: currentColor;\n",
       "  fill: currentColor;\n",
       "}\n",
       "</style><pre class='xr-text-repr-fallback'>&lt;xarray.Dataset&gt;\n",
       "Dimensions:                     (time: 45, baseline_id: 64, frequency: 8,\n",
       "                                 polarization: 2, uvw_label: 3)\n",
       "Coordinates:\n",
       "    baseline_antenna1_id        (baseline_id) int32 dask.array&lt;chunksize=(64,), meta=np.ndarray&gt;\n",
       "    baseline_antenna2_id        (baseline_id) int32 dask.array&lt;chunksize=(64,), meta=np.ndarray&gt;\n",
       "  * baseline_id                 (baseline_id) int64 0 1 2 3 4 ... 59 60 61 62 63\n",
       "  * frequency                   (frequency) float64 3.439e+11 ... 3.44e+11\n",
       "  * polarization                (polarization) &lt;U2 &#x27;XX&#x27; &#x27;YY&#x27;\n",
       "  * time                        (time) float64 1.307e+09 1.307e+09 ... 1.307e+09\n",
       "  * uvw_label                   (uvw_label) &lt;U1 &#x27;u&#x27; &#x27;v&#x27; &#x27;w&#x27;\n",
       "Data variables:\n",
       "    EFFECTIVE_INTEGRATION_TIME  (time, baseline_id) float64 dask.array&lt;chunksize=(45, 64), meta=np.ndarray&gt;\n",
       "    FLAG                        (time, baseline_id, frequency, polarization) bool dask.array&lt;chunksize=(45, 64, 3, 2), meta=np.ndarray&gt;\n",
       "    TIME_CENTROID               (time, baseline_id) float64 dask.array&lt;chunksize=(45, 64), meta=np.ndarray&gt;\n",
       "    UVW                         (time, baseline_id, uvw_label) float64 dask.array&lt;chunksize=(45, 64, 3), meta=np.ndarray&gt;\n",
       "    VISIBILITY                  (time, baseline_id, frequency, polarization) complex64 dask.array&lt;chunksize=(45, 64, 3, 2), meta=np.ndarray&gt;\n",
       "    WEIGHT                      (time, baseline_id, frequency, polarization) float32 dask.array&lt;chunksize=(45, 64, 3, 2), meta=np.ndarray&gt;\n",
       "Attributes:\n",
       "    data_groups:  {&#x27;base&#x27;: {&#x27;flag&#x27;: &#x27;FLAG&#x27;, &#x27;uvw&#x27;: &#x27;UVW&#x27;, &#x27;visibility&#x27;: &#x27;VISI...\n",
       "    ddi:          0\n",
       "    field_info:   {&#x27;code&#x27;: &#x27;none&#x27;, &#x27;delay_direction&#x27;: {&#x27;attrs&#x27;: {&#x27;frame&#x27;: &#x27;FK...\n",
       "    intent:       OBSERVE_TARGET#ON_SOURCE\n",
       "    antenna_xds:  &lt;xarray.Dataset&gt;\\nDimensions:        (antenna_id: 15, xyz_l...</pre><div class='xr-wrap' style='display:none'><div class='xr-header'><div class='xr-obj-type'>xarray.Dataset</div></div><ul class='xr-sections'><li class='xr-section-item'><input id='section-df9674be-d844-4918-95f4-50fb3d99db33' class='xr-section-summary-in' type='checkbox' disabled ><label for='section-df9674be-d844-4918-95f4-50fb3d99db33' class='xr-section-summary'  title='Expand/collapse section'>Dimensions:</label><div class='xr-section-inline-details'><ul class='xr-dim-list'><li><span class='xr-has-index'>time</span>: 45</li><li><span class='xr-has-index'>baseline_id</span>: 64</li><li><span class='xr-has-index'>frequency</span>: 8</li><li><span class='xr-has-index'>polarization</span>: 2</li><li><span class='xr-has-index'>uvw_label</span>: 3</li></ul></div><div class='xr-section-details'></div></li><li class='xr-section-item'><input id='section-803edba3-4b69-4bbd-a873-f79203518240' class='xr-section-summary-in' type='checkbox'  checked><label for='section-803edba3-4b69-4bbd-a873-f79203518240' class='xr-section-summary' >Coordinates: <span>(7)</span></label><div class='xr-section-inline-details'></div><div class='xr-section-details'><ul class='xr-var-list'><li class='xr-var-item'><div class='xr-var-name'><span>baseline_antenna1_id</span></div><div class='xr-var-dims'>(baseline_id)</div><div class='xr-var-dtype'>int32</div><div class='xr-var-preview xr-preview'>dask.array&lt;chunksize=(64,), meta=np.ndarray&gt;</div><input id='attrs-a39f7ee7-d5aa-441f-87e1-dd3a61f4aa74' class='xr-var-attrs-in' type='checkbox' disabled><label for='attrs-a39f7ee7-d5aa-441f-87e1-dd3a61f4aa74' title='Show/Hide attributes'><svg class='icon xr-icon-file-text2'><use xlink:href='#icon-file-text2'></use></svg></label><input id='data-c3968367-b152-4d3b-93cc-4b1f6a380634' class='xr-var-data-in' type='checkbox'><label for='data-c3968367-b152-4d3b-93cc-4b1f6a380634' title='Show/Hide data repr'><svg class='icon xr-icon-database'><use xlink:href='#icon-database'></use></svg></label><div class='xr-var-attrs'><dl class='xr-attrs'></dl></div><div class='xr-var-data'><table>\n",
       "    <tr>\n",
       "        <td>\n",
       "            <table style=\"border-collapse: collapse;\">\n",
       "                <thead>\n",
       "                    <tr>\n",
       "                        <td> </td>\n",
       "                        <th> Array </th>\n",
       "                        <th> Chunk </th>\n",
       "                    </tr>\n",
       "                </thead>\n",
       "                <tbody>\n",
       "                    \n",
       "                    <tr>\n",
       "                        <th> Bytes </th>\n",
       "                        <td> 256 B </td>\n",
       "                        <td> 256 B </td>\n",
       "                    </tr>\n",
       "                    \n",
       "                    <tr>\n",
       "                        <th> Shape </th>\n",
       "                        <td> (64,) </td>\n",
       "                        <td> (64,) </td>\n",
       "                    </tr>\n",
       "                    <tr>\n",
       "                        <th> Dask graph </th>\n",
       "                        <td colspan=\"2\"> 1 chunks in 2 graph layers </td>\n",
       "                    </tr>\n",
       "                    <tr>\n",
       "                        <th> Data type </th>\n",
       "                        <td colspan=\"2\"> int32 numpy.ndarray </td>\n",
       "                    </tr>\n",
       "                </tbody>\n",
       "            </table>\n",
       "        </td>\n",
       "        <td>\n",
       "        <svg width=\"170\" height=\"77\" style=\"stroke:rgb(0,0,0);stroke-width:1\" >\n",
       "\n",
       "  <!-- Horizontal lines -->\n",
       "  <line x1=\"0\" y1=\"0\" x2=\"120\" y2=\"0\" style=\"stroke-width:2\" />\n",
       "  <line x1=\"0\" y1=\"27\" x2=\"120\" y2=\"27\" style=\"stroke-width:2\" />\n",
       "\n",
       "  <!-- Vertical lines -->\n",
       "  <line x1=\"0\" y1=\"0\" x2=\"0\" y2=\"27\" style=\"stroke-width:2\" />\n",
       "  <line x1=\"120\" y1=\"0\" x2=\"120\" y2=\"27\" style=\"stroke-width:2\" />\n",
       "\n",
       "  <!-- Colored Rectangle -->\n",
       "  <polygon points=\"0.0,0.0 120.0,0.0 120.0,27.675387197907465 0.0,27.675387197907465\" style=\"fill:#ECB172A0;stroke-width:0\"/>\n",
       "\n",
       "  <!-- Text -->\n",
       "  <text x=\"60.000000\" y=\"47.675387\" font-size=\"1.0rem\" font-weight=\"100\" text-anchor=\"middle\" >64</text>\n",
       "  <text x=\"140.000000\" y=\"13.837694\" font-size=\"1.0rem\" font-weight=\"100\" text-anchor=\"middle\" transform=\"rotate(0,140.000000,13.837694)\">1</text>\n",
       "</svg>\n",
       "        </td>\n",
       "    </tr>\n",
       "</table></div></li><li class='xr-var-item'><div class='xr-var-name'><span>baseline_antenna2_id</span></div><div class='xr-var-dims'>(baseline_id)</div><div class='xr-var-dtype'>int32</div><div class='xr-var-preview xr-preview'>dask.array&lt;chunksize=(64,), meta=np.ndarray&gt;</div><input id='attrs-8a9b4a7c-0ce5-42ce-8286-bf0494ff2dd0' class='xr-var-attrs-in' type='checkbox' disabled><label for='attrs-8a9b4a7c-0ce5-42ce-8286-bf0494ff2dd0' title='Show/Hide attributes'><svg class='icon xr-icon-file-text2'><use xlink:href='#icon-file-text2'></use></svg></label><input id='data-4bb0d153-c490-447a-bdc5-ce628a2aa1b8' class='xr-var-data-in' type='checkbox'><label for='data-4bb0d153-c490-447a-bdc5-ce628a2aa1b8' title='Show/Hide data repr'><svg class='icon xr-icon-database'><use xlink:href='#icon-database'></use></svg></label><div class='xr-var-attrs'><dl class='xr-attrs'></dl></div><div class='xr-var-data'><table>\n",
       "    <tr>\n",
       "        <td>\n",
       "            <table style=\"border-collapse: collapse;\">\n",
       "                <thead>\n",
       "                    <tr>\n",
       "                        <td> </td>\n",
       "                        <th> Array </th>\n",
       "                        <th> Chunk </th>\n",
       "                    </tr>\n",
       "                </thead>\n",
       "                <tbody>\n",
       "                    \n",
       "                    <tr>\n",
       "                        <th> Bytes </th>\n",
       "                        <td> 256 B </td>\n",
       "                        <td> 256 B </td>\n",
       "                    </tr>\n",
       "                    \n",
       "                    <tr>\n",
       "                        <th> Shape </th>\n",
       "                        <td> (64,) </td>\n",
       "                        <td> (64,) </td>\n",
       "                    </tr>\n",
       "                    <tr>\n",
       "                        <th> Dask graph </th>\n",
       "                        <td colspan=\"2\"> 1 chunks in 2 graph layers </td>\n",
       "                    </tr>\n",
       "                    <tr>\n",
       "                        <th> Data type </th>\n",
       "                        <td colspan=\"2\"> int32 numpy.ndarray </td>\n",
       "                    </tr>\n",
       "                </tbody>\n",
       "            </table>\n",
       "        </td>\n",
       "        <td>\n",
       "        <svg width=\"170\" height=\"77\" style=\"stroke:rgb(0,0,0);stroke-width:1\" >\n",
       "\n",
       "  <!-- Horizontal lines -->\n",
       "  <line x1=\"0\" y1=\"0\" x2=\"120\" y2=\"0\" style=\"stroke-width:2\" />\n",
       "  <line x1=\"0\" y1=\"27\" x2=\"120\" y2=\"27\" style=\"stroke-width:2\" />\n",
       "\n",
       "  <!-- Vertical lines -->\n",
       "  <line x1=\"0\" y1=\"0\" x2=\"0\" y2=\"27\" style=\"stroke-width:2\" />\n",
       "  <line x1=\"120\" y1=\"0\" x2=\"120\" y2=\"27\" style=\"stroke-width:2\" />\n",
       "\n",
       "  <!-- Colored Rectangle -->\n",
       "  <polygon points=\"0.0,0.0 120.0,0.0 120.0,27.675387197907465 0.0,27.675387197907465\" style=\"fill:#ECB172A0;stroke-width:0\"/>\n",
       "\n",
       "  <!-- Text -->\n",
       "  <text x=\"60.000000\" y=\"47.675387\" font-size=\"1.0rem\" font-weight=\"100\" text-anchor=\"middle\" >64</text>\n",
       "  <text x=\"140.000000\" y=\"13.837694\" font-size=\"1.0rem\" font-weight=\"100\" text-anchor=\"middle\" transform=\"rotate(0,140.000000,13.837694)\">1</text>\n",
       "</svg>\n",
       "        </td>\n",
       "    </tr>\n",
       "</table></div></li><li class='xr-var-item'><div class='xr-var-name'><span class='xr-has-index'>baseline_id</span></div><div class='xr-var-dims'>(baseline_id)</div><div class='xr-var-dtype'>int64</div><div class='xr-var-preview xr-preview'>0 1 2 3 4 5 6 ... 58 59 60 61 62 63</div><input id='attrs-780418f0-0da8-45fe-8637-5c643ba7b3a9' class='xr-var-attrs-in' type='checkbox' disabled><label for='attrs-780418f0-0da8-45fe-8637-5c643ba7b3a9' title='Show/Hide attributes'><svg class='icon xr-icon-file-text2'><use xlink:href='#icon-file-text2'></use></svg></label><input id='data-e3dac232-a501-4f57-b62e-cd5d0aa26db2' class='xr-var-data-in' type='checkbox'><label for='data-e3dac232-a501-4f57-b62e-cd5d0aa26db2' title='Show/Hide data repr'><svg class='icon xr-icon-database'><use xlink:href='#icon-database'></use></svg></label><div class='xr-var-attrs'><dl class='xr-attrs'></dl></div><div class='xr-var-data'><pre>array([ 0,  1,  2,  3,  4,  5,  6,  7,  8,  9, 10, 11, 12, 13, 14, 15, 16, 17,\n",
       "       18, 19, 20, 21, 22, 23, 24, 25, 26, 27, 28, 29, 30, 31, 32, 33, 34, 35,\n",
       "       36, 37, 38, 39, 40, 41, 42, 43, 44, 45, 46, 47, 48, 49, 50, 51, 52, 53,\n",
       "       54, 55, 56, 57, 58, 59, 60, 61, 62, 63])</pre></div></li><li class='xr-var-item'><div class='xr-var-name'><span class='xr-has-index'>frequency</span></div><div class='xr-var-dims'>(frequency)</div><div class='xr-var-dtype'>float64</div><div class='xr-var-preview xr-preview'>3.439e+11 3.439e+11 ... 3.44e+11</div><input id='attrs-c7d5108b-1181-4799-89f3-efae9e86cbe0' class='xr-var-attrs-in' type='checkbox' ><label for='attrs-c7d5108b-1181-4799-89f3-efae9e86cbe0' title='Show/Hide attributes'><svg class='icon xr-icon-file-text2'><use xlink:href='#icon-file-text2'></use></svg></label><input id='data-e596eada-91d0-4f90-8cdc-f2d45ab78927' class='xr-var-data-in' type='checkbox'><label for='data-e596eada-91d0-4f90-8cdc-f2d45ab78927' title='Show/Hide data repr'><svg class='icon xr-icon-database'><use xlink:href='#icon-database'></use></svg></label><div class='xr-var-attrs'><dl class='xr-attrs'><dt><span>channel_width :</span></dt><dd>{&#x27;attrs&#x27;: {&#x27;type&#x27;: &#x27;quantity&#x27;, &#x27;units&#x27;: [&#x27;Hz&#x27;]}, &#x27;data&#x27;: 11231488.981445312, &#x27;dims&#x27;: &#x27;&#x27;}</dd><dt><span>frame :</span></dt><dd>LSRK</dd><dt><span>reference_frequency :</span></dt><dd>{&#x27;attrs&#x27;: {&#x27;frame&#x27;: &#x27;LSRK&#x27;, &#x27;type&#x27;: &#x27;spectral_coord&#x27;, &#x27;units&#x27;: [&#x27;Hz&#x27;]}, &#x27;data&#x27;: 343928096685.9587, &#x27;dims&#x27;: &#x27;&#x27;}</dd><dt><span>spectral_window_name :</span></dt><dd></dd><dt><span>spw_id :</span></dt><dd>0</dd><dt><span>type :</span></dt><dd>spectral_coord</dd><dt><span>units :</span></dt><dd>[&#x27;Hz&#x27;]</dd></dl></div><div class='xr-var-data'><pre>array([3.439281e+11, 3.439393e+11, 3.439506e+11, 3.439618e+11, 3.439730e+11,\n",
       "       3.439843e+11, 3.439955e+11, 3.440067e+11])</pre></div></li><li class='xr-var-item'><div class='xr-var-name'><span class='xr-has-index'>polarization</span></div><div class='xr-var-dims'>(polarization)</div><div class='xr-var-dtype'>&lt;U2</div><div class='xr-var-preview xr-preview'>&#x27;XX&#x27; &#x27;YY&#x27;</div><input id='attrs-054a090c-c0a3-4965-b778-778468a2638f' class='xr-var-attrs-in' type='checkbox' disabled><label for='attrs-054a090c-c0a3-4965-b778-778468a2638f' title='Show/Hide attributes'><svg class='icon xr-icon-file-text2'><use xlink:href='#icon-file-text2'></use></svg></label><input id='data-d4ee1c9f-215c-4f41-a002-1237878fd51a' class='xr-var-data-in' type='checkbox'><label for='data-d4ee1c9f-215c-4f41-a002-1237878fd51a' title='Show/Hide data repr'><svg class='icon xr-icon-database'><use xlink:href='#icon-database'></use></svg></label><div class='xr-var-attrs'><dl class='xr-attrs'></dl></div><div class='xr-var-data'><pre>array([&#x27;XX&#x27;, &#x27;YY&#x27;], dtype=&#x27;&lt;U2&#x27;)</pre></div></li><li class='xr-var-item'><div class='xr-var-name'><span class='xr-has-index'>time</span></div><div class='xr-var-dims'>(time)</div><div class='xr-var-dtype'>float64</div><div class='xr-var-preview xr-preview'>1.307e+09 1.307e+09 ... 1.307e+09</div><input id='attrs-347d5c36-714c-417b-b2f6-636962b558da' class='xr-var-attrs-in' type='checkbox' ><label for='attrs-347d5c36-714c-417b-b2f6-636962b558da' title='Show/Hide attributes'><svg class='icon xr-icon-file-text2'><use xlink:href='#icon-file-text2'></use></svg></label><input id='data-e067732f-02b2-49f0-a890-ed7439e920c6' class='xr-var-data-in' type='checkbox'><label for='data-e067732f-02b2-49f0-a890-ed7439e920c6' title='Show/Hide data repr'><svg class='icon xr-icon-database'><use xlink:href='#icon-database'></use></svg></label><div class='xr-var-attrs'><dl class='xr-attrs'><dt><span>effective_integration_time :</span></dt><dd>EFFECTIVE_INTEGRATION_TIME</dd><dt><span>format :</span></dt><dd>unix</dd><dt><span>integration_time :</span></dt><dd>{&#x27;attrs&#x27;: {&#x27;type&#x27;: &#x27;quantity&#x27;, &#x27;units&#x27;: [&#x27;s&#x27;]}, &#x27;data&#x27;: 6.048, &#x27;dims&#x27;: &#x27;&#x27;}</dd><dt><span>scale :</span></dt><dd>UTC</dd><dt><span>type :</span></dt><dd>time</dd><dt><span>units :</span></dt><dd>[&#x27;s&#x27;]</dd></dl></div><div class='xr-var-data'><pre>array([1.306547e+09, 1.306547e+09, 1.306547e+09, 1.306547e+09, 1.306547e+09,\n",
       "       1.306549e+09, 1.306549e+09, 1.306549e+09, 1.306549e+09, 1.306549e+09,\n",
       "       1.306550e+09, 1.306550e+09, 1.306550e+09, 1.306550e+09, 1.306550e+09,\n",
       "       1.306551e+09, 1.306551e+09, 1.306551e+09, 1.306551e+09, 1.306551e+09,\n",
       "       1.307137e+09, 1.307137e+09, 1.307137e+09, 1.307137e+09, 1.307137e+09,\n",
       "       1.307138e+09, 1.307138e+09, 1.307138e+09, 1.307138e+09, 1.307138e+09,\n",
       "       1.307139e+09, 1.307139e+09, 1.307139e+09, 1.307139e+09, 1.307139e+09,\n",
       "       1.307140e+09, 1.307140e+09, 1.307140e+09, 1.307140e+09, 1.307140e+09,\n",
       "       1.307148e+09, 1.307148e+09, 1.307148e+09, 1.307148e+09, 1.307148e+09])</pre></div></li><li class='xr-var-item'><div class='xr-var-name'><span class='xr-has-index'>uvw_label</span></div><div class='xr-var-dims'>(uvw_label)</div><div class='xr-var-dtype'>&lt;U1</div><div class='xr-var-preview xr-preview'>&#x27;u&#x27; &#x27;v&#x27; &#x27;w&#x27;</div><input id='attrs-1975e9c3-f585-4ddd-bfb2-37a61c1eb0f4' class='xr-var-attrs-in' type='checkbox' disabled><label for='attrs-1975e9c3-f585-4ddd-bfb2-37a61c1eb0f4' title='Show/Hide attributes'><svg class='icon xr-icon-file-text2'><use xlink:href='#icon-file-text2'></use></svg></label><input id='data-8d500917-9a49-4c9e-9d12-99cf552e2bad' class='xr-var-data-in' type='checkbox'><label for='data-8d500917-9a49-4c9e-9d12-99cf552e2bad' title='Show/Hide data repr'><svg class='icon xr-icon-database'><use xlink:href='#icon-database'></use></svg></label><div class='xr-var-attrs'><dl class='xr-attrs'></dl></div><div class='xr-var-data'><pre>array([&#x27;u&#x27;, &#x27;v&#x27;, &#x27;w&#x27;], dtype=&#x27;&lt;U1&#x27;)</pre></div></li></ul></div></li><li class='xr-section-item'><input id='section-9ca6720b-2884-4ef8-a594-88a8f3fc22df' class='xr-section-summary-in' type='checkbox'  checked><label for='section-9ca6720b-2884-4ef8-a594-88a8f3fc22df' class='xr-section-summary' >Data variables: <span>(6)</span></label><div class='xr-section-inline-details'></div><div class='xr-section-details'><ul class='xr-var-list'><li class='xr-var-item'><div class='xr-var-name'><span>EFFECTIVE_INTEGRATION_TIME</span></div><div class='xr-var-dims'>(time, baseline_id)</div><div class='xr-var-dtype'>float64</div><div class='xr-var-preview xr-preview'>dask.array&lt;chunksize=(45, 64), meta=np.ndarray&gt;</div><input id='attrs-7d1c62e0-d1f3-4c31-ae41-dcf19b8a25fa' class='xr-var-attrs-in' type='checkbox' disabled><label for='attrs-7d1c62e0-d1f3-4c31-ae41-dcf19b8a25fa' title='Show/Hide attributes'><svg class='icon xr-icon-file-text2'><use xlink:href='#icon-file-text2'></use></svg></label><input id='data-b26a1158-9bb1-43d7-8e25-54beb4be4850' class='xr-var-data-in' type='checkbox'><label for='data-b26a1158-9bb1-43d7-8e25-54beb4be4850' title='Show/Hide data repr'><svg class='icon xr-icon-database'><use xlink:href='#icon-database'></use></svg></label><div class='xr-var-attrs'><dl class='xr-attrs'></dl></div><div class='xr-var-data'><table>\n",
       "    <tr>\n",
       "        <td>\n",
       "            <table style=\"border-collapse: collapse;\">\n",
       "                <thead>\n",
       "                    <tr>\n",
       "                        <td> </td>\n",
       "                        <th> Array </th>\n",
       "                        <th> Chunk </th>\n",
       "                    </tr>\n",
       "                </thead>\n",
       "                <tbody>\n",
       "                    \n",
       "                    <tr>\n",
       "                        <th> Bytes </th>\n",
       "                        <td> 22.50 kiB </td>\n",
       "                        <td> 22.50 kiB </td>\n",
       "                    </tr>\n",
       "                    \n",
       "                    <tr>\n",
       "                        <th> Shape </th>\n",
       "                        <td> (45, 64) </td>\n",
       "                        <td> (45, 64) </td>\n",
       "                    </tr>\n",
       "                    <tr>\n",
       "                        <th> Dask graph </th>\n",
       "                        <td colspan=\"2\"> 1 chunks in 2 graph layers </td>\n",
       "                    </tr>\n",
       "                    <tr>\n",
       "                        <th> Data type </th>\n",
       "                        <td colspan=\"2\"> float64 numpy.ndarray </td>\n",
       "                    </tr>\n",
       "                </tbody>\n",
       "            </table>\n",
       "        </td>\n",
       "        <td>\n",
       "        <svg width=\"170\" height=\"134\" style=\"stroke:rgb(0,0,0);stroke-width:1\" >\n",
       "\n",
       "  <!-- Horizontal lines -->\n",
       "  <line x1=\"0\" y1=\"0\" x2=\"120\" y2=\"0\" style=\"stroke-width:2\" />\n",
       "  <line x1=\"0\" y1=\"84\" x2=\"120\" y2=\"84\" style=\"stroke-width:2\" />\n",
       "\n",
       "  <!-- Vertical lines -->\n",
       "  <line x1=\"0\" y1=\"0\" x2=\"0\" y2=\"84\" style=\"stroke-width:2\" />\n",
       "  <line x1=\"120\" y1=\"0\" x2=\"120\" y2=\"84\" style=\"stroke-width:2\" />\n",
       "\n",
       "  <!-- Colored Rectangle -->\n",
       "  <polygon points=\"0.0,0.0 120.0,0.0 120.0,84.375 0.0,84.375\" style=\"fill:#ECB172A0;stroke-width:0\"/>\n",
       "\n",
       "  <!-- Text -->\n",
       "  <text x=\"60.000000\" y=\"104.375000\" font-size=\"1.0rem\" font-weight=\"100\" text-anchor=\"middle\" >64</text>\n",
       "  <text x=\"140.000000\" y=\"42.187500\" font-size=\"1.0rem\" font-weight=\"100\" text-anchor=\"middle\" transform=\"rotate(0,140.000000,42.187500)\">45</text>\n",
       "</svg>\n",
       "        </td>\n",
       "    </tr>\n",
       "</table></div></li><li class='xr-var-item'><div class='xr-var-name'><span>FLAG</span></div><div class='xr-var-dims'>(time, baseline_id, frequency, polarization)</div><div class='xr-var-dtype'>bool</div><div class='xr-var-preview xr-preview'>dask.array&lt;chunksize=(45, 64, 3, 2), meta=np.ndarray&gt;</div><input id='attrs-86ff713f-8a5b-4113-8a44-f8ede5030747' class='xr-var-attrs-in' type='checkbox' disabled><label for='attrs-86ff713f-8a5b-4113-8a44-f8ede5030747' title='Show/Hide attributes'><svg class='icon xr-icon-file-text2'><use xlink:href='#icon-file-text2'></use></svg></label><input id='data-a280b58d-b021-4209-8c7a-63c62201a06e' class='xr-var-data-in' type='checkbox'><label for='data-a280b58d-b021-4209-8c7a-63c62201a06e' title='Show/Hide data repr'><svg class='icon xr-icon-database'><use xlink:href='#icon-database'></use></svg></label><div class='xr-var-attrs'><dl class='xr-attrs'></dl></div><div class='xr-var-data'><table>\n",
       "    <tr>\n",
       "        <td>\n",
       "            <table style=\"border-collapse: collapse;\">\n",
       "                <thead>\n",
       "                    <tr>\n",
       "                        <td> </td>\n",
       "                        <th> Array </th>\n",
       "                        <th> Chunk </th>\n",
       "                    </tr>\n",
       "                </thead>\n",
       "                <tbody>\n",
       "                    \n",
       "                    <tr>\n",
       "                        <th> Bytes </th>\n",
       "                        <td> 45.00 kiB </td>\n",
       "                        <td> 16.88 kiB </td>\n",
       "                    </tr>\n",
       "                    \n",
       "                    <tr>\n",
       "                        <th> Shape </th>\n",
       "                        <td> (45, 64, 8, 2) </td>\n",
       "                        <td> (45, 64, 3, 2) </td>\n",
       "                    </tr>\n",
       "                    <tr>\n",
       "                        <th> Dask graph </th>\n",
       "                        <td colspan=\"2\"> 3 chunks in 2 graph layers </td>\n",
       "                    </tr>\n",
       "                    <tr>\n",
       "                        <th> Data type </th>\n",
       "                        <td colspan=\"2\"> bool numpy.ndarray </td>\n",
       "                    </tr>\n",
       "                </tbody>\n",
       "            </table>\n",
       "        </td>\n",
       "        <td>\n",
       "        <svg width=\"460\" height=\"160\" style=\"stroke:rgb(0,0,0);stroke-width:1\" >\n",
       "\n",
       "  <!-- Horizontal lines -->\n",
       "  <line x1=\"0\" y1=\"0\" x2=\"84\" y2=\"0\" style=\"stroke-width:2\" />\n",
       "  <line x1=\"0\" y1=\"27\" x2=\"84\" y2=\"27\" style=\"stroke-width:2\" />\n",
       "\n",
       "  <!-- Vertical lines -->\n",
       "  <line x1=\"0\" y1=\"0\" x2=\"0\" y2=\"27\" style=\"stroke-width:2\" />\n",
       "  <line x1=\"84\" y1=\"0\" x2=\"84\" y2=\"27\" style=\"stroke-width:2\" />\n",
       "\n",
       "  <!-- Colored Rectangle -->\n",
       "  <polygon points=\"0.0,0.0 84.375,0.0 84.375,27.675387197907465 0.0,27.675387197907465\" style=\"fill:#ECB172A0;stroke-width:0\"/>\n",
       "\n",
       "  <!-- Text -->\n",
       "  <text x=\"42.187500\" y=\"47.675387\" font-size=\"1.0rem\" font-weight=\"100\" text-anchor=\"middle\" >45</text>\n",
       "  <text x=\"104.375000\" y=\"13.837694\" font-size=\"1.0rem\" font-weight=\"100\" text-anchor=\"middle\" transform=\"rotate(0,104.375000,13.837694)\">1</text>\n",
       "\n",
       "\n",
       "  <!-- Horizontal lines -->\n",
       "  <line x1=\"154\" y1=\"0\" x2=\"224\" y2=\"70\" style=\"stroke-width:2\" />\n",
       "  <line x1=\"154\" y1=\"14\" x2=\"224\" y2=\"85\" />\n",
       "  <line x1=\"154\" y1=\"29\" x2=\"224\" y2=\"100\" />\n",
       "  <line x1=\"154\" y1=\"39\" x2=\"224\" y2=\"110\" style=\"stroke-width:2\" />\n",
       "\n",
       "  <!-- Vertical lines -->\n",
       "  <line x1=\"154\" y1=\"0\" x2=\"154\" y2=\"39\" style=\"stroke-width:2\" />\n",
       "  <line x1=\"224\" y1=\"70\" x2=\"224\" y2=\"110\" style=\"stroke-width:2\" />\n",
       "\n",
       "  <!-- Colored Rectangle -->\n",
       "  <polygon points=\"154.0,0.0 224.58823529411765,70.58823529411765 224.58823529411765,110.38217034894603 154.0,39.793935054828374\" style=\"fill:#ECB172A0;stroke-width:0\"/>\n",
       "\n",
       "  <!-- Horizontal lines -->\n",
       "  <line x1=\"154\" y1=\"0\" x2=\"185\" y2=\"0\" style=\"stroke-width:2\" />\n",
       "  <line x1=\"224\" y1=\"70\" x2=\"256\" y2=\"70\" style=\"stroke-width:2\" />\n",
       "\n",
       "  <!-- Vertical lines -->\n",
       "  <line x1=\"154\" y1=\"0\" x2=\"224\" y2=\"70\" style=\"stroke-width:2\" />\n",
       "  <line x1=\"185\" y1=\"0\" x2=\"256\" y2=\"70\" style=\"stroke-width:2\" />\n",
       "\n",
       "  <!-- Colored Rectangle -->\n",
       "  <polygon points=\"154.0,0.0 185.63522919310267,0.0 256.2234644872203,70.58823529411765 224.58823529411765,70.58823529411765\" style=\"fill:#ECB172A0;stroke-width:0\"/>\n",
       "\n",
       "  <!-- Horizontal lines -->\n",
       "  <line x1=\"224\" y1=\"70\" x2=\"256\" y2=\"70\" style=\"stroke-width:2\" />\n",
       "  <line x1=\"224\" y1=\"85\" x2=\"256\" y2=\"85\" />\n",
       "  <line x1=\"224\" y1=\"100\" x2=\"256\" y2=\"100\" />\n",
       "  <line x1=\"224\" y1=\"110\" x2=\"256\" y2=\"110\" style=\"stroke-width:2\" />\n",
       "\n",
       "  <!-- Vertical lines -->\n",
       "  <line x1=\"224\" y1=\"70\" x2=\"224\" y2=\"110\" style=\"stroke-width:2\" />\n",
       "  <line x1=\"256\" y1=\"70\" x2=\"256\" y2=\"110\" style=\"stroke-width:2\" />\n",
       "\n",
       "  <!-- Colored Rectangle -->\n",
       "  <polygon points=\"224.58823529411765,70.58823529411765 256.2234644872203,70.58823529411765 256.2234644872203,110.38217034894603 224.58823529411765,110.38217034894603\" style=\"fill:#ECB172A0;stroke-width:0\"/>\n",
       "\n",
       "  <!-- Text -->\n",
       "  <text x=\"240.405850\" y=\"130.382170\" font-size=\"1.0rem\" font-weight=\"100\" text-anchor=\"middle\" >2</text>\n",
       "  <text x=\"276.223464\" y=\"90.485203\" font-size=\"1.0rem\" font-weight=\"100\" text-anchor=\"middle\" transform=\"rotate(0,276.223464,90.485203)\">8</text>\n",
       "  <text x=\"179.294118\" y=\"95.088053\" font-size=\"1.0rem\" font-weight=\"100\" text-anchor=\"middle\" transform=\"rotate(45,179.294118,95.088053)\">64</text>\n",
       "</svg>\n",
       "        </td>\n",
       "    </tr>\n",
       "</table></div></li><li class='xr-var-item'><div class='xr-var-name'><span>TIME_CENTROID</span></div><div class='xr-var-dims'>(time, baseline_id)</div><div class='xr-var-dtype'>float64</div><div class='xr-var-preview xr-preview'>dask.array&lt;chunksize=(45, 64), meta=np.ndarray&gt;</div><input id='attrs-97f5b611-07fb-468f-b1cc-338f56fd6221' class='xr-var-attrs-in' type='checkbox' ><label for='attrs-97f5b611-07fb-468f-b1cc-338f56fd6221' title='Show/Hide attributes'><svg class='icon xr-icon-file-text2'><use xlink:href='#icon-file-text2'></use></svg></label><input id='data-8e234bbb-fc8b-407b-893d-e01fcd11a6b8' class='xr-var-data-in' type='checkbox'><label for='data-8e234bbb-fc8b-407b-893d-e01fcd11a6b8' title='Show/Hide data repr'><svg class='icon xr-icon-database'><use xlink:href='#icon-database'></use></svg></label><div class='xr-var-attrs'><dl class='xr-attrs'><dt><span>format :</span></dt><dd>unix</dd><dt><span>scale :</span></dt><dd>UTC</dd><dt><span>type :</span></dt><dd>time</dd><dt><span>units :</span></dt><dd>[&#x27;s&#x27;]</dd></dl></div><div class='xr-var-data'><table>\n",
       "    <tr>\n",
       "        <td>\n",
       "            <table style=\"border-collapse: collapse;\">\n",
       "                <thead>\n",
       "                    <tr>\n",
       "                        <td> </td>\n",
       "                        <th> Array </th>\n",
       "                        <th> Chunk </th>\n",
       "                    </tr>\n",
       "                </thead>\n",
       "                <tbody>\n",
       "                    \n",
       "                    <tr>\n",
       "                        <th> Bytes </th>\n",
       "                        <td> 22.50 kiB </td>\n",
       "                        <td> 22.50 kiB </td>\n",
       "                    </tr>\n",
       "                    \n",
       "                    <tr>\n",
       "                        <th> Shape </th>\n",
       "                        <td> (45, 64) </td>\n",
       "                        <td> (45, 64) </td>\n",
       "                    </tr>\n",
       "                    <tr>\n",
       "                        <th> Dask graph </th>\n",
       "                        <td colspan=\"2\"> 1 chunks in 2 graph layers </td>\n",
       "                    </tr>\n",
       "                    <tr>\n",
       "                        <th> Data type </th>\n",
       "                        <td colspan=\"2\"> float64 numpy.ndarray </td>\n",
       "                    </tr>\n",
       "                </tbody>\n",
       "            </table>\n",
       "        </td>\n",
       "        <td>\n",
       "        <svg width=\"170\" height=\"134\" style=\"stroke:rgb(0,0,0);stroke-width:1\" >\n",
       "\n",
       "  <!-- Horizontal lines -->\n",
       "  <line x1=\"0\" y1=\"0\" x2=\"120\" y2=\"0\" style=\"stroke-width:2\" />\n",
       "  <line x1=\"0\" y1=\"84\" x2=\"120\" y2=\"84\" style=\"stroke-width:2\" />\n",
       "\n",
       "  <!-- Vertical lines -->\n",
       "  <line x1=\"0\" y1=\"0\" x2=\"0\" y2=\"84\" style=\"stroke-width:2\" />\n",
       "  <line x1=\"120\" y1=\"0\" x2=\"120\" y2=\"84\" style=\"stroke-width:2\" />\n",
       "\n",
       "  <!-- Colored Rectangle -->\n",
       "  <polygon points=\"0.0,0.0 120.0,0.0 120.0,84.375 0.0,84.375\" style=\"fill:#ECB172A0;stroke-width:0\"/>\n",
       "\n",
       "  <!-- Text -->\n",
       "  <text x=\"60.000000\" y=\"104.375000\" font-size=\"1.0rem\" font-weight=\"100\" text-anchor=\"middle\" >64</text>\n",
       "  <text x=\"140.000000\" y=\"42.187500\" font-size=\"1.0rem\" font-weight=\"100\" text-anchor=\"middle\" transform=\"rotate(0,140.000000,42.187500)\">45</text>\n",
       "</svg>\n",
       "        </td>\n",
       "    </tr>\n",
       "</table></div></li><li class='xr-var-item'><div class='xr-var-name'><span>UVW</span></div><div class='xr-var-dims'>(time, baseline_id, uvw_label)</div><div class='xr-var-dtype'>float64</div><div class='xr-var-preview xr-preview'>dask.array&lt;chunksize=(45, 64, 3), meta=np.ndarray&gt;</div><input id='attrs-36937251-2728-4212-a074-36e27172bc7f' class='xr-var-attrs-in' type='checkbox' ><label for='attrs-36937251-2728-4212-a074-36e27172bc7f' title='Show/Hide attributes'><svg class='icon xr-icon-file-text2'><use xlink:href='#icon-file-text2'></use></svg></label><input id='data-5d7c9975-1c99-4f1a-afe4-bae9ba4e616a' class='xr-var-data-in' type='checkbox'><label for='data-5d7c9975-1c99-4f1a-afe4-bae9ba4e616a' title='Show/Hide data repr'><svg class='icon xr-icon-database'><use xlink:href='#icon-database'></use></svg></label><div class='xr-var-attrs'><dl class='xr-attrs'><dt><span>frame :</span></dt><dd>FK5</dd><dt><span>type :</span></dt><dd>uvw</dd><dt><span>units :</span></dt><dd>[&#x27;m&#x27;, &#x27;m&#x27;, &#x27;m&#x27;]</dd></dl></div><div class='xr-var-data'><table>\n",
       "    <tr>\n",
       "        <td>\n",
       "            <table style=\"border-collapse: collapse;\">\n",
       "                <thead>\n",
       "                    <tr>\n",
       "                        <td> </td>\n",
       "                        <th> Array </th>\n",
       "                        <th> Chunk </th>\n",
       "                    </tr>\n",
       "                </thead>\n",
       "                <tbody>\n",
       "                    \n",
       "                    <tr>\n",
       "                        <th> Bytes </th>\n",
       "                        <td> 67.50 kiB </td>\n",
       "                        <td> 67.50 kiB </td>\n",
       "                    </tr>\n",
       "                    \n",
       "                    <tr>\n",
       "                        <th> Shape </th>\n",
       "                        <td> (45, 64, 3) </td>\n",
       "                        <td> (45, 64, 3) </td>\n",
       "                    </tr>\n",
       "                    <tr>\n",
       "                        <th> Dask graph </th>\n",
       "                        <td colspan=\"2\"> 1 chunks in 2 graph layers </td>\n",
       "                    </tr>\n",
       "                    <tr>\n",
       "                        <th> Data type </th>\n",
       "                        <td colspan=\"2\"> float64 numpy.ndarray </td>\n",
       "                    </tr>\n",
       "                </tbody>\n",
       "            </table>\n",
       "        </td>\n",
       "        <td>\n",
       "        <svg width=\"143\" height=\"219\" style=\"stroke:rgb(0,0,0);stroke-width:1\" >\n",
       "\n",
       "  <!-- Horizontal lines -->\n",
       "  <line x1=\"10\" y1=\"0\" x2=\"59\" y2=\"49\" style=\"stroke-width:2\" />\n",
       "  <line x1=\"10\" y1=\"120\" x2=\"59\" y2=\"169\" style=\"stroke-width:2\" />\n",
       "\n",
       "  <!-- Vertical lines -->\n",
       "  <line x1=\"10\" y1=\"0\" x2=\"10\" y2=\"120\" style=\"stroke-width:2\" />\n",
       "  <line x1=\"59\" y1=\"49\" x2=\"59\" y2=\"169\" style=\"stroke-width:2\" />\n",
       "\n",
       "  <!-- Colored Rectangle -->\n",
       "  <polygon points=\"10.0,0.0 59.63235294117647,49.63235294117647 59.63235294117647,169.63235294117646 10.0,120.0\" style=\"fill:#ECB172A0;stroke-width:0\"/>\n",
       "\n",
       "  <!-- Horizontal lines -->\n",
       "  <line x1=\"10\" y1=\"0\" x2=\"44\" y2=\"0\" style=\"stroke-width:2\" />\n",
       "  <line x1=\"59\" y1=\"49\" x2=\"93\" y2=\"49\" style=\"stroke-width:2\" />\n",
       "\n",
       "  <!-- Vertical lines -->\n",
       "  <line x1=\"10\" y1=\"0\" x2=\"59\" y2=\"49\" style=\"stroke-width:2\" />\n",
       "  <line x1=\"44\" y1=\"0\" x2=\"93\" y2=\"49\" style=\"stroke-width:2\" />\n",
       "\n",
       "  <!-- Colored Rectangle -->\n",
       "  <polygon points=\"10.0,0.0 44.10557382700207,0.0 93.73792676817854,49.63235294117647 59.63235294117647,49.63235294117647\" style=\"fill:#ECB172A0;stroke-width:0\"/>\n",
       "\n",
       "  <!-- Horizontal lines -->\n",
       "  <line x1=\"59\" y1=\"49\" x2=\"93\" y2=\"49\" style=\"stroke-width:2\" />\n",
       "  <line x1=\"59\" y1=\"169\" x2=\"93\" y2=\"169\" style=\"stroke-width:2\" />\n",
       "\n",
       "  <!-- Vertical lines -->\n",
       "  <line x1=\"59\" y1=\"49\" x2=\"59\" y2=\"169\" style=\"stroke-width:2\" />\n",
       "  <line x1=\"93\" y1=\"49\" x2=\"93\" y2=\"169\" style=\"stroke-width:2\" />\n",
       "\n",
       "  <!-- Colored Rectangle -->\n",
       "  <polygon points=\"59.63235294117647,49.63235294117647 93.73792676817854,49.63235294117647 93.73792676817854,169.63235294117646 59.63235294117647,169.63235294117646\" style=\"fill:#ECB172A0;stroke-width:0\"/>\n",
       "\n",
       "  <!-- Text -->\n",
       "  <text x=\"76.685140\" y=\"189.632353\" font-size=\"1.0rem\" font-weight=\"100\" text-anchor=\"middle\" >3</text>\n",
       "  <text x=\"113.737927\" y=\"109.632353\" font-size=\"1.0rem\" font-weight=\"100\" text-anchor=\"middle\" transform=\"rotate(0,113.737927,109.632353)\">64</text>\n",
       "  <text x=\"24.816176\" y=\"164.816176\" font-size=\"1.0rem\" font-weight=\"100\" text-anchor=\"middle\" transform=\"rotate(45,24.816176,164.816176)\">45</text>\n",
       "</svg>\n",
       "        </td>\n",
       "    </tr>\n",
       "</table></div></li><li class='xr-var-item'><div class='xr-var-name'><span>VISIBILITY</span></div><div class='xr-var-dims'>(time, baseline_id, frequency, polarization)</div><div class='xr-var-dtype'>complex64</div><div class='xr-var-preview xr-preview'>dask.array&lt;chunksize=(45, 64, 3, 2), meta=np.ndarray&gt;</div><input id='attrs-856e6fd5-6863-4897-a6e9-f856e03bc305' class='xr-var-attrs-in' type='checkbox' ><label for='attrs-856e6fd5-6863-4897-a6e9-f856e03bc305' title='Show/Hide attributes'><svg class='icon xr-icon-file-text2'><use xlink:href='#icon-file-text2'></use></svg></label><input id='data-29f39df1-caa2-435f-b7c5-347338a22429' class='xr-var-data-in' type='checkbox'><label for='data-29f39df1-caa2-435f-b7c5-347338a22429' title='Show/Hide data repr'><svg class='icon xr-icon-database'><use xlink:href='#icon-database'></use></svg></label><div class='xr-var-attrs'><dl class='xr-attrs'><dt><span>type :</span></dt><dd>quanta</dd><dt><span>units :</span></dt><dd>[&#x27;unkown&#x27;]</dd></dl></div><div class='xr-var-data'><table>\n",
       "    <tr>\n",
       "        <td>\n",
       "            <table style=\"border-collapse: collapse;\">\n",
       "                <thead>\n",
       "                    <tr>\n",
       "                        <td> </td>\n",
       "                        <th> Array </th>\n",
       "                        <th> Chunk </th>\n",
       "                    </tr>\n",
       "                </thead>\n",
       "                <tbody>\n",
       "                    \n",
       "                    <tr>\n",
       "                        <th> Bytes </th>\n",
       "                        <td> 360.00 kiB </td>\n",
       "                        <td> 135.00 kiB </td>\n",
       "                    </tr>\n",
       "                    \n",
       "                    <tr>\n",
       "                        <th> Shape </th>\n",
       "                        <td> (45, 64, 8, 2) </td>\n",
       "                        <td> (45, 64, 3, 2) </td>\n",
       "                    </tr>\n",
       "                    <tr>\n",
       "                        <th> Dask graph </th>\n",
       "                        <td colspan=\"2\"> 3 chunks in 2 graph layers </td>\n",
       "                    </tr>\n",
       "                    <tr>\n",
       "                        <th> Data type </th>\n",
       "                        <td colspan=\"2\"> complex64 numpy.ndarray </td>\n",
       "                    </tr>\n",
       "                </tbody>\n",
       "            </table>\n",
       "        </td>\n",
       "        <td>\n",
       "        <svg width=\"460\" height=\"160\" style=\"stroke:rgb(0,0,0);stroke-width:1\" >\n",
       "\n",
       "  <!-- Horizontal lines -->\n",
       "  <line x1=\"0\" y1=\"0\" x2=\"84\" y2=\"0\" style=\"stroke-width:2\" />\n",
       "  <line x1=\"0\" y1=\"27\" x2=\"84\" y2=\"27\" style=\"stroke-width:2\" />\n",
       "\n",
       "  <!-- Vertical lines -->\n",
       "  <line x1=\"0\" y1=\"0\" x2=\"0\" y2=\"27\" style=\"stroke-width:2\" />\n",
       "  <line x1=\"84\" y1=\"0\" x2=\"84\" y2=\"27\" style=\"stroke-width:2\" />\n",
       "\n",
       "  <!-- Colored Rectangle -->\n",
       "  <polygon points=\"0.0,0.0 84.375,0.0 84.375,27.675387197907465 0.0,27.675387197907465\" style=\"fill:#ECB172A0;stroke-width:0\"/>\n",
       "\n",
       "  <!-- Text -->\n",
       "  <text x=\"42.187500\" y=\"47.675387\" font-size=\"1.0rem\" font-weight=\"100\" text-anchor=\"middle\" >45</text>\n",
       "  <text x=\"104.375000\" y=\"13.837694\" font-size=\"1.0rem\" font-weight=\"100\" text-anchor=\"middle\" transform=\"rotate(0,104.375000,13.837694)\">1</text>\n",
       "\n",
       "\n",
       "  <!-- Horizontal lines -->\n",
       "  <line x1=\"154\" y1=\"0\" x2=\"224\" y2=\"70\" style=\"stroke-width:2\" />\n",
       "  <line x1=\"154\" y1=\"14\" x2=\"224\" y2=\"85\" />\n",
       "  <line x1=\"154\" y1=\"29\" x2=\"224\" y2=\"100\" />\n",
       "  <line x1=\"154\" y1=\"39\" x2=\"224\" y2=\"110\" style=\"stroke-width:2\" />\n",
       "\n",
       "  <!-- Vertical lines -->\n",
       "  <line x1=\"154\" y1=\"0\" x2=\"154\" y2=\"39\" style=\"stroke-width:2\" />\n",
       "  <line x1=\"224\" y1=\"70\" x2=\"224\" y2=\"110\" style=\"stroke-width:2\" />\n",
       "\n",
       "  <!-- Colored Rectangle -->\n",
       "  <polygon points=\"154.0,0.0 224.58823529411765,70.58823529411765 224.58823529411765,110.38217034894603 154.0,39.793935054828374\" style=\"fill:#ECB172A0;stroke-width:0\"/>\n",
       "\n",
       "  <!-- Horizontal lines -->\n",
       "  <line x1=\"154\" y1=\"0\" x2=\"185\" y2=\"0\" style=\"stroke-width:2\" />\n",
       "  <line x1=\"224\" y1=\"70\" x2=\"256\" y2=\"70\" style=\"stroke-width:2\" />\n",
       "\n",
       "  <!-- Vertical lines -->\n",
       "  <line x1=\"154\" y1=\"0\" x2=\"224\" y2=\"70\" style=\"stroke-width:2\" />\n",
       "  <line x1=\"185\" y1=\"0\" x2=\"256\" y2=\"70\" style=\"stroke-width:2\" />\n",
       "\n",
       "  <!-- Colored Rectangle -->\n",
       "  <polygon points=\"154.0,0.0 185.63522919310267,0.0 256.2234644872203,70.58823529411765 224.58823529411765,70.58823529411765\" style=\"fill:#ECB172A0;stroke-width:0\"/>\n",
       "\n",
       "  <!-- Horizontal lines -->\n",
       "  <line x1=\"224\" y1=\"70\" x2=\"256\" y2=\"70\" style=\"stroke-width:2\" />\n",
       "  <line x1=\"224\" y1=\"85\" x2=\"256\" y2=\"85\" />\n",
       "  <line x1=\"224\" y1=\"100\" x2=\"256\" y2=\"100\" />\n",
       "  <line x1=\"224\" y1=\"110\" x2=\"256\" y2=\"110\" style=\"stroke-width:2\" />\n",
       "\n",
       "  <!-- Vertical lines -->\n",
       "  <line x1=\"224\" y1=\"70\" x2=\"224\" y2=\"110\" style=\"stroke-width:2\" />\n",
       "  <line x1=\"256\" y1=\"70\" x2=\"256\" y2=\"110\" style=\"stroke-width:2\" />\n",
       "\n",
       "  <!-- Colored Rectangle -->\n",
       "  <polygon points=\"224.58823529411765,70.58823529411765 256.2234644872203,70.58823529411765 256.2234644872203,110.38217034894603 224.58823529411765,110.38217034894603\" style=\"fill:#ECB172A0;stroke-width:0\"/>\n",
       "\n",
       "  <!-- Text -->\n",
       "  <text x=\"240.405850\" y=\"130.382170\" font-size=\"1.0rem\" font-weight=\"100\" text-anchor=\"middle\" >2</text>\n",
       "  <text x=\"276.223464\" y=\"90.485203\" font-size=\"1.0rem\" font-weight=\"100\" text-anchor=\"middle\" transform=\"rotate(0,276.223464,90.485203)\">8</text>\n",
       "  <text x=\"179.294118\" y=\"95.088053\" font-size=\"1.0rem\" font-weight=\"100\" text-anchor=\"middle\" transform=\"rotate(45,179.294118,95.088053)\">64</text>\n",
       "</svg>\n",
       "        </td>\n",
       "    </tr>\n",
       "</table></div></li><li class='xr-var-item'><div class='xr-var-name'><span>WEIGHT</span></div><div class='xr-var-dims'>(time, baseline_id, frequency, polarization)</div><div class='xr-var-dtype'>float32</div><div class='xr-var-preview xr-preview'>dask.array&lt;chunksize=(45, 64, 3, 2), meta=np.ndarray&gt;</div><input id='attrs-bcd5f4b1-416a-402a-bf62-e829f2a41851' class='xr-var-attrs-in' type='checkbox' ><label for='attrs-bcd5f4b1-416a-402a-bf62-e829f2a41851' title='Show/Hide attributes'><svg class='icon xr-icon-file-text2'><use xlink:href='#icon-file-text2'></use></svg></label><input id='data-a38f5d3d-e18b-4c87-a48e-d892852540aa' class='xr-var-data-in' type='checkbox'><label for='data-a38f5d3d-e18b-4c87-a48e-d892852540aa' title='Show/Hide data repr'><svg class='icon xr-icon-database'><use xlink:href='#icon-database'></use></svg></label><div class='xr-var-attrs'><dl class='xr-attrs'><dt><span>type :</span></dt><dd>quanta</dd><dt><span>units :</span></dt><dd>[&#x27;unkown&#x27;]</dd></dl></div><div class='xr-var-data'><table>\n",
       "    <tr>\n",
       "        <td>\n",
       "            <table style=\"border-collapse: collapse;\">\n",
       "                <thead>\n",
       "                    <tr>\n",
       "                        <td> </td>\n",
       "                        <th> Array </th>\n",
       "                        <th> Chunk </th>\n",
       "                    </tr>\n",
       "                </thead>\n",
       "                <tbody>\n",
       "                    \n",
       "                    <tr>\n",
       "                        <th> Bytes </th>\n",
       "                        <td> 180.00 kiB </td>\n",
       "                        <td> 67.50 kiB </td>\n",
       "                    </tr>\n",
       "                    \n",
       "                    <tr>\n",
       "                        <th> Shape </th>\n",
       "                        <td> (45, 64, 8, 2) </td>\n",
       "                        <td> (45, 64, 3, 2) </td>\n",
       "                    </tr>\n",
       "                    <tr>\n",
       "                        <th> Dask graph </th>\n",
       "                        <td colspan=\"2\"> 3 chunks in 2 graph layers </td>\n",
       "                    </tr>\n",
       "                    <tr>\n",
       "                        <th> Data type </th>\n",
       "                        <td colspan=\"2\"> float32 numpy.ndarray </td>\n",
       "                    </tr>\n",
       "                </tbody>\n",
       "            </table>\n",
       "        </td>\n",
       "        <td>\n",
       "        <svg width=\"460\" height=\"160\" style=\"stroke:rgb(0,0,0);stroke-width:1\" >\n",
       "\n",
       "  <!-- Horizontal lines -->\n",
       "  <line x1=\"0\" y1=\"0\" x2=\"84\" y2=\"0\" style=\"stroke-width:2\" />\n",
       "  <line x1=\"0\" y1=\"27\" x2=\"84\" y2=\"27\" style=\"stroke-width:2\" />\n",
       "\n",
       "  <!-- Vertical lines -->\n",
       "  <line x1=\"0\" y1=\"0\" x2=\"0\" y2=\"27\" style=\"stroke-width:2\" />\n",
       "  <line x1=\"84\" y1=\"0\" x2=\"84\" y2=\"27\" style=\"stroke-width:2\" />\n",
       "\n",
       "  <!-- Colored Rectangle -->\n",
       "  <polygon points=\"0.0,0.0 84.375,0.0 84.375,27.675387197907465 0.0,27.675387197907465\" style=\"fill:#ECB172A0;stroke-width:0\"/>\n",
       "\n",
       "  <!-- Text -->\n",
       "  <text x=\"42.187500\" y=\"47.675387\" font-size=\"1.0rem\" font-weight=\"100\" text-anchor=\"middle\" >45</text>\n",
       "  <text x=\"104.375000\" y=\"13.837694\" font-size=\"1.0rem\" font-weight=\"100\" text-anchor=\"middle\" transform=\"rotate(0,104.375000,13.837694)\">1</text>\n",
       "\n",
       "\n",
       "  <!-- Horizontal lines -->\n",
       "  <line x1=\"154\" y1=\"0\" x2=\"224\" y2=\"70\" style=\"stroke-width:2\" />\n",
       "  <line x1=\"154\" y1=\"14\" x2=\"224\" y2=\"85\" />\n",
       "  <line x1=\"154\" y1=\"29\" x2=\"224\" y2=\"100\" />\n",
       "  <line x1=\"154\" y1=\"39\" x2=\"224\" y2=\"110\" style=\"stroke-width:2\" />\n",
       "\n",
       "  <!-- Vertical lines -->\n",
       "  <line x1=\"154\" y1=\"0\" x2=\"154\" y2=\"39\" style=\"stroke-width:2\" />\n",
       "  <line x1=\"224\" y1=\"70\" x2=\"224\" y2=\"110\" style=\"stroke-width:2\" />\n",
       "\n",
       "  <!-- Colored Rectangle -->\n",
       "  <polygon points=\"154.0,0.0 224.58823529411765,70.58823529411765 224.58823529411765,110.38217034894603 154.0,39.793935054828374\" style=\"fill:#ECB172A0;stroke-width:0\"/>\n",
       "\n",
       "  <!-- Horizontal lines -->\n",
       "  <line x1=\"154\" y1=\"0\" x2=\"185\" y2=\"0\" style=\"stroke-width:2\" />\n",
       "  <line x1=\"224\" y1=\"70\" x2=\"256\" y2=\"70\" style=\"stroke-width:2\" />\n",
       "\n",
       "  <!-- Vertical lines -->\n",
       "  <line x1=\"154\" y1=\"0\" x2=\"224\" y2=\"70\" style=\"stroke-width:2\" />\n",
       "  <line x1=\"185\" y1=\"0\" x2=\"256\" y2=\"70\" style=\"stroke-width:2\" />\n",
       "\n",
       "  <!-- Colored Rectangle -->\n",
       "  <polygon points=\"154.0,0.0 185.63522919310267,0.0 256.2234644872203,70.58823529411765 224.58823529411765,70.58823529411765\" style=\"fill:#ECB172A0;stroke-width:0\"/>\n",
       "\n",
       "  <!-- Horizontal lines -->\n",
       "  <line x1=\"224\" y1=\"70\" x2=\"256\" y2=\"70\" style=\"stroke-width:2\" />\n",
       "  <line x1=\"224\" y1=\"85\" x2=\"256\" y2=\"85\" />\n",
       "  <line x1=\"224\" y1=\"100\" x2=\"256\" y2=\"100\" />\n",
       "  <line x1=\"224\" y1=\"110\" x2=\"256\" y2=\"110\" style=\"stroke-width:2\" />\n",
       "\n",
       "  <!-- Vertical lines -->\n",
       "  <line x1=\"224\" y1=\"70\" x2=\"224\" y2=\"110\" style=\"stroke-width:2\" />\n",
       "  <line x1=\"256\" y1=\"70\" x2=\"256\" y2=\"110\" style=\"stroke-width:2\" />\n",
       "\n",
       "  <!-- Colored Rectangle -->\n",
       "  <polygon points=\"224.58823529411765,70.58823529411765 256.2234644872203,70.58823529411765 256.2234644872203,110.38217034894603 224.58823529411765,110.38217034894603\" style=\"fill:#ECB172A0;stroke-width:0\"/>\n",
       "\n",
       "  <!-- Text -->\n",
       "  <text x=\"240.405850\" y=\"130.382170\" font-size=\"1.0rem\" font-weight=\"100\" text-anchor=\"middle\" >2</text>\n",
       "  <text x=\"276.223464\" y=\"90.485203\" font-size=\"1.0rem\" font-weight=\"100\" text-anchor=\"middle\" transform=\"rotate(0,276.223464,90.485203)\">8</text>\n",
       "  <text x=\"179.294118\" y=\"95.088053\" font-size=\"1.0rem\" font-weight=\"100\" text-anchor=\"middle\" transform=\"rotate(45,179.294118,95.088053)\">64</text>\n",
       "</svg>\n",
       "        </td>\n",
       "    </tr>\n",
       "</table></div></li></ul></div></li><li class='xr-section-item'><input id='section-f2e670c9-f25b-4431-b67f-868a243be9bc' class='xr-section-summary-in' type='checkbox'  ><label for='section-f2e670c9-f25b-4431-b67f-868a243be9bc' class='xr-section-summary' >Indexes: <span>(5)</span></label><div class='xr-section-inline-details'></div><div class='xr-section-details'><ul class='xr-var-list'><li class='xr-var-item'><div class='xr-index-name'><div>baseline_id</div></div><div class='xr-index-preview'>PandasIndex</div><div></div><input id='index-9edae760-7767-483b-b0d0-e54c6311d55d' class='xr-index-data-in' type='checkbox'/><label for='index-9edae760-7767-483b-b0d0-e54c6311d55d' title='Show/Hide index repr'><svg class='icon xr-icon-database'><use xlink:href='#icon-database'></use></svg></label><div class='xr-index-data'><pre>PandasIndex(Index([ 0,  1,  2,  3,  4,  5,  6,  7,  8,  9, 10, 11, 12, 13, 14, 15, 16, 17,\n",
       "       18, 19, 20, 21, 22, 23, 24, 25, 26, 27, 28, 29, 30, 31, 32, 33, 34, 35,\n",
       "       36, 37, 38, 39, 40, 41, 42, 43, 44, 45, 46, 47, 48, 49, 50, 51, 52, 53,\n",
       "       54, 55, 56, 57, 58, 59, 60, 61, 62, 63],\n",
       "      dtype=&#x27;int64&#x27;, name=&#x27;baseline_id&#x27;))</pre></div></li><li class='xr-var-item'><div class='xr-index-name'><div>frequency</div></div><div class='xr-index-preview'>PandasIndex</div><div></div><input id='index-025c0739-b2a9-4e96-95d8-03a5e54f86bb' class='xr-index-data-in' type='checkbox'/><label for='index-025c0739-b2a9-4e96-95d8-03a5e54f86bb' title='Show/Hide index repr'><svg class='icon xr-icon-database'><use xlink:href='#icon-database'></use></svg></label><div class='xr-index-data'><pre>PandasIndex(Index([ 343928096685.9587,  343939328174.9401,  343950559663.9216,\n",
       "         343961791152.903, 343973022641.88446,  343984254130.8659,\n",
       "       343995485619.84735,  344006717108.8288],\n",
       "      dtype=&#x27;float64&#x27;, name=&#x27;frequency&#x27;))</pre></div></li><li class='xr-var-item'><div class='xr-index-name'><div>polarization</div></div><div class='xr-index-preview'>PandasIndex</div><div></div><input id='index-ad7f6756-e1a3-4e96-b239-ccc1e437fedd' class='xr-index-data-in' type='checkbox'/><label for='index-ad7f6756-e1a3-4e96-b239-ccc1e437fedd' title='Show/Hide index repr'><svg class='icon xr-icon-database'><use xlink:href='#icon-database'></use></svg></label><div class='xr-index-data'><pre>PandasIndex(Index([&#x27;XX&#x27;, &#x27;YY&#x27;], dtype=&#x27;object&#x27;, name=&#x27;polarization&#x27;))</pre></div></li><li class='xr-var-item'><div class='xr-index-name'><div>time</div></div><div class='xr-index-preview'>PandasIndex</div><div></div><input id='index-aff29bab-0ac1-4727-b16c-5e2818838950' class='xr-index-data-in' type='checkbox'/><label for='index-aff29bab-0ac1-4727-b16c-5e2818838950' title='Show/Hide index repr'><svg class='icon xr-icon-database'><use xlink:href='#icon-database'></use></svg></label><div class='xr-index-data'><pre>PandasIndex(Index([1306547230.1759996,     1306547236.224, 1306547242.2720003,\n",
       "       1306547248.3199997,     1306547254.368, 1306548534.0480003,\n",
       "       1306548540.0959997,     1306548546.144, 1306548552.1919994,\n",
       "       1306548558.2399998, 1306549611.8400002, 1306549617.8879995,\n",
       "       1306549623.9359999, 1306549629.9840002, 1306549636.0320005,\n",
       "       1306550670.0959997,     1306550676.144, 1306550682.1919994,\n",
       "       1306550688.2399998,     1306550694.288, 1307136638.6879997,\n",
       "           1307136644.736, 1307136650.7839994, 1307136656.8319998,\n",
       "            1307136662.88,      1307137970.88, 1307137976.9279995,\n",
       "       1307137982.9759998, 1307137989.0240002, 1307137995.0719995,\n",
       "            1307139057.12, 1307139063.1680002, 1307139069.2159996,\n",
       "           1307139075.264, 1307139081.3119993, 1307140121.7600002,\n",
       "       1307140127.8079996,     1307140133.856, 1307140139.9039993,\n",
       "       1307140145.9519997, 1307147559.9359999, 1307147565.9840002,\n",
       "       1307147572.0319996,      1307147578.08, 1307147584.1280003],\n",
       "      dtype=&#x27;float64&#x27;, name=&#x27;time&#x27;))</pre></div></li><li class='xr-var-item'><div class='xr-index-name'><div>uvw_label</div></div><div class='xr-index-preview'>PandasIndex</div><div></div><input id='index-2466a2f5-da86-46b6-a2c6-890f258c3bed' class='xr-index-data-in' type='checkbox'/><label for='index-2466a2f5-da86-46b6-a2c6-890f258c3bed' title='Show/Hide index repr'><svg class='icon xr-icon-database'><use xlink:href='#icon-database'></use></svg></label><div class='xr-index-data'><pre>PandasIndex(Index([&#x27;u&#x27;, &#x27;v&#x27;, &#x27;w&#x27;], dtype=&#x27;object&#x27;, name=&#x27;uvw_label&#x27;))</pre></div></li></ul></div></li><li class='xr-section-item'><input id='section-80ce0f29-a9c1-4be2-b14b-5bfccd459d61' class='xr-section-summary-in' type='checkbox'  checked><label for='section-80ce0f29-a9c1-4be2-b14b-5bfccd459d61' class='xr-section-summary' >Attributes: <span>(5)</span></label><div class='xr-section-inline-details'></div><div class='xr-section-details'><dl class='xr-attrs'><dt><span>data_groups :</span></dt><dd>{&#x27;base&#x27;: {&#x27;flag&#x27;: &#x27;FLAG&#x27;, &#x27;uvw&#x27;: &#x27;UVW&#x27;, &#x27;visibility&#x27;: &#x27;VISIBILITY&#x27;, &#x27;weight&#x27;: &#x27;WEIGHT&#x27;}}</dd><dt><span>ddi :</span></dt><dd>0</dd><dt><span>field_info :</span></dt><dd>{&#x27;code&#x27;: &#x27;none&#x27;, &#x27;delay_direction&#x27;: {&#x27;attrs&#x27;: {&#x27;frame&#x27;: &#x27;FK5&#x27;, &#x27;type&#x27;: &#x27;sky_coord&#x27;, &#x27;units&#x27;: [&#x27;rad&#x27;, &#x27;rad&#x27;]}, &#x27;data&#x27;: [3.1497688564961104, -0.32929960894982185], &#x27;dims&#x27;: &#x27;&#x27;}, &#x27;field_id&#x27;: 0, &#x27;name&#x27;: &#x27;NGC4038 - Antennae North&#x27;, &#x27;phase_direction&#x27;: {&#x27;attrs&#x27;: {&#x27;frame&#x27;: &#x27;FK5&#x27;, &#x27;type&#x27;: &#x27;sky_coord&#x27;, &#x27;units&#x27;: [&#x27;rad&#x27;, &#x27;rad&#x27;]}, &#x27;data&#x27;: [3.1497688564961104, -0.32929960894982185], &#x27;dims&#x27;: &#x27;&#x27;}, &#x27;reference_direction&#x27;: {&#x27;attrs&#x27;: {&#x27;frame&#x27;: &#x27;FK5&#x27;, &#x27;type&#x27;: &#x27;sky_coord&#x27;, &#x27;units&#x27;: [&#x27;rad&#x27;, &#x27;rad&#x27;]}, &#x27;data&#x27;: [3.1497688564961104, -0.32929960894982185], &#x27;dims&#x27;: &#x27;&#x27;}}</dd><dt><span>intent :</span></dt><dd>OBSERVE_TARGET#ON_SOURCE</dd><dt><span>antenna_xds :</span></dt><dd>&lt;xarray.Dataset&gt;\n",
       "Dimensions:        (antenna_id: 15, xyz_label: 3)\n",
       "Coordinates:\n",
       "  * antenna_id     (antenna_id) int64 0 1 2 3 4 5 6 7 8 9 10 11 12 13 14\n",
       "    mount          (antenna_id) &lt;U6 dask.array&lt;chunksize=(15,), meta=np.ndarray&gt;\n",
       "    name           (antenna_id) &lt;U4 dask.array&lt;chunksize=(15,), meta=np.ndarray&gt;\n",
       "    station        (antenna_id) &lt;U4 dask.array&lt;chunksize=(15,), meta=np.ndarray&gt;\n",
       "    type           (antenna_id) &lt;U12 dask.array&lt;chunksize=(15,), meta=np.ndarray&gt;\n",
       "  * xyz_label      (xyz_label) &lt;U1 &#x27;x&#x27; &#x27;y&#x27; &#x27;z&#x27;\n",
       "Data variables:\n",
       "    DISH_DIAMETER  (antenna_id) float64 dask.array&lt;chunksize=(15,), meta=np.ndarray&gt;\n",
       "    FEED_OFFSET    (antenna_id, xyz_label) float64 dask.array&lt;chunksize=(15, 3), meta=np.ndarray&gt;\n",
       "    POSITION       (antenna_id, xyz_label) float64 dask.array&lt;chunksize=(15, 3), meta=np.ndarray&gt;</dd></dl></div></li></ul></div></div>"
      ],
      "text/plain": [
       "<xarray.Dataset>\n",
       "Dimensions:                     (time: 45, baseline_id: 64, frequency: 8,\n",
       "                                 polarization: 2, uvw_label: 3)\n",
       "Coordinates:\n",
       "    baseline_antenna1_id        (baseline_id) int32 dask.array<chunksize=(64,), meta=np.ndarray>\n",
       "    baseline_antenna2_id        (baseline_id) int32 dask.array<chunksize=(64,), meta=np.ndarray>\n",
       "  * baseline_id                 (baseline_id) int64 0 1 2 3 4 ... 59 60 61 62 63\n",
       "  * frequency                   (frequency) float64 3.439e+11 ... 3.44e+11\n",
       "  * polarization                (polarization) <U2 'XX' 'YY'\n",
       "  * time                        (time) float64 1.307e+09 1.307e+09 ... 1.307e+09\n",
       "  * uvw_label                   (uvw_label) <U1 'u' 'v' 'w'\n",
       "Data variables:\n",
       "    EFFECTIVE_INTEGRATION_TIME  (time, baseline_id) float64 dask.array<chunksize=(45, 64), meta=np.ndarray>\n",
       "    FLAG                        (time, baseline_id, frequency, polarization) bool dask.array<chunksize=(45, 64, 3, 2), meta=np.ndarray>\n",
       "    TIME_CENTROID               (time, baseline_id) float64 dask.array<chunksize=(45, 64), meta=np.ndarray>\n",
       "    UVW                         (time, baseline_id, uvw_label) float64 dask.array<chunksize=(45, 64, 3), meta=np.ndarray>\n",
       "    VISIBILITY                  (time, baseline_id, frequency, polarization) complex64 dask.array<chunksize=(45, 64, 3, 2), meta=np.ndarray>\n",
       "    WEIGHT                      (time, baseline_id, frequency, polarization) float32 dask.array<chunksize=(45, 64, 3, 2), meta=np.ndarray>\n",
       "Attributes:\n",
       "    data_groups:  {'base': {'flag': 'FLAG', 'uvw': 'UVW', 'visibility': 'VISI...\n",
       "    ddi:          0\n",
       "    field_info:   {'code': 'none', 'delay_direction': {'attrs': {'frame': 'FK...\n",
       "    intent:       OBSERVE_TARGET#ON_SOURCE\n",
       "    antenna_xds:  <xarray.Dataset>\\nDimensions:        (antenna_id: 15, xyz_l..."
      ]
     },
     "execution_count": 5,
     "metadata": {},
     "output_type": "execute_result"
    }
   ],
   "source": [
    "ms_xds = ps[\n",
    "    \"Antennae_North.cal.lsrk.split_ddi_0_intent_OBSERVE_TARGET#ON_SOURCE_field_id_0\"\n",
    "]\n",
    "ms_xds"
   ]
  },
  {
   "cell_type": "markdown",
   "id": "9a2e880b",
   "metadata": {},
   "source": [
    "## Nomenclature\n",
    "\n",
    "- `input_data`: A dictionary of [xarray.Datasets](https://docs.xarray.dev/en/stable/generated/xarray.Dataset.html) or a [processing_set](https://github.com/casangi/xradio/blob/main/src/xradio/vis/_processing_set.py).\n",
    "- `n_datasets`: The number of [xarray.Datasets](https://docs.xarray.dev/en/stable/generated/xarray.Dataset.html) in the input_data.\n",
    "- `i_dim`: The $\\text{i}^{\\text{th}}$ dimension name.\n",
    "- `n_dims`: The number of dimensions over which parallelism will occur.\n",
    "- `n_dim_i_chunks`: Number of chunks into which the dimension coordinate `dim_i` has been divided.\n",
    "- `n_nodes`: Number of nodes in the mapping stage of a MapReduce graph.\n",
    "- `_{}`: If curly brackets are preceded by an underscore, it indicates a subscript and not a dictionary value."
   ]
  },
  {
   "cell_type": "markdown",
   "id": "aa7e11c7-18f8-4174-a713-a020a8f91273",
   "metadata": {},
   "source": [
    "## How Graph Parallelism is Specified: ```parallel_coords```\n",
    "\n",
    "The `parallel_coords` is a dictionary where the keys are dimensions over which parallelism will occur and can be any of the dimension coordinate names present in the input data. For the `MS v4` [xarray.Dataset](https://docs.xarray.dev/en/stable/generated/xarray.Dataset.html), the options include time, baseline_id (interferometer) / antenna_id (single dish), frequency, and polarization. Each dimension coordinate name is associated with a dictionary that describes the data selection for that dimension in each node of the mapping stage of the graph.\n",
    "\n",
    "The structure of the `parallel_coordinates`:\n",
    "```\n",
    "        parallel_coords = {\n",
    "            dim_0: {\n",
    "                'data': 1D list/np.ndarray of Number,\n",
    "                'data_chunks': {\n",
    "                    0 : 1D list/np.ndarray of Number,\n",
    "                    ⋮\n",
    "                    n_dim_0_chunks-1 : ...,\n",
    "                }\n",
    "                'data_chunk_edges': 1D list/np.ndarray of Number,\n",
    "                'dims': (dim_0,), \n",
    "                'attrs': measure attribute,\n",
    "            }\n",
    "            ⋮\n",
    "            dim_{n_dims-1}: ...\n",
    "        }\n",
    "```\n",
    "\n",
    "The `dim_i` dictionaries keys have the following meanings:\n",
    "\n",
    "- `data`: An array containing all the coordinate values associated with that dimension. These values do not necessarily have to match the values in the coordinates of the input data, as those are interpolated onto these values. The minimum and maximum values can be respectively larger or smaller than the values in the coordinates of individual [xarray.Datasets](https://docs.xarray.dev/en/stable/generated/xarray.Dataset.html); this will simply exclude that data from being processed. It's important to note that the `parallel_coords` and the input data coordinates must have the same measures attributes (reference frame, units, etc.).\n",
    "- `data_chunks`: A dictionary where the values are chunks of the data and the keys are integers. This chunking determines the parallelism of the graph. The values in the chunks can overlap.\n",
    "- `data_chunks_edges`: An array with the start and end values of each chunk.\n",
    "- `dims`: The dimension coordinate name.\n",
    "- `attrs`: The `XRADIO` measures attributes of the data (refer to [XRADIO documentation](https://docs.google.com/spreadsheets/d/14a6qMap9M5r_vjpLnaBKxsR9TF4azN5LVdOxLacOX-s/edit#gid=1504318014)).\n",
    "\n",
    "The combinations of all the chunks in `parallel_coords` determine the parallelism of the graph. For example, if you have `parallel_coords` with 5 `time` and 3 `frequency` chunks, you would have 15-way parallelism (5x3).\n",
    "\n",
    "This description may seem somewhat convoluted, but the following examples should help clarify things."
   ]
  },
  {
   "cell_type": "markdown",
   "id": "86fa2f48",
   "metadata": {},
   "source": [
    "## Frequency Map Reduce"
   ]
  },
  {
   "cell_type": "markdown",
   "id": "33094606-edf4-414b-800c-589146c4a55a",
   "metadata": {},
   "source": [
    "### Create Parallel Coordinates\n",
    "\n",
    "GraphVIPER offers a convenient function, [make_parallel_coord](https://graphviper.readthedocs.io/en/latest/_api/autoapi/graphviper/graph_tools/coordinate_utils/index.html#graphviper.graph_tools.coordinate_utils.make_parallel_coord), that converts any [XRADIO measures](https://docs.google.com/spreadsheets/d/14a6qMap9M5r_vjpLnaBKxsR9TF4azN5LVdOxLacOX-s/edit#gid=1504318014) to a `parallel_coord`. In this case, we will use the frequency coordinate of one of the datasets in the [processing_set](https://github.com/casangi/xradio/blob/main/src/xradio/vis/_processing_set.py). It's worth noting that all datasets in this [processing_set](https://github.com/casangi/xradio/blob/main/src/xradio/vis/_processing_set.py) have the same frequency coordinates but differing time coordinates. This is the case because they represent the same spectral window but different fields in a Mosaic observation."
   ]
  },
  {
   "cell_type": "code",
   "execution_count": 6,
   "id": "a33a781e-9b81-46c6-9c16-7510d0f4eae3",
   "metadata": {
    "scrolled": true
   },
   "outputs": [
    {
     "data": {
      "text/html": [
       "<div style='margin-left: 0em;'><strong>data:</strong> [3.43928097e+11 3.43939328e+11 3.43950560e+11 3.43961791e+11\n",
       " 3.43973023e+11 3.43984254e+11 3.43995486e+11 3.44006717e+11]</div><div style='margin-left: 0em;'><details><summary>data_chunks</summary><div style='margin-left: 1em;'><strong>0:</strong> [3.43928097e+11 3.43939328e+11 3.43950560e+11]</div><div style='margin-left: 1em;'><strong>1:</strong> [3.43961791e+11 3.43973023e+11 3.43984254e+11]</div><div style='margin-left: 1em;'><strong>2:</strong> [3.43995486e+11 3.44006717e+11]</div></details></div><div style='margin-left: 0em;'><strong>data_chunks_edges:</strong> [343928096685.9587, 343950559663.9216, 343961791152.903, 343984254130.8659, 343995485619.84735, 344006717108.8288]</div><div style='margin-left: 0em;'><strong>dims:</strong> ('frequency',)</div><div style='margin-left: 0em;'><details><summary>attrs</summary><div style='margin-left: 1em;'><details><summary>channel_width</summary><div style='margin-left: 2em;'><details><summary>attrs</summary><div style='margin-left: 3em;'><strong>type:</strong> quantity</div><div style='margin-left: 3em;'><strong>units:</strong> ['Hz']</div></details></div><div style='margin-left: 2em;'><strong>data:</strong> 11231488.981445312</div><div style='margin-left: 2em;'><strong>dims:</strong> </div></details></div><div style='margin-left: 1em;'><strong>frame:</strong> LSRK</div><div style='margin-left: 1em;'><details><summary>reference_frequency</summary><div style='margin-left: 2em;'><details><summary>attrs</summary><div style='margin-left: 3em;'><strong>frame:</strong> LSRK</div><div style='margin-left: 3em;'><strong>type:</strong> spectral_coord</div><div style='margin-left: 3em;'><strong>units:</strong> ['Hz']</div></details></div><div style='margin-left: 2em;'><strong>data:</strong> 343928096685.9587</div><div style='margin-left: 2em;'><strong>dims:</strong> </div></details></div><div style='margin-left: 1em;'><strong>spectral_window_name:</strong> </div><div style='margin-left: 1em;'><strong>spw_id:</strong> 0</div><div style='margin-left: 1em;'><strong>type:</strong> spectral_coord</div><div style='margin-left: 1em;'><strong>units:</strong> ['Hz']</div></details></div>"
      ],
      "text/plain": [
       "<IPython.core.display.HTML object>"
      ]
     },
     "metadata": {},
     "output_type": "display_data"
    }
   ],
   "source": [
    "from graphviper.graph_tools.coordinate_utils import make_parallel_coord\n",
    "from graphviper.utils.display import dict_to_html\n",
    "from IPython.display import HTML, display\n",
    "\n",
    "parallel_coords = {}\n",
    "n_chunks = 3\n",
    "parallel_coords[\"frequency\"] = make_parallel_coord(\n",
    "    coord=ms_xds.frequency, n_chunks=n_chunks\n",
    ")\n",
    "display(HTML(dict_to_html(parallel_coords[\"frequency\"])))"
   ]
  },
  {
   "cell_type": "markdown",
   "id": "a679dd6a",
   "metadata": {},
   "source": [
    "The display of the frequency `parallel_coords` clearly shows how the data was split into 3 chunks. All the chunks must have the same number of values, except the last chunk, which can have fewer. `GraphVIPER` also has a convenience functions that can create [frequency](https://graphviper.readthedocs.io/en/latest/_api/autoapi/graphviper/graph_tools/coordinate_utils/index.html#graphviper.graph_tools.coordinate_utils.make_frequency_coord) and [time](https://graphviper.readthedocs.io/en/latest/_api/autoapi/graphviper/graph_tools/coordinate_utils/index.html#graphviper.graph_tools.coordinate_utils.make_time_coord) coordinate measures:"
   ]
  },
  {
   "cell_type": "code",
   "execution_count": 7,
   "id": "078f9152-a57d-4c26-bd32-7736dffa850a",
   "metadata": {
    "scrolled": true
   },
   "outputs": [
    {
     "data": {
      "text/html": [
       "<div style='margin-left: 0em;'><strong>data:</strong> [3.43928097e+11 3.43939328e+11 3.43950560e+11 3.43961791e+11\n",
       " 3.43973023e+11 3.43984254e+11 3.43995486e+11 3.44006717e+11]</div><div style='margin-left: 0em;'><details><summary>data_chunks</summary><div style='margin-left: 1em;'><strong>0:</strong> [3.43928097e+11 3.43939328e+11 3.43950560e+11]</div><div style='margin-left: 1em;'><strong>1:</strong> [3.43961791e+11 3.43973023e+11 3.43984254e+11]</div><div style='margin-left: 1em;'><strong>2:</strong> [3.43995486e+11 3.44006717e+11]</div></details></div><div style='margin-left: 0em;'><strong>data_chunks_edges:</strong> [343928096685.9587, 343950559663.9216, 343961791152.903, 343984254130.8659, 343995485619.84735, 344006717108.8288]</div><div style='margin-left: 0em;'><strong>dims:</strong> frequency</div><div style='margin-left: 0em;'><details><summary>attrs</summary><div style='margin-left: 1em;'><strong>units:</strong> Hz</div><div style='margin-left: 1em;'><strong>type:</strong> spectral_coord</div><div style='margin-left: 1em;'><strong>velocity_frame:</strong> lsrk</div></details></div>"
      ],
      "text/plain": [
       "<IPython.core.display.HTML object>"
      ]
     },
     "metadata": {},
     "output_type": "display_data"
    }
   ],
   "source": [
    "from graphviper.graph_tools.coordinate_utils import make_frequency_coord\n",
    "\n",
    "n_chunks = 3\n",
    "\n",
    "coord = make_frequency_coord(\n",
    "    freq_start=343928096685.9587,\n",
    "    freq_delta=11231488.981445312,\n",
    "    n_channels=8,\n",
    "    velocity_frame=\"lsrk\",\n",
    ")\n",
    "parallel_coords[\"frequency\"] = make_parallel_coord(\n",
    "    coord=coord, n_chunks=n_chunks\n",
    ")\n",
    "display(HTML(dict_to_html(parallel_coords[\"frequency\"])))"
   ]
  },
  {
   "cell_type": "markdown",
   "id": "f3b99bcd",
   "metadata": {},
   "source": [
    "### Create Node Task Data Mapping\n",
    "\n",
    "Now, the coordinates in the input data must be mapped onto the `parallel_coords`. This is achieved using the `interpolate_data_coords_onto_parallel_coords` function, which produces the `node_task_data_mapping`. It is a dictionary where each key is a node id of one of the nodes in the mapping stage of the graph.\n",
    "\n",
    "Structure of  node_task_data_mapping:\n",
    "```\n",
    "    node_task_data_mapping = {\n",
    "        0 : {\n",
    "            'chunk_indices': tuple of int,\n",
    "            'parallel_dims': (dim_0, ..., dim_{n_dims-1}),\n",
    "            'data_selection': {\n",
    "                    dataset_name_0: {\n",
    "                            dim_0: slice,\n",
    "                            ⋮\n",
    "                            dim_(n_dims-1): slice\n",
    "                    }\n",
    "                    ⋮\n",
    "                    dataset_name_{n_dataset-1}: ...\n",
    "            }\n",
    "            'task_coords': \n",
    "                dim_0:{\n",
    "                    'data': list/np.ndarray of Number,\n",
    "                    'dims': str,\n",
    "                    'attrs': measure attribute,\n",
    "                }\n",
    "                ⋮\n",
    "                dim_(n_dims-1): ...\n",
    "            }\n",
    "        ⋮\n",
    "        n_nodes-1 : ...\n",
    "    }\n",
    "```\n",
    "\n",
    "Each `node_id` dictionary has the keys with the following meaning:\n",
    "\n",
    "- `chunk_indices`: The indices assigned to the data chunks in the `parallel_coords`. There must be an index for each `parallel_dims`.\n",
    "- `parallel_dims`: The dimension coordinates over which parallelism will occur.\n",
    "- `data_selection`: A dictionary where the keys are the names of the datasets in the `processing_set`, and the values are dictionaries with the coordinates and accompanying slices. If a coordinate is not included, all values will be selected.\n",
    "- `task_coords`: The chunk of the parallel_coord that is assigned to this node."
   ]
  },
  {
   "cell_type": "code",
   "execution_count": 8,
   "id": "4ffb8a9b",
   "metadata": {},
   "outputs": [
    {
     "data": {
      "text/html": [
       "<div style='margin-left: 0em;'><details><summary>0</summary><div style='margin-left: 1em;'><strong>chunk_indices:</strong> (0,)</div><div style='margin-left: 1em;'><strong>parallel_dims:</strong> ['frequency']</div><div style='margin-left: 1em;'><details><summary>data_selection</summary><div style='margin-left: 2em;'><details><summary>Antennae_North.cal.lsrk.split_ddi_0_intent_OBSERVE_TARGET#ON_SOURCE_field_id_1</summary><div style='margin-left: 3em;'><strong>frequency:</strong> slice(0, 3, None)</div></details></div><div style='margin-left: 2em;'><details><summary>Antennae_North.cal.lsrk.split_ddi_0_intent_OBSERVE_TARGET#ON_SOURCE_field_id_0</summary><div style='margin-left: 3em;'><strong>frequency:</strong> slice(0, 3, None)</div></details></div><div style='margin-left: 2em;'><details><summary>Antennae_North.cal.lsrk.split_ddi_0_intent_OBSERVE_TARGET#ON_SOURCE_field_id_2</summary><div style='margin-left: 3em;'><strong>frequency:</strong> slice(0, 3, None)</div></details></div></details></div><div style='margin-left: 1em;'><details><summary>task_coords</summary><div style='margin-left: 2em;'><details><summary>frequency</summary><div style='margin-left: 3em;'><strong>data:</strong> [3.43928097e+11 3.43939328e+11 3.43950560e+11]</div><div style='margin-left: 3em;'><strong>dims:</strong> frequency</div><div style='margin-left: 3em;'><details><summary>attrs</summary><div style='margin-left: 4em;'><strong>units:</strong> Hz</div><div style='margin-left: 4em;'><strong>type:</strong> spectral_coord</div><div style='margin-left: 4em;'><strong>velocity_frame:</strong> lsrk</div></details></div></details></div></details></div></details></div><div style='margin-left: 0em;'><details><summary>1</summary><div style='margin-left: 1em;'><strong>chunk_indices:</strong> (1,)</div><div style='margin-left: 1em;'><strong>parallel_dims:</strong> ['frequency']</div><div style='margin-left: 1em;'><details><summary>data_selection</summary><div style='margin-left: 2em;'><details><summary>Antennae_North.cal.lsrk.split_ddi_0_intent_OBSERVE_TARGET#ON_SOURCE_field_id_1</summary><div style='margin-left: 3em;'><strong>frequency:</strong> slice(3, 6, None)</div></details></div><div style='margin-left: 2em;'><details><summary>Antennae_North.cal.lsrk.split_ddi_0_intent_OBSERVE_TARGET#ON_SOURCE_field_id_0</summary><div style='margin-left: 3em;'><strong>frequency:</strong> slice(3, 6, None)</div></details></div><div style='margin-left: 2em;'><details><summary>Antennae_North.cal.lsrk.split_ddi_0_intent_OBSERVE_TARGET#ON_SOURCE_field_id_2</summary><div style='margin-left: 3em;'><strong>frequency:</strong> slice(3, 6, None)</div></details></div></details></div><div style='margin-left: 1em;'><details><summary>task_coords</summary><div style='margin-left: 2em;'><details><summary>frequency</summary><div style='margin-left: 3em;'><strong>data:</strong> [3.43961791e+11 3.43973023e+11 3.43984254e+11]</div><div style='margin-left: 3em;'><strong>dims:</strong> frequency</div><div style='margin-left: 3em;'><details><summary>attrs</summary><div style='margin-left: 4em;'><strong>units:</strong> Hz</div><div style='margin-left: 4em;'><strong>type:</strong> spectral_coord</div><div style='margin-left: 4em;'><strong>velocity_frame:</strong> lsrk</div></details></div></details></div></details></div></details></div><div style='margin-left: 0em;'><details><summary>2</summary><div style='margin-left: 1em;'><strong>chunk_indices:</strong> (2,)</div><div style='margin-left: 1em;'><strong>parallel_dims:</strong> ['frequency']</div><div style='margin-left: 1em;'><details><summary>data_selection</summary><div style='margin-left: 2em;'><details><summary>Antennae_North.cal.lsrk.split_ddi_0_intent_OBSERVE_TARGET#ON_SOURCE_field_id_1</summary><div style='margin-left: 3em;'><strong>frequency:</strong> slice(6, 8, None)</div></details></div><div style='margin-left: 2em;'><details><summary>Antennae_North.cal.lsrk.split_ddi_0_intent_OBSERVE_TARGET#ON_SOURCE_field_id_0</summary><div style='margin-left: 3em;'><strong>frequency:</strong> slice(6, 8, None)</div></details></div><div style='margin-left: 2em;'><details><summary>Antennae_North.cal.lsrk.split_ddi_0_intent_OBSERVE_TARGET#ON_SOURCE_field_id_2</summary><div style='margin-left: 3em;'><strong>frequency:</strong> slice(6, 8, None)</div></details></div></details></div><div style='margin-left: 1em;'><details><summary>task_coords</summary><div style='margin-left: 2em;'><details><summary>frequency</summary><div style='margin-left: 3em;'><strong>data:</strong> [3.43995486e+11 3.44006717e+11]</div><div style='margin-left: 3em;'><strong>dims:</strong> frequency</div><div style='margin-left: 3em;'><details><summary>attrs</summary><div style='margin-left: 4em;'><strong>units:</strong> Hz</div><div style='margin-left: 4em;'><strong>type:</strong> spectral_coord</div><div style='margin-left: 4em;'><strong>velocity_frame:</strong> lsrk</div></details></div></details></div></details></div></details></div>"
      ],
      "text/plain": [
       "<IPython.core.display.HTML object>"
      ]
     },
     "metadata": {},
     "output_type": "display_data"
    }
   ],
   "source": [
    "from graphviper.graph_tools.coordinate_utils import (\n",
    "    interpolate_data_coords_onto_parallel_coords,\n",
    ")\n",
    "\n",
    "node_task_data_mapping = interpolate_data_coords_onto_parallel_coords(\n",
    "    parallel_coords, ps\n",
    ")\n",
    "display(HTML(dict_to_html(node_task_data_mapping)))"
   ]
  },
  {
   "cell_type": "markdown",
   "id": "bbbea156-e5e0-45eb-8a40-ca1f11c97e1b",
   "metadata": {},
   "source": [
    "### Create a chunk function and map graph\n",
    "\n",
    "The [map](https://graphviper.readthedocs.io/en/latest/_api/autoapi/graphviper/graph_tools/map/index.html#graphviper.graph_tools.map.map) function combines a `node_task_data_mapping` and a `node_task` to create the map portion of the graph. The `node_task` must be a function with a single dictionary input and a single output as is the `my_func` in the example below. The `map` function will pass the `input_params` dictionary to the `node_task` and add the following items from the `node_task_data_mapping`:\n",
    "\n",
    "- chunk_indices\n",
    "- parallel_dims\n",
    "- data_selection\n",
    "- task_coords\n",
    "- task_id\n",
    "\n",
    "If local caching is enabled the following will also be included with the `input_params` dictionary:\n",
    "\n",
    "- date_time\n",
    "- viper_local_dir"
   ]
  },
  {
   "cell_type": "code",
   "execution_count": 9,
   "id": "93a5da8a-6b40-4912-903b-e9c9ee196fbd",
   "metadata": {},
   "outputs": [
    {
     "data": {
      "image/png": "[encoded data removed]",
      "text/plain": [
       "<IPython.core.display.Image object>"
      ]
     },
     "execution_count": 9,
     "metadata": {},
     "output_type": "execute_result"
    }
   ],
   "source": [
    "from graphviper.graph_tools.map import map\n",
    "import dask\n",
    "from graphviper.utils.display import dict_to_html\n",
    "from IPython.display import display, HTML\n",
    "\n",
    "\n",
    "def my_func(input_params):\n",
    "    display(HTML(dict_to_html(input_params)))\n",
    "\n",
    "    print(\"*\" * 30)\n",
    "    return input_params[\"test_input\"]\n",
    "\n",
    "\n",
    "input_params = {}\n",
    "input_params[\"test_input\"] = 42\n",
    "\n",
    "graph = map(\n",
    "    input_data=ps,\n",
    "    node_task_data_mapping=node_task_data_mapping,\n",
    "    node_task=my_func,\n",
    "    input_params=input_params,\n",
    ")\n",
    "\n",
    "dask.visualize(graph, filename=\"map_graph\")"
   ]
  },
  {
   "cell_type": "code",
   "execution_count": 10,
   "id": "eadd60c8-e248-4356-9183-35fabdf27e7f",
   "metadata": {},
   "outputs": [
    {
     "data": {
      "text/plain": [
       "([Delayed('my_func-0b993bbf-1835-4e6a-b5ef-749c39685b63'),\n",
       "  Delayed('my_func-368edded-a5ce-4ef3-9ae7-7b98061139b8'),\n",
       "  Delayed('my_func-61daf022-76c7-4e31-a637-5ed912c45c85')],\n",
       " None)"
      ]
     },
     "execution_count": 10,
     "metadata": {},
     "output_type": "execute_result"
    }
   ],
   "source": [
    "graph"
   ]
  },
  {
   "cell_type": "markdown",
   "id": "5f509ded-23dd-4c08-aabc-d19678a7bbb8",
   "metadata": {},
   "source": [
    "### Run Map Graph"
   ]
  },
  {
   "cell_type": "code",
   "execution_count": 11,
   "id": "252e010a-b04f-43dd-8e4f-798d31267b71",
   "metadata": {},
   "outputs": [
    {
     "data": {
      "text/html": [
       "<div style='margin-left: 0em;'><strong>test_input:</strong> 42</div><div style='margin-left: 0em;'><strong>chunk_indices:</strong> (2,)</div><div style='margin-left: 0em;'><strong>parallel_dims:</strong> ['frequency']</div><div style='margin-left: 0em;'><details><summary>data_selection</summary><div style='margin-left: 1em;'><details><summary>Antennae_North.cal.lsrk.split_ddi_0_intent_OBSERVE_TARGET#ON_SOURCE_field_id_1</summary><div style='margin-left: 2em;'><strong>frequency:</strong> slice(6, 8, None)</div></details></div><div style='margin-left: 1em;'><details><summary>Antennae_North.cal.lsrk.split_ddi_0_intent_OBSERVE_TARGET#ON_SOURCE_field_id_0</summary><div style='margin-left: 2em;'><strong>frequency:</strong> slice(6, 8, None)</div></details></div><div style='margin-left: 1em;'><details><summary>Antennae_North.cal.lsrk.split_ddi_0_intent_OBSERVE_TARGET#ON_SOURCE_field_id_2</summary><div style='margin-left: 2em;'><strong>frequency:</strong> slice(6, 8, None)</div></details></div></details></div><div style='margin-left: 0em;'><details><summary>task_coords</summary><div style='margin-left: 1em;'><details><summary>frequency</summary><div style='margin-left: 2em;'><strong>data:</strong> [3.43995486e+11 3.44006717e+11]</div><div style='margin-left: 2em;'><strong>dims:</strong> frequency</div><div style='margin-left: 2em;'><details><summary>attrs</summary><div style='margin-left: 3em;'><strong>units:</strong> Hz</div><div style='margin-left: 3em;'><strong>type:</strong> spectral_coord</div><div style='margin-left: 3em;'><strong>velocity_frame:</strong> lsrk</div></details></div></details></div></details></div><div style='margin-left: 0em;'><strong>task_id:</strong> 2</div><div style='margin-left: 0em;'><strong>input_data:</strong> None</div><div style='margin-left: 0em;'><strong>date_time:</strong> None</div>"
      ],
      "text/plain": [
       "<IPython.core.display.HTML object>"
      ]
     },
     "metadata": {},
     "output_type": "display_data"
    },
    {
     "name": "stdout",
     "output_type": "stream",
     "text": [
      "******************************\n"
     ]
    },
    {
     "data": {
      "text/html": [
       "<div style='margin-left: 0em;'><strong>test_input:</strong> 42</div><div style='margin-left: 0em;'><strong>chunk_indices:</strong> (1,)</div><div style='margin-left: 0em;'><strong>parallel_dims:</strong> ['frequency']</div><div style='margin-left: 0em;'><details><summary>data_selection</summary><div style='margin-left: 1em;'><details><summary>Antennae_North.cal.lsrk.split_ddi_0_intent_OBSERVE_TARGET#ON_SOURCE_field_id_1</summary><div style='margin-left: 2em;'><strong>frequency:</strong> slice(3, 6, None)</div></details></div><div style='margin-left: 1em;'><details><summary>Antennae_North.cal.lsrk.split_ddi_0_intent_OBSERVE_TARGET#ON_SOURCE_field_id_0</summary><div style='margin-left: 2em;'><strong>frequency:</strong> slice(3, 6, None)</div></details></div><div style='margin-left: 1em;'><details><summary>Antennae_North.cal.lsrk.split_ddi_0_intent_OBSERVE_TARGET#ON_SOURCE_field_id_2</summary><div style='margin-left: 2em;'><strong>frequency:</strong> slice(3, 6, None)</div></details></div></details></div><div style='margin-left: 0em;'><details><summary>task_coords</summary><div style='margin-left: 1em;'><details><summary>frequency</summary><div style='margin-left: 2em;'><strong>data:</strong> [3.43961791e+11 3.43973023e+11 3.43984254e+11]</div><div style='margin-left: 2em;'><strong>dims:</strong> frequency</div><div style='margin-left: 2em;'><details><summary>attrs</summary><div style='margin-left: 3em;'><strong>units:</strong> Hz</div><div style='margin-left: 3em;'><strong>type:</strong> spectral_coord</div><div style='margin-left: 3em;'><strong>velocity_frame:</strong> lsrk</div></details></div></details></div></details></div><div style='margin-left: 0em;'><strong>task_id:</strong> 1</div><div style='margin-left: 0em;'><strong>input_data:</strong> None</div><div style='margin-left: 0em;'><strong>date_time:</strong> None</div>"
      ],
      "text/plain": [
       "<IPython.core.display.HTML object>"
      ]
     },
     "metadata": {},
     "output_type": "display_data"
    },
    {
     "name": "stdout",
     "output_type": "stream",
     "text": [
      "******************************\n"
     ]
    },
    {
     "data": {
      "text/html": [
       "<div style='margin-left: 0em;'><strong>test_input:</strong> 42</div><div style='margin-left: 0em;'><strong>chunk_indices:</strong> (0,)</div><div style='margin-left: 0em;'><strong>parallel_dims:</strong> ['frequency']</div><div style='margin-left: 0em;'><details><summary>data_selection</summary><div style='margin-left: 1em;'><details><summary>Antennae_North.cal.lsrk.split_ddi_0_intent_OBSERVE_TARGET#ON_SOURCE_field_id_1</summary><div style='margin-left: 2em;'><strong>frequency:</strong> slice(0, 3, None)</div></details></div><div style='margin-left: 1em;'><details><summary>Antennae_North.cal.lsrk.split_ddi_0_intent_OBSERVE_TARGET#ON_SOURCE_field_id_0</summary><div style='margin-left: 2em;'><strong>frequency:</strong> slice(0, 3, None)</div></details></div><div style='margin-left: 1em;'><details><summary>Antennae_North.cal.lsrk.split_ddi_0_intent_OBSERVE_TARGET#ON_SOURCE_field_id_2</summary><div style='margin-left: 2em;'><strong>frequency:</strong> slice(0, 3, None)</div></details></div></details></div><div style='margin-left: 0em;'><details><summary>task_coords</summary><div style='margin-left: 1em;'><details><summary>frequency</summary><div style='margin-left: 2em;'><strong>data:</strong> [3.43928097e+11 3.43939328e+11 3.43950560e+11]</div><div style='margin-left: 2em;'><strong>dims:</strong> frequency</div><div style='margin-left: 2em;'><details><summary>attrs</summary><div style='margin-left: 3em;'><strong>units:</strong> Hz</div><div style='margin-left: 3em;'><strong>type:</strong> spectral_coord</div><div style='margin-left: 3em;'><strong>velocity_frame:</strong> lsrk</div></details></div></details></div></details></div><div style='margin-left: 0em;'><strong>task_id:</strong> 0</div><div style='margin-left: 0em;'><strong>input_data:</strong> None</div><div style='margin-left: 0em;'><strong>date_time:</strong> None</div>"
      ],
      "text/plain": [
       "<IPython.core.display.HTML object>"
      ]
     },
     "metadata": {},
     "output_type": "display_data"
    },
    {
     "name": "stdout",
     "output_type": "stream",
     "text": [
      "******************************\n"
     ]
    },
    {
     "data": {
      "text/plain": [
       "(([42, 42, 42], None),)"
      ]
     },
     "execution_count": 11,
     "metadata": {},
     "output_type": "execute_result"
    }
   ],
   "source": [
    "dask.compute(graph)"
   ]
  },
  {
   "cell_type": "markdown",
   "id": "291e9e20-8b36-4cb2-82b2-90fdfaf37a01",
   "metadata": {},
   "source": [
    "### Reduce Graph\n",
    "The [reduce](https://graphviper.readthedocs.io/en/latest/_api/autoapi/graphviper/graph_tools/reduce/index.html#graphviper.graph_tools.reduce.reduce) function takes the graph created by the [map](https://graphviper.readthedocs.io/en/latest/_api/autoapi/graphviper/graph_tools/map/index.html#graphviper.graph_tools.map.map) function and adds a reduce graph that combines the outputs using one of two methods:\n",
    "\n",
    "- `single_node`: where the output from all `map` nodes is sent to a single node,\n",
    "- `tree`: where the outputs are combined using a binary tree reduction.\n",
    "\n",
    "The function that forms the nodes in the reduce portion of the graph must have two parameters: ``input_data`` and ``input_params``. The ``input_data`` represents the output from the mapping nodes, while ``input_params`` comes from the ``reduce`` parameter with the same name."
   ]
  },
  {
   "cell_type": "code",
   "execution_count": 12,
   "id": "3286a1c5-cd4c-45e1-9ada-c14802538b82",
   "metadata": {},
   "outputs": [
    {
     "data": {
      "image/png": "[encoded data removed]",
      "text/plain": [
       "<IPython.core.display.Image object>"
      ]
     },
     "execution_count": 12,
     "metadata": {},
     "output_type": "execute_result"
    }
   ],
   "source": [
    "# Single Node Reduce\n",
    "from graphviper.graph_tools import reduce\n",
    "import numpy as np\n",
    "\n",
    "\n",
    "def my_sum(graph_inputs, input_params):\n",
    "    print(graph_inputs)\n",
    "    return np.sum(graph_inputs / input_params[\"test_input\"])\n",
    "\n",
    "\n",
    "input_params = {}\n",
    "input_params[\"test_input\"] = 5\n",
    "graph_reduce = reduce(\n",
    "    graph, my_sum, input_params, mode=\"single_node\"\n",
    ")  # mode \"tree\",\"single_node\"\n",
    "dask.visualize(graph_reduce)"
   ]
  },
  {
   "cell_type": "code",
   "execution_count": 13,
   "id": "d1efd95c",
   "metadata": {},
   "outputs": [
    {
     "data": {
      "image/png": "[encoded data removed]",
      "text/plain": [
       "<IPython.core.display.Image object>"
      ]
     },
     "execution_count": 13,
     "metadata": {},
     "output_type": "execute_result"
    }
   ],
   "source": [
    "# Tree Reduce\n",
    "from graphviper.graph_tools import reduce\n",
    "import numpy as np\n",
    "\n",
    "\n",
    "def my_sum(graph_inputs, input_params):\n",
    "    print(graph_inputs)\n",
    "    return np.sum(graph_inputs) + input_params[\"test_input\"]\n",
    "\n",
    "\n",
    "input_params = {}\n",
    "input_params[\"test_input\"] = 5\n",
    "graph_reduce = reduce(\n",
    "    graph, my_sum, input_params, mode=\"tree\"\n",
    ")  # mode \"tree\",\"single_node\"\n",
    "dask.visualize(graph_reduce)"
   ]
  },
  {
   "cell_type": "markdown",
   "id": "717022f0-fed9-461a-9943-ea6f31714249",
   "metadata": {},
   "source": [
    "### Run Map Reduce Graph"
   ]
  },
  {
   "cell_type": "code",
   "execution_count": 14,
   "id": "199eb981-3852-40d6-915c-70cc63818677",
   "metadata": {},
   "outputs": [
    {
     "data": {
      "text/html": [
       "<div style='margin-left: 0em;'><strong>test_input:</strong> 42</div><div style='margin-left: 0em;'><strong>chunk_indices:</strong> (1,)</div><div style='margin-left: 0em;'><strong>parallel_dims:</strong> ['frequency']</div><div style='margin-left: 0em;'><details><summary>data_selection</summary><div style='margin-left: 1em;'><details><summary>Antennae_North.cal.lsrk.split_ddi_0_intent_OBSERVE_TARGET#ON_SOURCE_field_id_1</summary><div style='margin-left: 2em;'><strong>frequency:</strong> slice(3, 6, None)</div></details></div><div style='margin-left: 1em;'><details><summary>Antennae_North.cal.lsrk.split_ddi_0_intent_OBSERVE_TARGET#ON_SOURCE_field_id_0</summary><div style='margin-left: 2em;'><strong>frequency:</strong> slice(3, 6, None)</div></details></div><div style='margin-left: 1em;'><details><summary>Antennae_North.cal.lsrk.split_ddi_0_intent_OBSERVE_TARGET#ON_SOURCE_field_id_2</summary><div style='margin-left: 2em;'><strong>frequency:</strong> slice(3, 6, None)</div></details></div></details></div><div style='margin-left: 0em;'><details><summary>task_coords</summary><div style='margin-left: 1em;'><details><summary>frequency</summary><div style='margin-left: 2em;'><strong>data:</strong> [3.43961791e+11 3.43973023e+11 3.43984254e+11]</div><div style='margin-left: 2em;'><strong>dims:</strong> frequency</div><div style='margin-left: 2em;'><details><summary>attrs</summary><div style='margin-left: 3em;'><strong>units:</strong> Hz</div><div style='margin-left: 3em;'><strong>type:</strong> spectral_coord</div><div style='margin-left: 3em;'><strong>velocity_frame:</strong> lsrk</div></details></div></details></div></details></div><div style='margin-left: 0em;'><strong>task_id:</strong> 1</div><div style='margin-left: 0em;'><strong>input_data:</strong> None</div><div style='margin-left: 0em;'><strong>date_time:</strong> None</div>"
      ],
      "text/plain": [
       "<IPython.core.display.HTML object>"
      ]
     },
     "metadata": {},
     "output_type": "display_data"
    },
    {
     "name": "stdout",
     "output_type": "stream",
     "text": [
      "******************************\n"
     ]
    },
    {
     "data": {
      "text/html": [
       "<div style='margin-left: 0em;'><strong>test_input:</strong> 42</div><div style='margin-left: 0em;'><strong>chunk_indices:</strong> (0,)</div><div style='margin-left: 0em;'><strong>parallel_dims:</strong> ['frequency']</div><div style='margin-left: 0em;'><details><summary>data_selection</summary><div style='margin-left: 1em;'><details><summary>Antennae_North.cal.lsrk.split_ddi_0_intent_OBSERVE_TARGET#ON_SOURCE_field_id_1</summary><div style='margin-left: 2em;'><strong>frequency:</strong> slice(0, 3, None)</div></details></div><div style='margin-left: 1em;'><details><summary>Antennae_North.cal.lsrk.split_ddi_0_intent_OBSERVE_TARGET#ON_SOURCE_field_id_0</summary><div style='margin-left: 2em;'><strong>frequency:</strong> slice(0, 3, None)</div></details></div><div style='margin-left: 1em;'><details><summary>Antennae_North.cal.lsrk.split_ddi_0_intent_OBSERVE_TARGET#ON_SOURCE_field_id_2</summary><div style='margin-left: 2em;'><strong>frequency:</strong> slice(0, 3, None)</div></details></div></details></div><div style='margin-left: 0em;'><details><summary>task_coords</summary><div style='margin-left: 1em;'><details><summary>frequency</summary><div style='margin-left: 2em;'><strong>data:</strong> [3.43928097e+11 3.43939328e+11 3.43950560e+11]</div><div style='margin-left: 2em;'><strong>dims:</strong> frequency</div><div style='margin-left: 2em;'><details><summary>attrs</summary><div style='margin-left: 3em;'><strong>units:</strong> Hz</div><div style='margin-left: 3em;'><strong>type:</strong> spectral_coord</div><div style='margin-left: 3em;'><strong>velocity_frame:</strong> lsrk</div></details></div></details></div></details></div><div style='margin-left: 0em;'><strong>task_id:</strong> 0</div><div style='margin-left: 0em;'><strong>input_data:</strong> None</div><div style='margin-left: 0em;'><strong>date_time:</strong> None</div>"
      ],
      "text/plain": [
       "<IPython.core.display.HTML object>"
      ]
     },
     "metadata": {},
     "output_type": "display_data"
    },
    {
     "name": "stdout",
     "output_type": "stream",
     "text": [
      "******************************\n",
      "[42, 42]\n"
     ]
    },
    {
     "data": {
      "text/html": [
       "<div style='margin-left: 0em;'><strong>test_input:</strong> 42</div><div style='margin-left: 0em;'><strong>chunk_indices:</strong> (2,)</div><div style='margin-left: 0em;'><strong>parallel_dims:</strong> ['frequency']</div><div style='margin-left: 0em;'><details><summary>data_selection</summary><div style='margin-left: 1em;'><details><summary>Antennae_North.cal.lsrk.split_ddi_0_intent_OBSERVE_TARGET#ON_SOURCE_field_id_1</summary><div style='margin-left: 2em;'><strong>frequency:</strong> slice(6, 8, None)</div></details></div><div style='margin-left: 1em;'><details><summary>Antennae_North.cal.lsrk.split_ddi_0_intent_OBSERVE_TARGET#ON_SOURCE_field_id_0</summary><div style='margin-left: 2em;'><strong>frequency:</strong> slice(6, 8, None)</div></details></div><div style='margin-left: 1em;'><details><summary>Antennae_North.cal.lsrk.split_ddi_0_intent_OBSERVE_TARGET#ON_SOURCE_field_id_2</summary><div style='margin-left: 2em;'><strong>frequency:</strong> slice(6, 8, None)</div></details></div></details></div><div style='margin-left: 0em;'><details><summary>task_coords</summary><div style='margin-left: 1em;'><details><summary>frequency</summary><div style='margin-left: 2em;'><strong>data:</strong> [3.43995486e+11 3.44006717e+11]</div><div style='margin-left: 2em;'><strong>dims:</strong> frequency</div><div style='margin-left: 2em;'><details><summary>attrs</summary><div style='margin-left: 3em;'><strong>units:</strong> Hz</div><div style='margin-left: 3em;'><strong>type:</strong> spectral_coord</div><div style='margin-left: 3em;'><strong>velocity_frame:</strong> lsrk</div></details></div></details></div></details></div><div style='margin-left: 0em;'><strong>task_id:</strong> 2</div><div style='margin-left: 0em;'><strong>input_data:</strong> None</div><div style='margin-left: 0em;'><strong>date_time:</strong> None</div>"
      ],
      "text/plain": [
       "<IPython.core.display.HTML object>"
      ]
     },
     "metadata": {},
     "output_type": "display_data"
    },
    {
     "name": "stdout",
     "output_type": "stream",
     "text": [
      "******************************\n",
      "[89, 42]\n"
     ]
    },
    {
     "data": {
      "text/plain": [
       "([[136], None],)"
      ]
     },
     "execution_count": 14,
     "metadata": {},
     "output_type": "execute_result"
    }
   ],
   "source": [
    "dask.compute(graph_reduce)"
   ]
  },
  {
   "cell_type": "markdown",
   "id": "57673d4b-5e5e-4e1c-bf54-275ea526178e",
   "metadata": {},
   "source": [
    "## Overlapping Frequency Map Reduce"
   ]
  },
  {
   "cell_type": "markdown",
   "id": "33871abd-78f6-48c1-9c7c-58388435d270",
   "metadata": {},
   "source": [
    "### Create Parallel Coordinates"
   ]
  },
  {
   "cell_type": "code",
   "execution_count": 15,
   "id": "1278ba9b-9dcf-4a15-8265-b5e33c998d8c",
   "metadata": {},
   "outputs": [
    {
     "data": {
      "text/html": [
       "<div style='margin-left: 0em;'><strong>dims:</strong> ('frequency',)</div><div style='margin-left: 0em;'><details><summary>attrs</summary><div style='margin-left: 1em;'><details><summary>channel_width</summary><div style='margin-left: 2em;'><details><summary>attrs</summary><div style='margin-left: 3em;'><strong>type:</strong> quantity</div><div style='margin-left: 3em;'><strong>units:</strong> ['Hz']</div></details></div><div style='margin-left: 2em;'><strong>data:</strong> 11231488.981445312</div><div style='margin-left: 2em;'><strong>dims:</strong> </div></details></div><div style='margin-left: 1em;'><strong>frame:</strong> LSRK</div><div style='margin-left: 1em;'><details><summary>reference_frequency</summary><div style='margin-left: 2em;'><details><summary>attrs</summary><div style='margin-left: 3em;'><strong>frame:</strong> LSRK</div><div style='margin-left: 3em;'><strong>type:</strong> spectral_coord</div><div style='margin-left: 3em;'><strong>units:</strong> ['Hz']</div></details></div><div style='margin-left: 2em;'><strong>data:</strong> 343928096685.9587</div><div style='margin-left: 2em;'><strong>dims:</strong> </div></details></div><div style='margin-left: 1em;'><strong>spectral_window_name:</strong> </div><div style='margin-left: 1em;'><strong>spw_id:</strong> 0</div><div style='margin-left: 1em;'><strong>type:</strong> spectral_coord</div><div style='margin-left: 1em;'><strong>units:</strong> ['Hz']</div></details></div><div style='margin-left: 0em;'><strong>data:</strong> [343928096685.9587, 343939328174.9401, 343950559663.9216, 343961791152.903, 343973022641.88446, 343984254130.8659, 343995485619.84735, 344006717108.8288]</div><div style='margin-left: 0em;'><details><summary>coords</summary><div style='margin-left: 1em;'><details><summary>frequency</summary><div style='margin-left: 2em;'><strong>dims:</strong> ('frequency',)</div><div style='margin-left: 2em;'><details><summary>attrs</summary><div style='margin-left: 3em;'><details><summary>channel_width</summary><div style='margin-left: 4em;'><details><summary>attrs</summary><div style='margin-left: 5em;'><strong>type:</strong> quantity</div><div style='margin-left: 5em;'><strong>units:</strong> ['Hz']</div></details></div><div style='margin-left: 4em;'><strong>data:</strong> 11231488.981445312</div><div style='margin-left: 4em;'><strong>dims:</strong> </div></details></div><div style='margin-left: 3em;'><strong>frame:</strong> LSRK</div><div style='margin-left: 3em;'><details><summary>reference_frequency</summary><div style='margin-left: 4em;'><details><summary>attrs</summary><div style='margin-left: 5em;'><strong>frame:</strong> LSRK</div><div style='margin-left: 5em;'><strong>type:</strong> spectral_coord</div><div style='margin-left: 5em;'><strong>units:</strong> ['Hz']</div></details></div><div style='margin-left: 4em;'><strong>data:</strong> 343928096685.9587</div><div style='margin-left: 4em;'><strong>dims:</strong> </div></details></div><div style='margin-left: 3em;'><strong>spectral_window_name:</strong> </div><div style='margin-left: 3em;'><strong>spw_id:</strong> 0</div><div style='margin-left: 3em;'><strong>type:</strong> spectral_coord</div><div style='margin-left: 3em;'><strong>units:</strong> ['Hz']</div></details></div><div style='margin-left: 2em;'><strong>data:</strong> [343928096685.9587, 343939328174.9401, 343950559663.9216, 343961791152.903, 343973022641.88446, 343984254130.8659, 343995485619.84735, 344006717108.8288]</div></details></div></details></div><div style='margin-left: 0em;'><strong>name:</strong> frequency</div><div style='margin-left: 0em;'><details><summary>data_chunks</summary><div style='margin-left: 1em;'><strong>0:</strong> [343928096685.9587, 343939328174.9401, 343950559663.9216, 343961791152.903]</div><div style='margin-left: 1em;'><strong>1:</strong> [343961791152.903, 343973022641.88446, 343984254130.8659, 343995485619.84735]</div><div style='margin-left: 1em;'><strong>2:</strong> [343973022641.88446, 343984254130.8659, 343995485619.84735, 344006717108.8288]</div></details></div>"
      ],
      "text/plain": [
       "<IPython.core.display.HTML object>"
      ]
     },
     "metadata": {},
     "output_type": "display_data"
    }
   ],
   "source": [
    "from graphviper.utils.display import dict_to_html\n",
    "import dask\n",
    "\n",
    "dask.config.set(scheduler=\"synchronous\")\n",
    "from xradio.vis.read_processing_set import read_processing_set\n",
    "from IPython.display import HTML, display\n",
    "\n",
    "\n",
    "ps = read_processing_set(\n",
    "    ps_name=\"Antennae_North.cal.lsrk.split.vis.zarr\",\n",
    "    intents=[\"OBSERVE_TARGET#ON_SOURCE\"],\n",
    ")\n",
    "ms_xds = ps.get(1)\n",
    "n_chunks = 3\n",
    "\n",
    "parallel_coords = {}\n",
    "freq_coord = ms_xds.frequency.to_dict()\n",
    "# Here, we create overlapping data chunks. Currently, there is no convenience function available to assist with this.\n",
    "freq_coord[\"data_chunks\"] = {\n",
    "    0: freq_coord[\"data\"][0:4],\n",
    "    1: freq_coord[\"data\"][3:7],\n",
    "    2: freq_coord[\"data\"][4:8],\n",
    "}\n",
    "parallel_coords[\"frequency\"] = freq_coord\n",
    "\n",
    "display(HTML(dict_to_html(parallel_coords[\"frequency\"])))"
   ]
  },
  {
   "cell_type": "markdown",
   "id": "364f37c4",
   "metadata": {},
   "source": [
    "### Create Node Task Data Mapping"
   ]
  },
  {
   "cell_type": "code",
   "execution_count": 16,
   "id": "5f5e39ae",
   "metadata": {},
   "outputs": [
    {
     "data": {
      "text/html": [
       "<div style='margin-left: 0em;'><details><summary>0</summary><div style='margin-left: 1em;'><strong>chunk_indices:</strong> (0,)</div><div style='margin-left: 1em;'><strong>parallel_dims:</strong> ['frequency']</div><div style='margin-left: 1em;'><details><summary>data_selection</summary><div style='margin-left: 2em;'><details><summary>Antennae_North.cal.lsrk.split_ddi_0_intent_OBSERVE_TARGET#ON_SOURCE_field_id_1</summary><div style='margin-left: 3em;'><strong>frequency:</strong> slice(0, 4, None)</div></details></div><div style='margin-left: 2em;'><details><summary>Antennae_North.cal.lsrk.split_ddi_0_intent_OBSERVE_TARGET#ON_SOURCE_field_id_0</summary><div style='margin-left: 3em;'><strong>frequency:</strong> slice(0, 4, None)</div></details></div><div style='margin-left: 2em;'><details><summary>Antennae_North.cal.lsrk.split_ddi_0_intent_OBSERVE_TARGET#ON_SOURCE_field_id_2</summary><div style='margin-left: 3em;'><strong>frequency:</strong> slice(0, 4, None)</div></details></div></details></div><div style='margin-left: 1em;'><details><summary>task_coords</summary><div style='margin-left: 2em;'><details><summary>frequency</summary><div style='margin-left: 3em;'><strong>data:</strong> [343928096685.9587, 343939328174.9401, 343950559663.9216, 343961791152.903]</div><div style='margin-left: 3em;'><strong>dims:</strong> ('frequency',)</div><div style='margin-left: 3em;'><details><summary>attrs</summary><div style='margin-left: 4em;'><details><summary>channel_width</summary><div style='margin-left: 5em;'><details><summary>attrs</summary><div style='margin-left: 6em;'><strong>type:</strong> quantity</div><div style='margin-left: 6em;'><strong>units:</strong> ['Hz']</div></details></div><div style='margin-left: 5em;'><strong>data:</strong> 11231488.981445312</div><div style='margin-left: 5em;'><strong>dims:</strong> </div></details></div><div style='margin-left: 4em;'><strong>frame:</strong> LSRK</div><div style='margin-left: 4em;'><details><summary>reference_frequency</summary><div style='margin-left: 5em;'><details><summary>attrs</summary><div style='margin-left: 6em;'><strong>frame:</strong> LSRK</div><div style='margin-left: 6em;'><strong>type:</strong> spectral_coord</div><div style='margin-left: 6em;'><strong>units:</strong> ['Hz']</div></details></div><div style='margin-left: 5em;'><strong>data:</strong> 343928096685.9587</div><div style='margin-left: 5em;'><strong>dims:</strong> </div></details></div><div style='margin-left: 4em;'><strong>spectral_window_name:</strong> </div><div style='margin-left: 4em;'><strong>spw_id:</strong> 0</div><div style='margin-left: 4em;'><strong>type:</strong> spectral_coord</div><div style='margin-left: 4em;'><strong>units:</strong> ['Hz']</div></details></div></details></div></details></div></details></div><div style='margin-left: 0em;'><details><summary>1</summary><div style='margin-left: 1em;'><strong>chunk_indices:</strong> (1,)</div><div style='margin-left: 1em;'><strong>parallel_dims:</strong> ['frequency']</div><div style='margin-left: 1em;'><details><summary>data_selection</summary><div style='margin-left: 2em;'><details><summary>Antennae_North.cal.lsrk.split_ddi_0_intent_OBSERVE_TARGET#ON_SOURCE_field_id_1</summary><div style='margin-left: 3em;'><strong>frequency:</strong> slice(3, 7, None)</div></details></div><div style='margin-left: 2em;'><details><summary>Antennae_North.cal.lsrk.split_ddi_0_intent_OBSERVE_TARGET#ON_SOURCE_field_id_0</summary><div style='margin-left: 3em;'><strong>frequency:</strong> slice(3, 7, None)</div></details></div><div style='margin-left: 2em;'><details><summary>Antennae_North.cal.lsrk.split_ddi_0_intent_OBSERVE_TARGET#ON_SOURCE_field_id_2</summary><div style='margin-left: 3em;'><strong>frequency:</strong> slice(3, 7, None)</div></details></div></details></div><div style='margin-left: 1em;'><details><summary>task_coords</summary><div style='margin-left: 2em;'><details><summary>frequency</summary><div style='margin-left: 3em;'><strong>data:</strong> [343961791152.903, 343973022641.88446, 343984254130.8659, 343995485619.84735]</div><div style='margin-left: 3em;'><strong>dims:</strong> ('frequency',)</div><div style='margin-left: 3em;'><details><summary>attrs</summary><div style='margin-left: 4em;'><details><summary>channel_width</summary><div style='margin-left: 5em;'><details><summary>attrs</summary><div style='margin-left: 6em;'><strong>type:</strong> quantity</div><div style='margin-left: 6em;'><strong>units:</strong> ['Hz']</div></details></div><div style='margin-left: 5em;'><strong>data:</strong> 11231488.981445312</div><div style='margin-left: 5em;'><strong>dims:</strong> </div></details></div><div style='margin-left: 4em;'><strong>frame:</strong> LSRK</div><div style='margin-left: 4em;'><details><summary>reference_frequency</summary><div style='margin-left: 5em;'><details><summary>attrs</summary><div style='margin-left: 6em;'><strong>frame:</strong> LSRK</div><div style='margin-left: 6em;'><strong>type:</strong> spectral_coord</div><div style='margin-left: 6em;'><strong>units:</strong> ['Hz']</div></details></div><div style='margin-left: 5em;'><strong>data:</strong> 343928096685.9587</div><div style='margin-left: 5em;'><strong>dims:</strong> </div></details></div><div style='margin-left: 4em;'><strong>spectral_window_name:</strong> </div><div style='margin-left: 4em;'><strong>spw_id:</strong> 0</div><div style='margin-left: 4em;'><strong>type:</strong> spectral_coord</div><div style='margin-left: 4em;'><strong>units:</strong> ['Hz']</div></details></div></details></div></details></div></details></div><div style='margin-left: 0em;'><details><summary>2</summary><div style='margin-left: 1em;'><strong>chunk_indices:</strong> (2,)</div><div style='margin-left: 1em;'><strong>parallel_dims:</strong> ['frequency']</div><div style='margin-left: 1em;'><details><summary>data_selection</summary><div style='margin-left: 2em;'><details><summary>Antennae_North.cal.lsrk.split_ddi_0_intent_OBSERVE_TARGET#ON_SOURCE_field_id_1</summary><div style='margin-left: 3em;'><strong>frequency:</strong> slice(4, 8, None)</div></details></div><div style='margin-left: 2em;'><details><summary>Antennae_North.cal.lsrk.split_ddi_0_intent_OBSERVE_TARGET#ON_SOURCE_field_id_0</summary><div style='margin-left: 3em;'><strong>frequency:</strong> slice(4, 8, None)</div></details></div><div style='margin-left: 2em;'><details><summary>Antennae_North.cal.lsrk.split_ddi_0_intent_OBSERVE_TARGET#ON_SOURCE_field_id_2</summary><div style='margin-left: 3em;'><strong>frequency:</strong> slice(4, 8, None)</div></details></div></details></div><div style='margin-left: 1em;'><details><summary>task_coords</summary><div style='margin-left: 2em;'><details><summary>frequency</summary><div style='margin-left: 3em;'><strong>data:</strong> [343973022641.88446, 343984254130.8659, 343995485619.84735, 344006717108.8288]</div><div style='margin-left: 3em;'><strong>dims:</strong> ('frequency',)</div><div style='margin-left: 3em;'><details><summary>attrs</summary><div style='margin-left: 4em;'><details><summary>channel_width</summary><div style='margin-left: 5em;'><details><summary>attrs</summary><div style='margin-left: 6em;'><strong>type:</strong> quantity</div><div style='margin-left: 6em;'><strong>units:</strong> ['Hz']</div></details></div><div style='margin-left: 5em;'><strong>data:</strong> 11231488.981445312</div><div style='margin-left: 5em;'><strong>dims:</strong> </div></details></div><div style='margin-left: 4em;'><strong>frame:</strong> LSRK</div><div style='margin-left: 4em;'><details><summary>reference_frequency</summary><div style='margin-left: 5em;'><details><summary>attrs</summary><div style='margin-left: 6em;'><strong>frame:</strong> LSRK</div><div style='margin-left: 6em;'><strong>type:</strong> spectral_coord</div><div style='margin-left: 6em;'><strong>units:</strong> ['Hz']</div></details></div><div style='margin-left: 5em;'><strong>data:</strong> 343928096685.9587</div><div style='margin-left: 5em;'><strong>dims:</strong> </div></details></div><div style='margin-left: 4em;'><strong>spectral_window_name:</strong> </div><div style='margin-left: 4em;'><strong>spw_id:</strong> 0</div><div style='margin-left: 4em;'><strong>type:</strong> spectral_coord</div><div style='margin-left: 4em;'><strong>units:</strong> ['Hz']</div></details></div></details></div></details></div></details></div>"
      ],
      "text/plain": [
       "<IPython.core.display.HTML object>"
      ]
     },
     "metadata": {},
     "output_type": "display_data"
    }
   ],
   "source": [
    "from graphviper.graph_tools.coordinate_utils import (\n",
    "    interpolate_data_coords_onto_parallel_coords,\n",
    ")\n",
    "\n",
    "node_task_data_mapping = interpolate_data_coords_onto_parallel_coords(\n",
    "    parallel_coords, ps\n",
    ")\n",
    "display(HTML(dict_to_html(node_task_data_mapping)))"
   ]
  },
  {
   "cell_type": "markdown",
   "id": "4660e626-9561-4817-9bd5-cce3b371853e",
   "metadata": {},
   "source": [
    "### Map Graph"
   ]
  },
  {
   "cell_type": "code",
   "execution_count": 17,
   "id": "59d7fd02-63e0-438f-b9a5-dde9789a8ac2",
   "metadata": {},
   "outputs": [
    {
     "data": {
      "image/png": "[encoded data removed]",
      "text/plain": [
       "<IPython.core.display.Image object>"
      ]
     },
     "execution_count": 17,
     "metadata": {},
     "output_type": "execute_result"
    }
   ],
   "source": [
    "from graphviper.graph_tools.map import map\n",
    "import dask\n",
    "from IPython.display import display, HTML\n",
    "from xradio.vis.read_processing_set import read_processing_set\n",
    "\n",
    "\n",
    "def my_func(input_params):\n",
    "    display(HTML(dict_to_html(input_params)))\n",
    "\n",
    "    print(\"*\" * 30)\n",
    "    return input_params[\"test_input\"]\n",
    "\n",
    "\n",
    "input_params = {}\n",
    "input_params[\"test_input\"] = 42\n",
    "\n",
    "ps = read_processing_set(\n",
    "    ps_name=\"Antennae_North.cal.lsrk.split.vis.zarr\",\n",
    "    intents=[\"OBSERVE_TARGET#ON_SOURCE\"],\n",
    ")\n",
    "\n",
    "graph = map(\n",
    "    input_data=ps,\n",
    "    node_task_data_mapping=node_task_data_mapping,\n",
    "    node_task=my_func,\n",
    "    input_params=input_params,\n",
    ")\n",
    "\n",
    "dask.visualize(graph, filename=\"map_graph\")"
   ]
  },
  {
   "cell_type": "markdown",
   "id": "1bbbc632-2744-4364-bac0-0c07670ff5d6",
   "metadata": {},
   "source": [
    "### Run Map Graph"
   ]
  },
  {
   "cell_type": "code",
   "execution_count": 18,
   "id": "c08fd267-270e-410b-9a8e-122c351a70c9",
   "metadata": {
    "scrolled": true
   },
   "outputs": [
    {
     "data": {
      "text/html": [
       "<div style='margin-left: 0em;'><strong>test_input:</strong> 42</div><div style='margin-left: 0em;'><strong>chunk_indices:</strong> (2,)</div><div style='margin-left: 0em;'><strong>parallel_dims:</strong> ['frequency']</div><div style='margin-left: 0em;'><details><summary>data_selection</summary><div style='margin-left: 1em;'><details><summary>Antennae_North.cal.lsrk.split_ddi_0_intent_OBSERVE_TARGET#ON_SOURCE_field_id_1</summary><div style='margin-left: 2em;'><strong>frequency:</strong> slice(4, 8, None)</div></details></div><div style='margin-left: 1em;'><details><summary>Antennae_North.cal.lsrk.split_ddi_0_intent_OBSERVE_TARGET#ON_SOURCE_field_id_0</summary><div style='margin-left: 2em;'><strong>frequency:</strong> slice(4, 8, None)</div></details></div><div style='margin-left: 1em;'><details><summary>Antennae_North.cal.lsrk.split_ddi_0_intent_OBSERVE_TARGET#ON_SOURCE_field_id_2</summary><div style='margin-left: 2em;'><strong>frequency:</strong> slice(4, 8, None)</div></details></div></details></div><div style='margin-left: 0em;'><details><summary>task_coords</summary><div style='margin-left: 1em;'><details><summary>frequency</summary><div style='margin-left: 2em;'><strong>data:</strong> [343973022641.88446, 343984254130.8659, 343995485619.84735, 344006717108.8288]</div><div style='margin-left: 2em;'><strong>dims:</strong> ('frequency',)</div><div style='margin-left: 2em;'><details><summary>attrs</summary><div style='margin-left: 3em;'><details><summary>channel_width</summary><div style='margin-left: 4em;'><details><summary>attrs</summary><div style='margin-left: 5em;'><strong>type:</strong> quantity</div><div style='margin-left: 5em;'><strong>units:</strong> ['Hz']</div></details></div><div style='margin-left: 4em;'><strong>data:</strong> 11231488.981445312</div><div style='margin-left: 4em;'><strong>dims:</strong> </div></details></div><div style='margin-left: 3em;'><strong>frame:</strong> LSRK</div><div style='margin-left: 3em;'><details><summary>reference_frequency</summary><div style='margin-left: 4em;'><details><summary>attrs</summary><div style='margin-left: 5em;'><strong>frame:</strong> LSRK</div><div style='margin-left: 5em;'><strong>type:</strong> spectral_coord</div><div style='margin-left: 5em;'><strong>units:</strong> ['Hz']</div></details></div><div style='margin-left: 4em;'><strong>data:</strong> 343928096685.9587</div><div style='margin-left: 4em;'><strong>dims:</strong> </div></details></div><div style='margin-left: 3em;'><strong>spectral_window_name:</strong> </div><div style='margin-left: 3em;'><strong>spw_id:</strong> 0</div><div style='margin-left: 3em;'><strong>type:</strong> spectral_coord</div><div style='margin-left: 3em;'><strong>units:</strong> ['Hz']</div></details></div></details></div></details></div><div style='margin-left: 0em;'><strong>task_id:</strong> 2</div><div style='margin-left: 0em;'><strong>input_data:</strong> None</div><div style='margin-left: 0em;'><strong>date_time:</strong> None</div>"
      ],
      "text/plain": [
       "<IPython.core.display.HTML object>"
      ]
     },
     "metadata": {},
     "output_type": "display_data"
    },
    {
     "name": "stdout",
     "output_type": "stream",
     "text": [
      "******************************\n"
     ]
    },
    {
     "data": {
      "text/html": [
       "<div style='margin-left: 0em;'><strong>test_input:</strong> 42</div><div style='margin-left: 0em;'><strong>chunk_indices:</strong> (1,)</div><div style='margin-left: 0em;'><strong>parallel_dims:</strong> ['frequency']</div><div style='margin-left: 0em;'><details><summary>data_selection</summary><div style='margin-left: 1em;'><details><summary>Antennae_North.cal.lsrk.split_ddi_0_intent_OBSERVE_TARGET#ON_SOURCE_field_id_1</summary><div style='margin-left: 2em;'><strong>frequency:</strong> slice(3, 7, None)</div></details></div><div style='margin-left: 1em;'><details><summary>Antennae_North.cal.lsrk.split_ddi_0_intent_OBSERVE_TARGET#ON_SOURCE_field_id_0</summary><div style='margin-left: 2em;'><strong>frequency:</strong> slice(3, 7, None)</div></details></div><div style='margin-left: 1em;'><details><summary>Antennae_North.cal.lsrk.split_ddi_0_intent_OBSERVE_TARGET#ON_SOURCE_field_id_2</summary><div style='margin-left: 2em;'><strong>frequency:</strong> slice(3, 7, None)</div></details></div></details></div><div style='margin-left: 0em;'><details><summary>task_coords</summary><div style='margin-left: 1em;'><details><summary>frequency</summary><div style='margin-left: 2em;'><strong>data:</strong> [343961791152.903, 343973022641.88446, 343984254130.8659, 343995485619.84735]</div><div style='margin-left: 2em;'><strong>dims:</strong> ('frequency',)</div><div style='margin-left: 2em;'><details><summary>attrs</summary><div style='margin-left: 3em;'><details><summary>channel_width</summary><div style='margin-left: 4em;'><details><summary>attrs</summary><div style='margin-left: 5em;'><strong>type:</strong> quantity</div><div style='margin-left: 5em;'><strong>units:</strong> ['Hz']</div></details></div><div style='margin-left: 4em;'><strong>data:</strong> 11231488.981445312</div><div style='margin-left: 4em;'><strong>dims:</strong> </div></details></div><div style='margin-left: 3em;'><strong>frame:</strong> LSRK</div><div style='margin-left: 3em;'><details><summary>reference_frequency</summary><div style='margin-left: 4em;'><details><summary>attrs</summary><div style='margin-left: 5em;'><strong>frame:</strong> LSRK</div><div style='margin-left: 5em;'><strong>type:</strong> spectral_coord</div><div style='margin-left: 5em;'><strong>units:</strong> ['Hz']</div></details></div><div style='margin-left: 4em;'><strong>data:</strong> 343928096685.9587</div><div style='margin-left: 4em;'><strong>dims:</strong> </div></details></div><div style='margin-left: 3em;'><strong>spectral_window_name:</strong> </div><div style='margin-left: 3em;'><strong>spw_id:</strong> 0</div><div style='margin-left: 3em;'><strong>type:</strong> spectral_coord</div><div style='margin-left: 3em;'><strong>units:</strong> ['Hz']</div></details></div></details></div></details></div><div style='margin-left: 0em;'><strong>task_id:</strong> 1</div><div style='margin-left: 0em;'><strong>input_data:</strong> None</div><div style='margin-left: 0em;'><strong>date_time:</strong> None</div>"
      ],
      "text/plain": [
       "<IPython.core.display.HTML object>"
      ]
     },
     "metadata": {},
     "output_type": "display_data"
    },
    {
     "name": "stdout",
     "output_type": "stream",
     "text": [
      "******************************\n"
     ]
    },
    {
     "data": {
      "text/html": [
       "<div style='margin-left: 0em;'><strong>test_input:</strong> 42</div><div style='margin-left: 0em;'><strong>chunk_indices:</strong> (0,)</div><div style='margin-left: 0em;'><strong>parallel_dims:</strong> ['frequency']</div><div style='margin-left: 0em;'><details><summary>data_selection</summary><div style='margin-left: 1em;'><details><summary>Antennae_North.cal.lsrk.split_ddi_0_intent_OBSERVE_TARGET#ON_SOURCE_field_id_1</summary><div style='margin-left: 2em;'><strong>frequency:</strong> slice(0, 4, None)</div></details></div><div style='margin-left: 1em;'><details><summary>Antennae_North.cal.lsrk.split_ddi_0_intent_OBSERVE_TARGET#ON_SOURCE_field_id_0</summary><div style='margin-left: 2em;'><strong>frequency:</strong> slice(0, 4, None)</div></details></div><div style='margin-left: 1em;'><details><summary>Antennae_North.cal.lsrk.split_ddi_0_intent_OBSERVE_TARGET#ON_SOURCE_field_id_2</summary><div style='margin-left: 2em;'><strong>frequency:</strong> slice(0, 4, None)</div></details></div></details></div><div style='margin-left: 0em;'><details><summary>task_coords</summary><div style='margin-left: 1em;'><details><summary>frequency</summary><div style='margin-left: 2em;'><strong>data:</strong> [343928096685.9587, 343939328174.9401, 343950559663.9216, 343961791152.903]</div><div style='margin-left: 2em;'><strong>dims:</strong> ('frequency',)</div><div style='margin-left: 2em;'><details><summary>attrs</summary><div style='margin-left: 3em;'><details><summary>channel_width</summary><div style='margin-left: 4em;'><details><summary>attrs</summary><div style='margin-left: 5em;'><strong>type:</strong> quantity</div><div style='margin-left: 5em;'><strong>units:</strong> ['Hz']</div></details></div><div style='margin-left: 4em;'><strong>data:</strong> 11231488.981445312</div><div style='margin-left: 4em;'><strong>dims:</strong> </div></details></div><div style='margin-left: 3em;'><strong>frame:</strong> LSRK</div><div style='margin-left: 3em;'><details><summary>reference_frequency</summary><div style='margin-left: 4em;'><details><summary>attrs</summary><div style='margin-left: 5em;'><strong>frame:</strong> LSRK</div><div style='margin-left: 5em;'><strong>type:</strong> spectral_coord</div><div style='margin-left: 5em;'><strong>units:</strong> ['Hz']</div></details></div><div style='margin-left: 4em;'><strong>data:</strong> 343928096685.9587</div><div style='margin-left: 4em;'><strong>dims:</strong> </div></details></div><div style='margin-left: 3em;'><strong>spectral_window_name:</strong> </div><div style='margin-left: 3em;'><strong>spw_id:</strong> 0</div><div style='margin-left: 3em;'><strong>type:</strong> spectral_coord</div><div style='margin-left: 3em;'><strong>units:</strong> ['Hz']</div></details></div></details></div></details></div><div style='margin-left: 0em;'><strong>task_id:</strong> 0</div><div style='margin-left: 0em;'><strong>input_data:</strong> None</div><div style='margin-left: 0em;'><strong>date_time:</strong> None</div>"
      ],
      "text/plain": [
       "<IPython.core.display.HTML object>"
      ]
     },
     "metadata": {},
     "output_type": "display_data"
    },
    {
     "name": "stdout",
     "output_type": "stream",
     "text": [
      "******************************\n"
     ]
    },
    {
     "data": {
      "text/plain": [
       "(([42, 42, 42], None),)"
      ]
     },
     "execution_count": 18,
     "metadata": {},
     "output_type": "execute_result"
    }
   ],
   "source": [
    "dask.compute(graph)"
   ]
  },
  {
   "cell_type": "markdown",
   "id": "16514b4c-f138-48db-88e3-7d204747bff7",
   "metadata": {},
   "source": [
    "## Baseline and Frequency Map Reduce"
   ]
  },
  {
   "cell_type": "markdown",
   "id": "e9f98381-34c8-400f-a7c0-b4fba291b330",
   "metadata": {},
   "source": [
    "### Create Parallel Coordinates"
   ]
  },
  {
   "cell_type": "code",
   "execution_count": 19,
   "id": "54625049-166f-4748-ade2-2e0164d253b2",
   "metadata": {},
   "outputs": [
    {
     "data": {
      "text/html": [
       "<div style='margin-left: 0em;'><details><summary>baseline_id</summary><div style='margin-left: 1em;'><strong>data:</strong> [ 0  1  2  3  4  5  6  7  8  9 10 11 12 13 14 15 16 17 18 19 20 21 22 23\n",
       " 24 25 26 27 28 29 30 31 32 33 34 35 36 37 38 39 40 41 42 43 44 45 46 47\n",
       " 48 49 50 51 52 53 54 55 56 57 58 59 60 61 62 63]</div><div style='margin-left: 1em;'><details><summary>data_chunks</summary><div style='margin-left: 2em;'><strong>0:</strong> [ 0  1  2  3  4  5  6  7  8  9 10 11 12 13 14 15]</div><div style='margin-left: 2em;'><strong>1:</strong> [16 17 18 19 20 21 22 23 24 25 26 27 28 29 30 31]</div><div style='margin-left: 2em;'><strong>2:</strong> [32 33 34 35 36 37 38 39 40 41 42 43 44 45 46 47]</div><div style='margin-left: 2em;'><strong>3:</strong> [48 49 50 51 52 53 54 55 56 57 58 59 60 61 62 63]</div></details></div><div style='margin-left: 1em;'><strong>data_chunks_edges:</strong> [0, 15, 16, 31, 32, 47, 48, 63]</div><div style='margin-left: 1em;'><strong>dims:</strong> ('baseline_id',)</div><div style='margin-left: 1em;'><details><summary>attrs</summary></details></div></details></div><div style='margin-left: 0em;'><details><summary>frequency</summary><div style='margin-left: 1em;'><strong>data:</strong> [3.43928097e+11 3.43939328e+11 3.43950560e+11 3.43961791e+11\n",
       " 3.43973023e+11 3.43984254e+11 3.43995486e+11 3.44006717e+11]</div><div style='margin-left: 1em;'><details><summary>data_chunks</summary><div style='margin-left: 2em;'><strong>0:</strong> [3.43928097e+11 3.43939328e+11 3.43950560e+11]</div><div style='margin-left: 2em;'><strong>1:</strong> [3.43961791e+11 3.43973023e+11 3.43984254e+11]</div><div style='margin-left: 2em;'><strong>2:</strong> [3.43995486e+11 3.44006717e+11]</div></details></div><div style='margin-left: 1em;'><strong>data_chunks_edges:</strong> [343928096685.9587, 343950559663.9216, 343961791152.903, 343984254130.8659, 343995485619.84735, 344006717108.8288]</div><div style='margin-left: 1em;'><strong>dims:</strong> ('frequency',)</div><div style='margin-left: 1em;'><details><summary>attrs</summary><div style='margin-left: 2em;'><details><summary>channel_width</summary><div style='margin-left: 3em;'><details><summary>attrs</summary><div style='margin-left: 4em;'><strong>type:</strong> quantity</div><div style='margin-left: 4em;'><strong>units:</strong> ['Hz']</div></details></div><div style='margin-left: 3em;'><strong>data:</strong> 11231488.981445312</div><div style='margin-left: 3em;'><strong>dims:</strong> </div></details></div><div style='margin-left: 2em;'><strong>frame:</strong> LSRK</div><div style='margin-left: 2em;'><details><summary>reference_frequency</summary><div style='margin-left: 3em;'><details><summary>attrs</summary><div style='margin-left: 4em;'><strong>frame:</strong> LSRK</div><div style='margin-left: 4em;'><strong>type:</strong> spectral_coord</div><div style='margin-left: 4em;'><strong>units:</strong> ['Hz']</div></details></div><div style='margin-left: 3em;'><strong>data:</strong> 343928096685.9587</div><div style='margin-left: 3em;'><strong>dims:</strong> </div></details></div><div style='margin-left: 2em;'><strong>spectral_window_name:</strong> </div><div style='margin-left: 2em;'><strong>spw_id:</strong> 0</div><div style='margin-left: 2em;'><strong>type:</strong> spectral_coord</div><div style='margin-left: 2em;'><strong>units:</strong> ['Hz']</div></details></div></details></div>"
      ],
      "text/plain": [
       "<IPython.core.display.HTML object>"
      ]
     },
     "metadata": {},
     "output_type": "display_data"
    }
   ],
   "source": [
    "from graphviper.utils.display import dict_to_html\n",
    "from graphviper.graph_tools.coordinate_utils import make_parallel_coord\n",
    "import dask\n",
    "\n",
    "dask.config.set(scheduler=\"synchronous\")\n",
    "\n",
    "from xradio.vis.read_processing_set import read_processing_set\n",
    "\n",
    "from IPython.display import HTML, display\n",
    "\n",
    "intents = [\"OBSERVE_TARGET#ON_SOURCE\"]\n",
    "ps = read_processing_set(\n",
    "    ps_name=\"Antennae_North.cal.lsrk.split.vis.zarr\",\n",
    "    intents=[\"OBSERVE_TARGET#ON_SOURCE\"],\n",
    ")\n",
    "ms_xds = ps.get(1)\n",
    "\n",
    "parallel_coords = {}\n",
    "\n",
    "import xarray as xr\n",
    "import numpy as np\n",
    "\n",
    "n_chunks = 4\n",
    "parallel_coords[\"baseline_id\"] = make_parallel_coord(\n",
    "    coord=ms_xds.baseline_id, n_chunks=n_chunks\n",
    ")\n",
    "\n",
    "n_chunks = 3\n",
    "parallel_coords[\"frequency\"] = make_parallel_coord(\n",
    "    coord=ms_xds.frequency, n_chunks=n_chunks\n",
    ")\n",
    "\n",
    "display(HTML(dict_to_html(parallel_coords)))"
   ]
  },
  {
   "cell_type": "markdown",
   "id": "00419ea6",
   "metadata": {},
   "source": [
    "### Create Node Task Data Mapping"
   ]
  },
  {
   "cell_type": "code",
   "execution_count": 20,
   "id": "b0a04407",
   "metadata": {},
   "outputs": [
    {
     "data": {
      "text/html": [
       "<div style='margin-left: 0em;'><details><summary>0</summary><div style='margin-left: 1em;'><strong>chunk_indices:</strong> (0, 0)</div><div style='margin-left: 1em;'><strong>parallel_dims:</strong> ['baseline_id', 'frequency']</div><div style='margin-left: 1em;'><details><summary>data_selection</summary><div style='margin-left: 2em;'><details><summary>Antennae_North.cal.lsrk.split_ddi_0_intent_OBSERVE_TARGET#ON_SOURCE_field_id_1</summary><div style='margin-left: 3em;'><strong>baseline_id:</strong> slice(0, 16, None)</div><div style='margin-left: 3em;'><strong>frequency:</strong> slice(0, 3, None)</div></details></div><div style='margin-left: 2em;'><details><summary>Antennae_North.cal.lsrk.split_ddi_0_intent_OBSERVE_TARGET#ON_SOURCE_field_id_0</summary><div style='margin-left: 3em;'><strong>baseline_id:</strong> slice(0, 16, None)</div><div style='margin-left: 3em;'><strong>frequency:</strong> slice(0, 3, None)</div></details></div><div style='margin-left: 2em;'><details><summary>Antennae_North.cal.lsrk.split_ddi_0_intent_OBSERVE_TARGET#ON_SOURCE_field_id_2</summary><div style='margin-left: 3em;'><strong>baseline_id:</strong> slice(0, 16, None)</div><div style='margin-left: 3em;'><strong>frequency:</strong> slice(0, 3, None)</div></details></div></details></div><div style='margin-left: 1em;'><details><summary>task_coords</summary><div style='margin-left: 2em;'><details><summary>baseline_id</summary><div style='margin-left: 3em;'><strong>data:</strong> [ 0  1  2  3  4  5  6  7  8  9 10 11 12 13 14 15]</div><div style='margin-left: 3em;'><strong>dims:</strong> ('baseline_id',)</div><div style='margin-left: 3em;'><details><summary>attrs</summary></details></div></details></div><div style='margin-left: 2em;'><details><summary>frequency</summary><div style='margin-left: 3em;'><strong>data:</strong> [3.43928097e+11 3.43939328e+11 3.43950560e+11]</div><div style='margin-left: 3em;'><strong>dims:</strong> ('frequency',)</div><div style='margin-left: 3em;'><details><summary>attrs</summary><div style='margin-left: 4em;'><details><summary>channel_width</summary><div style='margin-left: 5em;'><details><summary>attrs</summary><div style='margin-left: 6em;'><strong>type:</strong> quantity</div><div style='margin-left: 6em;'><strong>units:</strong> ['Hz']</div></details></div><div style='margin-left: 5em;'><strong>data:</strong> 11231488.981445312</div><div style='margin-left: 5em;'><strong>dims:</strong> </div></details></div><div style='margin-left: 4em;'><strong>frame:</strong> LSRK</div><div style='margin-left: 4em;'><details><summary>reference_frequency</summary><div style='margin-left: 5em;'><details><summary>attrs</summary><div style='margin-left: 6em;'><strong>frame:</strong> LSRK</div><div style='margin-left: 6em;'><strong>type:</strong> spectral_coord</div><div style='margin-left: 6em;'><strong>units:</strong> ['Hz']</div></details></div><div style='margin-left: 5em;'><strong>data:</strong> 343928096685.9587</div><div style='margin-left: 5em;'><strong>dims:</strong> </div></details></div><div style='margin-left: 4em;'><strong>spectral_window_name:</strong> </div><div style='margin-left: 4em;'><strong>spw_id:</strong> 0</div><div style='margin-left: 4em;'><strong>type:</strong> spectral_coord</div><div style='margin-left: 4em;'><strong>units:</strong> ['Hz']</div></details></div></details></div></details></div></details></div><div style='margin-left: 0em;'><details><summary>1</summary><div style='margin-left: 1em;'><strong>chunk_indices:</strong> (0, 1)</div><div style='margin-left: 1em;'><strong>parallel_dims:</strong> ['baseline_id', 'frequency']</div><div style='margin-left: 1em;'><details><summary>data_selection</summary><div style='margin-left: 2em;'><details><summary>Antennae_North.cal.lsrk.split_ddi_0_intent_OBSERVE_TARGET#ON_SOURCE_field_id_1</summary><div style='margin-left: 3em;'><strong>baseline_id:</strong> slice(0, 16, None)</div><div style='margin-left: 3em;'><strong>frequency:</strong> slice(3, 6, None)</div></details></div><div style='margin-left: 2em;'><details><summary>Antennae_North.cal.lsrk.split_ddi_0_intent_OBSERVE_TARGET#ON_SOURCE_field_id_0</summary><div style='margin-left: 3em;'><strong>baseline_id:</strong> slice(0, 16, None)</div><div style='margin-left: 3em;'><strong>frequency:</strong> slice(3, 6, None)</div></details></div><div style='margin-left: 2em;'><details><summary>Antennae_North.cal.lsrk.split_ddi_0_intent_OBSERVE_TARGET#ON_SOURCE_field_id_2</summary><div style='margin-left: 3em;'><strong>baseline_id:</strong> slice(0, 16, None)</div><div style='margin-left: 3em;'><strong>frequency:</strong> slice(3, 6, None)</div></details></div></details></div><div style='margin-left: 1em;'><details><summary>task_coords</summary><div style='margin-left: 2em;'><details><summary>baseline_id</summary><div style='margin-left: 3em;'><strong>data:</strong> [ 0  1  2  3  4  5  6  7  8  9 10 11 12 13 14 15]</div><div style='margin-left: 3em;'><strong>dims:</strong> ('baseline_id',)</div><div style='margin-left: 3em;'><details><summary>attrs</summary></details></div></details></div><div style='margin-left: 2em;'><details><summary>frequency</summary><div style='margin-left: 3em;'><strong>data:</strong> [3.43961791e+11 3.43973023e+11 3.43984254e+11]</div><div style='margin-left: 3em;'><strong>dims:</strong> ('frequency',)</div><div style='margin-left: 3em;'><details><summary>attrs</summary><div style='margin-left: 4em;'><details><summary>channel_width</summary><div style='margin-left: 5em;'><details><summary>attrs</summary><div style='margin-left: 6em;'><strong>type:</strong> quantity</div><div style='margin-left: 6em;'><strong>units:</strong> ['Hz']</div></details></div><div style='margin-left: 5em;'><strong>data:</strong> 11231488.981445312</div><div style='margin-left: 5em;'><strong>dims:</strong> </div></details></div><div style='margin-left: 4em;'><strong>frame:</strong> LSRK</div><div style='margin-left: 4em;'><details><summary>reference_frequency</summary><div style='margin-left: 5em;'><details><summary>attrs</summary><div style='margin-left: 6em;'><strong>frame:</strong> LSRK</div><div style='margin-left: 6em;'><strong>type:</strong> spectral_coord</div><div style='margin-left: 6em;'><strong>units:</strong> ['Hz']</div></details></div><div style='margin-left: 5em;'><strong>data:</strong> 343928096685.9587</div><div style='margin-left: 5em;'><strong>dims:</strong> </div></details></div><div style='margin-left: 4em;'><strong>spectral_window_name:</strong> </div><div style='margin-left: 4em;'><strong>spw_id:</strong> 0</div><div style='margin-left: 4em;'><strong>type:</strong> spectral_coord</div><div style='margin-left: 4em;'><strong>units:</strong> ['Hz']</div></details></div></details></div></details></div></details></div><div style='margin-left: 0em;'><details><summary>2</summary><div style='margin-left: 1em;'><strong>chunk_indices:</strong> (0, 2)</div><div style='margin-left: 1em;'><strong>parallel_dims:</strong> ['baseline_id', 'frequency']</div><div style='margin-left: 1em;'><details><summary>data_selection</summary><div style='margin-left: 2em;'><details><summary>Antennae_North.cal.lsrk.split_ddi_0_intent_OBSERVE_TARGET#ON_SOURCE_field_id_1</summary><div style='margin-left: 3em;'><strong>baseline_id:</strong> slice(0, 16, None)</div><div style='margin-left: 3em;'><strong>frequency:</strong> slice(6, 8, None)</div></details></div><div style='margin-left: 2em;'><details><summary>Antennae_North.cal.lsrk.split_ddi_0_intent_OBSERVE_TARGET#ON_SOURCE_field_id_0</summary><div style='margin-left: 3em;'><strong>baseline_id:</strong> slice(0, 16, None)</div><div style='margin-left: 3em;'><strong>frequency:</strong> slice(6, 8, None)</div></details></div><div style='margin-left: 2em;'><details><summary>Antennae_North.cal.lsrk.split_ddi_0_intent_OBSERVE_TARGET#ON_SOURCE_field_id_2</summary><div style='margin-left: 3em;'><strong>baseline_id:</strong> slice(0, 16, None)</div><div style='margin-left: 3em;'><strong>frequency:</strong> slice(6, 8, None)</div></details></div></details></div><div style='margin-left: 1em;'><details><summary>task_coords</summary><div style='margin-left: 2em;'><details><summary>baseline_id</summary><div style='margin-left: 3em;'><strong>data:</strong> [ 0  1  2  3  4  5  6  7  8  9 10 11 12 13 14 15]</div><div style='margin-left: 3em;'><strong>dims:</strong> ('baseline_id',)</div><div style='margin-left: 3em;'><details><summary>attrs</summary></details></div></details></div><div style='margin-left: 2em;'><details><summary>frequency</summary><div style='margin-left: 3em;'><strong>data:</strong> [3.43995486e+11 3.44006717e+11]</div><div style='margin-left: 3em;'><strong>dims:</strong> ('frequency',)</div><div style='margin-left: 3em;'><details><summary>attrs</summary><div style='margin-left: 4em;'><details><summary>channel_width</summary><div style='margin-left: 5em;'><details><summary>attrs</summary><div style='margin-left: 6em;'><strong>type:</strong> quantity</div><div style='margin-left: 6em;'><strong>units:</strong> ['Hz']</div></details></div><div style='margin-left: 5em;'><strong>data:</strong> 11231488.981445312</div><div style='margin-left: 5em;'><strong>dims:</strong> </div></details></div><div style='margin-left: 4em;'><strong>frame:</strong> LSRK</div><div style='margin-left: 4em;'><details><summary>reference_frequency</summary><div style='margin-left: 5em;'><details><summary>attrs</summary><div style='margin-left: 6em;'><strong>frame:</strong> LSRK</div><div style='margin-left: 6em;'><strong>type:</strong> spectral_coord</div><div style='margin-left: 6em;'><strong>units:</strong> ['Hz']</div></details></div><div style='margin-left: 5em;'><strong>data:</strong> 343928096685.9587</div><div style='margin-left: 5em;'><strong>dims:</strong> </div></details></div><div style='margin-left: 4em;'><strong>spectral_window_name:</strong> </div><div style='margin-left: 4em;'><strong>spw_id:</strong> 0</div><div style='margin-left: 4em;'><strong>type:</strong> spectral_coord</div><div style='margin-left: 4em;'><strong>units:</strong> ['Hz']</div></details></div></details></div></details></div></details></div><div style='margin-left: 0em;'><details><summary>3</summary><div style='margin-left: 1em;'><strong>chunk_indices:</strong> (1, 0)</div><div style='margin-left: 1em;'><strong>parallel_dims:</strong> ['baseline_id', 'frequency']</div><div style='margin-left: 1em;'><details><summary>data_selection</summary><div style='margin-left: 2em;'><details><summary>Antennae_North.cal.lsrk.split_ddi_0_intent_OBSERVE_TARGET#ON_SOURCE_field_id_1</summary><div style='margin-left: 3em;'><strong>baseline_id:</strong> slice(16, 32, None)</div><div style='margin-left: 3em;'><strong>frequency:</strong> slice(0, 3, None)</div></details></div><div style='margin-left: 2em;'><details><summary>Antennae_North.cal.lsrk.split_ddi_0_intent_OBSERVE_TARGET#ON_SOURCE_field_id_0</summary><div style='margin-left: 3em;'><strong>baseline_id:</strong> slice(16, 32, None)</div><div style='margin-left: 3em;'><strong>frequency:</strong> slice(0, 3, None)</div></details></div><div style='margin-left: 2em;'><details><summary>Antennae_North.cal.lsrk.split_ddi_0_intent_OBSERVE_TARGET#ON_SOURCE_field_id_2</summary><div style='margin-left: 3em;'><strong>baseline_id:</strong> slice(16, 32, None)</div><div style='margin-left: 3em;'><strong>frequency:</strong> slice(0, 3, None)</div></details></div></details></div><div style='margin-left: 1em;'><details><summary>task_coords</summary><div style='margin-left: 2em;'><details><summary>baseline_id</summary><div style='margin-left: 3em;'><strong>data:</strong> [16 17 18 19 20 21 22 23 24 25 26 27 28 29 30 31]</div><div style='margin-left: 3em;'><strong>dims:</strong> ('baseline_id',)</div><div style='margin-left: 3em;'><details><summary>attrs</summary></details></div></details></div><div style='margin-left: 2em;'><details><summary>frequency</summary><div style='margin-left: 3em;'><strong>data:</strong> [3.43928097e+11 3.43939328e+11 3.43950560e+11]</div><div style='margin-left: 3em;'><strong>dims:</strong> ('frequency',)</div><div style='margin-left: 3em;'><details><summary>attrs</summary><div style='margin-left: 4em;'><details><summary>channel_width</summary><div style='margin-left: 5em;'><details><summary>attrs</summary><div style='margin-left: 6em;'><strong>type:</strong> quantity</div><div style='margin-left: 6em;'><strong>units:</strong> ['Hz']</div></details></div><div style='margin-left: 5em;'><strong>data:</strong> 11231488.981445312</div><div style='margin-left: 5em;'><strong>dims:</strong> </div></details></div><div style='margin-left: 4em;'><strong>frame:</strong> LSRK</div><div style='margin-left: 4em;'><details><summary>reference_frequency</summary><div style='margin-left: 5em;'><details><summary>attrs</summary><div style='margin-left: 6em;'><strong>frame:</strong> LSRK</div><div style='margin-left: 6em;'><strong>type:</strong> spectral_coord</div><div style='margin-left: 6em;'><strong>units:</strong> ['Hz']</div></details></div><div style='margin-left: 5em;'><strong>data:</strong> 343928096685.9587</div><div style='margin-left: 5em;'><strong>dims:</strong> </div></details></div><div style='margin-left: 4em;'><strong>spectral_window_name:</strong> </div><div style='margin-left: 4em;'><strong>spw_id:</strong> 0</div><div style='margin-left: 4em;'><strong>type:</strong> spectral_coord</div><div style='margin-left: 4em;'><strong>units:</strong> ['Hz']</div></details></div></details></div></details></div></details></div><div style='margin-left: 0em;'><details><summary>4</summary><div style='margin-left: 1em;'><strong>chunk_indices:</strong> (1, 1)</div><div style='margin-left: 1em;'><strong>parallel_dims:</strong> ['baseline_id', 'frequency']</div><div style='margin-left: 1em;'><details><summary>data_selection</summary><div style='margin-left: 2em;'><details><summary>Antennae_North.cal.lsrk.split_ddi_0_intent_OBSERVE_TARGET#ON_SOURCE_field_id_1</summary><div style='margin-left: 3em;'><strong>baseline_id:</strong> slice(16, 32, None)</div><div style='margin-left: 3em;'><strong>frequency:</strong> slice(3, 6, None)</div></details></div><div style='margin-left: 2em;'><details><summary>Antennae_North.cal.lsrk.split_ddi_0_intent_OBSERVE_TARGET#ON_SOURCE_field_id_0</summary><div style='margin-left: 3em;'><strong>baseline_id:</strong> slice(16, 32, None)</div><div style='margin-left: 3em;'><strong>frequency:</strong> slice(3, 6, None)</div></details></div><div style='margin-left: 2em;'><details><summary>Antennae_North.cal.lsrk.split_ddi_0_intent_OBSERVE_TARGET#ON_SOURCE_field_id_2</summary><div style='margin-left: 3em;'><strong>baseline_id:</strong> slice(16, 32, None)</div><div style='margin-left: 3em;'><strong>frequency:</strong> slice(3, 6, None)</div></details></div></details></div><div style='margin-left: 1em;'><details><summary>task_coords</summary><div style='margin-left: 2em;'><details><summary>baseline_id</summary><div style='margin-left: 3em;'><strong>data:</strong> [16 17 18 19 20 21 22 23 24 25 26 27 28 29 30 31]</div><div style='margin-left: 3em;'><strong>dims:</strong> ('baseline_id',)</div><div style='margin-left: 3em;'><details><summary>attrs</summary></details></div></details></div><div style='margin-left: 2em;'><details><summary>frequency</summary><div style='margin-left: 3em;'><strong>data:</strong> [3.43961791e+11 3.43973023e+11 3.43984254e+11]</div><div style='margin-left: 3em;'><strong>dims:</strong> ('frequency',)</div><div style='margin-left: 3em;'><details><summary>attrs</summary><div style='margin-left: 4em;'><details><summary>channel_width</summary><div style='margin-left: 5em;'><details><summary>attrs</summary><div style='margin-left: 6em;'><strong>type:</strong> quantity</div><div style='margin-left: 6em;'><strong>units:</strong> ['Hz']</div></details></div><div style='margin-left: 5em;'><strong>data:</strong> 11231488.981445312</div><div style='margin-left: 5em;'><strong>dims:</strong> </div></details></div><div style='margin-left: 4em;'><strong>frame:</strong> LSRK</div><div style='margin-left: 4em;'><details><summary>reference_frequency</summary><div style='margin-left: 5em;'><details><summary>attrs</summary><div style='margin-left: 6em;'><strong>frame:</strong> LSRK</div><div style='margin-left: 6em;'><strong>type:</strong> spectral_coord</div><div style='margin-left: 6em;'><strong>units:</strong> ['Hz']</div></details></div><div style='margin-left: 5em;'><strong>data:</strong> 343928096685.9587</div><div style='margin-left: 5em;'><strong>dims:</strong> </div></details></div><div style='margin-left: 4em;'><strong>spectral_window_name:</strong> </div><div style='margin-left: 4em;'><strong>spw_id:</strong> 0</div><div style='margin-left: 4em;'><strong>type:</strong> spectral_coord</div><div style='margin-left: 4em;'><strong>units:</strong> ['Hz']</div></details></div></details></div></details></div></details></div><div style='margin-left: 0em;'><details><summary>5</summary><div style='margin-left: 1em;'><strong>chunk_indices:</strong> (1, 2)</div><div style='margin-left: 1em;'><strong>parallel_dims:</strong> ['baseline_id', 'frequency']</div><div style='margin-left: 1em;'><details><summary>data_selection</summary><div style='margin-left: 2em;'><details><summary>Antennae_North.cal.lsrk.split_ddi_0_intent_OBSERVE_TARGET#ON_SOURCE_field_id_1</summary><div style='margin-left: 3em;'><strong>baseline_id:</strong> slice(16, 32, None)</div><div style='margin-left: 3em;'><strong>frequency:</strong> slice(6, 8, None)</div></details></div><div style='margin-left: 2em;'><details><summary>Antennae_North.cal.lsrk.split_ddi_0_intent_OBSERVE_TARGET#ON_SOURCE_field_id_0</summary><div style='margin-left: 3em;'><strong>baseline_id:</strong> slice(16, 32, None)</div><div style='margin-left: 3em;'><strong>frequency:</strong> slice(6, 8, None)</div></details></div><div style='margin-left: 2em;'><details><summary>Antennae_North.cal.lsrk.split_ddi_0_intent_OBSERVE_TARGET#ON_SOURCE_field_id_2</summary><div style='margin-left: 3em;'><strong>baseline_id:</strong> slice(16, 32, None)</div><div style='margin-left: 3em;'><strong>frequency:</strong> slice(6, 8, None)</div></details></div></details></div><div style='margin-left: 1em;'><details><summary>task_coords</summary><div style='margin-left: 2em;'><details><summary>baseline_id</summary><div style='margin-left: 3em;'><strong>data:</strong> [16 17 18 19 20 21 22 23 24 25 26 27 28 29 30 31]</div><div style='margin-left: 3em;'><strong>dims:</strong> ('baseline_id',)</div><div style='margin-left: 3em;'><details><summary>attrs</summary></details></div></details></div><div style='margin-left: 2em;'><details><summary>frequency</summary><div style='margin-left: 3em;'><strong>data:</strong> [3.43995486e+11 3.44006717e+11]</div><div style='margin-left: 3em;'><strong>dims:</strong> ('frequency',)</div><div style='margin-left: 3em;'><details><summary>attrs</summary><div style='margin-left: 4em;'><details><summary>channel_width</summary><div style='margin-left: 5em;'><details><summary>attrs</summary><div style='margin-left: 6em;'><strong>type:</strong> quantity</div><div style='margin-left: 6em;'><strong>units:</strong> ['Hz']</div></details></div><div style='margin-left: 5em;'><strong>data:</strong> 11231488.981445312</div><div style='margin-left: 5em;'><strong>dims:</strong> </div></details></div><div style='margin-left: 4em;'><strong>frame:</strong> LSRK</div><div style='margin-left: 4em;'><details><summary>reference_frequency</summary><div style='margin-left: 5em;'><details><summary>attrs</summary><div style='margin-left: 6em;'><strong>frame:</strong> LSRK</div><div style='margin-left: 6em;'><strong>type:</strong> spectral_coord</div><div style='margin-left: 6em;'><strong>units:</strong> ['Hz']</div></details></div><div style='margin-left: 5em;'><strong>data:</strong> 343928096685.9587</div><div style='margin-left: 5em;'><strong>dims:</strong> </div></details></div><div style='margin-left: 4em;'><strong>spectral_window_name:</strong> </div><div style='margin-left: 4em;'><strong>spw_id:</strong> 0</div><div style='margin-left: 4em;'><strong>type:</strong> spectral_coord</div><div style='margin-left: 4em;'><strong>units:</strong> ['Hz']</div></details></div></details></div></details></div></details></div><div style='margin-left: 0em;'><details><summary>6</summary><div style='margin-left: 1em;'><strong>chunk_indices:</strong> (2, 0)</div><div style='margin-left: 1em;'><strong>parallel_dims:</strong> ['baseline_id', 'frequency']</div><div style='margin-left: 1em;'><details><summary>data_selection</summary><div style='margin-left: 2em;'><details><summary>Antennae_North.cal.lsrk.split_ddi_0_intent_OBSERVE_TARGET#ON_SOURCE_field_id_1</summary><div style='margin-left: 3em;'><strong>baseline_id:</strong> slice(32, 48, None)</div><div style='margin-left: 3em;'><strong>frequency:</strong> slice(0, 3, None)</div></details></div><div style='margin-left: 2em;'><details><summary>Antennae_North.cal.lsrk.split_ddi_0_intent_OBSERVE_TARGET#ON_SOURCE_field_id_0</summary><div style='margin-left: 3em;'><strong>baseline_id:</strong> slice(32, 48, None)</div><div style='margin-left: 3em;'><strong>frequency:</strong> slice(0, 3, None)</div></details></div><div style='margin-left: 2em;'><details><summary>Antennae_North.cal.lsrk.split_ddi_0_intent_OBSERVE_TARGET#ON_SOURCE_field_id_2</summary><div style='margin-left: 3em;'><strong>baseline_id:</strong> slice(32, 48, None)</div><div style='margin-left: 3em;'><strong>frequency:</strong> slice(0, 3, None)</div></details></div></details></div><div style='margin-left: 1em;'><details><summary>task_coords</summary><div style='margin-left: 2em;'><details><summary>baseline_id</summary><div style='margin-left: 3em;'><strong>data:</strong> [32 33 34 35 36 37 38 39 40 41 42 43 44 45 46 47]</div><div style='margin-left: 3em;'><strong>dims:</strong> ('baseline_id',)</div><div style='margin-left: 3em;'><details><summary>attrs</summary></details></div></details></div><div style='margin-left: 2em;'><details><summary>frequency</summary><div style='margin-left: 3em;'><strong>data:</strong> [3.43928097e+11 3.43939328e+11 3.43950560e+11]</div><div style='margin-left: 3em;'><strong>dims:</strong> ('frequency',)</div><div style='margin-left: 3em;'><details><summary>attrs</summary><div style='margin-left: 4em;'><details><summary>channel_width</summary><div style='margin-left: 5em;'><details><summary>attrs</summary><div style='margin-left: 6em;'><strong>type:</strong> quantity</div><div style='margin-left: 6em;'><strong>units:</strong> ['Hz']</div></details></div><div style='margin-left: 5em;'><strong>data:</strong> 11231488.981445312</div><div style='margin-left: 5em;'><strong>dims:</strong> </div></details></div><div style='margin-left: 4em;'><strong>frame:</strong> LSRK</div><div style='margin-left: 4em;'><details><summary>reference_frequency</summary><div style='margin-left: 5em;'><details><summary>attrs</summary><div style='margin-left: 6em;'><strong>frame:</strong> LSRK</div><div style='margin-left: 6em;'><strong>type:</strong> spectral_coord</div><div style='margin-left: 6em;'><strong>units:</strong> ['Hz']</div></details></div><div style='margin-left: 5em;'><strong>data:</strong> 343928096685.9587</div><div style='margin-left: 5em;'><strong>dims:</strong> </div></details></div><div style='margin-left: 4em;'><strong>spectral_window_name:</strong> </div><div style='margin-left: 4em;'><strong>spw_id:</strong> 0</div><div style='margin-left: 4em;'><strong>type:</strong> spectral_coord</div><div style='margin-left: 4em;'><strong>units:</strong> ['Hz']</div></details></div></details></div></details></div></details></div><div style='margin-left: 0em;'><details><summary>7</summary><div style='margin-left: 1em;'><strong>chunk_indices:</strong> (2, 1)</div><div style='margin-left: 1em;'><strong>parallel_dims:</strong> ['baseline_id', 'frequency']</div><div style='margin-left: 1em;'><details><summary>data_selection</summary><div style='margin-left: 2em;'><details><summary>Antennae_North.cal.lsrk.split_ddi_0_intent_OBSERVE_TARGET#ON_SOURCE_field_id_1</summary><div style='margin-left: 3em;'><strong>baseline_id:</strong> slice(32, 48, None)</div><div style='margin-left: 3em;'><strong>frequency:</strong> slice(3, 6, None)</div></details></div><div style='margin-left: 2em;'><details><summary>Antennae_North.cal.lsrk.split_ddi_0_intent_OBSERVE_TARGET#ON_SOURCE_field_id_0</summary><div style='margin-left: 3em;'><strong>baseline_id:</strong> slice(32, 48, None)</div><div style='margin-left: 3em;'><strong>frequency:</strong> slice(3, 6, None)</div></details></div><div style='margin-left: 2em;'><details><summary>Antennae_North.cal.lsrk.split_ddi_0_intent_OBSERVE_TARGET#ON_SOURCE_field_id_2</summary><div style='margin-left: 3em;'><strong>baseline_id:</strong> slice(32, 48, None)</div><div style='margin-left: 3em;'><strong>frequency:</strong> slice(3, 6, None)</div></details></div></details></div><div style='margin-left: 1em;'><details><summary>task_coords</summary><div style='margin-left: 2em;'><details><summary>baseline_id</summary><div style='margin-left: 3em;'><strong>data:</strong> [32 33 34 35 36 37 38 39 40 41 42 43 44 45 46 47]</div><div style='margin-left: 3em;'><strong>dims:</strong> ('baseline_id',)</div><div style='margin-left: 3em;'><details><summary>attrs</summary></details></div></details></div><div style='margin-left: 2em;'><details><summary>frequency</summary><div style='margin-left: 3em;'><strong>data:</strong> [3.43961791e+11 3.43973023e+11 3.43984254e+11]</div><div style='margin-left: 3em;'><strong>dims:</strong> ('frequency',)</div><div style='margin-left: 3em;'><details><summary>attrs</summary><div style='margin-left: 4em;'><details><summary>channel_width</summary><div style='margin-left: 5em;'><details><summary>attrs</summary><div style='margin-left: 6em;'><strong>type:</strong> quantity</div><div style='margin-left: 6em;'><strong>units:</strong> ['Hz']</div></details></div><div style='margin-left: 5em;'><strong>data:</strong> 11231488.981445312</div><div style='margin-left: 5em;'><strong>dims:</strong> </div></details></div><div style='margin-left: 4em;'><strong>frame:</strong> LSRK</div><div style='margin-left: 4em;'><details><summary>reference_frequency</summary><div style='margin-left: 5em;'><details><summary>attrs</summary><div style='margin-left: 6em;'><strong>frame:</strong> LSRK</div><div style='margin-left: 6em;'><strong>type:</strong> spectral_coord</div><div style='margin-left: 6em;'><strong>units:</strong> ['Hz']</div></details></div><div style='margin-left: 5em;'><strong>data:</strong> 343928096685.9587</div><div style='margin-left: 5em;'><strong>dims:</strong> </div></details></div><div style='margin-left: 4em;'><strong>spectral_window_name:</strong> </div><div style='margin-left: 4em;'><strong>spw_id:</strong> 0</div><div style='margin-left: 4em;'><strong>type:</strong> spectral_coord</div><div style='margin-left: 4em;'><strong>units:</strong> ['Hz']</div></details></div></details></div></details></div></details></div><div style='margin-left: 0em;'><details><summary>8</summary><div style='margin-left: 1em;'><strong>chunk_indices:</strong> (2, 2)</div><div style='margin-left: 1em;'><strong>parallel_dims:</strong> ['baseline_id', 'frequency']</div><div style='margin-left: 1em;'><details><summary>data_selection</summary><div style='margin-left: 2em;'><details><summary>Antennae_North.cal.lsrk.split_ddi_0_intent_OBSERVE_TARGET#ON_SOURCE_field_id_1</summary><div style='margin-left: 3em;'><strong>baseline_id:</strong> slice(32, 48, None)</div><div style='margin-left: 3em;'><strong>frequency:</strong> slice(6, 8, None)</div></details></div><div style='margin-left: 2em;'><details><summary>Antennae_North.cal.lsrk.split_ddi_0_intent_OBSERVE_TARGET#ON_SOURCE_field_id_0</summary><div style='margin-left: 3em;'><strong>baseline_id:</strong> slice(32, 48, None)</div><div style='margin-left: 3em;'><strong>frequency:</strong> slice(6, 8, None)</div></details></div><div style='margin-left: 2em;'><details><summary>Antennae_North.cal.lsrk.split_ddi_0_intent_OBSERVE_TARGET#ON_SOURCE_field_id_2</summary><div style='margin-left: 3em;'><strong>baseline_id:</strong> slice(32, 48, None)</div><div style='margin-left: 3em;'><strong>frequency:</strong> slice(6, 8, None)</div></details></div></details></div><div style='margin-left: 1em;'><details><summary>task_coords</summary><div style='margin-left: 2em;'><details><summary>baseline_id</summary><div style='margin-left: 3em;'><strong>data:</strong> [32 33 34 35 36 37 38 39 40 41 42 43 44 45 46 47]</div><div style='margin-left: 3em;'><strong>dims:</strong> ('baseline_id',)</div><div style='margin-left: 3em;'><details><summary>attrs</summary></details></div></details></div><div style='margin-left: 2em;'><details><summary>frequency</summary><div style='margin-left: 3em;'><strong>data:</strong> [3.43995486e+11 3.44006717e+11]</div><div style='margin-left: 3em;'><strong>dims:</strong> ('frequency',)</div><div style='margin-left: 3em;'><details><summary>attrs</summary><div style='margin-left: 4em;'><details><summary>channel_width</summary><div style='margin-left: 5em;'><details><summary>attrs</summary><div style='margin-left: 6em;'><strong>type:</strong> quantity</div><div style='margin-left: 6em;'><strong>units:</strong> ['Hz']</div></details></div><div style='margin-left: 5em;'><strong>data:</strong> 11231488.981445312</div><div style='margin-left: 5em;'><strong>dims:</strong> </div></details></div><div style='margin-left: 4em;'><strong>frame:</strong> LSRK</div><div style='margin-left: 4em;'><details><summary>reference_frequency</summary><div style='margin-left: 5em;'><details><summary>attrs</summary><div style='margin-left: 6em;'><strong>frame:</strong> LSRK</div><div style='margin-left: 6em;'><strong>type:</strong> spectral_coord</div><div style='margin-left: 6em;'><strong>units:</strong> ['Hz']</div></details></div><div style='margin-left: 5em;'><strong>data:</strong> 343928096685.9587</div><div style='margin-left: 5em;'><strong>dims:</strong> </div></details></div><div style='margin-left: 4em;'><strong>spectral_window_name:</strong> </div><div style='margin-left: 4em;'><strong>spw_id:</strong> 0</div><div style='margin-left: 4em;'><strong>type:</strong> spectral_coord</div><div style='margin-left: 4em;'><strong>units:</strong> ['Hz']</div></details></div></details></div></details></div></details></div><div style='margin-left: 0em;'><details><summary>9</summary><div style='margin-left: 1em;'><strong>chunk_indices:</strong> (3, 0)</div><div style='margin-left: 1em;'><strong>parallel_dims:</strong> ['baseline_id', 'frequency']</div><div style='margin-left: 1em;'><details><summary>data_selection</summary><div style='margin-left: 2em;'><details><summary>Antennae_North.cal.lsrk.split_ddi_0_intent_OBSERVE_TARGET#ON_SOURCE_field_id_1</summary><div style='margin-left: 3em;'><strong>baseline_id:</strong> slice(48, 64, None)</div><div style='margin-left: 3em;'><strong>frequency:</strong> slice(0, 3, None)</div></details></div><div style='margin-left: 2em;'><details><summary>Antennae_North.cal.lsrk.split_ddi_0_intent_OBSERVE_TARGET#ON_SOURCE_field_id_0</summary><div style='margin-left: 3em;'><strong>baseline_id:</strong> slice(48, 64, None)</div><div style='margin-left: 3em;'><strong>frequency:</strong> slice(0, 3, None)</div></details></div><div style='margin-left: 2em;'><details><summary>Antennae_North.cal.lsrk.split_ddi_0_intent_OBSERVE_TARGET#ON_SOURCE_field_id_2</summary><div style='margin-left: 3em;'><strong>baseline_id:</strong> slice(48, 64, None)</div><div style='margin-left: 3em;'><strong>frequency:</strong> slice(0, 3, None)</div></details></div></details></div><div style='margin-left: 1em;'><details><summary>task_coords</summary><div style='margin-left: 2em;'><details><summary>baseline_id</summary><div style='margin-left: 3em;'><strong>data:</strong> [48 49 50 51 52 53 54 55 56 57 58 59 60 61 62 63]</div><div style='margin-left: 3em;'><strong>dims:</strong> ('baseline_id',)</div><div style='margin-left: 3em;'><details><summary>attrs</summary></details></div></details></div><div style='margin-left: 2em;'><details><summary>frequency</summary><div style='margin-left: 3em;'><strong>data:</strong> [3.43928097e+11 3.43939328e+11 3.43950560e+11]</div><div style='margin-left: 3em;'><strong>dims:</strong> ('frequency',)</div><div style='margin-left: 3em;'><details><summary>attrs</summary><div style='margin-left: 4em;'><details><summary>channel_width</summary><div style='margin-left: 5em;'><details><summary>attrs</summary><div style='margin-left: 6em;'><strong>type:</strong> quantity</div><div style='margin-left: 6em;'><strong>units:</strong> ['Hz']</div></details></div><div style='margin-left: 5em;'><strong>data:</strong> 11231488.981445312</div><div style='margin-left: 5em;'><strong>dims:</strong> </div></details></div><div style='margin-left: 4em;'><strong>frame:</strong> LSRK</div><div style='margin-left: 4em;'><details><summary>reference_frequency</summary><div style='margin-left: 5em;'><details><summary>attrs</summary><div style='margin-left: 6em;'><strong>frame:</strong> LSRK</div><div style='margin-left: 6em;'><strong>type:</strong> spectral_coord</div><div style='margin-left: 6em;'><strong>units:</strong> ['Hz']</div></details></div><div style='margin-left: 5em;'><strong>data:</strong> 343928096685.9587</div><div style='margin-left: 5em;'><strong>dims:</strong> </div></details></div><div style='margin-left: 4em;'><strong>spectral_window_name:</strong> </div><div style='margin-left: 4em;'><strong>spw_id:</strong> 0</div><div style='margin-left: 4em;'><strong>type:</strong> spectral_coord</div><div style='margin-left: 4em;'><strong>units:</strong> ['Hz']</div></details></div></details></div></details></div></details></div><div style='margin-left: 0em;'><details><summary>10</summary><div style='margin-left: 1em;'><strong>chunk_indices:</strong> (3, 1)</div><div style='margin-left: 1em;'><strong>parallel_dims:</strong> ['baseline_id', 'frequency']</div><div style='margin-left: 1em;'><details><summary>data_selection</summary><div style='margin-left: 2em;'><details><summary>Antennae_North.cal.lsrk.split_ddi_0_intent_OBSERVE_TARGET#ON_SOURCE_field_id_1</summary><div style='margin-left: 3em;'><strong>baseline_id:</strong> slice(48, 64, None)</div><div style='margin-left: 3em;'><strong>frequency:</strong> slice(3, 6, None)</div></details></div><div style='margin-left: 2em;'><details><summary>Antennae_North.cal.lsrk.split_ddi_0_intent_OBSERVE_TARGET#ON_SOURCE_field_id_0</summary><div style='margin-left: 3em;'><strong>baseline_id:</strong> slice(48, 64, None)</div><div style='margin-left: 3em;'><strong>frequency:</strong> slice(3, 6, None)</div></details></div><div style='margin-left: 2em;'><details><summary>Antennae_North.cal.lsrk.split_ddi_0_intent_OBSERVE_TARGET#ON_SOURCE_field_id_2</summary><div style='margin-left: 3em;'><strong>baseline_id:</strong> slice(48, 64, None)</div><div style='margin-left: 3em;'><strong>frequency:</strong> slice(3, 6, None)</div></details></div></details></div><div style='margin-left: 1em;'><details><summary>task_coords</summary><div style='margin-left: 2em;'><details><summary>baseline_id</summary><div style='margin-left: 3em;'><strong>data:</strong> [48 49 50 51 52 53 54 55 56 57 58 59 60 61 62 63]</div><div style='margin-left: 3em;'><strong>dims:</strong> ('baseline_id',)</div><div style='margin-left: 3em;'><details><summary>attrs</summary></details></div></details></div><div style='margin-left: 2em;'><details><summary>frequency</summary><div style='margin-left: 3em;'><strong>data:</strong> [3.43961791e+11 3.43973023e+11 3.43984254e+11]</div><div style='margin-left: 3em;'><strong>dims:</strong> ('frequency',)</div><div style='margin-left: 3em;'><details><summary>attrs</summary><div style='margin-left: 4em;'><details><summary>channel_width</summary><div style='margin-left: 5em;'><details><summary>attrs</summary><div style='margin-left: 6em;'><strong>type:</strong> quantity</div><div style='margin-left: 6em;'><strong>units:</strong> ['Hz']</div></details></div><div style='margin-left: 5em;'><strong>data:</strong> 11231488.981445312</div><div style='margin-left: 5em;'><strong>dims:</strong> </div></details></div><div style='margin-left: 4em;'><strong>frame:</strong> LSRK</div><div style='margin-left: 4em;'><details><summary>reference_frequency</summary><div style='margin-left: 5em;'><details><summary>attrs</summary><div style='margin-left: 6em;'><strong>frame:</strong> LSRK</div><div style='margin-left: 6em;'><strong>type:</strong> spectral_coord</div><div style='margin-left: 6em;'><strong>units:</strong> ['Hz']</div></details></div><div style='margin-left: 5em;'><strong>data:</strong> 343928096685.9587</div><div style='margin-left: 5em;'><strong>dims:</strong> </div></details></div><div style='margin-left: 4em;'><strong>spectral_window_name:</strong> </div><div style='margin-left: 4em;'><strong>spw_id:</strong> 0</div><div style='margin-left: 4em;'><strong>type:</strong> spectral_coord</div><div style='margin-left: 4em;'><strong>units:</strong> ['Hz']</div></details></div></details></div></details></div></details></div><div style='margin-left: 0em;'><details><summary>11</summary><div style='margin-left: 1em;'><strong>chunk_indices:</strong> (3, 2)</div><div style='margin-left: 1em;'><strong>parallel_dims:</strong> ['baseline_id', 'frequency']</div><div style='margin-left: 1em;'><details><summary>data_selection</summary><div style='margin-left: 2em;'><details><summary>Antennae_North.cal.lsrk.split_ddi_0_intent_OBSERVE_TARGET#ON_SOURCE_field_id_1</summary><div style='margin-left: 3em;'><strong>baseline_id:</strong> slice(48, 64, None)</div><div style='margin-left: 3em;'><strong>frequency:</strong> slice(6, 8, None)</div></details></div><div style='margin-left: 2em;'><details><summary>Antennae_North.cal.lsrk.split_ddi_0_intent_OBSERVE_TARGET#ON_SOURCE_field_id_0</summary><div style='margin-left: 3em;'><strong>baseline_id:</strong> slice(48, 64, None)</div><div style='margin-left: 3em;'><strong>frequency:</strong> slice(6, 8, None)</div></details></div><div style='margin-left: 2em;'><details><summary>Antennae_North.cal.lsrk.split_ddi_0_intent_OBSERVE_TARGET#ON_SOURCE_field_id_2</summary><div style='margin-left: 3em;'><strong>baseline_id:</strong> slice(48, 64, None)</div><div style='margin-left: 3em;'><strong>frequency:</strong> slice(6, 8, None)</div></details></div></details></div><div style='margin-left: 1em;'><details><summary>task_coords</summary><div style='margin-left: 2em;'><details><summary>baseline_id</summary><div style='margin-left: 3em;'><strong>data:</strong> [48 49 50 51 52 53 54 55 56 57 58 59 60 61 62 63]</div><div style='margin-left: 3em;'><strong>dims:</strong> ('baseline_id',)</div><div style='margin-left: 3em;'><details><summary>attrs</summary></details></div></details></div><div style='margin-left: 2em;'><details><summary>frequency</summary><div style='margin-left: 3em;'><strong>data:</strong> [3.43995486e+11 3.44006717e+11]</div><div style='margin-left: 3em;'><strong>dims:</strong> ('frequency',)</div><div style='margin-left: 3em;'><details><summary>attrs</summary><div style='margin-left: 4em;'><details><summary>channel_width</summary><div style='margin-left: 5em;'><details><summary>attrs</summary><div style='margin-left: 6em;'><strong>type:</strong> quantity</div><div style='margin-left: 6em;'><strong>units:</strong> ['Hz']</div></details></div><div style='margin-left: 5em;'><strong>data:</strong> 11231488.981445312</div><div style='margin-left: 5em;'><strong>dims:</strong> </div></details></div><div style='margin-left: 4em;'><strong>frame:</strong> LSRK</div><div style='margin-left: 4em;'><details><summary>reference_frequency</summary><div style='margin-left: 5em;'><details><summary>attrs</summary><div style='margin-left: 6em;'><strong>frame:</strong> LSRK</div><div style='margin-left: 6em;'><strong>type:</strong> spectral_coord</div><div style='margin-left: 6em;'><strong>units:</strong> ['Hz']</div></details></div><div style='margin-left: 5em;'><strong>data:</strong> 343928096685.9587</div><div style='margin-left: 5em;'><strong>dims:</strong> </div></details></div><div style='margin-left: 4em;'><strong>spectral_window_name:</strong> </div><div style='margin-left: 4em;'><strong>spw_id:</strong> 0</div><div style='margin-left: 4em;'><strong>type:</strong> spectral_coord</div><div style='margin-left: 4em;'><strong>units:</strong> ['Hz']</div></details></div></details></div></details></div></details></div>"
      ],
      "text/plain": [
       "<IPython.core.display.HTML object>"
      ]
     },
     "metadata": {},
     "output_type": "display_data"
    }
   ],
   "source": [
    "from graphviper.graph_tools.coordinate_utils import (\n",
    "    interpolate_data_coords_onto_parallel_coords,\n",
    ")\n",
    "\n",
    "node_task_data_mapping = interpolate_data_coords_onto_parallel_coords(\n",
    "    parallel_coords, ps\n",
    ")\n",
    "display(HTML(dict_to_html(node_task_data_mapping)))"
   ]
  },
  {
   "cell_type": "markdown",
   "id": "b9a0e981-da9b-41f0-9b50-59d2731a57ce",
   "metadata": {},
   "source": [
    "### Map Graph"
   ]
  },
  {
   "cell_type": "code",
   "execution_count": 21,
   "id": "4d3e3ec2-fc3b-43c2-a6d3-1d32a966a8e8",
   "metadata": {},
   "outputs": [
    {
     "data": {
      "image/png": "[encoded data removed]",
      "text/plain": [
       "<IPython.core.display.Image object>"
      ]
     },
     "execution_count": 21,
     "metadata": {},
     "output_type": "execute_result"
    }
   ],
   "source": [
    "from graphviper.graph_tools.map import map\n",
    "import dask\n",
    "from IPython.display import display, HTML\n",
    "\n",
    "\n",
    "def my_func(input_params):\n",
    "    display(HTML(dict_to_html(input_params)))\n",
    "\n",
    "    print(\"*\" * 30)\n",
    "    return input_params[\"test_input\"]\n",
    "\n",
    "\n",
    "# ['test_input', 'input_data_name', 'viper_local_dir', 'date_time', 'data_sel', 'chunk_coords', 'chunk_indx', 'chunk_id', 'parallel_dims']\n",
    "input_params = {}\n",
    "input_params[\"test_input\"] = 42\n",
    "\n",
    "graph = map(\n",
    "    input_data=ps,\n",
    "    node_task_data_mapping=node_task_data_mapping,\n",
    "    node_task=my_func,\n",
    "    input_params=input_params,\n",
    ")\n",
    "\n",
    "dask.visualize(graph, filename=\"map_graph\")"
   ]
  },
  {
   "cell_type": "markdown",
   "id": "5bbe9975-65cb-43ad-859c-72cc35ad0557",
   "metadata": {},
   "source": [
    "### Run Map Graph"
   ]
  },
  {
   "cell_type": "code",
   "execution_count": 22,
   "id": "b1dfee4c-4dcb-4bb9-ba12-2eca07dcea9c",
   "metadata": {
    "scrolled": true
   },
   "outputs": [
    {
     "data": {
      "text/html": [
       "<div style='margin-left: 0em;'><strong>test_input:</strong> 42</div><div style='margin-left: 0em;'><strong>chunk_indices:</strong> (0, 2)</div><div style='margin-left: 0em;'><strong>parallel_dims:</strong> ['baseline_id', 'frequency']</div><div style='margin-left: 0em;'><details><summary>data_selection</summary><div style='margin-left: 1em;'><details><summary>Antennae_North.cal.lsrk.split_ddi_0_intent_OBSERVE_TARGET#ON_SOURCE_field_id_1</summary><div style='margin-left: 2em;'><strong>baseline_id:</strong> slice(0, 16, None)</div><div style='margin-left: 2em;'><strong>frequency:</strong> slice(6, 8, None)</div></details></div><div style='margin-left: 1em;'><details><summary>Antennae_North.cal.lsrk.split_ddi_0_intent_OBSERVE_TARGET#ON_SOURCE_field_id_0</summary><div style='margin-left: 2em;'><strong>baseline_id:</strong> slice(0, 16, None)</div><div style='margin-left: 2em;'><strong>frequency:</strong> slice(6, 8, None)</div></details></div><div style='margin-left: 1em;'><details><summary>Antennae_North.cal.lsrk.split_ddi_0_intent_OBSERVE_TARGET#ON_SOURCE_field_id_2</summary><div style='margin-left: 2em;'><strong>baseline_id:</strong> slice(0, 16, None)</div><div style='margin-left: 2em;'><strong>frequency:</strong> slice(6, 8, None)</div></details></div></details></div><div style='margin-left: 0em;'><details><summary>task_coords</summary><div style='margin-left: 1em;'><details><summary>baseline_id</summary><div style='margin-left: 2em;'><strong>data:</strong> [ 0  1  2  3  4  5  6  7  8  9 10 11 12 13 14 15]</div><div style='margin-left: 2em;'><strong>dims:</strong> ('baseline_id',)</div><div style='margin-left: 2em;'><details><summary>attrs</summary></details></div></details></div><div style='margin-left: 1em;'><details><summary>frequency</summary><div style='margin-left: 2em;'><strong>data:</strong> [3.43995486e+11 3.44006717e+11]</div><div style='margin-left: 2em;'><strong>dims:</strong> ('frequency',)</div><div style='margin-left: 2em;'><details><summary>attrs</summary><div style='margin-left: 3em;'><details><summary>channel_width</summary><div style='margin-left: 4em;'><details><summary>attrs</summary><div style='margin-left: 5em;'><strong>type:</strong> quantity</div><div style='margin-left: 5em;'><strong>units:</strong> ['Hz']</div></details></div><div style='margin-left: 4em;'><strong>data:</strong> 11231488.981445312</div><div style='margin-left: 4em;'><strong>dims:</strong> </div></details></div><div style='margin-left: 3em;'><strong>frame:</strong> LSRK</div><div style='margin-left: 3em;'><details><summary>reference_frequency</summary><div style='margin-left: 4em;'><details><summary>attrs</summary><div style='margin-left: 5em;'><strong>frame:</strong> LSRK</div><div style='margin-left: 5em;'><strong>type:</strong> spectral_coord</div><div style='margin-left: 5em;'><strong>units:</strong> ['Hz']</div></details></div><div style='margin-left: 4em;'><strong>data:</strong> 343928096685.9587</div><div style='margin-left: 4em;'><strong>dims:</strong> </div></details></div><div style='margin-left: 3em;'><strong>spectral_window_name:</strong> </div><div style='margin-left: 3em;'><strong>spw_id:</strong> 0</div><div style='margin-left: 3em;'><strong>type:</strong> spectral_coord</div><div style='margin-left: 3em;'><strong>units:</strong> ['Hz']</div></details></div></details></div></details></div><div style='margin-left: 0em;'><strong>task_id:</strong> 2</div><div style='margin-left: 0em;'><strong>input_data:</strong> None</div><div style='margin-left: 0em;'><strong>date_time:</strong> None</div>"
      ],
      "text/plain": [
       "<IPython.core.display.HTML object>"
      ]
     },
     "metadata": {},
     "output_type": "display_data"
    },
    {
     "name": "stdout",
     "output_type": "stream",
     "text": [
      "******************************\n"
     ]
    },
    {
     "data": {
      "text/html": [
       "<div style='margin-left: 0em;'><strong>test_input:</strong> 42</div><div style='margin-left: 0em;'><strong>chunk_indices:</strong> (2, 1)</div><div style='margin-left: 0em;'><strong>parallel_dims:</strong> ['baseline_id', 'frequency']</div><div style='margin-left: 0em;'><details><summary>data_selection</summary><div style='margin-left: 1em;'><details><summary>Antennae_North.cal.lsrk.split_ddi_0_intent_OBSERVE_TARGET#ON_SOURCE_field_id_1</summary><div style='margin-left: 2em;'><strong>baseline_id:</strong> slice(32, 48, None)</div><div style='margin-left: 2em;'><strong>frequency:</strong> slice(3, 6, None)</div></details></div><div style='margin-left: 1em;'><details><summary>Antennae_North.cal.lsrk.split_ddi_0_intent_OBSERVE_TARGET#ON_SOURCE_field_id_0</summary><div style='margin-left: 2em;'><strong>baseline_id:</strong> slice(32, 48, None)</div><div style='margin-left: 2em;'><strong>frequency:</strong> slice(3, 6, None)</div></details></div><div style='margin-left: 1em;'><details><summary>Antennae_North.cal.lsrk.split_ddi_0_intent_OBSERVE_TARGET#ON_SOURCE_field_id_2</summary><div style='margin-left: 2em;'><strong>baseline_id:</strong> slice(32, 48, None)</div><div style='margin-left: 2em;'><strong>frequency:</strong> slice(3, 6, None)</div></details></div></details></div><div style='margin-left: 0em;'><details><summary>task_coords</summary><div style='margin-left: 1em;'><details><summary>baseline_id</summary><div style='margin-left: 2em;'><strong>data:</strong> [32 33 34 35 36 37 38 39 40 41 42 43 44 45 46 47]</div><div style='margin-left: 2em;'><strong>dims:</strong> ('baseline_id',)</div><div style='margin-left: 2em;'><details><summary>attrs</summary></details></div></details></div><div style='margin-left: 1em;'><details><summary>frequency</summary><div style='margin-left: 2em;'><strong>data:</strong> [3.43961791e+11 3.43973023e+11 3.43984254e+11]</div><div style='margin-left: 2em;'><strong>dims:</strong> ('frequency',)</div><div style='margin-left: 2em;'><details><summary>attrs</summary><div style='margin-left: 3em;'><details><summary>channel_width</summary><div style='margin-left: 4em;'><details><summary>attrs</summary><div style='margin-left: 5em;'><strong>type:</strong> quantity</div><div style='margin-left: 5em;'><strong>units:</strong> ['Hz']</div></details></div><div style='margin-left: 4em;'><strong>data:</strong> 11231488.981445312</div><div style='margin-left: 4em;'><strong>dims:</strong> </div></details></div><div style='margin-left: 3em;'><strong>frame:</strong> LSRK</div><div style='margin-left: 3em;'><details><summary>reference_frequency</summary><div style='margin-left: 4em;'><details><summary>attrs</summary><div style='margin-left: 5em;'><strong>frame:</strong> LSRK</div><div style='margin-left: 5em;'><strong>type:</strong> spectral_coord</div><div style='margin-left: 5em;'><strong>units:</strong> ['Hz']</div></details></div><div style='margin-left: 4em;'><strong>data:</strong> 343928096685.9587</div><div style='margin-left: 4em;'><strong>dims:</strong> </div></details></div><div style='margin-left: 3em;'><strong>spectral_window_name:</strong> </div><div style='margin-left: 3em;'><strong>spw_id:</strong> 0</div><div style='margin-left: 3em;'><strong>type:</strong> spectral_coord</div><div style='margin-left: 3em;'><strong>units:</strong> ['Hz']</div></details></div></details></div></details></div><div style='margin-left: 0em;'><strong>task_id:</strong> 7</div><div style='margin-left: 0em;'><strong>input_data:</strong> None</div><div style='margin-left: 0em;'><strong>date_time:</strong> None</div>"
      ],
      "text/plain": [
       "<IPython.core.display.HTML object>"
      ]
     },
     "metadata": {},
     "output_type": "display_data"
    },
    {
     "name": "stdout",
     "output_type": "stream",
     "text": [
      "******************************\n"
     ]
    },
    {
     "data": {
      "text/html": [
       "<div style='margin-left: 0em;'><strong>test_input:</strong> 42</div><div style='margin-left: 0em;'><strong>chunk_indices:</strong> (2, 2)</div><div style='margin-left: 0em;'><strong>parallel_dims:</strong> ['baseline_id', 'frequency']</div><div style='margin-left: 0em;'><details><summary>data_selection</summary><div style='margin-left: 1em;'><details><summary>Antennae_North.cal.lsrk.split_ddi_0_intent_OBSERVE_TARGET#ON_SOURCE_field_id_1</summary><div style='margin-left: 2em;'><strong>baseline_id:</strong> slice(32, 48, None)</div><div style='margin-left: 2em;'><strong>frequency:</strong> slice(6, 8, None)</div></details></div><div style='margin-left: 1em;'><details><summary>Antennae_North.cal.lsrk.split_ddi_0_intent_OBSERVE_TARGET#ON_SOURCE_field_id_0</summary><div style='margin-left: 2em;'><strong>baseline_id:</strong> slice(32, 48, None)</div><div style='margin-left: 2em;'><strong>frequency:</strong> slice(6, 8, None)</div></details></div><div style='margin-left: 1em;'><details><summary>Antennae_North.cal.lsrk.split_ddi_0_intent_OBSERVE_TARGET#ON_SOURCE_field_id_2</summary><div style='margin-left: 2em;'><strong>baseline_id:</strong> slice(32, 48, None)</div><div style='margin-left: 2em;'><strong>frequency:</strong> slice(6, 8, None)</div></details></div></details></div><div style='margin-left: 0em;'><details><summary>task_coords</summary><div style='margin-left: 1em;'><details><summary>baseline_id</summary><div style='margin-left: 2em;'><strong>data:</strong> [32 33 34 35 36 37 38 39 40 41 42 43 44 45 46 47]</div><div style='margin-left: 2em;'><strong>dims:</strong> ('baseline_id',)</div><div style='margin-left: 2em;'><details><summary>attrs</summary></details></div></details></div><div style='margin-left: 1em;'><details><summary>frequency</summary><div style='margin-left: 2em;'><strong>data:</strong> [3.43995486e+11 3.44006717e+11]</div><div style='margin-left: 2em;'><strong>dims:</strong> ('frequency',)</div><div style='margin-left: 2em;'><details><summary>attrs</summary><div style='margin-left: 3em;'><details><summary>channel_width</summary><div style='margin-left: 4em;'><details><summary>attrs</summary><div style='margin-left: 5em;'><strong>type:</strong> quantity</div><div style='margin-left: 5em;'><strong>units:</strong> ['Hz']</div></details></div><div style='margin-left: 4em;'><strong>data:</strong> 11231488.981445312</div><div style='margin-left: 4em;'><strong>dims:</strong> </div></details></div><div style='margin-left: 3em;'><strong>frame:</strong> LSRK</div><div style='margin-left: 3em;'><details><summary>reference_frequency</summary><div style='margin-left: 4em;'><details><summary>attrs</summary><div style='margin-left: 5em;'><strong>frame:</strong> LSRK</div><div style='margin-left: 5em;'><strong>type:</strong> spectral_coord</div><div style='margin-left: 5em;'><strong>units:</strong> ['Hz']</div></details></div><div style='margin-left: 4em;'><strong>data:</strong> 343928096685.9587</div><div style='margin-left: 4em;'><strong>dims:</strong> </div></details></div><div style='margin-left: 3em;'><strong>spectral_window_name:</strong> </div><div style='margin-left: 3em;'><strong>spw_id:</strong> 0</div><div style='margin-left: 3em;'><strong>type:</strong> spectral_coord</div><div style='margin-left: 3em;'><strong>units:</strong> ['Hz']</div></details></div></details></div></details></div><div style='margin-left: 0em;'><strong>task_id:</strong> 8</div><div style='margin-left: 0em;'><strong>input_data:</strong> None</div><div style='margin-left: 0em;'><strong>date_time:</strong> None</div>"
      ],
      "text/plain": [
       "<IPython.core.display.HTML object>"
      ]
     },
     "metadata": {},
     "output_type": "display_data"
    },
    {
     "name": "stdout",
     "output_type": "stream",
     "text": [
      "******************************\n"
     ]
    },
    {
     "data": {
      "text/html": [
       "<div style='margin-left: 0em;'><strong>test_input:</strong> 42</div><div style='margin-left: 0em;'><strong>chunk_indices:</strong> (1, 2)</div><div style='margin-left: 0em;'><strong>parallel_dims:</strong> ['baseline_id', 'frequency']</div><div style='margin-left: 0em;'><details><summary>data_selection</summary><div style='margin-left: 1em;'><details><summary>Antennae_North.cal.lsrk.split_ddi_0_intent_OBSERVE_TARGET#ON_SOURCE_field_id_1</summary><div style='margin-left: 2em;'><strong>baseline_id:</strong> slice(16, 32, None)</div><div style='margin-left: 2em;'><strong>frequency:</strong> slice(6, 8, None)</div></details></div><div style='margin-left: 1em;'><details><summary>Antennae_North.cal.lsrk.split_ddi_0_intent_OBSERVE_TARGET#ON_SOURCE_field_id_0</summary><div style='margin-left: 2em;'><strong>baseline_id:</strong> slice(16, 32, None)</div><div style='margin-left: 2em;'><strong>frequency:</strong> slice(6, 8, None)</div></details></div><div style='margin-left: 1em;'><details><summary>Antennae_North.cal.lsrk.split_ddi_0_intent_OBSERVE_TARGET#ON_SOURCE_field_id_2</summary><div style='margin-left: 2em;'><strong>baseline_id:</strong> slice(16, 32, None)</div><div style='margin-left: 2em;'><strong>frequency:</strong> slice(6, 8, None)</div></details></div></details></div><div style='margin-left: 0em;'><details><summary>task_coords</summary><div style='margin-left: 1em;'><details><summary>baseline_id</summary><div style='margin-left: 2em;'><strong>data:</strong> [16 17 18 19 20 21 22 23 24 25 26 27 28 29 30 31]</div><div style='margin-left: 2em;'><strong>dims:</strong> ('baseline_id',)</div><div style='margin-left: 2em;'><details><summary>attrs</summary></details></div></details></div><div style='margin-left: 1em;'><details><summary>frequency</summary><div style='margin-left: 2em;'><strong>data:</strong> [3.43995486e+11 3.44006717e+11]</div><div style='margin-left: 2em;'><strong>dims:</strong> ('frequency',)</div><div style='margin-left: 2em;'><details><summary>attrs</summary><div style='margin-left: 3em;'><details><summary>channel_width</summary><div style='margin-left: 4em;'><details><summary>attrs</summary><div style='margin-left: 5em;'><strong>type:</strong> quantity</div><div style='margin-left: 5em;'><strong>units:</strong> ['Hz']</div></details></div><div style='margin-left: 4em;'><strong>data:</strong> 11231488.981445312</div><div style='margin-left: 4em;'><strong>dims:</strong> </div></details></div><div style='margin-left: 3em;'><strong>frame:</strong> LSRK</div><div style='margin-left: 3em;'><details><summary>reference_frequency</summary><div style='margin-left: 4em;'><details><summary>attrs</summary><div style='margin-left: 5em;'><strong>frame:</strong> LSRK</div><div style='margin-left: 5em;'><strong>type:</strong> spectral_coord</div><div style='margin-left: 5em;'><strong>units:</strong> ['Hz']</div></details></div><div style='margin-left: 4em;'><strong>data:</strong> 343928096685.9587</div><div style='margin-left: 4em;'><strong>dims:</strong> </div></details></div><div style='margin-left: 3em;'><strong>spectral_window_name:</strong> </div><div style='margin-left: 3em;'><strong>spw_id:</strong> 0</div><div style='margin-left: 3em;'><strong>type:</strong> spectral_coord</div><div style='margin-left: 3em;'><strong>units:</strong> ['Hz']</div></details></div></details></div></details></div><div style='margin-left: 0em;'><strong>task_id:</strong> 5</div><div style='margin-left: 0em;'><strong>input_data:</strong> None</div><div style='margin-left: 0em;'><strong>date_time:</strong> None</div>"
      ],
      "text/plain": [
       "<IPython.core.display.HTML object>"
      ]
     },
     "metadata": {},
     "output_type": "display_data"
    },
    {
     "name": "stdout",
     "output_type": "stream",
     "text": [
      "******************************\n"
     ]
    },
    {
     "data": {
      "text/html": [
       "<div style='margin-left: 0em;'><strong>test_input:</strong> 42</div><div style='margin-left: 0em;'><strong>chunk_indices:</strong> (0, 1)</div><div style='margin-left: 0em;'><strong>parallel_dims:</strong> ['baseline_id', 'frequency']</div><div style='margin-left: 0em;'><details><summary>data_selection</summary><div style='margin-left: 1em;'><details><summary>Antennae_North.cal.lsrk.split_ddi_0_intent_OBSERVE_TARGET#ON_SOURCE_field_id_1</summary><div style='margin-left: 2em;'><strong>baseline_id:</strong> slice(0, 16, None)</div><div style='margin-left: 2em;'><strong>frequency:</strong> slice(3, 6, None)</div></details></div><div style='margin-left: 1em;'><details><summary>Antennae_North.cal.lsrk.split_ddi_0_intent_OBSERVE_TARGET#ON_SOURCE_field_id_0</summary><div style='margin-left: 2em;'><strong>baseline_id:</strong> slice(0, 16, None)</div><div style='margin-left: 2em;'><strong>frequency:</strong> slice(3, 6, None)</div></details></div><div style='margin-left: 1em;'><details><summary>Antennae_North.cal.lsrk.split_ddi_0_intent_OBSERVE_TARGET#ON_SOURCE_field_id_2</summary><div style='margin-left: 2em;'><strong>baseline_id:</strong> slice(0, 16, None)</div><div style='margin-left: 2em;'><strong>frequency:</strong> slice(3, 6, None)</div></details></div></details></div><div style='margin-left: 0em;'><details><summary>task_coords</summary><div style='margin-left: 1em;'><details><summary>baseline_id</summary><div style='margin-left: 2em;'><strong>data:</strong> [ 0  1  2  3  4  5  6  7  8  9 10 11 12 13 14 15]</div><div style='margin-left: 2em;'><strong>dims:</strong> ('baseline_id',)</div><div style='margin-left: 2em;'><details><summary>attrs</summary></details></div></details></div><div style='margin-left: 1em;'><details><summary>frequency</summary><div style='margin-left: 2em;'><strong>data:</strong> [3.43961791e+11 3.43973023e+11 3.43984254e+11]</div><div style='margin-left: 2em;'><strong>dims:</strong> ('frequency',)</div><div style='margin-left: 2em;'><details><summary>attrs</summary><div style='margin-left: 3em;'><details><summary>channel_width</summary><div style='margin-left: 4em;'><details><summary>attrs</summary><div style='margin-left: 5em;'><strong>type:</strong> quantity</div><div style='margin-left: 5em;'><strong>units:</strong> ['Hz']</div></details></div><div style='margin-left: 4em;'><strong>data:</strong> 11231488.981445312</div><div style='margin-left: 4em;'><strong>dims:</strong> </div></details></div><div style='margin-left: 3em;'><strong>frame:</strong> LSRK</div><div style='margin-left: 3em;'><details><summary>reference_frequency</summary><div style='margin-left: 4em;'><details><summary>attrs</summary><div style='margin-left: 5em;'><strong>frame:</strong> LSRK</div><div style='margin-left: 5em;'><strong>type:</strong> spectral_coord</div><div style='margin-left: 5em;'><strong>units:</strong> ['Hz']</div></details></div><div style='margin-left: 4em;'><strong>data:</strong> 343928096685.9587</div><div style='margin-left: 4em;'><strong>dims:</strong> </div></details></div><div style='margin-left: 3em;'><strong>spectral_window_name:</strong> </div><div style='margin-left: 3em;'><strong>spw_id:</strong> 0</div><div style='margin-left: 3em;'><strong>type:</strong> spectral_coord</div><div style='margin-left: 3em;'><strong>units:</strong> ['Hz']</div></details></div></details></div></details></div><div style='margin-left: 0em;'><strong>task_id:</strong> 1</div><div style='margin-left: 0em;'><strong>input_data:</strong> None</div><div style='margin-left: 0em;'><strong>date_time:</strong> None</div>"
      ],
      "text/plain": [
       "<IPython.core.display.HTML object>"
      ]
     },
     "metadata": {},
     "output_type": "display_data"
    },
    {
     "name": "stdout",
     "output_type": "stream",
     "text": [
      "******************************\n"
     ]
    },
    {
     "data": {
      "text/html": [
       "<div style='margin-left: 0em;'><strong>test_input:</strong> 42</div><div style='margin-left: 0em;'><strong>chunk_indices:</strong> (1, 0)</div><div style='margin-left: 0em;'><strong>parallel_dims:</strong> ['baseline_id', 'frequency']</div><div style='margin-left: 0em;'><details><summary>data_selection</summary><div style='margin-left: 1em;'><details><summary>Antennae_North.cal.lsrk.split_ddi_0_intent_OBSERVE_TARGET#ON_SOURCE_field_id_1</summary><div style='margin-left: 2em;'><strong>baseline_id:</strong> slice(16, 32, None)</div><div style='margin-left: 2em;'><strong>frequency:</strong> slice(0, 3, None)</div></details></div><div style='margin-left: 1em;'><details><summary>Antennae_North.cal.lsrk.split_ddi_0_intent_OBSERVE_TARGET#ON_SOURCE_field_id_0</summary><div style='margin-left: 2em;'><strong>baseline_id:</strong> slice(16, 32, None)</div><div style='margin-left: 2em;'><strong>frequency:</strong> slice(0, 3, None)</div></details></div><div style='margin-left: 1em;'><details><summary>Antennae_North.cal.lsrk.split_ddi_0_intent_OBSERVE_TARGET#ON_SOURCE_field_id_2</summary><div style='margin-left: 2em;'><strong>baseline_id:</strong> slice(16, 32, None)</div><div style='margin-left: 2em;'><strong>frequency:</strong> slice(0, 3, None)</div></details></div></details></div><div style='margin-left: 0em;'><details><summary>task_coords</summary><div style='margin-left: 1em;'><details><summary>baseline_id</summary><div style='margin-left: 2em;'><strong>data:</strong> [16 17 18 19 20 21 22 23 24 25 26 27 28 29 30 31]</div><div style='margin-left: 2em;'><strong>dims:</strong> ('baseline_id',)</div><div style='margin-left: 2em;'><details><summary>attrs</summary></details></div></details></div><div style='margin-left: 1em;'><details><summary>frequency</summary><div style='margin-left: 2em;'><strong>data:</strong> [3.43928097e+11 3.43939328e+11 3.43950560e+11]</div><div style='margin-left: 2em;'><strong>dims:</strong> ('frequency',)</div><div style='margin-left: 2em;'><details><summary>attrs</summary><div style='margin-left: 3em;'><details><summary>channel_width</summary><div style='margin-left: 4em;'><details><summary>attrs</summary><div style='margin-left: 5em;'><strong>type:</strong> quantity</div><div style='margin-left: 5em;'><strong>units:</strong> ['Hz']</div></details></div><div style='margin-left: 4em;'><strong>data:</strong> 11231488.981445312</div><div style='margin-left: 4em;'><strong>dims:</strong> </div></details></div><div style='margin-left: 3em;'><strong>frame:</strong> LSRK</div><div style='margin-left: 3em;'><details><summary>reference_frequency</summary><div style='margin-left: 4em;'><details><summary>attrs</summary><div style='margin-left: 5em;'><strong>frame:</strong> LSRK</div><div style='margin-left: 5em;'><strong>type:</strong> spectral_coord</div><div style='margin-left: 5em;'><strong>units:</strong> ['Hz']</div></details></div><div style='margin-left: 4em;'><strong>data:</strong> 343928096685.9587</div><div style='margin-left: 4em;'><strong>dims:</strong> </div></details></div><div style='margin-left: 3em;'><strong>spectral_window_name:</strong> </div><div style='margin-left: 3em;'><strong>spw_id:</strong> 0</div><div style='margin-left: 3em;'><strong>type:</strong> spectral_coord</div><div style='margin-left: 3em;'><strong>units:</strong> ['Hz']</div></details></div></details></div></details></div><div style='margin-left: 0em;'><strong>task_id:</strong> 3</div><div style='margin-left: 0em;'><strong>input_data:</strong> None</div><div style='margin-left: 0em;'><strong>date_time:</strong> None</div>"
      ],
      "text/plain": [
       "<IPython.core.display.HTML object>"
      ]
     },
     "metadata": {},
     "output_type": "display_data"
    },
    {
     "name": "stdout",
     "output_type": "stream",
     "text": [
      "******************************\n"
     ]
    },
    {
     "data": {
      "text/html": [
       "<div style='margin-left: 0em;'><strong>test_input:</strong> 42</div><div style='margin-left: 0em;'><strong>chunk_indices:</strong> (3, 0)</div><div style='margin-left: 0em;'><strong>parallel_dims:</strong> ['baseline_id', 'frequency']</div><div style='margin-left: 0em;'><details><summary>data_selection</summary><div style='margin-left: 1em;'><details><summary>Antennae_North.cal.lsrk.split_ddi_0_intent_OBSERVE_TARGET#ON_SOURCE_field_id_1</summary><div style='margin-left: 2em;'><strong>baseline_id:</strong> slice(48, 64, None)</div><div style='margin-left: 2em;'><strong>frequency:</strong> slice(0, 3, None)</div></details></div><div style='margin-left: 1em;'><details><summary>Antennae_North.cal.lsrk.split_ddi_0_intent_OBSERVE_TARGET#ON_SOURCE_field_id_0</summary><div style='margin-left: 2em;'><strong>baseline_id:</strong> slice(48, 64, None)</div><div style='margin-left: 2em;'><strong>frequency:</strong> slice(0, 3, None)</div></details></div><div style='margin-left: 1em;'><details><summary>Antennae_North.cal.lsrk.split_ddi_0_intent_OBSERVE_TARGET#ON_SOURCE_field_id_2</summary><div style='margin-left: 2em;'><strong>baseline_id:</strong> slice(48, 64, None)</div><div style='margin-left: 2em;'><strong>frequency:</strong> slice(0, 3, None)</div></details></div></details></div><div style='margin-left: 0em;'><details><summary>task_coords</summary><div style='margin-left: 1em;'><details><summary>baseline_id</summary><div style='margin-left: 2em;'><strong>data:</strong> [48 49 50 51 52 53 54 55 56 57 58 59 60 61 62 63]</div><div style='margin-left: 2em;'><strong>dims:</strong> ('baseline_id',)</div><div style='margin-left: 2em;'><details><summary>attrs</summary></details></div></details></div><div style='margin-left: 1em;'><details><summary>frequency</summary><div style='margin-left: 2em;'><strong>data:</strong> [3.43928097e+11 3.43939328e+11 3.43950560e+11]</div><div style='margin-left: 2em;'><strong>dims:</strong> ('frequency',)</div><div style='margin-left: 2em;'><details><summary>attrs</summary><div style='margin-left: 3em;'><details><summary>channel_width</summary><div style='margin-left: 4em;'><details><summary>attrs</summary><div style='margin-left: 5em;'><strong>type:</strong> quantity</div><div style='margin-left: 5em;'><strong>units:</strong> ['Hz']</div></details></div><div style='margin-left: 4em;'><strong>data:</strong> 11231488.981445312</div><div style='margin-left: 4em;'><strong>dims:</strong> </div></details></div><div style='margin-left: 3em;'><strong>frame:</strong> LSRK</div><div style='margin-left: 3em;'><details><summary>reference_frequency</summary><div style='margin-left: 4em;'><details><summary>attrs</summary><div style='margin-left: 5em;'><strong>frame:</strong> LSRK</div><div style='margin-left: 5em;'><strong>type:</strong> spectral_coord</div><div style='margin-left: 5em;'><strong>units:</strong> ['Hz']</div></details></div><div style='margin-left: 4em;'><strong>data:</strong> 343928096685.9587</div><div style='margin-left: 4em;'><strong>dims:</strong> </div></details></div><div style='margin-left: 3em;'><strong>spectral_window_name:</strong> </div><div style='margin-left: 3em;'><strong>spw_id:</strong> 0</div><div style='margin-left: 3em;'><strong>type:</strong> spectral_coord</div><div style='margin-left: 3em;'><strong>units:</strong> ['Hz']</div></details></div></details></div></details></div><div style='margin-left: 0em;'><strong>task_id:</strong> 9</div><div style='margin-left: 0em;'><strong>input_data:</strong> None</div><div style='margin-left: 0em;'><strong>date_time:</strong> None</div>"
      ],
      "text/plain": [
       "<IPython.core.display.HTML object>"
      ]
     },
     "metadata": {},
     "output_type": "display_data"
    },
    {
     "name": "stdout",
     "output_type": "stream",
     "text": [
      "******************************\n"
     ]
    },
    {
     "data": {
      "text/html": [
       "<div style='margin-left: 0em;'><strong>test_input:</strong> 42</div><div style='margin-left: 0em;'><strong>chunk_indices:</strong> (3, 1)</div><div style='margin-left: 0em;'><strong>parallel_dims:</strong> ['baseline_id', 'frequency']</div><div style='margin-left: 0em;'><details><summary>data_selection</summary><div style='margin-left: 1em;'><details><summary>Antennae_North.cal.lsrk.split_ddi_0_intent_OBSERVE_TARGET#ON_SOURCE_field_id_1</summary><div style='margin-left: 2em;'><strong>baseline_id:</strong> slice(48, 64, None)</div><div style='margin-left: 2em;'><strong>frequency:</strong> slice(3, 6, None)</div></details></div><div style='margin-left: 1em;'><details><summary>Antennae_North.cal.lsrk.split_ddi_0_intent_OBSERVE_TARGET#ON_SOURCE_field_id_0</summary><div style='margin-left: 2em;'><strong>baseline_id:</strong> slice(48, 64, None)</div><div style='margin-left: 2em;'><strong>frequency:</strong> slice(3, 6, None)</div></details></div><div style='margin-left: 1em;'><details><summary>Antennae_North.cal.lsrk.split_ddi_0_intent_OBSERVE_TARGET#ON_SOURCE_field_id_2</summary><div style='margin-left: 2em;'><strong>baseline_id:</strong> slice(48, 64, None)</div><div style='margin-left: 2em;'><strong>frequency:</strong> slice(3, 6, None)</div></details></div></details></div><div style='margin-left: 0em;'><details><summary>task_coords</summary><div style='margin-left: 1em;'><details><summary>baseline_id</summary><div style='margin-left: 2em;'><strong>data:</strong> [48 49 50 51 52 53 54 55 56 57 58 59 60 61 62 63]</div><div style='margin-left: 2em;'><strong>dims:</strong> ('baseline_id',)</div><div style='margin-left: 2em;'><details><summary>attrs</summary></details></div></details></div><div style='margin-left: 1em;'><details><summary>frequency</summary><div style='margin-left: 2em;'><strong>data:</strong> [3.43961791e+11 3.43973023e+11 3.43984254e+11]</div><div style='margin-left: 2em;'><strong>dims:</strong> ('frequency',)</div><div style='margin-left: 2em;'><details><summary>attrs</summary><div style='margin-left: 3em;'><details><summary>channel_width</summary><div style='margin-left: 4em;'><details><summary>attrs</summary><div style='margin-left: 5em;'><strong>type:</strong> quantity</div><div style='margin-left: 5em;'><strong>units:</strong> ['Hz']</div></details></div><div style='margin-left: 4em;'><strong>data:</strong> 11231488.981445312</div><div style='margin-left: 4em;'><strong>dims:</strong> </div></details></div><div style='margin-left: 3em;'><strong>frame:</strong> LSRK</div><div style='margin-left: 3em;'><details><summary>reference_frequency</summary><div style='margin-left: 4em;'><details><summary>attrs</summary><div style='margin-left: 5em;'><strong>frame:</strong> LSRK</div><div style='margin-left: 5em;'><strong>type:</strong> spectral_coord</div><div style='margin-left: 5em;'><strong>units:</strong> ['Hz']</div></details></div><div style='margin-left: 4em;'><strong>data:</strong> 343928096685.9587</div><div style='margin-left: 4em;'><strong>dims:</strong> </div></details></div><div style='margin-left: 3em;'><strong>spectral_window_name:</strong> </div><div style='margin-left: 3em;'><strong>spw_id:</strong> 0</div><div style='margin-left: 3em;'><strong>type:</strong> spectral_coord</div><div style='margin-left: 3em;'><strong>units:</strong> ['Hz']</div></details></div></details></div></details></div><div style='margin-left: 0em;'><strong>task_id:</strong> 10</div><div style='margin-left: 0em;'><strong>input_data:</strong> None</div><div style='margin-left: 0em;'><strong>date_time:</strong> None</div>"
      ],
      "text/plain": [
       "<IPython.core.display.HTML object>"
      ]
     },
     "metadata": {},
     "output_type": "display_data"
    },
    {
     "name": "stdout",
     "output_type": "stream",
     "text": [
      "******************************\n"
     ]
    },
    {
     "data": {
      "text/html": [
       "<div style='margin-left: 0em;'><strong>test_input:</strong> 42</div><div style='margin-left: 0em;'><strong>chunk_indices:</strong> (2, 0)</div><div style='margin-left: 0em;'><strong>parallel_dims:</strong> ['baseline_id', 'frequency']</div><div style='margin-left: 0em;'><details><summary>data_selection</summary><div style='margin-left: 1em;'><details><summary>Antennae_North.cal.lsrk.split_ddi_0_intent_OBSERVE_TARGET#ON_SOURCE_field_id_1</summary><div style='margin-left: 2em;'><strong>baseline_id:</strong> slice(32, 48, None)</div><div style='margin-left: 2em;'><strong>frequency:</strong> slice(0, 3, None)</div></details></div><div style='margin-left: 1em;'><details><summary>Antennae_North.cal.lsrk.split_ddi_0_intent_OBSERVE_TARGET#ON_SOURCE_field_id_0</summary><div style='margin-left: 2em;'><strong>baseline_id:</strong> slice(32, 48, None)</div><div style='margin-left: 2em;'><strong>frequency:</strong> slice(0, 3, None)</div></details></div><div style='margin-left: 1em;'><details><summary>Antennae_North.cal.lsrk.split_ddi_0_intent_OBSERVE_TARGET#ON_SOURCE_field_id_2</summary><div style='margin-left: 2em;'><strong>baseline_id:</strong> slice(32, 48, None)</div><div style='margin-left: 2em;'><strong>frequency:</strong> slice(0, 3, None)</div></details></div></details></div><div style='margin-left: 0em;'><details><summary>task_coords</summary><div style='margin-left: 1em;'><details><summary>baseline_id</summary><div style='margin-left: 2em;'><strong>data:</strong> [32 33 34 35 36 37 38 39 40 41 42 43 44 45 46 47]</div><div style='margin-left: 2em;'><strong>dims:</strong> ('baseline_id',)</div><div style='margin-left: 2em;'><details><summary>attrs</summary></details></div></details></div><div style='margin-left: 1em;'><details><summary>frequency</summary><div style='margin-left: 2em;'><strong>data:</strong> [3.43928097e+11 3.43939328e+11 3.43950560e+11]</div><div style='margin-left: 2em;'><strong>dims:</strong> ('frequency',)</div><div style='margin-left: 2em;'><details><summary>attrs</summary><div style='margin-left: 3em;'><details><summary>channel_width</summary><div style='margin-left: 4em;'><details><summary>attrs</summary><div style='margin-left: 5em;'><strong>type:</strong> quantity</div><div style='margin-left: 5em;'><strong>units:</strong> ['Hz']</div></details></div><div style='margin-left: 4em;'><strong>data:</strong> 11231488.981445312</div><div style='margin-left: 4em;'><strong>dims:</strong> </div></details></div><div style='margin-left: 3em;'><strong>frame:</strong> LSRK</div><div style='margin-left: 3em;'><details><summary>reference_frequency</summary><div style='margin-left: 4em;'><details><summary>attrs</summary><div style='margin-left: 5em;'><strong>frame:</strong> LSRK</div><div style='margin-left: 5em;'><strong>type:</strong> spectral_coord</div><div style='margin-left: 5em;'><strong>units:</strong> ['Hz']</div></details></div><div style='margin-left: 4em;'><strong>data:</strong> 343928096685.9587</div><div style='margin-left: 4em;'><strong>dims:</strong> </div></details></div><div style='margin-left: 3em;'><strong>spectral_window_name:</strong> </div><div style='margin-left: 3em;'><strong>spw_id:</strong> 0</div><div style='margin-left: 3em;'><strong>type:</strong> spectral_coord</div><div style='margin-left: 3em;'><strong>units:</strong> ['Hz']</div></details></div></details></div></details></div><div style='margin-left: 0em;'><strong>task_id:</strong> 6</div><div style='margin-left: 0em;'><strong>input_data:</strong> None</div><div style='margin-left: 0em;'><strong>date_time:</strong> None</div>"
      ],
      "text/plain": [
       "<IPython.core.display.HTML object>"
      ]
     },
     "metadata": {},
     "output_type": "display_data"
    },
    {
     "name": "stdout",
     "output_type": "stream",
     "text": [
      "******************************\n"
     ]
    },
    {
     "data": {
      "text/html": [
       "<div style='margin-left: 0em;'><strong>test_input:</strong> 42</div><div style='margin-left: 0em;'><strong>chunk_indices:</strong> (0, 0)</div><div style='margin-left: 0em;'><strong>parallel_dims:</strong> ['baseline_id', 'frequency']</div><div style='margin-left: 0em;'><details><summary>data_selection</summary><div style='margin-left: 1em;'><details><summary>Antennae_North.cal.lsrk.split_ddi_0_intent_OBSERVE_TARGET#ON_SOURCE_field_id_1</summary><div style='margin-left: 2em;'><strong>baseline_id:</strong> slice(0, 16, None)</div><div style='margin-left: 2em;'><strong>frequency:</strong> slice(0, 3, None)</div></details></div><div style='margin-left: 1em;'><details><summary>Antennae_North.cal.lsrk.split_ddi_0_intent_OBSERVE_TARGET#ON_SOURCE_field_id_0</summary><div style='margin-left: 2em;'><strong>baseline_id:</strong> slice(0, 16, None)</div><div style='margin-left: 2em;'><strong>frequency:</strong> slice(0, 3, None)</div></details></div><div style='margin-left: 1em;'><details><summary>Antennae_North.cal.lsrk.split_ddi_0_intent_OBSERVE_TARGET#ON_SOURCE_field_id_2</summary><div style='margin-left: 2em;'><strong>baseline_id:</strong> slice(0, 16, None)</div><div style='margin-left: 2em;'><strong>frequency:</strong> slice(0, 3, None)</div></details></div></details></div><div style='margin-left: 0em;'><details><summary>task_coords</summary><div style='margin-left: 1em;'><details><summary>baseline_id</summary><div style='margin-left: 2em;'><strong>data:</strong> [ 0  1  2  3  4  5  6  7  8  9 10 11 12 13 14 15]</div><div style='margin-left: 2em;'><strong>dims:</strong> ('baseline_id',)</div><div style='margin-left: 2em;'><details><summary>attrs</summary></details></div></details></div><div style='margin-left: 1em;'><details><summary>frequency</summary><div style='margin-left: 2em;'><strong>data:</strong> [3.43928097e+11 3.43939328e+11 3.43950560e+11]</div><div style='margin-left: 2em;'><strong>dims:</strong> ('frequency',)</div><div style='margin-left: 2em;'><details><summary>attrs</summary><div style='margin-left: 3em;'><details><summary>channel_width</summary><div style='margin-left: 4em;'><details><summary>attrs</summary><div style='margin-left: 5em;'><strong>type:</strong> quantity</div><div style='margin-left: 5em;'><strong>units:</strong> ['Hz']</div></details></div><div style='margin-left: 4em;'><strong>data:</strong> 11231488.981445312</div><div style='margin-left: 4em;'><strong>dims:</strong> </div></details></div><div style='margin-left: 3em;'><strong>frame:</strong> LSRK</div><div style='margin-left: 3em;'><details><summary>reference_frequency</summary><div style='margin-left: 4em;'><details><summary>attrs</summary><div style='margin-left: 5em;'><strong>frame:</strong> LSRK</div><div style='margin-left: 5em;'><strong>type:</strong> spectral_coord</div><div style='margin-left: 5em;'><strong>units:</strong> ['Hz']</div></details></div><div style='margin-left: 4em;'><strong>data:</strong> 343928096685.9587</div><div style='margin-left: 4em;'><strong>dims:</strong> </div></details></div><div style='margin-left: 3em;'><strong>spectral_window_name:</strong> </div><div style='margin-left: 3em;'><strong>spw_id:</strong> 0</div><div style='margin-left: 3em;'><strong>type:</strong> spectral_coord</div><div style='margin-left: 3em;'><strong>units:</strong> ['Hz']</div></details></div></details></div></details></div><div style='margin-left: 0em;'><strong>task_id:</strong> 0</div><div style='margin-left: 0em;'><strong>input_data:</strong> None</div><div style='margin-left: 0em;'><strong>date_time:</strong> None</div>"
      ],
      "text/plain": [
       "<IPython.core.display.HTML object>"
      ]
     },
     "metadata": {},
     "output_type": "display_data"
    },
    {
     "name": "stdout",
     "output_type": "stream",
     "text": [
      "******************************\n"
     ]
    },
    {
     "data": {
      "text/html": [
       "<div style='margin-left: 0em;'><strong>test_input:</strong> 42</div><div style='margin-left: 0em;'><strong>chunk_indices:</strong> (3, 2)</div><div style='margin-left: 0em;'><strong>parallel_dims:</strong> ['baseline_id', 'frequency']</div><div style='margin-left: 0em;'><details><summary>data_selection</summary><div style='margin-left: 1em;'><details><summary>Antennae_North.cal.lsrk.split_ddi_0_intent_OBSERVE_TARGET#ON_SOURCE_field_id_1</summary><div style='margin-left: 2em;'><strong>baseline_id:</strong> slice(48, 64, None)</div><div style='margin-left: 2em;'><strong>frequency:</strong> slice(6, 8, None)</div></details></div><div style='margin-left: 1em;'><details><summary>Antennae_North.cal.lsrk.split_ddi_0_intent_OBSERVE_TARGET#ON_SOURCE_field_id_0</summary><div style='margin-left: 2em;'><strong>baseline_id:</strong> slice(48, 64, None)</div><div style='margin-left: 2em;'><strong>frequency:</strong> slice(6, 8, None)</div></details></div><div style='margin-left: 1em;'><details><summary>Antennae_North.cal.lsrk.split_ddi_0_intent_OBSERVE_TARGET#ON_SOURCE_field_id_2</summary><div style='margin-left: 2em;'><strong>baseline_id:</strong> slice(48, 64, None)</div><div style='margin-left: 2em;'><strong>frequency:</strong> slice(6, 8, None)</div></details></div></details></div><div style='margin-left: 0em;'><details><summary>task_coords</summary><div style='margin-left: 1em;'><details><summary>baseline_id</summary><div style='margin-left: 2em;'><strong>data:</strong> [48 49 50 51 52 53 54 55 56 57 58 59 60 61 62 63]</div><div style='margin-left: 2em;'><strong>dims:</strong> ('baseline_id',)</div><div style='margin-left: 2em;'><details><summary>attrs</summary></details></div></details></div><div style='margin-left: 1em;'><details><summary>frequency</summary><div style='margin-left: 2em;'><strong>data:</strong> [3.43995486e+11 3.44006717e+11]</div><div style='margin-left: 2em;'><strong>dims:</strong> ('frequency',)</div><div style='margin-left: 2em;'><details><summary>attrs</summary><div style='margin-left: 3em;'><details><summary>channel_width</summary><div style='margin-left: 4em;'><details><summary>attrs</summary><div style='margin-left: 5em;'><strong>type:</strong> quantity</div><div style='margin-left: 5em;'><strong>units:</strong> ['Hz']</div></details></div><div style='margin-left: 4em;'><strong>data:</strong> 11231488.981445312</div><div style='margin-left: 4em;'><strong>dims:</strong> </div></details></div><div style='margin-left: 3em;'><strong>frame:</strong> LSRK</div><div style='margin-left: 3em;'><details><summary>reference_frequency</summary><div style='margin-left: 4em;'><details><summary>attrs</summary><div style='margin-left: 5em;'><strong>frame:</strong> LSRK</div><div style='margin-left: 5em;'><strong>type:</strong> spectral_coord</div><div style='margin-left: 5em;'><strong>units:</strong> ['Hz']</div></details></div><div style='margin-left: 4em;'><strong>data:</strong> 343928096685.9587</div><div style='margin-left: 4em;'><strong>dims:</strong> </div></details></div><div style='margin-left: 3em;'><strong>spectral_window_name:</strong> </div><div style='margin-left: 3em;'><strong>spw_id:</strong> 0</div><div style='margin-left: 3em;'><strong>type:</strong> spectral_coord</div><div style='margin-left: 3em;'><strong>units:</strong> ['Hz']</div></details></div></details></div></details></div><div style='margin-left: 0em;'><strong>task_id:</strong> 11</div><div style='margin-left: 0em;'><strong>input_data:</strong> None</div><div style='margin-left: 0em;'><strong>date_time:</strong> None</div>"
      ],
      "text/plain": [
       "<IPython.core.display.HTML object>"
      ]
     },
     "metadata": {},
     "output_type": "display_data"
    },
    {
     "name": "stdout",
     "output_type": "stream",
     "text": [
      "******************************\n"
     ]
    },
    {
     "data": {
      "text/html": [
       "<div style='margin-left: 0em;'><strong>test_input:</strong> 42</div><div style='margin-left: 0em;'><strong>chunk_indices:</strong> (1, 1)</div><div style='margin-left: 0em;'><strong>parallel_dims:</strong> ['baseline_id', 'frequency']</div><div style='margin-left: 0em;'><details><summary>data_selection</summary><div style='margin-left: 1em;'><details><summary>Antennae_North.cal.lsrk.split_ddi_0_intent_OBSERVE_TARGET#ON_SOURCE_field_id_1</summary><div style='margin-left: 2em;'><strong>baseline_id:</strong> slice(16, 32, None)</div><div style='margin-left: 2em;'><strong>frequency:</strong> slice(3, 6, None)</div></details></div><div style='margin-left: 1em;'><details><summary>Antennae_North.cal.lsrk.split_ddi_0_intent_OBSERVE_TARGET#ON_SOURCE_field_id_0</summary><div style='margin-left: 2em;'><strong>baseline_id:</strong> slice(16, 32, None)</div><div style='margin-left: 2em;'><strong>frequency:</strong> slice(3, 6, None)</div></details></div><div style='margin-left: 1em;'><details><summary>Antennae_North.cal.lsrk.split_ddi_0_intent_OBSERVE_TARGET#ON_SOURCE_field_id_2</summary><div style='margin-left: 2em;'><strong>baseline_id:</strong> slice(16, 32, None)</div><div style='margin-left: 2em;'><strong>frequency:</strong> slice(3, 6, None)</div></details></div></details></div><div style='margin-left: 0em;'><details><summary>task_coords</summary><div style='margin-left: 1em;'><details><summary>baseline_id</summary><div style='margin-left: 2em;'><strong>data:</strong> [16 17 18 19 20 21 22 23 24 25 26 27 28 29 30 31]</div><div style='margin-left: 2em;'><strong>dims:</strong> ('baseline_id',)</div><div style='margin-left: 2em;'><details><summary>attrs</summary></details></div></details></div><div style='margin-left: 1em;'><details><summary>frequency</summary><div style='margin-left: 2em;'><strong>data:</strong> [3.43961791e+11 3.43973023e+11 3.43984254e+11]</div><div style='margin-left: 2em;'><strong>dims:</strong> ('frequency',)</div><div style='margin-left: 2em;'><details><summary>attrs</summary><div style='margin-left: 3em;'><details><summary>channel_width</summary><div style='margin-left: 4em;'><details><summary>attrs</summary><div style='margin-left: 5em;'><strong>type:</strong> quantity</div><div style='margin-left: 5em;'><strong>units:</strong> ['Hz']</div></details></div><div style='margin-left: 4em;'><strong>data:</strong> 11231488.981445312</div><div style='margin-left: 4em;'><strong>dims:</strong> </div></details></div><div style='margin-left: 3em;'><strong>frame:</strong> LSRK</div><div style='margin-left: 3em;'><details><summary>reference_frequency</summary><div style='margin-left: 4em;'><details><summary>attrs</summary><div style='margin-left: 5em;'><strong>frame:</strong> LSRK</div><div style='margin-left: 5em;'><strong>type:</strong> spectral_coord</div><div style='margin-left: 5em;'><strong>units:</strong> ['Hz']</div></details></div><div style='margin-left: 4em;'><strong>data:</strong> 343928096685.9587</div><div style='margin-left: 4em;'><strong>dims:</strong> </div></details></div><div style='margin-left: 3em;'><strong>spectral_window_name:</strong> </div><div style='margin-left: 3em;'><strong>spw_id:</strong> 0</div><div style='margin-left: 3em;'><strong>type:</strong> spectral_coord</div><div style='margin-left: 3em;'><strong>units:</strong> ['Hz']</div></details></div></details></div></details></div><div style='margin-left: 0em;'><strong>task_id:</strong> 4</div><div style='margin-left: 0em;'><strong>input_data:</strong> None</div><div style='margin-left: 0em;'><strong>date_time:</strong> None</div>"
      ],
      "text/plain": [
       "<IPython.core.display.HTML object>"
      ]
     },
     "metadata": {},
     "output_type": "display_data"
    },
    {
     "name": "stdout",
     "output_type": "stream",
     "text": [
      "******************************\n"
     ]
    },
    {
     "data": {
      "text/plain": [
       "(([42, 42, 42, 42, 42, 42, 42, 42, 42, 42, 42, 42], None),)"
      ]
     },
     "execution_count": 22,
     "metadata": {},
     "output_type": "execute_result"
    }
   ],
   "source": [
    "dask.compute(graph)"
   ]
  },
  {
   "cell_type": "markdown",
   "id": "f5b7f016-b05e-4773-aa2e-de8b397a0c59",
   "metadata": {},
   "source": [
    "## Time Map Reduce"
   ]
  },
  {
   "cell_type": "markdown",
   "id": "b3a8a9fe-9376-461b-b472-83107d1c1c02",
   "metadata": {},
   "source": [
    "### Create Parallel Coordinates"
   ]
  },
  {
   "cell_type": "code",
   "execution_count": 23,
   "id": "4e4acb1e-4a63-4e73-a342-30eb1013347e",
   "metadata": {},
   "outputs": [
    {
     "data": {
      "text/html": [
       "<div style='margin-left: 0em;'><strong>data:</strong> [1306547230.1759996, 1306547236.224, 1306547242.2720003, 1306547248.3199997, 1306547254.368, 1306547265.4560003, 1306547271.5039997, 1306547277.552, 1306547283.5999994, 1306547289.6479998, 1306547300.736, 1306547306.7840004, 1306547312.8319998, 1306547318.88, 1306547324.9279995, 1306548534.0480003, 1306548540.0959997, 1306548546.144, 1306548552.1919994, 1306548558.2399998, 1306548569.328, 1306548575.3760004, 1306548581.4240007, 1306548587.4720001, 1306548593.5199995, 1306548604.6079998, 1306548610.6560001, 1306548616.7040005, 1306548622.7519999, 1306548628.8000002, 1306549611.8400002, 1306549617.8879995, 1306549623.9359999, 1306549629.9840002, 1306549636.0320005, 1306549647.12, 1306549653.1680002, 1306549659.2159996, 1306549665.264, 1306549671.3120003, 1306549682.4000006, 1306549688.448, 1306549694.4960003, 1306549700.5439997, 1306549706.592, 1306550670.0959997, 1306550676.144, 1306550682.1919994, 1306550688.2399998, 1306550694.288, 1307136638.6879997, 1307136644.736, 1307136650.7839994, 1307136656.8319998, 1307136662.88, 1307136673.9680004, 1307136680.0159998, 1307136686.0640001, 1307136692.1119995, 1307136698.1599998, 1307136709.2480001, 1307136715.2960005, 1307136721.3439999, 1307136727.3920002, 1307136733.4400005, 1307137970.88, 1307137976.9279995, 1307137982.9759998, 1307137989.0240002, 1307137995.0719995, 1307138006.1599998, 1307138012.2080002, 1307138018.2560005, 1307138024.304, 1307138030.3519993, 1307138041.4399996, 1307138047.488, 1307138053.5360003, 1307138059.5840006, 1307138065.632, 1307139057.12, 1307139063.1680002, 1307139069.2159996, 1307139075.264, 1307139081.3119993, 1307139092.3999996, 1307139098.448, 1307139104.4960003, 1307139110.5440006, 1307139116.592, 1307139127.6799994, 1307139133.7279997, 1307139139.776, 1307139145.8240004, 1307139151.8719997, 1307140121.7600002, 1307140127.8079996, 1307140133.856, 1307140139.9039993, 1307140145.9519997, 1307147559.9359999, 1307147565.9840002, 1307147572.0319996, 1307147578.08, 1307147584.1280003, 1307147595.2160006, 1307147601.264, 1307147607.3120003, 1307147613.3600006, 1307147619.408, 1307147630.4960003, 1307147636.5439997, 1307147642.592, 1307147648.6400003, 1307147654.6880007]</div><div style='margin-left: 0em;'><details><summary>data_chunks</summary><div style='margin-left: 1em;'><strong>0:</strong> [1.30654723e+09 1.30654724e+09 1.30654724e+09 1.30654725e+09\n",
       " 1.30654725e+09 1.30654727e+09 1.30654727e+09 1.30654728e+09\n",
       " 1.30654728e+09 1.30654729e+09 1.30654730e+09 1.30654731e+09\n",
       " 1.30654731e+09 1.30654732e+09 1.30654732e+09 1.30654853e+09\n",
       " 1.30654854e+09 1.30654855e+09 1.30654855e+09 1.30654856e+09\n",
       " 1.30654857e+09 1.30654858e+09 1.30654858e+09 1.30654859e+09\n",
       " 1.30654859e+09 1.30654860e+09 1.30654861e+09 1.30654862e+09\n",
       " 1.30654862e+09]</div><div style='margin-left: 1em;'><strong>1:</strong> [1.30654863e+09 1.30654961e+09 1.30654962e+09 1.30654962e+09\n",
       " 1.30654963e+09 1.30654964e+09 1.30654965e+09 1.30654965e+09\n",
       " 1.30654966e+09 1.30654967e+09 1.30654967e+09 1.30654968e+09\n",
       " 1.30654969e+09 1.30654969e+09 1.30654970e+09 1.30654971e+09\n",
       " 1.30655067e+09 1.30655068e+09 1.30655068e+09 1.30655069e+09\n",
       " 1.30655069e+09 1.30713664e+09 1.30713664e+09 1.30713665e+09\n",
       " 1.30713666e+09 1.30713666e+09 1.30713667e+09 1.30713668e+09\n",
       " 1.30713669e+09]</div><div style='margin-left: 1em;'><strong>2:</strong> [1.30713669e+09 1.30713670e+09 1.30713671e+09 1.30713672e+09\n",
       " 1.30713672e+09 1.30713673e+09 1.30713673e+09 1.30713797e+09\n",
       " 1.30713798e+09 1.30713798e+09 1.30713799e+09 1.30713800e+09\n",
       " 1.30713801e+09 1.30713801e+09 1.30713802e+09 1.30713802e+09\n",
       " 1.30713803e+09 1.30713804e+09 1.30713805e+09 1.30713805e+09\n",
       " 1.30713806e+09 1.30713807e+09 1.30713906e+09 1.30713906e+09\n",
       " 1.30713907e+09 1.30713908e+09 1.30713908e+09 1.30713909e+09\n",
       " 1.30713910e+09]</div><div style='margin-left: 1em;'><strong>3:</strong> [1.30713910e+09 1.30713911e+09 1.30713912e+09 1.30713913e+09\n",
       " 1.30713913e+09 1.30713914e+09 1.30713915e+09 1.30713915e+09\n",
       " 1.30714012e+09 1.30714013e+09 1.30714013e+09 1.30714014e+09\n",
       " 1.30714015e+09 1.30714756e+09 1.30714757e+09 1.30714757e+09\n",
       " 1.30714758e+09 1.30714758e+09 1.30714760e+09 1.30714760e+09\n",
       " 1.30714761e+09 1.30714761e+09 1.30714762e+09 1.30714763e+09\n",
       " 1.30714764e+09 1.30714764e+09 1.30714765e+09 1.30714765e+09]</div></details></div><div style='margin-left: 0em;'><strong>data_chunks_edges:</strong> [1306547230.1759996, 1306548622.7519999, 1306548628.8000002, 1307136686.0640001, 1307136692.1119995, 1307139098.448, 1307139104.4960003, 1307147654.6880007]</div><div style='margin-left: 0em;'><strong>dims:</strong> ('time',)</div><div style='margin-left: 0em;'><details><summary>attrs</summary><div style='margin-left: 1em;'><strong>effective_integration_time:</strong> EFFECTIVE_INTEGRATION_TIME</div><div style='margin-left: 1em;'><strong>format:</strong> unix</div><div style='margin-left: 1em;'><details><summary>integration_time</summary><div style='margin-left: 2em;'><details><summary>attrs</summary><div style='margin-left: 3em;'><strong>type:</strong> quantity</div><div style='margin-left: 3em;'><strong>units:</strong> ['s']</div></details></div><div style='margin-left: 2em;'><strong>data:</strong> 6.048</div><div style='margin-left: 2em;'><strong>dims:</strong> </div></details></div><div style='margin-left: 1em;'><strong>scale:</strong> UTC</div><div style='margin-left: 1em;'><strong>type:</strong> time</div><div style='margin-left: 1em;'><strong>units:</strong> ['s']</div></details></div>"
      ],
      "text/plain": [
       "<IPython.core.display.HTML object>"
      ]
     },
     "metadata": {},
     "output_type": "display_data"
    }
   ],
   "source": [
    "from graphviper.graph_tools.coordinate_utils import make_parallel_coord\n",
    "from graphviper.utils.display import dict_to_html\n",
    "import dask\n",
    "\n",
    "dask.config.set(scheduler=\"synchronous\")\n",
    "\n",
    "from xradio.vis.read_processing_set import read_processing_set\n",
    "from IPython.display import HTML, display\n",
    "\n",
    "intents = [\"OBSERVE_TARGET#ON_SOURCE\"]\n",
    "ps = read_processing_set(\n",
    "    ps_name=\"Antennae_North.cal.lsrk.split.vis.zarr\",\n",
    "    intents=[\"OBSERVE_TARGET#ON_SOURCE\"],\n",
    ")\n",
    "ms_xds = ps.get(1)\n",
    "\n",
    "parallel_coords = {}\n",
    "\n",
    "import xarray as xr\n",
    "import numpy as np\n",
    "\n",
    "t0, t1, t2 = (ps.get(1).time, ps.get(0).time, ps.get(2).time)\n",
    "time_coord = xr.concat([t0, t1, t2], dim=\"time\").sortby(\"time\").to_dict()\n",
    "n_chunks = 4\n",
    "parallel_coords[\"time\"] = make_parallel_coord(coord=time_coord, n_chunks=n_chunks)\n",
    "display(HTML(dict_to_html(parallel_coords[\"time\"])))"
   ]
  },
  {
   "cell_type": "markdown",
   "id": "5d2acace",
   "metadata": {},
   "source": [
    "### Create Node Task Data Mapping"
   ]
  },
  {
   "cell_type": "code",
   "execution_count": 24,
   "id": "833a71ad",
   "metadata": {},
   "outputs": [
    {
     "data": {
      "text/html": [
       "<div style='margin-left: 0em;'><details><summary>0</summary><div style='margin-left: 1em;'><strong>chunk_indices:</strong> (0,)</div><div style='margin-left: 1em;'><strong>parallel_dims:</strong> ['time']</div><div style='margin-left: 1em;'><details><summary>data_selection</summary><div style='margin-left: 2em;'><details><summary>Antennae_North.cal.lsrk.split_ddi_0_intent_OBSERVE_TARGET#ON_SOURCE_field_id_1</summary><div style='margin-left: 3em;'><strong>time:</strong> slice(0, 10, None)</div></details></div><div style='margin-left: 2em;'><details><summary>Antennae_North.cal.lsrk.split_ddi_0_intent_OBSERVE_TARGET#ON_SOURCE_field_id_0</summary><div style='margin-left: 3em;'><strong>time:</strong> slice(0, 10, None)</div></details></div><div style='margin-left: 2em;'><details><summary>Antennae_North.cal.lsrk.split_ddi_0_intent_OBSERVE_TARGET#ON_SOURCE_field_id_2</summary><div style='margin-left: 3em;'><strong>time:</strong> slice(0, 9, None)</div></details></div></details></div><div style='margin-left: 1em;'><details><summary>task_coords</summary><div style='margin-left: 2em;'><details><summary>time</summary><div style='margin-left: 3em;'><strong>data:</strong> [1.30654723e+09 1.30654724e+09 1.30654724e+09 1.30654725e+09\n",
       " 1.30654725e+09 1.30654727e+09 1.30654727e+09 1.30654728e+09\n",
       " 1.30654728e+09 1.30654729e+09 1.30654730e+09 1.30654731e+09\n",
       " 1.30654731e+09 1.30654732e+09 1.30654732e+09 1.30654853e+09\n",
       " 1.30654854e+09 1.30654855e+09 1.30654855e+09 1.30654856e+09\n",
       " 1.30654857e+09 1.30654858e+09 1.30654858e+09 1.30654859e+09\n",
       " 1.30654859e+09 1.30654860e+09 1.30654861e+09 1.30654862e+09\n",
       " 1.30654862e+09]</div><div style='margin-left: 3em;'><strong>dims:</strong> ('time',)</div><div style='margin-left: 3em;'><details><summary>attrs</summary><div style='margin-left: 4em;'><strong>effective_integration_time:</strong> EFFECTIVE_INTEGRATION_TIME</div><div style='margin-left: 4em;'><strong>format:</strong> unix</div><div style='margin-left: 4em;'><details><summary>integration_time</summary><div style='margin-left: 5em;'><details><summary>attrs</summary><div style='margin-left: 6em;'><strong>type:</strong> quantity</div><div style='margin-left: 6em;'><strong>units:</strong> ['s']</div></details></div><div style='margin-left: 5em;'><strong>data:</strong> 6.048</div><div style='margin-left: 5em;'><strong>dims:</strong> </div></details></div><div style='margin-left: 4em;'><strong>scale:</strong> UTC</div><div style='margin-left: 4em;'><strong>type:</strong> time</div><div style='margin-left: 4em;'><strong>units:</strong> ['s']</div></details></div></details></div></details></div></details></div><div style='margin-left: 0em;'><details><summary>1</summary><div style='margin-left: 1em;'><strong>chunk_indices:</strong> (1,)</div><div style='margin-left: 1em;'><strong>parallel_dims:</strong> ['time']</div><div style='margin-left: 1em;'><details><summary>data_selection</summary><div style='margin-left: 2em;'><details><summary>Antennae_North.cal.lsrk.split_ddi_0_intent_OBSERVE_TARGET#ON_SOURCE_field_id_1</summary><div style='margin-left: 3em;'><strong>time:</strong> slice(9, 18, None)</div></details></div><div style='margin-left: 2em;'><details><summary>Antennae_North.cal.lsrk.split_ddi_0_intent_OBSERVE_TARGET#ON_SOURCE_field_id_0</summary><div style='margin-left: 3em;'><strong>time:</strong> slice(9, 25, None)</div></details></div><div style='margin-left: 2em;'><details><summary>Antennae_North.cal.lsrk.split_ddi_0_intent_OBSERVE_TARGET#ON_SOURCE_field_id_2</summary><div style='margin-left: 3em;'><strong>time:</strong> slice(9, 16, None)</div></details></div></details></div><div style='margin-left: 1em;'><details><summary>task_coords</summary><div style='margin-left: 2em;'><details><summary>time</summary><div style='margin-left: 3em;'><strong>data:</strong> [1.30654863e+09 1.30654961e+09 1.30654962e+09 1.30654962e+09\n",
       " 1.30654963e+09 1.30654964e+09 1.30654965e+09 1.30654965e+09\n",
       " 1.30654966e+09 1.30654967e+09 1.30654967e+09 1.30654968e+09\n",
       " 1.30654969e+09 1.30654969e+09 1.30654970e+09 1.30654971e+09\n",
       " 1.30655067e+09 1.30655068e+09 1.30655068e+09 1.30655069e+09\n",
       " 1.30655069e+09 1.30713664e+09 1.30713664e+09 1.30713665e+09\n",
       " 1.30713666e+09 1.30713666e+09 1.30713667e+09 1.30713668e+09\n",
       " 1.30713669e+09]</div><div style='margin-left: 3em;'><strong>dims:</strong> ('time',)</div><div style='margin-left: 3em;'><details><summary>attrs</summary><div style='margin-left: 4em;'><strong>effective_integration_time:</strong> EFFECTIVE_INTEGRATION_TIME</div><div style='margin-left: 4em;'><strong>format:</strong> unix</div><div style='margin-left: 4em;'><details><summary>integration_time</summary><div style='margin-left: 5em;'><details><summary>attrs</summary><div style='margin-left: 6em;'><strong>type:</strong> quantity</div><div style='margin-left: 6em;'><strong>units:</strong> ['s']</div></details></div><div style='margin-left: 5em;'><strong>data:</strong> 6.048</div><div style='margin-left: 5em;'><strong>dims:</strong> </div></details></div><div style='margin-left: 4em;'><strong>scale:</strong> UTC</div><div style='margin-left: 4em;'><strong>type:</strong> time</div><div style='margin-left: 4em;'><strong>units:</strong> ['s']</div></details></div></details></div></details></div></details></div><div style='margin-left: 0em;'><details><summary>2</summary><div style='margin-left: 1em;'><strong>chunk_indices:</strong> (2,)</div><div style='margin-left: 1em;'><strong>parallel_dims:</strong> ['time']</div><div style='margin-left: 1em;'><details><summary>data_selection</summary><div style='margin-left: 2em;'><details><summary>Antennae_North.cal.lsrk.split_ddi_0_intent_OBSERVE_TARGET#ON_SOURCE_field_id_1</summary><div style='margin-left: 3em;'><strong>time:</strong> slice(18, 27, None)</div></details></div><div style='margin-left: 2em;'><details><summary>Antennae_North.cal.lsrk.split_ddi_0_intent_OBSERVE_TARGET#ON_SOURCE_field_id_0</summary><div style='margin-left: 3em;'><strong>time:</strong> slice(24, 35, None)</div></details></div><div style='margin-left: 2em;'><details><summary>Antennae_North.cal.lsrk.split_ddi_0_intent_OBSERVE_TARGET#ON_SOURCE_field_id_2</summary><div style='margin-left: 3em;'><strong>time:</strong> slice(15, 26, None)</div></details></div></details></div><div style='margin-left: 1em;'><details><summary>task_coords</summary><div style='margin-left: 2em;'><details><summary>time</summary><div style='margin-left: 3em;'><strong>data:</strong> [1.30713669e+09 1.30713670e+09 1.30713671e+09 1.30713672e+09\n",
       " 1.30713672e+09 1.30713673e+09 1.30713673e+09 1.30713797e+09\n",
       " 1.30713798e+09 1.30713798e+09 1.30713799e+09 1.30713800e+09\n",
       " 1.30713801e+09 1.30713801e+09 1.30713802e+09 1.30713802e+09\n",
       " 1.30713803e+09 1.30713804e+09 1.30713805e+09 1.30713805e+09\n",
       " 1.30713806e+09 1.30713807e+09 1.30713906e+09 1.30713906e+09\n",
       " 1.30713907e+09 1.30713908e+09 1.30713908e+09 1.30713909e+09\n",
       " 1.30713910e+09]</div><div style='margin-left: 3em;'><strong>dims:</strong> ('time',)</div><div style='margin-left: 3em;'><details><summary>attrs</summary><div style='margin-left: 4em;'><strong>effective_integration_time:</strong> EFFECTIVE_INTEGRATION_TIME</div><div style='margin-left: 4em;'><strong>format:</strong> unix</div><div style='margin-left: 4em;'><details><summary>integration_time</summary><div style='margin-left: 5em;'><details><summary>attrs</summary><div style='margin-left: 6em;'><strong>type:</strong> quantity</div><div style='margin-left: 6em;'><strong>units:</strong> ['s']</div></details></div><div style='margin-left: 5em;'><strong>data:</strong> 6.048</div><div style='margin-left: 5em;'><strong>dims:</strong> </div></details></div><div style='margin-left: 4em;'><strong>scale:</strong> UTC</div><div style='margin-left: 4em;'><strong>type:</strong> time</div><div style='margin-left: 4em;'><strong>units:</strong> ['s']</div></details></div></details></div></details></div></details></div><div style='margin-left: 0em;'><details><summary>3</summary><div style='margin-left: 1em;'><strong>chunk_indices:</strong> (3,)</div><div style='margin-left: 1em;'><strong>parallel_dims:</strong> ['time']</div><div style='margin-left: 1em;'><details><summary>data_selection</summary><div style='margin-left: 2em;'><details><summary>Antennae_North.cal.lsrk.split_ddi_0_intent_OBSERVE_TARGET#ON_SOURCE_field_id_1</summary><div style='margin-left: 3em;'><strong>time:</strong> slice(27, -1, None)</div></details></div><div style='margin-left: 2em;'><details><summary>Antennae_North.cal.lsrk.split_ddi_0_intent_OBSERVE_TARGET#ON_SOURCE_field_id_0</summary><div style='margin-left: 3em;'><strong>time:</strong> slice(34, -1, None)</div></details></div><div style='margin-left: 2em;'><details><summary>Antennae_North.cal.lsrk.split_ddi_0_intent_OBSERVE_TARGET#ON_SOURCE_field_id_2</summary><div style='margin-left: 3em;'><strong>time:</strong> slice(25, 35, None)</div></details></div></details></div><div style='margin-left: 1em;'><details><summary>task_coords</summary><div style='margin-left: 2em;'><details><summary>time</summary><div style='margin-left: 3em;'><strong>data:</strong> [1.30713910e+09 1.30713911e+09 1.30713912e+09 1.30713913e+09\n",
       " 1.30713913e+09 1.30713914e+09 1.30713915e+09 1.30713915e+09\n",
       " 1.30714012e+09 1.30714013e+09 1.30714013e+09 1.30714014e+09\n",
       " 1.30714015e+09 1.30714756e+09 1.30714757e+09 1.30714757e+09\n",
       " 1.30714758e+09 1.30714758e+09 1.30714760e+09 1.30714760e+09\n",
       " 1.30714761e+09 1.30714761e+09 1.30714762e+09 1.30714763e+09\n",
       " 1.30714764e+09 1.30714764e+09 1.30714765e+09 1.30714765e+09]</div><div style='margin-left: 3em;'><strong>dims:</strong> ('time',)</div><div style='margin-left: 3em;'><details><summary>attrs</summary><div style='margin-left: 4em;'><strong>effective_integration_time:</strong> EFFECTIVE_INTEGRATION_TIME</div><div style='margin-left: 4em;'><strong>format:</strong> unix</div><div style='margin-left: 4em;'><details><summary>integration_time</summary><div style='margin-left: 5em;'><details><summary>attrs</summary><div style='margin-left: 6em;'><strong>type:</strong> quantity</div><div style='margin-left: 6em;'><strong>units:</strong> ['s']</div></details></div><div style='margin-left: 5em;'><strong>data:</strong> 6.048</div><div style='margin-left: 5em;'><strong>dims:</strong> </div></details></div><div style='margin-left: 4em;'><strong>scale:</strong> UTC</div><div style='margin-left: 4em;'><strong>type:</strong> time</div><div style='margin-left: 4em;'><strong>units:</strong> ['s']</div></details></div></details></div></details></div></details></div>"
      ],
      "text/plain": [
       "<IPython.core.display.HTML object>"
      ]
     },
     "metadata": {},
     "output_type": "display_data"
    }
   ],
   "source": [
    "from graphviper.graph_tools.coordinate_utils import (\n",
    "    interpolate_data_coords_onto_parallel_coords,\n",
    ")\n",
    "\n",
    "node_task_data_mapping = interpolate_data_coords_onto_parallel_coords(\n",
    "    parallel_coords, ps\n",
    ")\n",
    "display(HTML(dict_to_html(node_task_data_mapping)))"
   ]
  },
  {
   "cell_type": "markdown",
   "id": "1123fc67-58c1-4786-8546-a0fc47150dc6",
   "metadata": {},
   "source": [
    "### Map Graph"
   ]
  },
  {
   "cell_type": "code",
   "execution_count": 25,
   "id": "d56f58e2-d02c-4950-9eab-9e9190660b0a",
   "metadata": {},
   "outputs": [
    {
     "data": {
      "image/png": "[encoded data removed]",
      "text/plain": [
       "<IPython.core.display.Image object>"
      ]
     },
     "execution_count": 25,
     "metadata": {},
     "output_type": "execute_result"
    }
   ],
   "source": [
    "from graphviper.graph_tools.map import map\n",
    "import dask\n",
    "from IPython.display import display, HTML\n",
    "\n",
    "\n",
    "def my_func(input_params):\n",
    "    display(HTML(dict_to_html(input_params)))\n",
    "\n",
    "    print(\"*\" * 30)\n",
    "    return input_params[\"test_input\"]\n",
    "\n",
    "\n",
    "# ['test_input', 'input_data_name', 'viper_local_dir', 'date_time', 'data_sel', 'chunk_coords', 'chunk_indx', 'chunk_id', 'parallel_dims']\n",
    "input_params = {}\n",
    "input_params[\"test_input\"] = 42\n",
    "\n",
    "graph = map(\n",
    "    input_data=ps,\n",
    "    node_task_data_mapping=node_task_data_mapping,\n",
    "    node_task=my_func,\n",
    "    input_params=input_params,\n",
    ")\n",
    "\n",
    "dask.visualize(graph, filename=\"map_graph\")"
   ]
  },
  {
   "cell_type": "markdown",
   "id": "c030e0b0-f289-4c16-9c74-35aab1f7b011",
   "metadata": {},
   "source": [
    "### Run Map Graph"
   ]
  },
  {
   "cell_type": "code",
   "execution_count": 26,
   "id": "a02e3704-6a3b-430a-a40a-457d6d751531",
   "metadata": {},
   "outputs": [
    {
     "data": {
      "text/html": [
       "<div style='margin-left: 0em;'><strong>test_input:</strong> 42</div><div style='margin-left: 0em;'><strong>chunk_indices:</strong> (0,)</div><div style='margin-left: 0em;'><strong>parallel_dims:</strong> ['time']</div><div style='margin-left: 0em;'><details><summary>data_selection</summary><div style='margin-left: 1em;'><details><summary>Antennae_North.cal.lsrk.split_ddi_0_intent_OBSERVE_TARGET#ON_SOURCE_field_id_1</summary><div style='margin-left: 2em;'><strong>time:</strong> slice(0, 10, None)</div></details></div><div style='margin-left: 1em;'><details><summary>Antennae_North.cal.lsrk.split_ddi_0_intent_OBSERVE_TARGET#ON_SOURCE_field_id_0</summary><div style='margin-left: 2em;'><strong>time:</strong> slice(0, 10, None)</div></details></div><div style='margin-left: 1em;'><details><summary>Antennae_North.cal.lsrk.split_ddi_0_intent_OBSERVE_TARGET#ON_SOURCE_field_id_2</summary><div style='margin-left: 2em;'><strong>time:</strong> slice(0, 9, None)</div></details></div></details></div><div style='margin-left: 0em;'><details><summary>task_coords</summary><div style='margin-left: 1em;'><details><summary>time</summary><div style='margin-left: 2em;'><strong>data:</strong> [1.30654723e+09 1.30654724e+09 1.30654724e+09 1.30654725e+09\n",
       " 1.30654725e+09 1.30654727e+09 1.30654727e+09 1.30654728e+09\n",
       " 1.30654728e+09 1.30654729e+09 1.30654730e+09 1.30654731e+09\n",
       " 1.30654731e+09 1.30654732e+09 1.30654732e+09 1.30654853e+09\n",
       " 1.30654854e+09 1.30654855e+09 1.30654855e+09 1.30654856e+09\n",
       " 1.30654857e+09 1.30654858e+09 1.30654858e+09 1.30654859e+09\n",
       " 1.30654859e+09 1.30654860e+09 1.30654861e+09 1.30654862e+09\n",
       " 1.30654862e+09]</div><div style='margin-left: 2em;'><strong>dims:</strong> ('time',)</div><div style='margin-left: 2em;'><details><summary>attrs</summary><div style='margin-left: 3em;'><strong>effective_integration_time:</strong> EFFECTIVE_INTEGRATION_TIME</div><div style='margin-left: 3em;'><strong>format:</strong> unix</div><div style='margin-left: 3em;'><details><summary>integration_time</summary><div style='margin-left: 4em;'><details><summary>attrs</summary><div style='margin-left: 5em;'><strong>type:</strong> quantity</div><div style='margin-left: 5em;'><strong>units:</strong> ['s']</div></details></div><div style='margin-left: 4em;'><strong>data:</strong> 6.048</div><div style='margin-left: 4em;'><strong>dims:</strong> </div></details></div><div style='margin-left: 3em;'><strong>scale:</strong> UTC</div><div style='margin-left: 3em;'><strong>type:</strong> time</div><div style='margin-left: 3em;'><strong>units:</strong> ['s']</div></details></div></details></div></details></div><div style='margin-left: 0em;'><strong>task_id:</strong> 0</div><div style='margin-left: 0em;'><strong>input_data:</strong> None</div><div style='margin-left: 0em;'><strong>date_time:</strong> None</div>"
      ],
      "text/plain": [
       "<IPython.core.display.HTML object>"
      ]
     },
     "metadata": {},
     "output_type": "display_data"
    },
    {
     "name": "stdout",
     "output_type": "stream",
     "text": [
      "******************************\n"
     ]
    },
    {
     "data": {
      "text/html": [
       "<div style='margin-left: 0em;'><strong>test_input:</strong> 42</div><div style='margin-left: 0em;'><strong>chunk_indices:</strong> (1,)</div><div style='margin-left: 0em;'><strong>parallel_dims:</strong> ['time']</div><div style='margin-left: 0em;'><details><summary>data_selection</summary><div style='margin-left: 1em;'><details><summary>Antennae_North.cal.lsrk.split_ddi_0_intent_OBSERVE_TARGET#ON_SOURCE_field_id_1</summary><div style='margin-left: 2em;'><strong>time:</strong> slice(9, 18, None)</div></details></div><div style='margin-left: 1em;'><details><summary>Antennae_North.cal.lsrk.split_ddi_0_intent_OBSERVE_TARGET#ON_SOURCE_field_id_0</summary><div style='margin-left: 2em;'><strong>time:</strong> slice(9, 25, None)</div></details></div><div style='margin-left: 1em;'><details><summary>Antennae_North.cal.lsrk.split_ddi_0_intent_OBSERVE_TARGET#ON_SOURCE_field_id_2</summary><div style='margin-left: 2em;'><strong>time:</strong> slice(9, 16, None)</div></details></div></details></div><div style='margin-left: 0em;'><details><summary>task_coords</summary><div style='margin-left: 1em;'><details><summary>time</summary><div style='margin-left: 2em;'><strong>data:</strong> [1.30654863e+09 1.30654961e+09 1.30654962e+09 1.30654962e+09\n",
       " 1.30654963e+09 1.30654964e+09 1.30654965e+09 1.30654965e+09\n",
       " 1.30654966e+09 1.30654967e+09 1.30654967e+09 1.30654968e+09\n",
       " 1.30654969e+09 1.30654969e+09 1.30654970e+09 1.30654971e+09\n",
       " 1.30655067e+09 1.30655068e+09 1.30655068e+09 1.30655069e+09\n",
       " 1.30655069e+09 1.30713664e+09 1.30713664e+09 1.30713665e+09\n",
       " 1.30713666e+09 1.30713666e+09 1.30713667e+09 1.30713668e+09\n",
       " 1.30713669e+09]</div><div style='margin-left: 2em;'><strong>dims:</strong> ('time',)</div><div style='margin-left: 2em;'><details><summary>attrs</summary><div style='margin-left: 3em;'><strong>effective_integration_time:</strong> EFFECTIVE_INTEGRATION_TIME</div><div style='margin-left: 3em;'><strong>format:</strong> unix</div><div style='margin-left: 3em;'><details><summary>integration_time</summary><div style='margin-left: 4em;'><details><summary>attrs</summary><div style='margin-left: 5em;'><strong>type:</strong> quantity</div><div style='margin-left: 5em;'><strong>units:</strong> ['s']</div></details></div><div style='margin-left: 4em;'><strong>data:</strong> 6.048</div><div style='margin-left: 4em;'><strong>dims:</strong> </div></details></div><div style='margin-left: 3em;'><strong>scale:</strong> UTC</div><div style='margin-left: 3em;'><strong>type:</strong> time</div><div style='margin-left: 3em;'><strong>units:</strong> ['s']</div></details></div></details></div></details></div><div style='margin-left: 0em;'><strong>task_id:</strong> 1</div><div style='margin-left: 0em;'><strong>input_data:</strong> None</div><div style='margin-left: 0em;'><strong>date_time:</strong> None</div>"
      ],
      "text/plain": [
       "<IPython.core.display.HTML object>"
      ]
     },
     "metadata": {},
     "output_type": "display_data"
    },
    {
     "name": "stdout",
     "output_type": "stream",
     "text": [
      "******************************\n"
     ]
    },
    {
     "data": {
      "text/html": [
       "<div style='margin-left: 0em;'><strong>test_input:</strong> 42</div><div style='margin-left: 0em;'><strong>chunk_indices:</strong> (2,)</div><div style='margin-left: 0em;'><strong>parallel_dims:</strong> ['time']</div><div style='margin-left: 0em;'><details><summary>data_selection</summary><div style='margin-left: 1em;'><details><summary>Antennae_North.cal.lsrk.split_ddi_0_intent_OBSERVE_TARGET#ON_SOURCE_field_id_1</summary><div style='margin-left: 2em;'><strong>time:</strong> slice(18, 27, None)</div></details></div><div style='margin-left: 1em;'><details><summary>Antennae_North.cal.lsrk.split_ddi_0_intent_OBSERVE_TARGET#ON_SOURCE_field_id_0</summary><div style='margin-left: 2em;'><strong>time:</strong> slice(24, 35, None)</div></details></div><div style='margin-left: 1em;'><details><summary>Antennae_North.cal.lsrk.split_ddi_0_intent_OBSERVE_TARGET#ON_SOURCE_field_id_2</summary><div style='margin-left: 2em;'><strong>time:</strong> slice(15, 26, None)</div></details></div></details></div><div style='margin-left: 0em;'><details><summary>task_coords</summary><div style='margin-left: 1em;'><details><summary>time</summary><div style='margin-left: 2em;'><strong>data:</strong> [1.30713669e+09 1.30713670e+09 1.30713671e+09 1.30713672e+09\n",
       " 1.30713672e+09 1.30713673e+09 1.30713673e+09 1.30713797e+09\n",
       " 1.30713798e+09 1.30713798e+09 1.30713799e+09 1.30713800e+09\n",
       " 1.30713801e+09 1.30713801e+09 1.30713802e+09 1.30713802e+09\n",
       " 1.30713803e+09 1.30713804e+09 1.30713805e+09 1.30713805e+09\n",
       " 1.30713806e+09 1.30713807e+09 1.30713906e+09 1.30713906e+09\n",
       " 1.30713907e+09 1.30713908e+09 1.30713908e+09 1.30713909e+09\n",
       " 1.30713910e+09]</div><div style='margin-left: 2em;'><strong>dims:</strong> ('time',)</div><div style='margin-left: 2em;'><details><summary>attrs</summary><div style='margin-left: 3em;'><strong>effective_integration_time:</strong> EFFECTIVE_INTEGRATION_TIME</div><div style='margin-left: 3em;'><strong>format:</strong> unix</div><div style='margin-left: 3em;'><details><summary>integration_time</summary><div style='margin-left: 4em;'><details><summary>attrs</summary><div style='margin-left: 5em;'><strong>type:</strong> quantity</div><div style='margin-left: 5em;'><strong>units:</strong> ['s']</div></details></div><div style='margin-left: 4em;'><strong>data:</strong> 6.048</div><div style='margin-left: 4em;'><strong>dims:</strong> </div></details></div><div style='margin-left: 3em;'><strong>scale:</strong> UTC</div><div style='margin-left: 3em;'><strong>type:</strong> time</div><div style='margin-left: 3em;'><strong>units:</strong> ['s']</div></details></div></details></div></details></div><div style='margin-left: 0em;'><strong>task_id:</strong> 2</div><div style='margin-left: 0em;'><strong>input_data:</strong> None</div><div style='margin-left: 0em;'><strong>date_time:</strong> None</div>"
      ],
      "text/plain": [
       "<IPython.core.display.HTML object>"
      ]
     },
     "metadata": {},
     "output_type": "display_data"
    },
    {
     "name": "stdout",
     "output_type": "stream",
     "text": [
      "******************************\n"
     ]
    },
    {
     "data": {
      "text/html": [
       "<div style='margin-left: 0em;'><strong>test_input:</strong> 42</div><div style='margin-left: 0em;'><strong>chunk_indices:</strong> (3,)</div><div style='margin-left: 0em;'><strong>parallel_dims:</strong> ['time']</div><div style='margin-left: 0em;'><details><summary>data_selection</summary><div style='margin-left: 1em;'><details><summary>Antennae_North.cal.lsrk.split_ddi_0_intent_OBSERVE_TARGET#ON_SOURCE_field_id_1</summary><div style='margin-left: 2em;'><strong>time:</strong> slice(27, -1, None)</div></details></div><div style='margin-left: 1em;'><details><summary>Antennae_North.cal.lsrk.split_ddi_0_intent_OBSERVE_TARGET#ON_SOURCE_field_id_0</summary><div style='margin-left: 2em;'><strong>time:</strong> slice(34, -1, None)</div></details></div><div style='margin-left: 1em;'><details><summary>Antennae_North.cal.lsrk.split_ddi_0_intent_OBSERVE_TARGET#ON_SOURCE_field_id_2</summary><div style='margin-left: 2em;'><strong>time:</strong> slice(25, 35, None)</div></details></div></details></div><div style='margin-left: 0em;'><details><summary>task_coords</summary><div style='margin-left: 1em;'><details><summary>time</summary><div style='margin-left: 2em;'><strong>data:</strong> [1.30713910e+09 1.30713911e+09 1.30713912e+09 1.30713913e+09\n",
       " 1.30713913e+09 1.30713914e+09 1.30713915e+09 1.30713915e+09\n",
       " 1.30714012e+09 1.30714013e+09 1.30714013e+09 1.30714014e+09\n",
       " 1.30714015e+09 1.30714756e+09 1.30714757e+09 1.30714757e+09\n",
       " 1.30714758e+09 1.30714758e+09 1.30714760e+09 1.30714760e+09\n",
       " 1.30714761e+09 1.30714761e+09 1.30714762e+09 1.30714763e+09\n",
       " 1.30714764e+09 1.30714764e+09 1.30714765e+09 1.30714765e+09]</div><div style='margin-left: 2em;'><strong>dims:</strong> ('time',)</div><div style='margin-left: 2em;'><details><summary>attrs</summary><div style='margin-left: 3em;'><strong>effective_integration_time:</strong> EFFECTIVE_INTEGRATION_TIME</div><div style='margin-left: 3em;'><strong>format:</strong> unix</div><div style='margin-left: 3em;'><details><summary>integration_time</summary><div style='margin-left: 4em;'><details><summary>attrs</summary><div style='margin-left: 5em;'><strong>type:</strong> quantity</div><div style='margin-left: 5em;'><strong>units:</strong> ['s']</div></details></div><div style='margin-left: 4em;'><strong>data:</strong> 6.048</div><div style='margin-left: 4em;'><strong>dims:</strong> </div></details></div><div style='margin-left: 3em;'><strong>scale:</strong> UTC</div><div style='margin-left: 3em;'><strong>type:</strong> time</div><div style='margin-left: 3em;'><strong>units:</strong> ['s']</div></details></div></details></div></details></div><div style='margin-left: 0em;'><strong>task_id:</strong> 3</div><div style='margin-left: 0em;'><strong>input_data:</strong> None</div><div style='margin-left: 0em;'><strong>date_time:</strong> None</div>"
      ],
      "text/plain": [
       "<IPython.core.display.HTML object>"
      ]
     },
     "metadata": {},
     "output_type": "display_data"
    },
    {
     "name": "stdout",
     "output_type": "stream",
     "text": [
      "******************************\n"
     ]
    },
    {
     "data": {
      "text/plain": [
       "(([42, 42, 42, 42], None),)"
      ]
     },
     "execution_count": 26,
     "metadata": {},
     "output_type": "execute_result"
    }
   ],
   "source": [
    "dask.compute(graph)"
   ]
  }
 ],
 "metadata": {
  "kernelspec": {
   "display_name": "Python 3 (ipykernel)",
   "language": "python",
   "name": "python3"
  },
  "language_info": {
   "codemirror_mode": {
    "name": "ipython",
    "version": 3
   },
   "file_extension": ".py",
   "mimetype": "text/x-python",
   "name": "python",
   "nbconvert_exporter": "python",
   "pygments_lexer": "ipython3",
   "version": "3.11.6"
  }
 },
 "nbformat": 4,
 "nbformat_minor": 5
}
