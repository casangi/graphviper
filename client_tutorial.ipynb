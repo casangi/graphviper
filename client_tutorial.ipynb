{
 "cells": [
  {
   "cell_type": "code",
   "execution_count": 1,
   "id": "ee62edf6-8a86-486a-aa81-61a8289146b1",
   "metadata": {},
   "outputs": [],
   "source": [
    "import graphviper\n",
    "\n",
    "from graphviper.dask import menrva\n",
    "from graphviper.dask.client import local_client\n",
    "from xradio.vis.convert_msv2_to_processing_set import convert_msv2_to_processing_set"
   ]
  },
  {
   "cell_type": "code",
   "execution_count": 2,
   "id": "ad746bbe-5e1b-442b-bba7-e706b845d95f",
   "metadata": {},
   "outputs": [],
   "source": [
    "!rm -rf Antennae_North.cal.lsrk.split.vis.zarr"
   ]
  },
  {
   "cell_type": "code",
   "execution_count": 3,
   "id": "070929df-e262-4d47-a3b1-c915bc0d58ad",
   "metadata": {},
   "outputs": [
    {
     "data": {
      "text/html": [
       "<pre style=\"white-space:pre;overflow-x:auto;line-height:normal;font-family:Menlo,'DejaVu Sans Mono',consolas,'Courier New',monospace\">                                    \n",
       " <span style=\"font-weight: bold\"> Download List                    </span> \n",
       " ────────────────────────────────── \n",
       "  <span style=\"color: #800080; text-decoration-color: #800080\">Antennae_North.cal.lsrk.split.ms</span>  \n",
       "                                    \n",
       "</pre>\n"
      ],
      "text/plain": [
       "                                    \n",
       " \u001b[1m \u001b[0m\u001b[1mDownload List                   \u001b[0m\u001b[1m \u001b[0m \n",
       " ────────────────────────────────── \n",
       "  \u001b[35mAntennae_North.cal.lsrk.split.ms\u001b[0m  \n",
       "                                    \n"
      ]
     },
     "metadata": {},
     "output_type": "display_data"
    },
    {
     "name": "stdout",
     "output_type": "stream",
     "text": [
      "[\u001b[38;2;128;05;128m2024-05-21 09:05:23,550\u001b[0m] \u001b[38;2;50;50;205m    INFO\u001b[0m\u001b[38;2;112;128;144m  graphviper: \u001b[0m File exists: Antennae_North.cal.lsrk.split.ms \n"
     ]
    }
   ],
   "source": [
    "graphviper.utils.data.download(file=\"Antennae_North.cal.lsrk.split.ms\")"
   ]
  },
  {
   "cell_type": "code",
   "execution_count": 4,
   "id": "5a1ed235-79df-4a7e-9798-7614efcd41de",
   "metadata": {},
   "outputs": [],
   "source": [
    "def main():\n",
    "    chunks_on_disk = {\n",
    "        \"frequency\": 3\n",
    "    }\n",
    "\n",
    "    input_file = \"Antennae_North.cal.lsrk.split.ms\"\n",
    "    output_file = \"Antennae_North.cal.lsrk.split.vis.zarr\"\n",
    "\n",
    "    convert_msv2_to_processing_set(\n",
    "        in_file=input_file,\n",
    "        out_file=output_file,\n",
    "        parallel=False,\n",
    "        overwrite=True,\n",
    "        main_chunksize=chunks_on_disk,\n",
    "    )"
   ]
  },
  {
   "cell_type": "code",
   "execution_count": 8,
   "id": "0ee2e155-b0d8-41c6-a81e-bf59fe581991",
   "metadata": {},
   "outputs": [
    {
     "name": "stdout",
     "output_type": "stream",
     "text": [
      "[\u001b[38;2;128;05;128m2024-05-21 09:05:41,336\u001b[0m] \u001b[38;2;50;50;205m    INFO\u001b[0m\u001b[38;2;112;128;144m  main-logger: \u001b[0m Checking parameter values for \u001b[38;2;50;50;205mclient\u001b[0m.\u001b[38;2;50;50;205mlocal_client\u001b[0m \n",
      "[\u001b[38;2;128;05;128m2024-05-21 09:05:41,336\u001b[0m] \u001b[38;2;50;50;205m    INFO\u001b[0m\u001b[38;2;112;128;144m  main-logger: \u001b[0m Module path: \u001b[38;2;50;50;205m/export/home/fornax/Development/graphviper/\u001b[0m \n",
      "[\u001b[38;2;128;05;128m2024-05-21 09:05:41,337\u001b[0m] \u001b[38;2;50;50;205m    INFO\u001b[0m\u001b[38;2;112;128;144m  main-logger: \u001b[0m Searching \u001b[38;2;50;50;205m/export/home/fornax/Development/graphviper/src/graphviper/config/\u001b[0m for configuration file, please wait ... \n",
      "[\u001b[38;2;128;05;128m2024-05-21 09:05:41,338\u001b[0m] \u001b[38;2;255;160;0m WARNING\u001b[0m\u001b[38;2;112;128;144m  main-logger: \u001b[0m It is recommended that the local cache directory be set using the \u001b[38;2;50;50;205mdask_local_dir\u001b[0m parameter. \n",
      "[\u001b[38;2;128;05;128m2024-05-21 09:05:41,352\u001b[0m] \u001b[38;2;50;50;205m    INFO\u001b[0m\u001b[38;2;112;128;144m  main-logger: \u001b[0m Created client <MenrvaClient: 'tcp://127.0.0.1:43637' processes=2 threads=2, memory=14.90 GiB> \n"
     ]
    }
   ],
   "source": [
    "log_params = {\n",
    "    'logger_name': \"main-logger\",\n",
    "    'log_level':'INFO',\n",
    "    'log_to_term':True,\n",
    "    'log_to_file': False,\n",
    "}\n",
    "\n",
    "worker_log_params = {\n",
    "    'logger_name': \"worker-logger\",\n",
    "    'log_level':'INFO',\n",
    "    'log_to_term':True,\n",
    "    'log_to_file': False,\n",
    "    'log_file': None\n",
    "}"
   ]
  },
  {
   "cell_type": "code",
   "execution_count": null,
   "id": "4441e996-2c8b-43ca-940b-061c018c7cef",
   "metadata": {},
   "outputs": [],
   "source": [
    "with local_client(\n",
    "    cores=2,\n",
    "    memory_limit='8GB',\n",
    "    log_params=log_params,\n",
    "    worker_log_params=worker_log_params,\n",
    "    serial_execution=False\n",
    ") as client:\n",
    "    main()"
   ]
  },
  {
   "cell_type": "code",
   "execution_count": null,
   "id": "62cdf906-c765-4e51-b0a0-65d2ae22324f",
   "metadata": {},
   "outputs": [],
   "source": [
    "menrva.current_cluster.get()"
   ]
  },
  {
   "cell_type": "code",
   "execution_count": null,
   "id": "173f0754-e623-475f-8452-f50fb0883135",
   "metadata": {},
   "outputs": [],
   "source": [
    "menrva.current_client.get()"
   ]
  }
 ],
 "metadata": {
  "kernelspec": {
   "display_name": "Python 3 (ipykernel)",
   "language": "python",
   "name": "python3"
  },
  "language_info": {
   "codemirror_mode": {
    "name": "ipython",
    "version": 3
   },
   "file_extension": ".py",
   "mimetype": "text/x-python",
   "name": "python",
   "nbconvert_exporter": "python",
   "pygments_lexer": "ipython3",
   "version": "3.9.19"
  }
 },
 "nbformat": 4,
 "nbformat_minor": 5
}
